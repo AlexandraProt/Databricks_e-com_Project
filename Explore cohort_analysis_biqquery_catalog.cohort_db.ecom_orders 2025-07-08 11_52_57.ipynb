{
 "cells": [
  {
   "cell_type": "markdown",
   "metadata": {
    "application/vnd.databricks.v1+cell": {
     "cellMetadata": {},
     "inputWidgets": {},
     "nuid": "4e36bf17-1296-48ef-968e-2cbbf6299b98",
     "showTitle": false,
     "tableResultSettingsMap": {},
     "title": ""
    }
   },
   "source": [
    "# RAW DATA ecom_orders"
   ]
  },
  {
   "cell_type": "code",
   "execution_count": 0,
   "metadata": {
    "application/vnd.databricks.v1+cell": {
     "cellMetadata": {
      "byteLimit": 2048000,
      "implicitDf": true,
      "rowLimit": 10000
     },
     "inputWidgets": {},
     "nuid": "980e471f-41ca-41c0-a7bf-3c9fdcac9104",
     "showTitle": false,
     "tableResultSettingsMap": {},
     "title": ""
    }
   },
   "outputs": [
    {
     "output_type": "display_data",
     "data": {
      "text/html": [
       "<style scoped>\n",
       "  .table-result-container {\n",
       "    max-height: 300px;\n",
       "    overflow: auto;\n",
       "  }\n",
       "  table, th, td {\n",
       "    border: 1px solid black;\n",
       "    border-collapse: collapse;\n",
       "  }\n",
       "  th, td {\n",
       "    padding: 5px;\n",
       "  }\n",
       "  th {\n",
       "    text-align: left;\n",
       "  }\n",
       "</style><div class='table-result-container'><table class='table-result'><thead style='background-color: white'><tr><th>row_id</th><th>customer_id</th><th>order_date</th><th>order_id</th><th>sales</th></tr></thead><tbody><tr><td>1</td><td>CUST001</td><td>2024-06-02</td><td>ORD1000</td><td>76.93</td></tr><tr><td>2</td><td>CUST001</td><td>2024-07-26</td><td>ORD1001</td><td>251.35</td></tr><tr><td>3</td><td>CUST001</td><td>2024-10-12</td><td>ORD1002</td><td>135.91</td></tr><tr><td>797</td><td>CUST001</td><td>2024-11-15</td><td>ORD1796</td><td>15.89</td></tr><tr><td>973</td><td>CUST001</td><td>2024-04-12</td><td>ORD1972</td><td>295.76</td></tr><tr><td>4</td><td>CUST002</td><td>2024-04-11</td><td>ORD1003</td><td>217.41</td></tr><tr><td>5</td><td>CUST002</td><td>2024-05-24</td><td>ORD1004</td><td>291.87</td></tr><tr><td>887</td><td>CUST002</td><td>2024-07-22</td><td>ORD1886</td><td>272.75</td></tr><tr><td>6</td><td>CUST003</td><td>2024-05-28</td><td>ORD1005</td><td>23.09</td></tr><tr><td>7</td><td>CUST003</td><td>2024-07-18</td><td>ORD1006</td><td>134.71</td></tr><tr><td>665</td><td>CUST003</td><td>2024-01-14</td><td>ORD1664</td><td>108.68</td></tr><tr><td>8</td><td>CUST004</td><td>2024-01-31</td><td>ORD1007</td><td>175.42</td></tr><tr><td>9</td><td>CUST004</td><td>2024-02-24</td><td>ORD1008</td><td>240.12</td></tr><tr><td>785</td><td>CUST004</td><td>2024-03-31</td><td>ORD1784</td><td>237.31</td></tr><tr><td>998</td><td>CUST004</td><td>2024-09-30</td><td>ORD1997</td><td>138.52</td></tr><tr><td>10</td><td>CUST005</td><td>2024-03-25</td><td>ORD1009</td><td>254.59</td></tr><tr><td>11</td><td>CUST005</td><td>2024-05-19</td><td>ORD1010</td><td>175.63</td></tr><tr><td>12</td><td>CUST005</td><td>2024-08-11</td><td>ORD1011</td><td>183.5</td></tr><tr><td>619</td><td>CUST005</td><td>2024-03-16</td><td>ORD1618</td><td>220.56</td></tr><tr><td>732</td><td>CUST005</td><td>2024-04-04</td><td>ORD1731</td><td>187.63</td></tr><tr><td>13</td><td>CUST006</td><td>2024-04-24</td><td>ORD1012</td><td>20.74</td></tr><tr><td>591</td><td>CUST006</td><td>2024-01-18</td><td>ORD1590</td><td>60.25</td></tr><tr><td>754</td><td>CUST006</td><td>2024-03-31</td><td>ORD1753</td><td>96.06</td></tr><tr><td>872</td><td>CUST006</td><td>2024-09-23</td><td>ORD1871</td><td>42.63</td></tr><tr><td>877</td><td>CUST006</td><td>2024-06-02</td><td>ORD1876</td><td>186.64</td></tr><tr><td>14</td><td>CUST007</td><td>2024-03-04</td><td>ORD1013</td><td>246.06</td></tr><tr><td>15</td><td>CUST007</td><td>2024-04-18</td><td>ORD1014</td><td>82.0</td></tr><tr><td>16</td><td>CUST007</td><td>2024-05-07</td><td>ORD1015</td><td>28.65</td></tr><tr><td>947</td><td>CUST007</td><td>2024-02-02</td><td>ORD1946</td><td>24.14</td></tr><tr><td>17</td><td>CUST008</td><td>2024-05-31</td><td>ORD1016</td><td>143.88</td></tr><tr><td>18</td><td>CUST008</td><td>2024-07-15</td><td>ORD1017</td><td>133.69</td></tr><tr><td>19</td><td>CUST008</td><td>2024-09-08</td><td>ORD1018</td><td>170.68</td></tr><tr><td>791</td><td>CUST008</td><td>2024-01-24</td><td>ORD1790</td><td>124.36</td></tr><tr><td>948</td><td>CUST008</td><td>2024-07-17</td><td>ORD1947</td><td>113.4</td></tr><tr><td>20</td><td>CUST009</td><td>2024-06-01</td><td>ORD1019</td><td>130.27</td></tr><tr><td>21</td><td>CUST009</td><td>2024-07-16</td><td>ORD1020</td><td>29.57</td></tr><tr><td>22</td><td>CUST010</td><td>2024-03-16</td><td>ORD1021</td><td>274.07</td></tr><tr><td>23</td><td>CUST010</td><td>2024-04-20</td><td>ORD1022</td><td>249.51</td></tr><tr><td>556</td><td>CUST010</td><td>2024-07-07</td><td>ORD1555</td><td>68.25</td></tr><tr><td>24</td><td>CUST011</td><td>2024-02-03</td><td>ORD1023</td><td>99.78</td></tr><tr><td>25</td><td>CUST011</td><td>2024-04-03</td><td>ORD1024</td><td>34.27</td></tr><tr><td>592</td><td>CUST011</td><td>2024-07-19</td><td>ORD1591</td><td>212.35</td></tr><tr><td>876</td><td>CUST011</td><td>2024-06-25</td><td>ORD1875</td><td>118.04</td></tr><tr><td>899</td><td>CUST011</td><td>2024-01-07</td><td>ORD1898</td><td>184.31</td></tr><tr><td>932</td><td>CUST011</td><td>2024-07-03</td><td>ORD1931</td><td>252.73</td></tr><tr><td>26</td><td>CUST012</td><td>2024-02-15</td><td>ORD1025</td><td>190.1</td></tr><tr><td>27</td><td>CUST012</td><td>2024-03-04</td><td>ORD1026</td><td>32.55</td></tr><tr><td>28</td><td>CUST012</td><td>2024-04-14</td><td>ORD1027</td><td>260.82</td></tr><tr><td>29</td><td>CUST012</td><td>2024-05-03</td><td>ORD1028</td><td>71.89</td></tr><tr><td>792</td><td>CUST012</td><td>2024-12-13</td><td>ORD1791</td><td>183.23</td></tr><tr><td>30</td><td>CUST013</td><td>2024-04-30</td><td>ORD1029</td><td>249.75</td></tr><tr><td>653</td><td>CUST013</td><td>2024-10-25</td><td>ORD1652</td><td>18.33</td></tr><tr><td>655</td><td>CUST013</td><td>2024-06-23</td><td>ORD1654</td><td>19.1</td></tr><tr><td>31</td><td>CUST014</td><td>2024-05-20</td><td>ORD1030</td><td>114.99</td></tr><tr><td>601</td><td>CUST014</td><td>2024-08-13</td><td>ORD1600</td><td>155.27</td></tr><tr><td>635</td><td>CUST014</td><td>2024-10-24</td><td>ORD1634</td><td>150.89</td></tr><tr><td>32</td><td>CUST015</td><td>2024-04-15</td><td>ORD1031</td><td>114.87</td></tr><tr><td>33</td><td>CUST015</td><td>2024-06-05</td><td>ORD1032</td><td>207.77</td></tr><tr><td>34</td><td>CUST015</td><td>2024-07-03</td><td>ORD1033</td><td>168.28</td></tr><tr><td>751</td><td>CUST015</td><td>2024-12-02</td><td>ORD1750</td><td>252.72</td></tr><tr><td>35</td><td>CUST016</td><td>2024-01-22</td><td>ORD1034</td><td>152.75</td></tr><tr><td>36</td><td>CUST016</td><td>2024-03-11</td><td>ORD1035</td><td>187.96</td></tr><tr><td>37</td><td>CUST016</td><td>2024-06-16</td><td>ORD1036</td><td>24.55</td></tr><tr><td>813</td><td>CUST016</td><td>2024-09-13</td><td>ORD1812</td><td>171.09</td></tr><tr><td>925</td><td>CUST016</td><td>2024-12-30</td><td>ORD1924</td><td>206.41</td></tr><tr><td>38</td><td>CUST017</td><td>2024-01-11</td><td>ORD1037</td><td>103.17</td></tr><tr><td>39</td><td>CUST017</td><td>2024-02-28</td><td>ORD1038</td><td>54.39</td></tr><tr><td>668</td><td>CUST017</td><td>2024-05-03</td><td>ORD1667</td><td>192.11</td></tr><tr><td>40</td><td>CUST018</td><td>2024-05-02</td><td>ORD1039</td><td>105.17</td></tr><tr><td>41</td><td>CUST018</td><td>2024-06-15</td><td>ORD1040</td><td>86.75</td></tr><tr><td>42</td><td>CUST018</td><td>2024-08-06</td><td>ORD1041</td><td>11.85</td></tr><tr><td>667</td><td>CUST018</td><td>2024-04-30</td><td>ORD1666</td><td>138.85</td></tr><tr><td>689</td><td>CUST018</td><td>2024-11-23</td><td>ORD1688</td><td>145.37</td></tr><tr><td>805</td><td>CUST018</td><td>2024-04-01</td><td>ORD1804</td><td>44.82</td></tr><tr><td>859</td><td>CUST018</td><td>2024-08-07</td><td>ORD1858</td><td>281.17</td></tr><tr><td>43</td><td>CUST019</td><td>2024-01-20</td><td>ORD1042</td><td>92.93</td></tr><tr><td>44</td><td>CUST019</td><td>2024-04-05</td><td>ORD1043</td><td>38.57</td></tr><tr><td>45</td><td>CUST019</td><td>2024-05-12</td><td>ORD1044</td><td>80.89</td></tr><tr><td>568</td><td>CUST019</td><td>2024-08-24</td><td>ORD1567</td><td>83.77</td></tr><tr><td>569</td><td>CUST019</td><td>2024-07-29</td><td>ORD1568</td><td>59.75</td></tr><tr><td>574</td><td>CUST019</td><td>2024-08-02</td><td>ORD1573</td><td>266.13</td></tr><tr><td>636</td><td>CUST019</td><td>2024-02-06</td><td>ORD1635</td><td>205.4</td></tr><tr><td>646</td><td>CUST019</td><td>2024-06-20</td><td>ORD1645</td><td>19.39</td></tr><tr><td>683</td><td>CUST019</td><td>2024-02-04</td><td>ORD1682</td><td>57.7</td></tr><tr><td>746</td><td>CUST019</td><td>2024-09-11</td><td>ORD1745</td><td>209.42</td></tr><tr><td>810</td><td>CUST019</td><td>2024-03-09</td><td>ORD1809</td><td>59.54</td></tr><tr><td>902</td><td>CUST019</td><td>2024-10-08</td><td>ORD1901</td><td>118.21</td></tr><tr><td>903</td><td>CUST019</td><td>2024-07-08</td><td>ORD1902</td><td>59.7</td></tr><tr><td>46</td><td>CUST020</td><td>2024-05-06</td><td>ORD1045</td><td>113.76</td></tr><tr><td>47</td><td>CUST020</td><td>2024-07-01</td><td>ORD1046</td><td>55.3</td></tr><tr><td>48</td><td>CUST020</td><td>2024-07-10</td><td>ORD1047</td><td>251.42</td></tr><tr><td>740</td><td>CUST020</td><td>2024-05-04</td><td>ORD1739</td><td>38.66</td></tr><tr><td>873</td><td>CUST020</td><td>2024-01-13</td><td>ORD1872</td><td>27.79</td></tr><tr><td>889</td><td>CUST020</td><td>2024-08-02</td><td>ORD1888</td><td>296.43</td></tr><tr><td>49</td><td>CUST021</td><td>2024-03-11</td><td>ORD1048</td><td>59.85</td></tr><tr><td>699</td><td>CUST021</td><td>2024-07-10</td><td>ORD1698</td><td>237.89</td></tr><tr><td>725</td><td>CUST021</td><td>2024-03-16</td><td>ORD1724</td><td>191.85</td></tr><tr><td>50</td><td>CUST022</td><td>2024-06-05</td><td>ORD1049</td><td>215.68</td></tr><tr><td>51</td><td>CUST022</td><td>2024-08-01</td><td>ORD1050</td><td>114.35</td></tr><tr><td>52</td><td>CUST022</td><td>2024-10-11</td><td>ORD1051</td><td>100.65</td></tr><tr><td>717</td><td>CUST022</td><td>2024-11-17</td><td>ORD1716</td><td>213.08</td></tr><tr><td>53</td><td>CUST023</td><td>2024-02-15</td><td>ORD1052</td><td>261.6</td></tr><tr><td>638</td><td>CUST023</td><td>2024-12-14</td><td>ORD1637</td><td>29.42</td></tr><tr><td>647</td><td>CUST023</td><td>2024-11-01</td><td>ORD1646</td><td>165.73</td></tr><tr><td>943</td><td>CUST023</td><td>2024-09-15</td><td>ORD1942</td><td>287.86</td></tr><tr><td>54</td><td>CUST024</td><td>2024-05-18</td><td>ORD1053</td><td>184.59</td></tr><tr><td>55</td><td>CUST024</td><td>2024-06-29</td><td>ORD1054</td><td>164.36</td></tr><tr><td>852</td><td>CUST024</td><td>2024-10-30</td><td>ORD1851</td><td>294.95</td></tr><tr><td>942</td><td>CUST024</td><td>2024-03-07</td><td>ORD1941</td><td>64.81</td></tr><tr><td>56</td><td>CUST025</td><td>2024-06-22</td><td>ORD1055</td><td>178.71</td></tr><tr><td>57</td><td>CUST025</td><td>2024-08-14</td><td>ORD1056</td><td>248.72</td></tr><tr><td>58</td><td>CUST025</td><td>2024-11-20</td><td>ORD1057</td><td>84.8</td></tr><tr><td>742</td><td>CUST025</td><td>2024-02-29</td><td>ORD1741</td><td>60.79</td></tr><tr><td>962</td><td>CUST025</td><td>2024-05-07</td><td>ORD1961</td><td>179.11</td></tr><tr><td>970</td><td>CUST025</td><td>2024-02-28</td><td>ORD1969</td><td>147.39</td></tr><tr><td>59</td><td>CUST026</td><td>2024-02-14</td><td>ORD1058</td><td>150.74</td></tr><tr><td>60</td><td>CUST027</td><td>2024-03-21</td><td>ORD1059</td><td>73.74</td></tr><tr><td>61</td><td>CUST027</td><td>2024-04-27</td><td>ORD1060</td><td>127.29</td></tr><tr><td>62</td><td>CUST027</td><td>2024-07-18</td><td>ORD1061</td><td>289.54</td></tr><tr><td>770</td><td>CUST027</td><td>2024-06-23</td><td>ORD1769</td><td>24.51</td></tr><tr><td>63</td><td>CUST028</td><td>2024-06-20</td><td>ORD1062</td><td>224.37</td></tr><tr><td>64</td><td>CUST028</td><td>2024-07-28</td><td>ORD1063</td><td>196.03</td></tr><tr><td>65</td><td>CUST028</td><td>2024-08-21</td><td>ORD1064</td><td>155.96</td></tr><tr><td>704</td><td>CUST028</td><td>2024-11-08</td><td>ORD1703</td><td>285.79</td></tr><tr><td>839</td><td>CUST028</td><td>2024-11-08</td><td>ORD1838</td><td>274.68</td></tr><tr><td>961</td><td>CUST028</td><td>2024-11-29</td><td>ORD1960</td><td>185.44</td></tr><tr><td>66</td><td>CUST029</td><td>2024-02-07</td><td>ORD1065</td><td>186.26</td></tr><tr><td>67</td><td>CUST029</td><td>2024-03-28</td><td>ORD1066</td><td>262.35</td></tr><tr><td>68</td><td>CUST029</td><td>2024-06-01</td><td>ORD1067</td><td>196.19</td></tr><tr><td>904</td><td>CUST029</td><td>2024-11-18</td><td>ORD1903</td><td>163.42</td></tr><tr><td>994</td><td>CUST029</td><td>2024-03-06</td><td>ORD1993</td><td>288.93</td></tr><tr><td>69</td><td>CUST030</td><td>2024-01-01</td><td>ORD1068</td><td>198.83</td></tr><tr><td>70</td><td>CUST030</td><td>2024-01-27</td><td>ORD1069</td><td>93.1</td></tr><tr><td>71</td><td>CUST030</td><td>2024-03-21</td><td>ORD1070</td><td>89.58</td></tr><tr><td>690</td><td>CUST030</td><td>2024-08-16</td><td>ORD1689</td><td>244.95</td></tr><tr><td>72</td><td>CUST031</td><td>2024-06-26</td><td>ORD1071</td><td>91.59</td></tr><tr><td>73</td><td>CUST031</td><td>2024-08-12</td><td>ORD1072</td><td>182.29</td></tr><tr><td>937</td><td>CUST031</td><td>2024-03-14</td><td>ORD1936</td><td>191.72</td></tr><tr><td>986</td><td>CUST031</td><td>2024-12-19</td><td>ORD1985</td><td>270.49</td></tr><tr><td>74</td><td>CUST032</td><td>2024-06-26</td><td>ORD1073</td><td>94.89</td></tr><tr><td>75</td><td>CUST032</td><td>2024-07-16</td><td>ORD1074</td><td>245.47</td></tr><tr><td>660</td><td>CUST032</td><td>2024-11-20</td><td>ORD1659</td><td>141.42</td></tr><tr><td>671</td><td>CUST032</td><td>2024-05-13</td><td>ORD1670</td><td>44.98</td></tr><tr><td>856</td><td>CUST032</td><td>2024-02-02</td><td>ORD1855</td><td>279.39</td></tr><tr><td>957</td><td>CUST032</td><td>2024-10-14</td><td>ORD1956</td><td>184.83</td></tr><tr><td>981</td><td>CUST032</td><td>2024-06-21</td><td>ORD1980</td><td>118.35</td></tr><tr><td>76</td><td>CUST033</td><td>2024-02-13</td><td>ORD1075</td><td>49.92</td></tr><tr><td>77</td><td>CUST033</td><td>2024-04-13</td><td>ORD1076</td><td>272.6</td></tr><tr><td>78</td><td>CUST033</td><td>2024-07-13</td><td>ORD1077</td><td>55.3</td></tr><tr><td>641</td><td>CUST033</td><td>2024-11-09</td><td>ORD1640</td><td>54.42</td></tr><tr><td>879</td><td>CUST033</td><td>2024-12-08</td><td>ORD1878</td><td>208.43</td></tr><tr><td>79</td><td>CUST034</td><td>2024-03-13</td><td>ORD1078</td><td>212.59</td></tr><tr><td>80</td><td>CUST034</td><td>2024-04-18</td><td>ORD1079</td><td>293.15</td></tr><tr><td>81</td><td>CUST034</td><td>2024-05-15</td><td>ORD1080</td><td>143.74</td></tr><tr><td>82</td><td>CUST034</td><td>2024-06-10</td><td>ORD1081</td><td>245.76</td></tr><tr><td>83</td><td>CUST034</td><td>2024-07-03</td><td>ORD1082</td><td>116.0</td></tr><tr><td>554</td><td>CUST034</td><td>2024-01-14</td><td>ORD1553</td><td>35.53</td></tr><tr><td>918</td><td>CUST034</td><td>2024-08-18</td><td>ORD1917</td><td>240.76</td></tr><tr><td>84</td><td>CUST035</td><td>2024-06-20</td><td>ORD1083</td><td>131.91</td></tr><tr><td>85</td><td>CUST035</td><td>2024-08-08</td><td>ORD1084</td><td>220.15</td></tr><tr><td>86</td><td>CUST035</td><td>2024-09-21</td><td>ORD1085</td><td>48.43</td></tr><tr><td>676</td><td>CUST035</td><td>2024-05-31</td><td>ORD1675</td><td>162.18</td></tr><tr><td>678</td><td>CUST035</td><td>2024-09-02</td><td>ORD1677</td><td>284.87</td></tr><tr><td>959</td><td>CUST035</td><td>2024-12-19</td><td>ORD1958</td><td>150.92</td></tr><tr><td>984</td><td>CUST035</td><td>2024-09-11</td><td>ORD1983</td><td>166.27</td></tr><tr><td>87</td><td>CUST036</td><td>2024-05-02</td><td>ORD1086</td><td>15.53</td></tr><tr><td>88</td><td>CUST036</td><td>2024-06-20</td><td>ORD1087</td><td>252.59</td></tr><tr><td>999</td><td>CUST036</td><td>2024-07-31</td><td>ORD1998</td><td>63.14</td></tr><tr><td>89</td><td>CUST037</td><td>2024-05-14</td><td>ORD1088</td><td>162.14</td></tr><tr><td>90</td><td>CUST037</td><td>2024-06-24</td><td>ORD1089</td><td>100.94</td></tr><tr><td>91</td><td>CUST037</td><td>2024-09-04</td><td>ORD1090</td><td>26.47</td></tr><tr><td>92</td><td>CUST037</td><td>2024-12-05</td><td>ORD1091</td><td>199.85</td></tr><tr><td>562</td><td>CUST037</td><td>2024-06-14</td><td>ORD1561</td><td>44.11</td></tr><tr><td>654</td><td>CUST037</td><td>2024-10-11</td><td>ORD1653</td><td>72.65</td></tr><tr><td>93</td><td>CUST038</td><td>2024-03-27</td><td>ORD1092</td><td>232.39</td></tr><tr><td>94</td><td>CUST038</td><td>2024-05-07</td><td>ORD1093</td><td>45.88</td></tr><tr><td>95</td><td>CUST038</td><td>2024-05-29</td><td>ORD1094</td><td>109.18</td></tr><tr><td>863</td><td>CUST038</td><td>2024-01-01</td><td>ORD1862</td><td>183.15</td></tr><tr><td>96</td><td>CUST039</td><td>2024-01-16</td><td>ORD1095</td><td>230.15</td></tr><tr><td>677</td><td>CUST039</td><td>2024-07-11</td><td>ORD1676</td><td>75.49</td></tr><tr><td>867</td><td>CUST039</td><td>2024-02-17</td><td>ORD1866</td><td>46.08</td></tr><tr><td>874</td><td>CUST039</td><td>2024-07-16</td><td>ORD1873</td><td>271.96</td></tr><tr><td>996</td><td>CUST039</td><td>2024-08-14</td><td>ORD1995</td><td>229.34</td></tr><tr><td>97</td><td>CUST040</td><td>2024-02-06</td><td>ORD1096</td><td>221.66</td></tr><tr><td>98</td><td>CUST040</td><td>2024-03-01</td><td>ORD1097</td><td>205.13</td></tr><tr><td>99</td><td>CUST040</td><td>2024-04-21</td><td>ORD1098</td><td>152.16</td></tr><tr><td>100</td><td>CUST041</td><td>2024-06-16</td><td>ORD1099</td><td>13.27</td></tr><tr><td>101</td><td>CUST041</td><td>2024-07-17</td><td>ORD1100</td><td>295.35</td></tr><tr><td>553</td><td>CUST041</td><td>2024-01-25</td><td>ORD1552</td><td>75.4</td></tr><tr><td>649</td><td>CUST041</td><td>2024-06-26</td><td>ORD1648</td><td>81.45</td></tr><tr><td>685</td><td>CUST041</td><td>2024-11-15</td><td>ORD1684</td><td>274.45</td></tr><tr><td>724</td><td>CUST041</td><td>2024-07-13</td><td>ORD1723</td><td>218.79</td></tr><tr><td>102</td><td>CUST042</td><td>2024-05-27</td><td>ORD1101</td><td>299.21</td></tr><tr><td>103</td><td>CUST042</td><td>2024-06-17</td><td>ORD1102</td><td>84.29</td></tr><tr><td>104</td><td>CUST042</td><td>2024-07-24</td><td>ORD1103</td><td>12.6</td></tr><tr><td>997</td><td>CUST042</td><td>2024-04-07</td><td>ORD1996</td><td>202.12</td></tr><tr><td>105</td><td>CUST043</td><td>2024-04-27</td><td>ORD1104</td><td>106.85</td></tr><tr><td>106</td><td>CUST043</td><td>2024-05-08</td><td>ORD1105</td><td>285.88</td></tr><tr><td>107</td><td>CUST043</td><td>2024-07-27</td><td>ORD1106</td><td>123.87</td></tr><tr><td>841</td><td>CUST043</td><td>2024-06-17</td><td>ORD1840</td><td>291.68</td></tr><tr><td>900</td><td>CUST043</td><td>2024-06-08</td><td>ORD1899</td><td>64.11</td></tr><tr><td>1000</td><td>CUST043</td><td>2024-02-06</td><td>ORD1999</td><td>152.45</td></tr><tr><td>108</td><td>CUST044</td><td>2024-06-02</td><td>ORD1107</td><td>249.66</td></tr><tr><td>673</td><td>CUST044</td><td>2024-07-17</td><td>ORD1672</td><td>244.35</td></tr><tr><td>783</td><td>CUST044</td><td>2024-08-30</td><td>ORD1782</td><td>292.28</td></tr><tr><td>940</td><td>CUST044</td><td>2024-09-07</td><td>ORD1939</td><td>218.56</td></tr><tr><td>109</td><td>CUST045</td><td>2024-01-29</td><td>ORD1108</td><td>156.8</td></tr><tr><td>110</td><td>CUST045</td><td>2024-02-11</td><td>ORD1109</td><td>157.58</td></tr><tr><td>111</td><td>CUST045</td><td>2024-04-12</td><td>ORD1110</td><td>204.21</td></tr><tr><td>112</td><td>CUST045</td><td>2024-04-21</td><td>ORD1111</td><td>165.22</td></tr><tr><td>113</td><td>CUST045</td><td>2024-06-19</td><td>ORD1112</td><td>256.37</td></tr><tr><td>643</td><td>CUST045</td><td>2024-12-18</td><td>ORD1642</td><td>234.34</td></tr><tr><td>644</td><td>CUST045</td><td>2024-11-19</td><td>ORD1643</td><td>209.25</td></tr><tr><td>884</td><td>CUST045</td><td>2024-04-30</td><td>ORD1883</td><td>138.53</td></tr><tr><td>114</td><td>CUST046</td><td>2024-01-28</td><td>ORD1113</td><td>170.98</td></tr><tr><td>115</td><td>CUST046</td><td>2024-02-18</td><td>ORD1114</td><td>235.4</td></tr><tr><td>116</td><td>CUST046</td><td>2024-03-30</td><td>ORD1115</td><td>245.42</td></tr><tr><td>117</td><td>CUST047</td><td>2024-05-08</td><td>ORD1116</td><td>242.78</td></tr><tr><td>118</td><td>CUST047</td><td>2024-05-24</td><td>ORD1117</td><td>194.63</td></tr><tr><td>119</td><td>CUST047</td><td>2024-06-05</td><td>ORD1118</td><td>226.69</td></tr><tr><td>120</td><td>CUST048</td><td>2024-06-28</td><td>ORD1119</td><td>121.12</td></tr><tr><td>121</td><td>CUST048</td><td>2024-07-15</td><td>ORD1120</td><td>187.71</td></tr><tr><td>587</td><td>CUST048</td><td>2024-10-20</td><td>ORD1586</td><td>127.13</td></tr><tr><td>700</td><td>CUST048</td><td>2024-08-30</td><td>ORD1699</td><td>58.78</td></tr><tr><td>965</td><td>CUST048</td><td>2024-04-20</td><td>ORD1964</td><td>97.96</td></tr><tr><td>122</td><td>CUST049</td><td>2024-04-30</td><td>ORD1121</td><td>205.67</td></tr><tr><td>123</td><td>CUST049</td><td>2024-06-06</td><td>ORD1122</td><td>10.83</td></tr><tr><td>124</td><td>CUST049</td><td>2024-07-22</td><td>ORD1123</td><td>263.41</td></tr><tr><td>125</td><td>CUST049</td><td>2024-08-22</td><td>ORD1124</td><td>134.16</td></tr><tr><td>836</td><td>CUST049</td><td>2024-03-12</td><td>ORD1835</td><td>234.99</td></tr><tr><td>985</td><td>CUST049</td><td>2024-05-24</td><td>ORD1984</td><td>228.71</td></tr><tr><td>126</td><td>CUST050</td><td>2024-02-06</td><td>ORD1125</td><td>160.82</td></tr><tr><td>127</td><td>CUST050</td><td>2024-02-27</td><td>ORD1126</td><td>163.78</td></tr><tr><td>128</td><td>CUST050</td><td>2024-06-05</td><td>ORD1127</td><td>188.31</td></tr><tr><td>738</td><td>CUST050</td><td>2024-12-08</td><td>ORD1737</td><td>224.51</td></tr><tr><td>964</td><td>CUST050</td><td>2024-09-03</td><td>ORD1963</td><td>217.99</td></tr><tr><td>129</td><td>CUST051</td><td>2024-02-15</td><td>ORD1128</td><td>44.49</td></tr><tr><td>130</td><td>CUST051</td><td>2024-04-08</td><td>ORD1129</td><td>291.21</td></tr><tr><td>131</td><td>CUST051</td><td>2024-04-24</td><td>ORD1130</td><td>274.03</td></tr><tr><td>557</td><td>CUST051</td><td>2024-09-12</td><td>ORD1556</td><td>167.7</td></tr><tr><td>581</td><td>CUST051</td><td>2024-11-22</td><td>ORD1580</td><td>200.46</td></tr><tr><td>773</td><td>CUST051</td><td>2024-12-12</td><td>ORD1772</td><td>70.8</td></tr><tr><td>833</td><td>CUST051</td><td>2024-12-09</td><td>ORD1832</td><td>220.77</td></tr><tr><td>132</td><td>CUST052</td><td>2024-06-25</td><td>ORD1131</td><td>154.24</td></tr><tr><td>133</td><td>CUST052</td><td>2024-09-16</td><td>ORD1132</td><td>88.62</td></tr><tr><td>572</td><td>CUST052</td><td>2024-04-02</td><td>ORD1571</td><td>131.13</td></tr><tr><td>713</td><td>CUST052</td><td>2024-07-01</td><td>ORD1712</td><td>63.92</td></tr><tr><td>894</td><td>CUST052</td><td>2024-05-19</td><td>ORD1893</td><td>152.46</td></tr><tr><td>913</td><td>CUST052</td><td>2024-12-14</td><td>ORD1912</td><td>61.15</td></tr><tr><td>134</td><td>CUST053</td><td>2024-02-13</td><td>ORD1133</td><td>95.05</td></tr><tr><td>135</td><td>CUST053</td><td>2024-03-29</td><td>ORD1134</td><td>296.32</td></tr><tr><td>136</td><td>CUST053</td><td>2024-06-26</td><td>ORD1135</td><td>16.79</td></tr><tr><td>634</td><td>CUST053</td><td>2024-03-07</td><td>ORD1633</td><td>60.75</td></tr><tr><td>137</td><td>CUST054</td><td>2024-05-15</td><td>ORD1136</td><td>155.75</td></tr><tr><td>138</td><td>CUST054</td><td>2024-05-26</td><td>ORD1137</td><td>136.15</td></tr><tr><td>811</td><td>CUST054</td><td>2024-01-09</td><td>ORD1810</td><td>52.64</td></tr><tr><td>139</td><td>CUST055</td><td>2024-02-03</td><td>ORD1138</td><td>79.51</td></tr><tr><td>140</td><td>CUST055</td><td>2024-02-27</td><td>ORD1139</td><td>185.71</td></tr><tr><td>141</td><td>CUST055</td><td>2024-05-15</td><td>ORD1140</td><td>32.14</td></tr><tr><td>774</td><td>CUST055</td><td>2024-03-24</td><td>ORD1773</td><td>190.85</td></tr><tr><td>908</td><td>CUST055</td><td>2024-04-27</td><td>ORD1907</td><td>11.31</td></tr><tr><td>987</td><td>CUST055</td><td>2024-03-09</td><td>ORD1986</td><td>273.78</td></tr><tr><td>142</td><td>CUST056</td><td>2024-04-29</td><td>ORD1141</td><td>162.57</td></tr><tr><td>143</td><td>CUST056</td><td>2024-05-16</td><td>ORD1142</td><td>78.77</td></tr><tr><td>144</td><td>CUST056</td><td>2024-06-30</td><td>ORD1143</td><td>121.11</td></tr><tr><td>145</td><td>CUST056</td><td>2024-07-24</td><td>ORD1144</td><td>208.93</td></tr><tr><td>670</td><td>CUST056</td><td>2024-05-01</td><td>ORD1669</td><td>88.89</td></tr><tr><td>845</td><td>CUST056</td><td>2024-10-26</td><td>ORD1844</td><td>284.45</td></tr><tr><td>860</td><td>CUST056</td><td>2024-06-29</td><td>ORD1859</td><td>154.28</td></tr><tr><td>880</td><td>CUST056</td><td>2024-05-21</td><td>ORD1879</td><td>153.16</td></tr><tr><td>146</td><td>CUST057</td><td>2024-05-26</td><td>ORD1145</td><td>149.05</td></tr><tr><td>147</td><td>CUST057</td><td>2024-07-05</td><td>ORD1146</td><td>154.07</td></tr><tr><td>148</td><td>CUST057</td><td>2024-08-27</td><td>ORD1147</td><td>234.24</td></tr><tr><td>659</td><td>CUST057</td><td>2024-01-16</td><td>ORD1658</td><td>253.23</td></tr><tr><td>718</td><td>CUST057</td><td>2024-12-20</td><td>ORD1717</td><td>87.54</td></tr><tr><td>796</td><td>CUST057</td><td>2024-05-01</td><td>ORD1795</td><td>165.6</td></tr><tr><td>835</td><td>CUST057</td><td>2024-07-20</td><td>ORD1834</td><td>290.98</td></tr><tr><td>890</td><td>CUST057</td><td>2024-06-06</td><td>ORD1889</td><td>271.88</td></tr><tr><td>149</td><td>CUST058</td><td>2024-06-20</td><td>ORD1148</td><td>96.76</td></tr><tr><td>150</td><td>CUST058</td><td>2024-07-23</td><td>ORD1149</td><td>159.2</td></tr><tr><td>151</td><td>CUST058</td><td>2024-08-12</td><td>ORD1150</td><td>121.28</td></tr><tr><td>806</td><td>CUST058</td><td>2024-09-20</td><td>ORD1805</td><td>262.15</td></tr><tr><td>929</td><td>CUST058</td><td>2024-11-12</td><td>ORD1928</td><td>199.59</td></tr><tr><td>152</td><td>CUST059</td><td>2024-03-27</td><td>ORD1151</td><td>236.88</td></tr><tr><td>153</td><td>CUST059</td><td>2024-04-26</td><td>ORD1152</td><td>201.22</td></tr><tr><td>154</td><td>CUST059</td><td>2024-05-08</td><td>ORD1153</td><td>152.34</td></tr><tr><td>155</td><td>CUST059</td><td>2024-06-08</td><td>ORD1154</td><td>171.73</td></tr><tr><td>586</td><td>CUST059</td><td>2024-02-21</td><td>ORD1585</td><td>258.18</td></tr><tr><td>731</td><td>CUST059</td><td>2024-07-01</td><td>ORD1730</td><td>273.79</td></tr><tr><td>882</td><td>CUST059</td><td>2024-03-12</td><td>ORD1881</td><td>72.49</td></tr><tr><td>156</td><td>CUST060</td><td>2024-03-24</td><td>ORD1155</td><td>191.04</td></tr><tr><td>157</td><td>CUST060</td><td>2024-04-13</td><td>ORD1156</td><td>31.27</td></tr><tr><td>631</td><td>CUST060</td><td>2024-01-10</td><td>ORD1630</td><td>74.3</td></tr><tr><td>824</td><td>CUST060</td><td>2024-11-01</td><td>ORD1823</td><td>196.7</td></tr><tr><td>158</td><td>CUST061</td><td>2024-05-20</td><td>ORD1157</td><td>72.77</td></tr><tr><td>159</td><td>CUST061</td><td>2024-08-06</td><td>ORD1158</td><td>253.33</td></tr><tr><td>729</td><td>CUST061</td><td>2024-03-25</td><td>ORD1728</td><td>159.33</td></tr><tr><td>749</td><td>CUST061</td><td>2024-01-27</td><td>ORD1748</td><td>181.47</td></tr><tr><td>781</td><td>CUST061</td><td>2024-09-09</td><td>ORD1780</td><td>230.68</td></tr><tr><td>160</td><td>CUST062</td><td>2024-04-01</td><td>ORD1159</td><td>84.38</td></tr><tr><td>161</td><td>CUST062</td><td>2024-05-03</td><td>ORD1160</td><td>73.11</td></tr><tr><td>558</td><td>CUST062</td><td>2024-06-21</td><td>ORD1557</td><td>196.55</td></tr><tr><td>767</td><td>CUST062</td><td>2024-02-18</td><td>ORD1766</td><td>197.47</td></tr><tr><td>838</td><td>CUST062</td><td>2024-06-21</td><td>ORD1837</td><td>187.96</td></tr><tr><td>862</td><td>CUST062</td><td>2024-10-19</td><td>ORD1861</td><td>156.49</td></tr><tr><td>865</td><td>CUST062</td><td>2024-01-22</td><td>ORD1864</td><td>234.73</td></tr><tr><td>162</td><td>CUST063</td><td>2024-06-15</td><td>ORD1161</td><td>159.49</td></tr><tr><td>163</td><td>CUST063</td><td>2024-07-17</td><td>ORD1162</td><td>30.76</td></tr><tr><td>164</td><td>CUST063</td><td>2024-09-27</td><td>ORD1163</td><td>221.0</td></tr><tr><td>165</td><td>CUST063</td><td>2024-10-28</td><td>ORD1164</td><td>93.35</td></tr><tr><td>977</td><td>CUST063</td><td>2024-04-19</td><td>ORD1976</td><td>206.52</td></tr><tr><td>992</td><td>CUST063</td><td>2024-01-15</td><td>ORD1991</td><td>183.17</td></tr><tr><td>166</td><td>CUST064</td><td>2024-06-08</td><td>ORD1165</td><td>277.85</td></tr><tr><td>167</td><td>CUST064</td><td>2024-07-17</td><td>ORD1166</td><td>282.28</td></tr><tr><td>168</td><td>CUST065</td><td>2024-05-30</td><td>ORD1167</td><td>239.4</td></tr><tr><td>169</td><td>CUST065</td><td>2024-07-07</td><td>ORD1168</td><td>177.33</td></tr><tr><td>170</td><td>CUST065</td><td>2024-07-24</td><td>ORD1169</td><td>193.65</td></tr><tr><td>171</td><td>CUST065</td><td>2024-09-10</td><td>ORD1170</td><td>291.73</td></tr><tr><td>617</td><td>CUST065</td><td>2024-10-21</td><td>ORD1616</td><td>19.52</td></tr><tr><td>858</td><td>CUST065</td><td>2024-06-30</td><td>ORD1857</td><td>280.66</td></tr><tr><td>891</td><td>CUST065</td><td>2024-06-29</td><td>ORD1890</td><td>132.79</td></tr><tr><td>974</td><td>CUST065</td><td>2024-01-03</td><td>ORD1973</td><td>294.96</td></tr><tr><td>172</td><td>CUST066</td><td>2024-06-26</td><td>ORD1171</td><td>252.2</td></tr><tr><td>173</td><td>CUST066</td><td>2024-07-21</td><td>ORD1172</td><td>160.21</td></tr><tr><td>174</td><td>CUST066</td><td>2024-08-04</td><td>ORD1173</td><td>187.37</td></tr><tr><td>175</td><td>CUST066</td><td>2024-11-16</td><td>ORD1174</td><td>70.98</td></tr><tr><td>795</td><td>CUST066</td><td>2024-02-18</td><td>ORD1794</td><td>132.83</td></tr><tr><td>176</td><td>CUST067</td><td>2024-02-09</td><td>ORD1175</td><td>149.59</td></tr><tr><td>177</td><td>CUST067</td><td>2024-03-25</td><td>ORD1176</td><td>76.04</td></tr><tr><td>178</td><td>CUST067</td><td>2024-05-24</td><td>ORD1177</td><td>162.6</td></tr><tr><td>179</td><td>CUST068</td><td>2024-02-02</td><td>ORD1178</td><td>204.97</td></tr><tr><td>180</td><td>CUST068</td><td>2024-04-12</td><td>ORD1179</td><td>218.42</td></tr><tr><td>181</td><td>CUST068</td><td>2024-04-24</td><td>ORD1180</td><td>266.81</td></tr><tr><td>584</td><td>CUST068</td><td>2024-08-15</td><td>ORD1583</td><td>111.69</td></tr><tr><td>719</td><td>CUST068</td><td>2024-05-31</td><td>ORD1718</td><td>176.64</td></tr><tr><td>182</td><td>CUST069</td><td>2024-06-03</td><td>ORD1181</td><td>226.29</td></tr><tr><td>183</td><td>CUST069</td><td>2024-06-23</td><td>ORD1182</td><td>57.54</td></tr><tr><td>657</td><td>CUST069</td><td>2024-01-23</td><td>ORD1656</td><td>118.2</td></tr><tr><td>756</td><td>CUST069</td><td>2024-03-02</td><td>ORD1755</td><td>137.86</td></tr><tr><td>775</td><td>CUST069</td><td>2024-01-21</td><td>ORD1774</td><td>39.09</td></tr><tr><td>812</td><td>CUST069</td><td>2024-10-02</td><td>ORD1811</td><td>275.5</td></tr><tr><td>936</td><td>CUST069</td><td>2024-11-29</td><td>ORD1935</td><td>59.84</td></tr><tr><td>184</td><td>CUST070</td><td>2024-04-04</td><td>ORD1183</td><td>50.81</td></tr><tr><td>185</td><td>CUST070</td><td>2024-04-15</td><td>ORD1184</td><td>34.28</td></tr><tr><td>186</td><td>CUST070</td><td>2024-07-03</td><td>ORD1185</td><td>136.58</td></tr><tr><td>831</td><td>CUST070</td><td>2024-09-05</td><td>ORD1830</td><td>92.91</td></tr><tr><td>187</td><td>CUST071</td><td>2024-04-09</td><td>ORD1186</td><td>160.0</td></tr><tr><td>188</td><td>CUST071</td><td>2024-05-04</td><td>ORD1187</td><td>289.2</td></tr><tr><td>566</td><td>CUST071</td><td>2024-06-28</td><td>ORD1565</td><td>265.94</td></tr><tr><td>956</td><td>CUST071</td><td>2024-02-21</td><td>ORD1955</td><td>244.3</td></tr><tr><td>995</td><td>CUST071</td><td>2024-10-28</td><td>ORD1994</td><td>255.34</td></tr><tr><td>189</td><td>CUST072</td><td>2024-02-07</td><td>ORD1188</td><td>73.98</td></tr><tr><td>190</td><td>CUST072</td><td>2024-02-19</td><td>ORD1189</td><td>268.43</td></tr><tr><td>191</td><td>CUST072</td><td>2024-05-02</td><td>ORD1190</td><td>144.95</td></tr><tr><td>582</td><td>CUST072</td><td>2024-09-11</td><td>ORD1581</td><td>89.37</td></tr><tr><td>769</td><td>CUST072</td><td>2024-06-01</td><td>ORD1768</td><td>126.02</td></tr><tr><td>844</td><td>CUST072</td><td>2024-01-02</td><td>ORD1843</td><td>205.79</td></tr><tr><td>896</td><td>CUST072</td><td>2024-03-24</td><td>ORD1895</td><td>295.53</td></tr><tr><td>192</td><td>CUST073</td><td>2024-05-02</td><td>ORD1191</td><td>61.58</td></tr><tr><td>193</td><td>CUST073</td><td>2024-06-27</td><td>ORD1192</td><td>229.41</td></tr><tr><td>194</td><td>CUST073</td><td>2024-07-06</td><td>ORD1193</td><td>193.43</td></tr><tr><td>195</td><td>CUST073</td><td>2024-10-16</td><td>ORD1194</td><td>133.41</td></tr><tr><td>868</td><td>CUST073</td><td>2024-03-26</td><td>ORD1867</td><td>264.24</td></tr><tr><td>196</td><td>CUST074</td><td>2024-02-01</td><td>ORD1195</td><td>158.22</td></tr><tr><td>861</td><td>CUST074</td><td>2024-10-22</td><td>ORD1860</td><td>154.92</td></tr><tr><td>197</td><td>CUST075</td><td>2024-06-22</td><td>ORD1196</td><td>220.03</td></tr><tr><td>198</td><td>CUST075</td><td>2024-08-15</td><td>ORD1197</td><td>205.4</td></tr><tr><td>199</td><td>CUST075</td><td>2024-10-10</td><td>ORD1198</td><td>181.49</td></tr><tr><td>200</td><td>CUST075</td><td>2024-10-18</td><td>ORD1199</td><td>151.61</td></tr><tr><td>917</td><td>CUST075</td><td>2024-12-05</td><td>ORD1916</td><td>80.55</td></tr><tr><td>951</td><td>CUST075</td><td>2024-04-30</td><td>ORD1950</td><td>102.44</td></tr><tr><td>201</td><td>CUST076</td><td>2024-01-14</td><td>ORD1200</td><td>140.0</td></tr><tr><td>202</td><td>CUST076</td><td>2024-02-04</td><td>ORD1201</td><td>69.09</td></tr><tr><td>203</td><td>CUST076</td><td>2024-02-29</td><td>ORD1202</td><td>61.21</td></tr><tr><td>675</td><td>CUST076</td><td>2024-07-10</td><td>ORD1674</td><td>236.43</td></tr><tr><td>990</td><td>CUST076</td><td>2024-04-11</td><td>ORD1989</td><td>293.54</td></tr><tr><td>204</td><td>CUST077</td><td>2024-06-05</td><td>ORD1203</td><td>153.12</td></tr><tr><td>205</td><td>CUST077</td><td>2024-06-25</td><td>ORD1204</td><td>129.36</td></tr><tr><td>560</td><td>CUST077</td><td>2024-05-31</td><td>ORD1559</td><td>41.72</td></tr><tr><td>850</td><td>CUST077</td><td>2024-12-06</td><td>ORD1849</td><td>150.57</td></tr><tr><td>926</td><td>CUST077</td><td>2024-01-26</td><td>ORD1925</td><td>238.28</td></tr><tr><td>930</td><td>CUST077</td><td>2024-07-12</td><td>ORD1929</td><td>83.76</td></tr><tr><td>206</td><td>CUST078</td><td>2024-04-08</td><td>ORD1205</td><td>130.66</td></tr><tr><td>207</td><td>CUST078</td><td>2024-05-03</td><td>ORD1206</td><td>243.03</td></tr><tr><td>208</td><td>CUST078</td><td>2024-06-05</td><td>ORD1207</td><td>92.52</td></tr><tr><td>209</td><td>CUST078</td><td>2024-08-31</td><td>ORD1208</td><td>122.12</td></tr><tr><td>714</td><td>CUST078</td><td>2024-08-25</td><td>ORD1713</td><td>62.89</td></tr><tr><td>832</td><td>CUST078</td><td>2024-05-24</td><td>ORD1831</td><td>229.96</td></tr><tr><td>210</td><td>CUST079</td><td>2024-04-29</td><td>ORD1209</td><td>127.06</td></tr><tr><td>211</td><td>CUST079</td><td>2024-05-26</td><td>ORD1210</td><td>162.7</td></tr><tr><td>212</td><td>CUST079</td><td>2024-06-20</td><td>ORD1211</td><td>294.61</td></tr><tr><td>954</td><td>CUST079</td><td>2024-12-28</td><td>ORD1953</td><td>167.75</td></tr><tr><td>213</td><td>CUST080</td><td>2024-04-13</td><td>ORD1212</td><td>113.88</td></tr><tr><td>214</td><td>CUST080</td><td>2024-05-12</td><td>ORD1213</td><td>270.76</td></tr><tr><td>215</td><td>CUST080</td><td>2024-05-23</td><td>ORD1214</td><td>75.65</td></tr><tr><td>216</td><td>CUST080</td><td>2024-07-17</td><td>ORD1215</td><td>141.22</td></tr><tr><td>684</td><td>CUST080</td><td>2024-10-18</td><td>ORD1683</td><td>195.46</td></tr><tr><td>217</td><td>CUST081</td><td>2024-03-15</td><td>ORD1216</td><td>19.43</td></tr><tr><td>218</td><td>CUST081</td><td>2024-04-28</td><td>ORD1217</td><td>56.03</td></tr><tr><td>565</td><td>CUST081</td><td>2024-11-22</td><td>ORD1564</td><td>142.86</td></tr><tr><td>219</td><td>CUST082</td><td>2024-04-20</td><td>ORD1218</td><td>68.21</td></tr><tr><td>220</td><td>CUST082</td><td>2024-06-04</td><td>ORD1219</td><td>193.35</td></tr><tr><td>827</td><td>CUST082</td><td>2024-05-20</td><td>ORD1826</td><td>22.25</td></tr><tr><td>864</td><td>CUST082</td><td>2024-09-09</td><td>ORD1863</td><td>28.26</td></tr><tr><td>221</td><td>CUST083</td><td>2024-01-23</td><td>ORD1220</td><td>256.07</td></tr><tr><td>222</td><td>CUST083</td><td>2024-03-24</td><td>ORD1221</td><td>111.01</td></tr><tr><td>561</td><td>CUST083</td><td>2024-12-07</td><td>ORD1560</td><td>188.39</td></tr><tr><td>790</td><td>CUST083</td><td>2024-04-07</td><td>ORD1789</td><td>243.53</td></tr><tr><td>834</td><td>CUST083</td><td>2024-02-17</td><td>ORD1833</td><td>111.04</td></tr><tr><td>223</td><td>CUST084</td><td>2024-04-24</td><td>ORD1222</td><td>13.56</td></tr><tr><td>224</td><td>CUST084</td><td>2024-05-18</td><td>ORD1223</td><td>31.07</td></tr><tr><td>225</td><td>CUST084</td><td>2024-07-05</td><td>ORD1224</td><td>239.84</td></tr><tr><td>226</td><td>CUST084</td><td>2024-07-22</td><td>ORD1225</td><td>164.06</td></tr><tr><td>567</td><td>CUST084</td><td>2024-08-08</td><td>ORD1566</td><td>126.15</td></tr><tr><td>227</td><td>CUST085</td><td>2024-05-02</td><td>ORD1226</td><td>165.89</td></tr><tr><td>228</td><td>CUST085</td><td>2024-06-17</td><td>ORD1227</td><td>299.68</td></tr><tr><td>229</td><td>CUST085</td><td>2024-07-03</td><td>ORD1228</td><td>255.17</td></tr><tr><td>745</td><td>CUST085</td><td>2024-03-16</td><td>ORD1744</td><td>143.68</td></tr><tr><td>771</td><td>CUST085</td><td>2024-06-25</td><td>ORD1770</td><td>292.05</td></tr><tr><td>230</td><td>CUST086</td><td>2024-02-08</td><td>ORD1229</td><td>194.87</td></tr><tr><td>231</td><td>CUST086</td><td>2024-03-16</td><td>ORD1230</td><td>115.67</td></tr><tr><td>594</td><td>CUST086</td><td>2024-09-13</td><td>ORD1593</td><td>292.75</td></tr><tr><td>232</td><td>CUST087</td><td>2024-06-18</td><td>ORD1231</td><td>259.98</td></tr><tr><td>233</td><td>CUST087</td><td>2024-07-07</td><td>ORD1232</td><td>270.82</td></tr><tr><td>695</td><td>CUST087</td><td>2024-01-25</td><td>ORD1694</td><td>286.14</td></tr><tr><td>234</td><td>CUST088</td><td>2024-03-05</td><td>ORD1233</td><td>123.62</td></tr><tr><td>235</td><td>CUST088</td><td>2024-04-17</td><td>ORD1234</td><td>152.53</td></tr><tr><td>236</td><td>CUST089</td><td>2024-01-03</td><td>ORD1235</td><td>223.47</td></tr><tr><td>237</td><td>CUST089</td><td>2024-02-28</td><td>ORD1236</td><td>227.51</td></tr><tr><td>238</td><td>CUST089</td><td>2024-03-07</td><td>ORD1237</td><td>100.81</td></tr><tr><td>239</td><td>CUST089</td><td>2024-04-29</td><td>ORD1238</td><td>39.0</td></tr><tr><td>588</td><td>CUST089</td><td>2024-05-29</td><td>ORD1587</td><td>225.77</td></tr><tr><td>715</td><td>CUST089</td><td>2024-07-31</td><td>ORD1714</td><td>292.08</td></tr><tr><td>240</td><td>CUST090</td><td>2024-03-31</td><td>ORD1239</td><td>151.41</td></tr><tr><td>241</td><td>CUST090</td><td>2024-04-17</td><td>ORD1240</td><td>42.51</td></tr><tr><td>628</td><td>CUST090</td><td>2024-01-15</td><td>ORD1627</td><td>142.91</td></tr><tr><td>750</td><td>CUST090</td><td>2024-12-05</td><td>ORD1749</td><td>257.36</td></tr><tr><td>242</td><td>CUST091</td><td>2024-01-31</td><td>ORD1241</td><td>55.92</td></tr><tr><td>243</td><td>CUST091</td><td>2024-03-24</td><td>ORD1242</td><td>168.75</td></tr><tr><td>244</td><td>CUST091</td><td>2024-06-06</td><td>ORD1243</td><td>23.91</td></tr><tr><td>598</td><td>CUST091</td><td>2024-02-14</td><td>ORD1597</td><td>144.59</td></tr><tr><td>744</td><td>CUST091</td><td>2024-01-19</td><td>ORD1743</td><td>90.31</td></tr><tr><td>245</td><td>CUST092</td><td>2024-01-09</td><td>ORD1244</td><td>256.77</td></tr><tr><td>669</td><td>CUST092</td><td>2024-08-04</td><td>ORD1668</td><td>137.08</td></tr><tr><td>885</td><td>CUST092</td><td>2024-05-03</td><td>ORD1884</td><td>143.94</td></tr><tr><td>246</td><td>CUST093</td><td>2024-05-01</td><td>ORD1245</td><td>99.27</td></tr><tr><td>247</td><td>CUST093</td><td>2024-07-10</td><td>ORD1246</td><td>213.72</td></tr><tr><td>614</td><td>CUST093</td><td>2024-02-18</td><td>ORD1613</td><td>145.58</td></tr><tr><td>666</td><td>CUST093</td><td>2024-08-05</td><td>ORD1665</td><td>39.56</td></tr><tr><td>846</td><td>CUST093</td><td>2024-12-18</td><td>ORD1845</td><td>140.97</td></tr><tr><td>881</td><td>CUST093</td><td>2024-04-27</td><td>ORD1880</td><td>78.0</td></tr><tr><td>945</td><td>CUST093</td><td>2024-09-07</td><td>ORD1944</td><td>239.33</td></tr><tr><td>248</td><td>CUST094</td><td>2024-04-03</td><td>ORD1247</td><td>211.67</td></tr><tr><td>249</td><td>CUST095</td><td>2024-01-07</td><td>ORD1248</td><td>60.01</td></tr><tr><td>250</td><td>CUST095</td><td>2024-01-19</td><td>ORD1249</td><td>157.52</td></tr><tr><td>251</td><td>CUST095</td><td>2024-02-09</td><td>ORD1250</td><td>66.09</td></tr><tr><td>252</td><td>CUST096</td><td>2024-02-29</td><td>ORD1251</td><td>281.14</td></tr><tr><td>253</td><td>CUST096</td><td>2024-03-14</td><td>ORD1252</td><td>37.92</td></tr><tr><td>254</td><td>CUST096</td><td>2024-04-01</td><td>ORD1253</td><td>136.25</td></tr><tr><td>640</td><td>CUST096</td><td>2024-07-28</td><td>ORD1639</td><td>274.12</td></tr><tr><td>255</td><td>CUST097</td><td>2024-04-11</td><td>ORD1254</td><td>277.27</td></tr><tr><td>256</td><td>CUST097</td><td>2024-04-20</td><td>ORD1255</td><td>33.01</td></tr><tr><td>257</td><td>CUST097</td><td>2024-06-23</td><td>ORD1256</td><td>299.55</td></tr><tr><td>693</td><td>CUST097</td><td>2024-07-31</td><td>ORD1692</td><td>95.31</td></tr><tr><td>821</td><td>CUST097</td><td>2024-05-27</td><td>ORD1820</td><td>185.94</td></tr><tr><td>857</td><td>CUST097</td><td>2024-03-04</td><td>ORD1856</td><td>225.1</td></tr><tr><td>919</td><td>CUST097</td><td>2024-08-24</td><td>ORD1918</td><td>79.48</td></tr><tr><td>258</td><td>CUST098</td><td>2024-04-17</td><td>ORD1257</td><td>61.11</td></tr><tr><td>259</td><td>CUST098</td><td>2024-05-14</td><td>ORD1258</td><td>18.5</td></tr><tr><td>662</td><td>CUST098</td><td>2024-03-09</td><td>ORD1661</td><td>257.82</td></tr><tr><td>722</td><td>CUST098</td><td>2024-12-04</td><td>ORD1721</td><td>291.24</td></tr><tr><td>757</td><td>CUST098</td><td>2024-02-05</td><td>ORD1756</td><td>22.79</td></tr><tr><td>819</td><td>CUST098</td><td>2024-03-21</td><td>ORD1818</td><td>241.55</td></tr><tr><td>822</td><td>CUST098</td><td>2024-01-30</td><td>ORD1821</td><td>255.71</td></tr><tr><td>893</td><td>CUST098</td><td>2024-01-20</td><td>ORD1892</td><td>247.43</td></tr><tr><td>260</td><td>CUST099</td><td>2024-06-20</td><td>ORD1259</td><td>171.4</td></tr><tr><td>261</td><td>CUST099</td><td>2024-07-24</td><td>ORD1260</td><td>221.17</td></tr><tr><td>262</td><td>CUST099</td><td>2024-09-11</td><td>ORD1261</td><td>133.46</td></tr><tr><td>645</td><td>CUST099</td><td>2024-12-27</td><td>ORD1644</td><td>83.24</td></tr><tr><td>664</td><td>CUST099</td><td>2024-01-30</td><td>ORD1663</td><td>147.8</td></tr><tr><td>737</td><td>CUST099</td><td>2024-12-18</td><td>ORD1736</td><td>286.9</td></tr><tr><td>263</td><td>CUST100</td><td>2024-03-20</td><td>ORD1262</td><td>23.93</td></tr><tr><td>264</td><td>CUST100</td><td>2024-05-05</td><td>ORD1263</td><td>228.97</td></tr><tr><td>265</td><td>CUST100</td><td>2024-07-13</td><td>ORD1264</td><td>35.35</td></tr><tr><td>607</td><td>CUST100</td><td>2024-10-03</td><td>ORD1606</td><td>184.36</td></tr><tr><td>680</td><td>CUST100</td><td>2024-05-06</td><td>ORD1679</td><td>229.55</td></tr><tr><td>266</td><td>CUST101</td><td>2024-01-13</td><td>ORD1265</td><td>219.58</td></tr><tr><td>730</td><td>CUST101</td><td>2024-10-07</td><td>ORD1729</td><td>18.99</td></tr><tr><td>779</td><td>CUST101</td><td>2024-03-10</td><td>ORD1778</td><td>225.92</td></tr><tr><td>935</td><td>CUST101</td><td>2024-01-10</td><td>ORD1934</td><td>118.6</td></tr><tr><td>267</td><td>CUST102</td><td>2024-06-08</td><td>ORD1266</td><td>162.31</td></tr><tr><td>268</td><td>CUST102</td><td>2024-06-23</td><td>ORD1267</td><td>147.91</td></tr><tr><td>596</td><td>CUST102</td><td>2024-11-04</td><td>ORD1595</td><td>85.92</td></tr><tr><td>735</td><td>CUST102</td><td>2024-07-31</td><td>ORD1734</td><td>202.53</td></tr><tr><td>837</td><td>CUST102</td><td>2024-01-14</td><td>ORD1836</td><td>25.53</td></tr><tr><td>269</td><td>CUST103</td><td>2024-02-16</td><td>ORD1268</td><td>232.58</td></tr><tr><td>270</td><td>CUST103</td><td>2024-02-24</td><td>ORD1269</td><td>102.83</td></tr><tr><td>271</td><td>CUST103</td><td>2024-05-08</td><td>ORD1270</td><td>65.95</td></tr><tr><td>753</td><td>CUST103</td><td>2024-08-27</td><td>ORD1752</td><td>49.49</td></tr><tr><td>780</td><td>CUST103</td><td>2024-11-23</td><td>ORD1779</td><td>172.05</td></tr><tr><td>848</td><td>CUST103</td><td>2024-05-28</td><td>ORD1847</td><td>80.06</td></tr><tr><td>971</td><td>CUST103</td><td>2024-10-01</td><td>ORD1970</td><td>133.31</td></tr><tr><td>272</td><td>CUST104</td><td>2024-01-04</td><td>ORD1271</td><td>143.51</td></tr><tr><td>273</td><td>CUST104</td><td>2024-02-21</td><td>ORD1272</td><td>174.27</td></tr><tr><td>274</td><td>CUST104</td><td>2024-04-29</td><td>ORD1273</td><td>60.15</td></tr><tr><td>275</td><td>CUST104</td><td>2024-06-01</td><td>ORD1274</td><td>245.6</td></tr><tr><td>276</td><td>CUST104</td><td>2024-06-21</td><td>ORD1275</td><td>134.89</td></tr><tr><td>923</td><td>CUST104</td><td>2024-01-23</td><td>ORD1922</td><td>224.92</td></tr><tr><td>927</td><td>CUST104</td><td>2024-12-31</td><td>ORD1926</td><td>89.13</td></tr><tr><td>277</td><td>CUST105</td><td>2024-03-13</td><td>ORD1276</td><td>206.44</td></tr><tr><td>278</td><td>CUST105</td><td>2024-04-13</td><td>ORD1277</td><td>161.46</td></tr><tr><td>279</td><td>CUST105</td><td>2024-06-06</td><td>ORD1278</td><td>298.76</td></tr><tr><td>651</td><td>CUST105</td><td>2024-02-23</td><td>ORD1650</td><td>131.33</td></tr><tr><td>747</td><td>CUST105</td><td>2024-08-09</td><td>ORD1746</td><td>197.74</td></tr><tr><td>280</td><td>CUST106</td><td>2024-06-23</td><td>ORD1279</td><td>182.52</td></tr><tr><td>281</td><td>CUST106</td><td>2024-08-04</td><td>ORD1280</td><td>25.64</td></tr><tr><td>694</td><td>CUST106</td><td>2024-03-27</td><td>ORD1693</td><td>123.25</td></tr><tr><td>869</td><td>CUST106</td><td>2024-04-05</td><td>ORD1868</td><td>136.12</td></tr><tr><td>282</td><td>CUST107</td><td>2024-04-22</td><td>ORD1281</td><td>179.43</td></tr><tr><td>888</td><td>CUST107</td><td>2024-10-11</td><td>ORD1887</td><td>200.46</td></tr><tr><td>283</td><td>CUST108</td><td>2024-06-16</td><td>ORD1282</td><td>259.66</td></tr><tr><td>284</td><td>CUST108</td><td>2024-07-17</td><td>ORD1283</td><td>20.1</td></tr><tr><td>285</td><td>CUST108</td><td>2024-10-06</td><td>ORD1284</td><td>228.82</td></tr><tr><td>599</td><td>CUST108</td><td>2024-12-21</td><td>ORD1598</td><td>241.23</td></tr><tr><td>711</td><td>CUST108</td><td>2024-10-07</td><td>ORD1710</td><td>171.87</td></tr><tr><td>764</td><td>CUST108</td><td>2024-01-10</td><td>ORD1763</td><td>152.11</td></tr><tr><td>778</td><td>CUST108</td><td>2024-05-19</td><td>ORD1777</td><td>274.27</td></tr><tr><td>286</td><td>CUST109</td><td>2024-04-26</td><td>ORD1285</td><td>242.6</td></tr><tr><td>287</td><td>CUST109</td><td>2024-05-24</td><td>ORD1286</td><td>264.52</td></tr><tr><td>288</td><td>CUST109</td><td>2024-07-10</td><td>ORD1287</td><td>256.21</td></tr><tr><td>702</td><td>CUST109</td><td>2024-12-31</td><td>ORD1701</td><td>29.71</td></tr><tr><td>952</td><td>CUST109</td><td>2024-03-12</td><td>ORD1951</td><td>182.92</td></tr><tr><td>988</td><td>CUST109</td><td>2024-01-13</td><td>ORD1987</td><td>162.25</td></tr><tr><td>289</td><td>CUST110</td><td>2024-04-23</td><td>ORD1288</td><td>274.01</td></tr><tr><td>290</td><td>CUST110</td><td>2024-05-08</td><td>ORD1289</td><td>245.67</td></tr><tr><td>616</td><td>CUST110</td><td>2024-05-22</td><td>ORD1615</td><td>255.12</td></tr><tr><td>658</td><td>CUST110</td><td>2024-09-05</td><td>ORD1657</td><td>79.3</td></tr><tr><td>703</td><td>CUST110</td><td>2024-02-08</td><td>ORD1702</td><td>272.2</td></tr><tr><td>760</td><td>CUST110</td><td>2024-02-09</td><td>ORD1759</td><td>257.25</td></tr><tr><td>291</td><td>CUST111</td><td>2024-03-21</td><td>ORD1290</td><td>52.87</td></tr><tr><td>292</td><td>CUST111</td><td>2024-04-21</td><td>ORD1291</td><td>55.56</td></tr><tr><td>293</td><td>CUST111</td><td>2024-08-13</td><td>ORD1292</td><td>93.45</td></tr><tr><td>577</td><td>CUST111</td><td>2024-12-11</td><td>ORD1576</td><td>276.26</td></tr><tr><td>804</td><td>CUST111</td><td>2024-08-04</td><td>ORD1803</td><td>172.49</td></tr><tr><td>818</td><td>CUST111</td><td>2024-02-22</td><td>ORD1817</td><td>45.49</td></tr><tr><td>294</td><td>CUST112</td><td>2024-03-19</td><td>ORD1293</td><td>124.26</td></tr><tr><td>295</td><td>CUST112</td><td>2024-04-10</td><td>ORD1294</td><td>167.9</td></tr><tr><td>296</td><td>CUST112</td><td>2024-08-02</td><td>ORD1295</td><td>63.78</td></tr><tr><td>727</td><td>CUST112</td><td>2024-04-13</td><td>ORD1726</td><td>118.11</td></tr><tr><td>976</td><td>CUST112</td><td>2024-03-03</td><td>ORD1975</td><td>186.85</td></tr><tr><td>297</td><td>CUST113</td><td>2024-02-04</td><td>ORD1296</td><td>89.21</td></tr><tr><td>298</td><td>CUST113</td><td>2024-03-23</td><td>ORD1297</td><td>255.61</td></tr><tr><td>299</td><td>CUST113</td><td>2024-05-04</td><td>ORD1298</td><td>63.69</td></tr><tr><td>300</td><td>CUST113</td><td>2024-06-25</td><td>ORD1299</td><td>129.43</td></tr><tr><td>593</td><td>CUST113</td><td>2024-08-31</td><td>ORD1592</td><td>97.27</td></tr><tr><td>688</td><td>CUST113</td><td>2024-06-04</td><td>ORD1687</td><td>34.76</td></tr><tr><td>892</td><td>CUST113</td><td>2024-06-22</td><td>ORD1891</td><td>248.5</td></tr><tr><td>301</td><td>CUST114</td><td>2024-02-21</td><td>ORD1300</td><td>35.69</td></tr><tr><td>302</td><td>CUST114</td><td>2024-03-30</td><td>ORD1301</td><td>92.32</td></tr><tr><td>600</td><td>CUST114</td><td>2024-11-03</td><td>ORD1599</td><td>49.11</td></tr><tr><td>630</td><td>CUST114</td><td>2024-11-14</td><td>ORD1629</td><td>200.52</td></tr><tr><td>817</td><td>CUST114</td><td>2024-09-27</td><td>ORD1816</td><td>81.95</td></tr><tr><td>883</td><td>CUST114</td><td>2024-07-25</td><td>ORD1882</td><td>92.71</td></tr><tr><td>303</td><td>CUST115</td><td>2024-01-06</td><td>ORD1302</td><td>176.61</td></tr><tr><td>304</td><td>CUST115</td><td>2024-02-14</td><td>ORD1303</td><td>210.2</td></tr><tr><td>305</td><td>CUST115</td><td>2024-02-27</td><td>ORD1304</td><td>64.72</td></tr><tr><td>608</td><td>CUST115</td><td>2024-02-01</td><td>ORD1607</td><td>205.78</td></tr><tr><td>623</td><td>CUST115</td><td>2024-04-18</td><td>ORD1622</td><td>97.27</td></tr><tr><td>639</td><td>CUST115</td><td>2024-09-03</td><td>ORD1638</td><td>247.38</td></tr><tr><td>960</td><td>CUST115</td><td>2024-09-14</td><td>ORD1959</td><td>252.35</td></tr><tr><td>306</td><td>CUST116</td><td>2024-04-22</td><td>ORD1305</td><td>128.43</td></tr><tr><td>307</td><td>CUST116</td><td>2024-05-04</td><td>ORD1306</td><td>154.04</td></tr><tr><td>772</td><td>CUST116</td><td>2024-03-20</td><td>ORD1771</td><td>117.6</td></tr><tr><td>777</td><td>CUST116</td><td>2024-01-09</td><td>ORD1776</td><td>254.15</td></tr><tr><td>798</td><td>CUST116</td><td>2024-05-05</td><td>ORD1797</td><td>23.52</td></tr><tr><td>308</td><td>CUST117</td><td>2024-06-13</td><td>ORD1307</td><td>37.18</td></tr><tr><td>705</td><td>CUST117</td><td>2024-07-12</td><td>ORD1704</td><td>290.51</td></tr><tr><td>309</td><td>CUST118</td><td>2024-05-01</td><td>ORD1308</td><td>12.47</td></tr><tr><td>958</td><td>CUST118</td><td>2024-05-13</td><td>ORD1957</td><td>216.65</td></tr><tr><td>310</td><td>CUST119</td><td>2024-01-31</td><td>ORD1309</td><td>67.23</td></tr><tr><td>311</td><td>CUST119</td><td>2024-03-20</td><td>ORD1310</td><td>272.57</td></tr><tr><td>312</td><td>CUST119</td><td>2024-05-27</td><td>ORD1311</td><td>12.17</td></tr><tr><td>313</td><td>CUST119</td><td>2024-07-09</td><td>ORD1312</td><td>55.91</td></tr><tr><td>585</td><td>CUST119</td><td>2024-07-13</td><td>ORD1584</td><td>297.22</td></tr><tr><td>652</td><td>CUST119</td><td>2024-05-23</td><td>ORD1651</td><td>11.21</td></tr><tr><td>314</td><td>CUST120</td><td>2024-06-21</td><td>ORD1313</td><td>232.12</td></tr><tr><td>315</td><td>CUST120</td><td>2024-08-17</td><td>ORD1314</td><td>264.96</td></tr><tr><td>316</td><td>CUST120</td><td>2024-11-03</td><td>ORD1315</td><td>172.5</td></tr><tr><td>907</td><td>CUST120</td><td>2024-10-28</td><td>ORD1906</td><td>116.28</td></tr><tr><td>317</td><td>CUST121</td><td>2024-01-18</td><td>ORD1316</td><td>206.55</td></tr><tr><td>318</td><td>CUST121</td><td>2024-02-08</td><td>ORD1317</td><td>241.42</td></tr><tr><td>319</td><td>CUST121</td><td>2024-05-18</td><td>ORD1318</td><td>213.53</td></tr><tr><td>606</td><td>CUST121</td><td>2024-12-15</td><td>ORD1605</td><td>161.0</td></tr><tr><td>632</td><td>CUST121</td><td>2024-09-23</td><td>ORD1631</td><td>229.86</td></tr><tr><td>743</td><td>CUST121</td><td>2024-12-09</td><td>ORD1742</td><td>109.67</td></tr><tr><td>928</td><td>CUST121</td><td>2024-08-23</td><td>ORD1927</td><td>232.63</td></tr><tr><td>982</td><td>CUST121</td><td>2024-01-19</td><td>ORD1981</td><td>213.86</td></tr><tr><td>320</td><td>CUST122</td><td>2024-02-15</td><td>ORD1319</td><td>291.02</td></tr><tr><td>321</td><td>CUST122</td><td>2024-03-08</td><td>ORD1320</td><td>248.37</td></tr><tr><td>322</td><td>CUST122</td><td>2024-06-02</td><td>ORD1321</td><td>109.31</td></tr><tr><td>578</td><td>CUST122</td><td>2024-10-25</td><td>ORD1577</td><td>108.91</td></tr><tr><td>897</td><td>CUST122</td><td>2024-04-26</td><td>ORD1896</td><td>156.09</td></tr><tr><td>323</td><td>CUST123</td><td>2024-03-13</td><td>ORD1322</td><td>296.94</td></tr><tr><td>324</td><td>CUST123</td><td>2024-05-20</td><td>ORD1323</td><td>11.87</td></tr><tr><td>590</td><td>CUST123</td><td>2024-10-13</td><td>ORD1589</td><td>23.48</td></tr><tr><td>933</td><td>CUST123</td><td>2024-06-07</td><td>ORD1932</td><td>89.06</td></tr><tr><td>325</td><td>CUST124</td><td>2024-03-04</td><td>ORD1324</td><td>187.22</td></tr><tr><td>326</td><td>CUST124</td><td>2024-04-29</td><td>ORD1325</td><td>131.84</td></tr><tr><td>327</td><td>CUST124</td><td>2024-06-03</td><td>ORD1326</td><td>254.52</td></tr><tr><td>328</td><td>CUST124</td><td>2024-08-20</td><td>ORD1327</td><td>85.74</td></tr><tr><td>570</td><td>CUST124</td><td>2024-06-27</td><td>ORD1569</td><td>105.2</td></tr><tr><td>603</td><td>CUST124</td><td>2024-12-24</td><td>ORD1602</td><td>230.92</td></tr><tr><td>788</td><td>CUST124</td><td>2024-07-06</td><td>ORD1787</td><td>294.78</td></tr><tr><td>922</td><td>CUST124</td><td>2024-12-29</td><td>ORD1921</td><td>79.65</td></tr><tr><td>329</td><td>CUST125</td><td>2024-06-19</td><td>ORD1328</td><td>282.7</td></tr><tr><td>330</td><td>CUST125</td><td>2024-07-01</td><td>ORD1329</td><td>42.21</td></tr><tr><td>331</td><td>CUST125</td><td>2024-08-08</td><td>ORD1330</td><td>235.84</td></tr><tr><td>332</td><td>CUST125</td><td>2024-08-16</td><td>ORD1331</td><td>15.87</td></tr><tr><td>333</td><td>CUST125</td><td>2024-10-19</td><td>ORD1332</td><td>198.78</td></tr><tr><td>589</td><td>CUST125</td><td>2024-11-23</td><td>ORD1588</td><td>49.65</td></tr><tr><td>681</td><td>CUST125</td><td>2024-07-12</td><td>ORD1680</td><td>269.52</td></tr><tr><td>934</td><td>CUST125</td><td>2024-05-21</td><td>ORD1933</td><td>57.28</td></tr><tr><td>334</td><td>CUST126</td><td>2024-05-14</td><td>ORD1333</td><td>210.78</td></tr><tr><td>335</td><td>CUST126</td><td>2024-06-05</td><td>ORD1334</td><td>255.17</td></tr><tr><td>336</td><td>CUST126</td><td>2024-08-29</td><td>ORD1335</td><td>146.92</td></tr><tr><td>337</td><td>CUST126</td><td>2024-12-19</td><td>ORD1336</td><td>145.83</td></tr><tr><td>823</td><td>CUST126</td><td>2024-04-16</td><td>ORD1822</td><td>87.47</td></tr><tr><td>853</td><td>CUST126</td><td>2024-01-31</td><td>ORD1852</td><td>14.8</td></tr><tr><td>931</td><td>CUST126</td><td>2024-05-26</td><td>ORD1930</td><td>74.15</td></tr><tr><td>338</td><td>CUST127</td><td>2024-03-07</td><td>ORD1337</td><td>76.54</td></tr><tr><td>339</td><td>CUST127</td><td>2024-03-26</td><td>ORD1338</td><td>247.96</td></tr><tr><td>340</td><td>CUST127</td><td>2024-06-02</td><td>ORD1339</td><td>13.69</td></tr><tr><td>341</td><td>CUST127</td><td>2024-07-10</td><td>ORD1340</td><td>235.43</td></tr><tr><td>342</td><td>CUST128</td><td>2024-06-22</td><td>ORD1341</td><td>262.11</td></tr><tr><td>343</td><td>CUST128</td><td>2024-07-07</td><td>ORD1342</td><td>271.29</td></tr><tr><td>344</td><td>CUST128</td><td>2024-07-30</td><td>ORD1343</td><td>162.81</td></tr><tr><td>345</td><td>CUST129</td><td>2024-05-10</td><td>ORD1344</td><td>202.06</td></tr><tr><td>346</td><td>CUST129</td><td>2024-05-26</td><td>ORD1345</td><td>58.44</td></tr><tr><td>347</td><td>CUST129</td><td>2024-06-26</td><td>ORD1346</td><td>149.58</td></tr><tr><td>348</td><td>CUST129</td><td>2024-10-23</td><td>ORD1347</td><td>150.53</td></tr><tr><td>349</td><td>CUST130</td><td>2024-06-24</td><td>ORD1348</td><td>86.09</td></tr><tr><td>350</td><td>CUST130</td><td>2024-07-06</td><td>ORD1349</td><td>281.18</td></tr><tr><td>351</td><td>CUST130</td><td>2024-09-10</td><td>ORD1350</td><td>178.93</td></tr><tr><td>809</td><td>CUST130</td><td>2024-02-16</td><td>ORD1808</td><td>299.11</td></tr><tr><td>352</td><td>CUST131</td><td>2024-05-15</td><td>ORD1351</td><td>93.45</td></tr><tr><td>353</td><td>CUST131</td><td>2024-05-22</td><td>ORD1352</td><td>175.49</td></tr><tr><td>354</td><td>CUST131</td><td>2024-06-29</td><td>ORD1353</td><td>184.3</td></tr><tr><td>355</td><td>CUST131</td><td>2024-08-03</td><td>ORD1354</td><td>79.57</td></tr><tr><td>661</td><td>CUST131</td><td>2024-11-23</td><td>ORD1660</td><td>128.21</td></tr><tr><td>803</td><td>CUST131</td><td>2024-01-20</td><td>ORD1802</td><td>189.31</td></tr><tr><td>875</td><td>CUST131</td><td>2024-03-21</td><td>ORD1874</td><td>30.11</td></tr><tr><td>356</td><td>CUST132</td><td>2024-06-15</td><td>ORD1355</td><td>291.08</td></tr><tr><td>357</td><td>CUST132</td><td>2024-07-10</td><td>ORD1356</td><td>255.99</td></tr><tr><td>358</td><td>CUST132</td><td>2024-07-23</td><td>ORD1357</td><td>18.76</td></tr><tr><td>696</td><td>CUST132</td><td>2024-05-03</td><td>ORD1695</td><td>287.19</td></tr><tr><td>359</td><td>CUST133</td><td>2024-03-12</td><td>ORD1358</td><td>68.89</td></tr><tr><td>360</td><td>CUST133</td><td>2024-04-18</td><td>ORD1359</td><td>72.28</td></tr><tr><td>361</td><td>CUST133</td><td>2024-04-29</td><td>ORD1360</td><td>81.46</td></tr><tr><td>728</td><td>CUST133</td><td>2024-07-08</td><td>ORD1727</td><td>195.34</td></tr><tr><td>989</td><td>CUST133</td><td>2024-03-11</td><td>ORD1988</td><td>220.21</td></tr><tr><td>362</td><td>CUST134</td><td>2024-04-15</td><td>ORD1361</td><td>237.36</td></tr><tr><td>363</td><td>CUST134</td><td>2024-04-24</td><td>ORD1362</td><td>48.08</td></tr><tr><td>364</td><td>CUST135</td><td>2024-05-22</td><td>ORD1363</td><td>196.45</td></tr><tr><td>365</td><td>CUST135</td><td>2024-06-01</td><td>ORD1364</td><td>258.36</td></tr><tr><td>366</td><td>CUST135</td><td>2024-08-23</td><td>ORD1365</td><td>288.96</td></tr><tr><td>367</td><td>CUST135</td><td>2024-12-01</td><td>ORD1366</td><td>54.05</td></tr><tr><td>707</td><td>CUST135</td><td>2024-10-17</td><td>ORD1706</td><td>206.42</td></tr><tr><td>814</td><td>CUST135</td><td>2024-11-24</td><td>ORD1813</td><td>275.33</td></tr><tr><td>854</td><td>CUST135</td><td>2024-03-25</td><td>ORD1853</td><td>106.84</td></tr><tr><td>938</td><td>CUST135</td><td>2024-03-27</td><td>ORD1937</td><td>148.52</td></tr><tr><td>368</td><td>CUST136</td><td>2024-05-18</td><td>ORD1367</td><td>152.19</td></tr><tr><td>369</td><td>CUST136</td><td>2024-06-30</td><td>ORD1368</td><td>74.53</td></tr><tr><td>370</td><td>CUST136</td><td>2024-08-04</td><td>ORD1369</td><td>202.47</td></tr><tr><td>855</td><td>CUST136</td><td>2024-05-21</td><td>ORD1854</td><td>74.03</td></tr><tr><td>371</td><td>CUST137</td><td>2024-01-02</td><td>ORD1370</td><td>217.68</td></tr><tr><td>372</td><td>CUST137</td><td>2024-02-18</td><td>ORD1371</td><td>39.5</td></tr><tr><td>373</td><td>CUST137</td><td>2024-02-26</td><td>ORD1372</td><td>68.35</td></tr><tr><td>374</td><td>CUST138</td><td>2024-03-29</td><td>ORD1373</td><td>16.13</td></tr><tr><td>375</td><td>CUST138</td><td>2024-06-05</td><td>ORD1374</td><td>292.35</td></tr><tr><td>376</td><td>CUST138</td><td>2024-08-30</td><td>ORD1375</td><td>244.37</td></tr><tr><td>621</td><td>CUST138</td><td>2024-04-25</td><td>ORD1620</td><td>208.42</td></tr><tr><td>793</td><td>CUST138</td><td>2024-09-25</td><td>ORD1792</td><td>294.59</td></tr><tr><td>377</td><td>CUST139</td><td>2024-04-25</td><td>ORD1376</td><td>243.62</td></tr><tr><td>378</td><td>CUST139</td><td>2024-08-12</td><td>ORD1377</td><td>32.8</td></tr><tr><td>618</td><td>CUST139</td><td>2024-08-03</td><td>ORD1617</td><td>82.74</td></tr><tr><td>712</td><td>CUST139</td><td>2024-10-03</td><td>ORD1711</td><td>255.15</td></tr><tr><td>766</td><td>CUST139</td><td>2024-05-28</td><td>ORD1765</td><td>34.42</td></tr><tr><td>912</td><td>CUST139</td><td>2024-04-18</td><td>ORD1911</td><td>227.0</td></tr><tr><td>379</td><td>CUST140</td><td>2024-02-25</td><td>ORD1378</td><td>79.09</td></tr><tr><td>380</td><td>CUST140</td><td>2024-04-14</td><td>ORD1379</td><td>44.13</td></tr><tr><td>381</td><td>CUST140</td><td>2024-05-02</td><td>ORD1380</td><td>169.31</td></tr><tr><td>762</td><td>CUST140</td><td>2024-06-23</td><td>ORD1761</td><td>215.25</td></tr><tr><td>382</td><td>CUST141</td><td>2024-02-17</td><td>ORD1381</td><td>118.02</td></tr><tr><td>383</td><td>CUST141</td><td>2024-04-02</td><td>ORD1382</td><td>203.18</td></tr><tr><td>384</td><td>CUST141</td><td>2024-06-29</td><td>ORD1383</td><td>244.03</td></tr><tr><td>385</td><td>CUST141</td><td>2024-08-26</td><td>ORD1384</td><td>105.29</td></tr><tr><td>759</td><td>CUST141</td><td>2024-09-13</td><td>ORD1758</td><td>43.83</td></tr><tr><td>386</td><td>CUST142</td><td>2024-03-28</td><td>ORD1385</td><td>94.9</td></tr><tr><td>387</td><td>CUST142</td><td>2024-05-30</td><td>ORD1386</td><td>135.81</td></tr><tr><td>388</td><td>CUST142</td><td>2024-07-15</td><td>ORD1387</td><td>248.83</td></tr><tr><td>898</td><td>CUST142</td><td>2024-07-16</td><td>ORD1897</td><td>74.22</td></tr><tr><td>389</td><td>CUST143</td><td>2024-04-21</td><td>ORD1388</td><td>267.19</td></tr><tr><td>390</td><td>CUST143</td><td>2024-05-17</td><td>ORD1389</td><td>155.04</td></tr><tr><td>391</td><td>CUST143</td><td>2024-06-12</td><td>ORD1390</td><td>193.29</td></tr><tr><td>629</td><td>CUST143</td><td>2024-01-26</td><td>ORD1628</td><td>89.23</td></tr><tr><td>691</td><td>CUST143</td><td>2024-07-30</td><td>ORD1690</td><td>184.55</td></tr><tr><td>692</td><td>CUST143</td><td>2024-12-31</td><td>ORD1691</td><td>76.52</td></tr><tr><td>924</td><td>CUST143</td><td>2024-05-23</td><td>ORD1923</td><td>280.32</td></tr><tr><td>392</td><td>CUST144</td><td>2024-03-27</td><td>ORD1391</td><td>77.49</td></tr><tr><td>393</td><td>CUST144</td><td>2024-04-17</td><td>ORD1392</td><td>139.29</td></tr><tr><td>583</td><td>CUST144</td><td>2024-03-25</td><td>ORD1582</td><td>89.6</td></tr><tr><td>672</td><td>CUST144</td><td>2024-08-14</td><td>ORD1671</td><td>133.2</td></tr><tr><td>394</td><td>CUST145</td><td>2024-04-27</td><td>ORD1393</td><td>68.12</td></tr><tr><td>395</td><td>CUST145</td><td>2024-05-08</td><td>ORD1394</td><td>182.86</td></tr><tr><td>396</td><td>CUST145</td><td>2024-06-05</td><td>ORD1395</td><td>223.46</td></tr><tr><td>397</td><td>CUST145</td><td>2024-08-19</td><td>ORD1396</td><td>266.22</td></tr><tr><td>626</td><td>CUST145</td><td>2024-02-25</td><td>ORD1625</td><td>86.73</td></tr><tr><td>682</td><td>CUST145</td><td>2024-08-22</td><td>ORD1681</td><td>160.58</td></tr><tr><td>895</td><td>CUST145</td><td>2024-08-15</td><td>ORD1894</td><td>193.43</td></tr><tr><td>398</td><td>CUST146</td><td>2024-01-21</td><td>ORD1397</td><td>107.44</td></tr><tr><td>399</td><td>CUST146</td><td>2024-02-14</td><td>ORD1398</td><td>260.81</td></tr><tr><td>721</td><td>CUST146</td><td>2024-01-25</td><td>ORD1720</td><td>172.45</td></tr><tr><td>849</td><td>CUST146</td><td>2024-07-06</td><td>ORD1848</td><td>287.07</td></tr><tr><td>901</td><td>CUST146</td><td>2024-10-06</td><td>ORD1900</td><td>206.88</td></tr><tr><td>400</td><td>CUST147</td><td>2024-03-28</td><td>ORD1399</td><td>27.47</td></tr><tr><td>401</td><td>CUST147</td><td>2024-06-07</td><td>ORD1400</td><td>246.94</td></tr><tr><td>402</td><td>CUST147</td><td>2024-07-18</td><td>ORD1401</td><td>19.91</td></tr><tr><td>708</td><td>CUST147</td><td>2024-11-06</td><td>ORD1707</td><td>256.61</td></tr><tr><td>710</td><td>CUST147</td><td>2024-07-30</td><td>ORD1709</td><td>241.74</td></tr><tr><td>886</td><td>CUST147</td><td>2024-09-08</td><td>ORD1885</td><td>47.85</td></tr><tr><td>944</td><td>CUST147</td><td>2024-03-23</td><td>ORD1943</td><td>204.94</td></tr><tr><td>949</td><td>CUST147</td><td>2024-02-10</td><td>ORD1948</td><td>230.02</td></tr><tr><td>403</td><td>CUST148</td><td>2024-03-23</td><td>ORD1402</td><td>167.9</td></tr><tr><td>404</td><td>CUST148</td><td>2024-07-21</td><td>ORD1403</td><td>83.87</td></tr><tr><td>405</td><td>CUST149</td><td>2024-01-31</td><td>ORD1404</td><td>212.17</td></tr><tr><td>406</td><td>CUST149</td><td>2024-04-07</td><td>ORD1405</td><td>40.56</td></tr><tr><td>407</td><td>CUST149</td><td>2024-05-28</td><td>ORD1406</td><td>17.36</td></tr><tr><td>579</td><td>CUST149</td><td>2024-05-06</td><td>ORD1578</td><td>226.59</td></tr><tr><td>595</td><td>CUST149</td><td>2024-09-17</td><td>ORD1594</td><td>240.83</td></tr><tr><td>763</td><td>CUST149</td><td>2024-01-31</td><td>ORD1762</td><td>239.42</td></tr><tr><td>801</td><td>CUST149</td><td>2024-06-13</td><td>ORD1800</td><td>25.73</td></tr><tr><td>825</td><td>CUST149</td><td>2024-11-05</td><td>ORD1824</td><td>158.9</td></tr><tr><td>408</td><td>CUST150</td><td>2024-06-26</td><td>ORD1407</td><td>162.05</td></tr><tr><td>409</td><td>CUST150</td><td>2024-07-03</td><td>ORD1408</td><td>98.58</td></tr><tr><td>609</td><td>CUST150</td><td>2024-02-01</td><td>ORD1608</td><td>207.91</td></tr><tr><td>993</td><td>CUST150</td><td>2024-01-24</td><td>ORD1992</td><td>189.39</td></tr><tr><td>410</td><td>CUST151</td><td>2024-04-14</td><td>ORD1409</td><td>197.33</td></tr><tr><td>411</td><td>CUST151</td><td>2024-05-25</td><td>ORD1410</td><td>80.48</td></tr><tr><td>620</td><td>CUST151</td><td>2024-10-27</td><td>ORD1619</td><td>105.98</td></tr><tr><td>808</td><td>CUST151</td><td>2024-04-08</td><td>ORD1807</td><td>132.18</td></tr><tr><td>915</td><td>CUST151</td><td>2024-03-03</td><td>ORD1914</td><td>244.62</td></tr><tr><td>412</td><td>CUST152</td><td>2024-06-07</td><td>ORD1411</td><td>156.85</td></tr><tr><td>413</td><td>CUST152</td><td>2024-06-28</td><td>ORD1412</td><td>249.18</td></tr><tr><td>414</td><td>CUST152</td><td>2024-07-24</td><td>ORD1413</td><td>69.32</td></tr><tr><td>686</td><td>CUST152</td><td>2024-02-14</td><td>ORD1685</td><td>228.05</td></tr><tr><td>706</td><td>CUST152</td><td>2024-12-29</td><td>ORD1705</td><td>201.25</td></tr><tr><td>415</td><td>CUST153</td><td>2024-06-08</td><td>ORD1414</td><td>141.3</td></tr><tr><td>416</td><td>CUST153</td><td>2024-07-03</td><td>ORD1415</td><td>287.3</td></tr><tr><td>642</td><td>CUST153</td><td>2024-09-29</td><td>ORD1641</td><td>239.59</td></tr><tr><td>648</td><td>CUST153</td><td>2024-06-29</td><td>ORD1647</td><td>123.84</td></tr><tr><td>755</td><td>CUST153</td><td>2024-02-06</td><td>ORD1754</td><td>113.42</td></tr><tr><td>975</td><td>CUST153</td><td>2024-07-31</td><td>ORD1974</td><td>15.95</td></tr><tr><td>417</td><td>CUST154</td><td>2024-04-21</td><td>ORD1416</td><td>66.56</td></tr><tr><td>418</td><td>CUST154</td><td>2024-06-22</td><td>ORD1417</td><td>87.64</td></tr><tr><td>650</td><td>CUST154</td><td>2024-12-04</td><td>ORD1649</td><td>178.74</td></tr><tr><td>758</td><td>CUST154</td><td>2024-05-10</td><td>ORD1757</td><td>159.53</td></tr><tr><td>419</td><td>CUST155</td><td>2024-05-06</td><td>ORD1418</td><td>175.6</td></tr><tr><td>420</td><td>CUST155</td><td>2024-06-15</td><td>ORD1419</td><td>285.24</td></tr><tr><td>421</td><td>CUST155</td><td>2024-07-29</td><td>ORD1420</td><td>117.26</td></tr><tr><td>422</td><td>CUST156</td><td>2024-04-23</td><td>ORD1421</td><td>248.56</td></tr><tr><td>423</td><td>CUST156</td><td>2024-06-20</td><td>ORD1422</td><td>128.25</td></tr><tr><td>424</td><td>CUST157</td><td>2024-02-04</td><td>ORD1423</td><td>126.63</td></tr><tr><td>425</td><td>CUST157</td><td>2024-02-12</td><td>ORD1424</td><td>151.71</td></tr><tr><td>426</td><td>CUST157</td><td>2024-04-29</td><td>ORD1425</td><td>124.6</td></tr><tr><td>427</td><td>CUST157</td><td>2024-06-17</td><td>ORD1426</td><td>170.55</td></tr><tr><td>633</td><td>CUST157</td><td>2024-10-12</td><td>ORD1632</td><td>87.83</td></tr><tr><td>739</td><td>CUST157</td><td>2024-01-03</td><td>ORD1738</td><td>247.17</td></tr><tr><td>765</td><td>CUST157</td><td>2024-07-15</td><td>ORD1764</td><td>221.68</td></tr><tr><td>968</td><td>CUST157</td><td>2024-05-07</td><td>ORD1967</td><td>215.55</td></tr><tr><td>991</td><td>CUST157</td><td>2024-05-14</td><td>ORD1990</td><td>49.66</td></tr><tr><td>428</td><td>CUST158</td><td>2024-03-20</td><td>ORD1427</td><td>103.35</td></tr><tr><td>429</td><td>CUST158</td><td>2024-06-29</td><td>ORD1428</td><td>240.51</td></tr><tr><td>701</td><td>CUST158</td><td>2024-11-13</td><td>ORD1700</td><td>132.79</td></tr><tr><td>430</td><td>CUST159</td><td>2024-03-08</td><td>ORD1429</td><td>88.73</td></tr><tr><td>431</td><td>CUST159</td><td>2024-04-17</td><td>ORD1430</td><td>249.5</td></tr><tr><td>432</td><td>CUST159</td><td>2024-08-12</td><td>ORD1431</td><td>170.0</td></tr><tr><td>829</td><td>CUST159</td><td>2024-04-08</td><td>ORD1828</td><td>77.52</td></tr><tr><td>433</td><td>CUST160</td><td>2024-02-25</td><td>ORD1432</td><td>58.57</td></tr><tr><td>434</td><td>CUST160</td><td>2024-03-12</td><td>ORD1433</td><td>173.1</td></tr><tr><td>734</td><td>CUST160</td><td>2024-07-11</td><td>ORD1733</td><td>25.57</td></tr><tr><td>435</td><td>CUST161</td><td>2024-05-09</td><td>ORD1434</td><td>151.28</td></tr><tr><td>436</td><td>CUST161</td><td>2024-08-23</td><td>ORD1435</td><td>137.77</td></tr><tr><td>437</td><td>CUST161</td><td>2024-12-18</td><td>ORD1436</td><td>132.53</td></tr><tr><td>627</td><td>CUST161</td><td>2024-02-13</td><td>ORD1626</td><td>10.49</td></tr><tr><td>786</td><td>CUST161</td><td>2024-04-21</td><td>ORD1785</td><td>95.88</td></tr><tr><td>916</td><td>CUST161</td><td>2024-08-11</td><td>ORD1915</td><td>28.05</td></tr><tr><td>979</td><td>CUST161</td><td>2024-05-26</td><td>ORD1978</td><td>222.63</td></tr><tr><td>438</td><td>CUST162</td><td>2024-01-07</td><td>ORD1437</td><td>123.25</td></tr><tr><td>576</td><td>CUST162</td><td>2024-03-09</td><td>ORD1575</td><td>204.11</td></tr><tr><td>439</td><td>CUST163</td><td>2024-02-04</td><td>ORD1438</td><td>148.01</td></tr><tr><td>440</td><td>CUST163</td><td>2024-04-30</td><td>ORD1439</td><td>47.28</td></tr><tr><td>441</td><td>CUST163</td><td>2024-07-22</td><td>ORD1440</td><td>231.81</td></tr><tr><td>625</td><td>CUST163</td><td>2024-05-28</td><td>ORD1624</td><td>271.15</td></tr><tr><td>442</td><td>CUST164</td><td>2024-06-21</td><td>ORD1441</td><td>221.05</td></tr><tr><td>443</td><td>CUST164</td><td>2024-07-01</td><td>ORD1442</td><td>192.94</td></tr><tr><td>444</td><td>CUST164</td><td>2024-07-23</td><td>ORD1443</td><td>36.55</td></tr><tr><td>602</td><td>CUST164</td><td>2024-11-22</td><td>ORD1601</td><td>89.59</td></tr><tr><td>921</td><td>CUST164</td><td>2024-05-15</td><td>ORD1920</td><td>134.85</td></tr><tr><td>445</td><td>CUST165</td><td>2024-02-03</td><td>ORD1444</td><td>254.36</td></tr><tr><td>446</td><td>CUST165</td><td>2024-03-22</td><td>ORD1445</td><td>160.12</td></tr><tr><td>447</td><td>CUST165</td><td>2024-04-24</td><td>ORD1446</td><td>109.37</td></tr><tr><td>448</td><td>CUST165</td><td>2024-07-20</td><td>ORD1447</td><td>252.21</td></tr><tr><td>449</td><td>CUST165</td><td>2024-09-11</td><td>ORD1448</td><td>288.81</td></tr><tr><td>612</td><td>CUST165</td><td>2024-08-13</td><td>ORD1611</td><td>157.37</td></tr><tr><td>450</td><td>CUST166</td><td>2024-05-14</td><td>ORD1449</td><td>248.11</td></tr><tr><td>451</td><td>CUST166</td><td>2024-06-18</td><td>ORD1450</td><td>167.3</td></tr><tr><td>452</td><td>CUST166</td><td>2024-07-25</td><td>ORD1451</td><td>62.55</td></tr><tr><td>453</td><td>CUST166</td><td>2024-08-09</td><td>ORD1452</td><td>260.93</td></tr><tr><td>637</td><td>CUST166</td><td>2024-08-14</td><td>ORD1636</td><td>177.56</td></tr><tr><td>752</td><td>CUST166</td><td>2024-09-15</td><td>ORD1751</td><td>174.23</td></tr><tr><td>840</td><td>CUST166</td><td>2024-02-03</td><td>ORD1839</td><td>226.29</td></tr><tr><td>847</td><td>CUST166</td><td>2024-08-16</td><td>ORD1846</td><td>36.24</td></tr><tr><td>454</td><td>CUST167</td><td>2024-01-06</td><td>ORD1453</td><td>264.08</td></tr><tr><td>455</td><td>CUST167</td><td>2024-02-20</td><td>ORD1454</td><td>236.12</td></tr><tr><td>687</td><td>CUST167</td><td>2024-08-20</td><td>ORD1686</td><td>87.4</td></tr><tr><td>456</td><td>CUST168</td><td>2024-05-02</td><td>ORD1455</td><td>104.81</td></tr><tr><td>457</td><td>CUST168</td><td>2024-06-03</td><td>ORD1456</td><td>147.85</td></tr><tr><td>458</td><td>CUST168</td><td>2024-09-29</td><td>ORD1457</td><td>261.48</td></tr><tr><td>622</td><td>CUST168</td><td>2024-06-23</td><td>ORD1621</td><td>267.46</td></tr><tr><td>663</td><td>CUST168</td><td>2024-05-15</td><td>ORD1662</td><td>266.76</td></tr><tr><td>459</td><td>CUST169</td><td>2024-02-05</td><td>ORD1458</td><td>249.52</td></tr><tr><td>460</td><td>CUST169</td><td>2024-03-14</td><td>ORD1459</td><td>84.93</td></tr><tr><td>461</td><td>CUST169</td><td>2024-04-30</td><td>ORD1460</td><td>52.12</td></tr><tr><td>462</td><td>CUST170</td><td>2024-01-21</td><td>ORD1461</td><td>53.07</td></tr><tr><td>463</td><td>CUST170</td><td>2024-02-23</td><td>ORD1462</td><td>180.52</td></tr><tr><td>787</td><td>CUST170</td><td>2024-06-24</td><td>ORD1786</td><td>69.32</td></tr><tr><td>799</td><td>CUST170</td><td>2024-12-05</td><td>ORD1798</td><td>66.06</td></tr><tr><td>807</td><td>CUST170</td><td>2024-03-04</td><td>ORD1806</td><td>190.24</td></tr><tr><td>871</td><td>CUST170</td><td>2024-05-02</td><td>ORD1870</td><td>170.76</td></tr><tr><td>946</td><td>CUST170</td><td>2024-02-05</td><td>ORD1945</td><td>207.68</td></tr><tr><td>972</td><td>CUST170</td><td>2024-06-22</td><td>ORD1971</td><td>76.56</td></tr><tr><td>464</td><td>CUST171</td><td>2024-05-05</td><td>ORD1463</td><td>243.56</td></tr><tr><td>465</td><td>CUST171</td><td>2024-06-28</td><td>ORD1464</td><td>189.97</td></tr><tr><td>466</td><td>CUST171</td><td>2024-08-05</td><td>ORD1465</td><td>252.53</td></tr><tr><td>571</td><td>CUST171</td><td>2024-12-19</td><td>ORD1570</td><td>250.99</td></tr><tr><td>733</td><td>CUST171</td><td>2024-07-19</td><td>ORD1732</td><td>29.53</td></tr><tr><td>741</td><td>CUST171</td><td>2024-08-08</td><td>ORD1740</td><td>128.97</td></tr><tr><td>467</td><td>CUST172</td><td>2024-01-25</td><td>ORD1466</td><td>15.67</td></tr><tr><td>468</td><td>CUST172</td><td>2024-03-25</td><td>ORD1467</td><td>295.47</td></tr><tr><td>469</td><td>CUST172</td><td>2024-06-15</td><td>ORD1468</td><td>21.1</td></tr><tr><td>470</td><td>CUST172</td><td>2024-08-04</td><td>ORD1469</td><td>216.52</td></tr><tr><td>605</td><td>CUST172</td><td>2024-09-07</td><td>ORD1604</td><td>160.6</td></tr><tr><td>816</td><td>CUST172</td><td>2024-09-19</td><td>ORD1815</td><td>165.93</td></tr><tr><td>471</td><td>CUST173</td><td>2024-02-19</td><td>ORD1470</td><td>289.28</td></tr><tr><td>472</td><td>CUST173</td><td>2024-03-23</td><td>ORD1471</td><td>72.23</td></tr><tr><td>768</td><td>CUST173</td><td>2024-05-02</td><td>ORD1767</td><td>116.84</td></tr><tr><td>473</td><td>CUST174</td><td>2024-02-05</td><td>ORD1472</td><td>66.87</td></tr><tr><td>474</td><td>CUST174</td><td>2024-04-03</td><td>ORD1473</td><td>255.53</td></tr><tr><td>906</td><td>CUST174</td><td>2024-01-25</td><td>ORD1905</td><td>172.91</td></tr><tr><td>475</td><td>CUST175</td><td>2024-05-05</td><td>ORD1474</td><td>51.26</td></tr><tr><td>476</td><td>CUST175</td><td>2024-05-30</td><td>ORD1475</td><td>130.35</td></tr><tr><td>800</td><td>CUST175</td><td>2024-08-28</td><td>ORD1799</td><td>166.57</td></tr><tr><td>851</td><td>CUST175</td><td>2024-06-10</td><td>ORD1850</td><td>95.64</td></tr><tr><td>477</td><td>CUST176</td><td>2024-04-05</td><td>ORD1476</td><td>46.55</td></tr><tr><td>478</td><td>CUST176</td><td>2024-05-23</td><td>ORD1477</td><td>247.06</td></tr><tr><td>479</td><td>CUST176</td><td>2024-08-14</td><td>ORD1478</td><td>15.25</td></tr><tr><td>828</td><td>CUST176</td><td>2024-06-29</td><td>ORD1827</td><td>74.24</td></tr><tr><td>480</td><td>CUST177</td><td>2024-02-20</td><td>ORD1479</td><td>84.06</td></tr><tr><td>481</td><td>CUST177</td><td>2024-03-18</td><td>ORD1480</td><td>294.44</td></tr><tr><td>482</td><td>CUST177</td><td>2024-04-19</td><td>ORD1481</td><td>116.12</td></tr><tr><td>789</td><td>CUST177</td><td>2024-10-24</td><td>ORD1788</td><td>273.89</td></tr><tr><td>911</td><td>CUST177</td><td>2024-11-01</td><td>ORD1910</td><td>50.52</td></tr><tr><td>483</td><td>CUST178</td><td>2024-06-18</td><td>ORD1482</td><td>255.94</td></tr><tr><td>484</td><td>CUST178</td><td>2024-07-14</td><td>ORD1483</td><td>189.34</td></tr><tr><td>485</td><td>CUST178</td><td>2024-10-30</td><td>ORD1484</td><td>238.34</td></tr><tr><td>611</td><td>CUST178</td><td>2024-07-24</td><td>ORD1610</td><td>123.67</td></tr><tr><td>939</td><td>CUST178</td><td>2024-09-23</td><td>ORD1938</td><td>280.57</td></tr><tr><td>486</td><td>CUST179</td><td>2024-02-04</td><td>ORD1485</td><td>110.39</td></tr><tr><td>487</td><td>CUST179</td><td>2024-03-27</td><td>ORD1486</td><td>197.65</td></tr><tr><td>564</td><td>CUST179</td><td>2024-11-09</td><td>ORD1563</td><td>216.81</td></tr><tr><td>580</td><td>CUST179</td><td>2024-05-23</td><td>ORD1579</td><td>105.98</td></tr><tr><td>794</td><td>CUST179</td><td>2024-12-13</td><td>ORD1793</td><td>238.37</td></tr><tr><td>969</td><td>CUST179</td><td>2024-07-03</td><td>ORD1968</td><td>161.65</td></tr><tr><td>980</td><td>CUST179</td><td>2024-01-18</td><td>ORD1979</td><td>38.5</td></tr><tr><td>488</td><td>CUST180</td><td>2024-05-24</td><td>ORD1487</td><td>43.98</td></tr><tr><td>489</td><td>CUST180</td><td>2024-06-19</td><td>ORD1488</td><td>45.76</td></tr><tr><td>723</td><td>CUST180</td><td>2024-05-12</td><td>ORD1722</td><td>151.78</td></tr><tr><td>920</td><td>CUST180</td><td>2024-03-06</td><td>ORD1919</td><td>283.9</td></tr><tr><td>953</td><td>CUST180</td><td>2024-06-23</td><td>ORD1952</td><td>82.74</td></tr><tr><td>490</td><td>CUST181</td><td>2024-01-03</td><td>ORD1489</td><td>234.6</td></tr><tr><td>491</td><td>CUST181</td><td>2024-02-11</td><td>ORD1490</td><td>61.95</td></tr><tr><td>492</td><td>CUST181</td><td>2024-03-07</td><td>ORD1491</td><td>30.56</td></tr><tr><td>493</td><td>CUST181</td><td>2024-04-10</td><td>ORD1492</td><td>149.91</td></tr><tr><td>843</td><td>CUST181</td><td>2024-04-07</td><td>ORD1842</td><td>281.56</td></tr><tr><td>909</td><td>CUST181</td><td>2024-08-30</td><td>ORD1908</td><td>248.26</td></tr><tr><td>967</td><td>CUST181</td><td>2024-08-06</td><td>ORD1966</td><td>249.55</td></tr><tr><td>978</td><td>CUST181</td><td>2024-10-13</td><td>ORD1977</td><td>177.87</td></tr><tr><td>494</td><td>CUST182</td><td>2024-04-24</td><td>ORD1493</td><td>160.06</td></tr><tr><td>495</td><td>CUST182</td><td>2024-05-18</td><td>ORD1494</td><td>52.42</td></tr><tr><td>563</td><td>CUST182</td><td>2024-05-26</td><td>ORD1562</td><td>48.23</td></tr><tr><td>604</td><td>CUST182</td><td>2024-01-25</td><td>ORD1603</td><td>275.26</td></tr><tr><td>615</td><td>CUST182</td><td>2024-10-17</td><td>ORD1614</td><td>133.93</td></tr><tr><td>820</td><td>CUST182</td><td>2024-04-01</td><td>ORD1819</td><td>231.73</td></tr><tr><td>496</td><td>CUST183</td><td>2024-04-23</td><td>ORD1495</td><td>27.49</td></tr><tr><td>497</td><td>CUST183</td><td>2024-06-08</td><td>ORD1496</td><td>237.47</td></tr><tr><td>498</td><td>CUST183</td><td>2024-07-13</td><td>ORD1497</td><td>120.93</td></tr><tr><td>499</td><td>CUST183</td><td>2024-09-28</td><td>ORD1498</td><td>64.16</td></tr><tr><td>573</td><td>CUST183</td><td>2024-11-17</td><td>ORD1572</td><td>241.42</td></tr><tr><td>610</td><td>CUST183</td><td>2024-12-05</td><td>ORD1609</td><td>284.14</td></tr><tr><td>500</td><td>CUST184</td><td>2024-02-25</td><td>ORD1499</td><td>213.92</td></tr><tr><td>501</td><td>CUST184</td><td>2024-04-02</td><td>ORD1500</td><td>187.73</td></tr><tr><td>698</td><td>CUST184</td><td>2024-10-13</td><td>ORD1697</td><td>45.76</td></tr><tr><td>502</td><td>CUST185</td><td>2024-03-26</td><td>ORD1501</td><td>71.1</td></tr><tr><td>503</td><td>CUST185</td><td>2024-04-04</td><td>ORD1502</td><td>99.9</td></tr><tr><td>504</td><td>CUST185</td><td>2024-06-11</td><td>ORD1503</td><td>103.44</td></tr><tr><td>656</td><td>CUST185</td><td>2024-03-04</td><td>ORD1655</td><td>237.37</td></tr><tr><td>709</td><td>CUST185</td><td>2024-08-27</td><td>ORD1708</td><td>51.61</td></tr><tr><td>950</td><td>CUST185</td><td>2024-05-12</td><td>ORD1949</td><td>30.1</td></tr><tr><td>505</td><td>CUST186</td><td>2024-03-25</td><td>ORD1504</td><td>160.23</td></tr><tr><td>506</td><td>CUST186</td><td>2024-04-14</td><td>ORD1505</td><td>92.91</td></tr><tr><td>507</td><td>CUST186</td><td>2024-07-19</td><td>ORD1506</td><td>271.96</td></tr><tr><td>559</td><td>CUST186</td><td>2024-02-21</td><td>ORD1558</td><td>16.83</td></tr><tr><td>866</td><td>CUST186</td><td>2024-07-26</td><td>ORD1865</td><td>233.84</td></tr><tr><td>870</td><td>CUST186</td><td>2024-02-03</td><td>ORD1869</td><td>258.96</td></tr><tr><td>983</td><td>CUST186</td><td>2024-06-18</td><td>ORD1982</td><td>214.67</td></tr><tr><td>508</td><td>CUST187</td><td>2024-05-28</td><td>ORD1507</td><td>11.75</td></tr><tr><td>509</td><td>CUST187</td><td>2024-06-29</td><td>ORD1508</td><td>64.94</td></tr><tr><td>510</td><td>CUST187</td><td>2024-09-17</td><td>ORD1509</td><td>174.36</td></tr><tr><td>697</td><td>CUST187</td><td>2024-08-18</td><td>ORD1696</td><td>16.99</td></tr><tr><td>842</td><td>CUST187</td><td>2024-03-13</td><td>ORD1841</td><td>249.52</td></tr><tr><td>511</td><td>CUST188</td><td>2024-06-14</td><td>ORD1510</td><td>167.96</td></tr><tr><td>512</td><td>CUST188</td><td>2024-08-25</td><td>ORD1511</td><td>254.53</td></tr><tr><td>513</td><td>CUST188</td><td>2024-10-19</td><td>ORD1512</td><td>86.24</td></tr><tr><td>514</td><td>CUST188</td><td>2024-11-07</td><td>ORD1513</td><td>31.87</td></tr><tr><td>597</td><td>CUST188</td><td>2024-05-11</td><td>ORD1596</td><td>75.59</td></tr><tr><td>830</td><td>CUST188</td><td>2024-01-06</td><td>ORD1829</td><td>267.01</td></tr><tr><td>910</td><td>CUST188</td><td>2024-11-25</td><td>ORD1909</td><td>227.61</td></tr><tr><td>515</td><td>CUST189</td><td>2024-01-20</td><td>ORD1514</td><td>199.96</td></tr><tr><td>516</td><td>CUST189</td><td>2024-03-06</td><td>ORD1515</td><td>90.63</td></tr><tr><td>517</td><td>CUST189</td><td>2024-06-02</td><td>ORD1516</td><td>249.83</td></tr><tr><td>518</td><td>CUST189</td><td>2024-08-31</td><td>ORD1517</td><td>126.97</td></tr><tr><td>802</td><td>CUST189</td><td>2024-06-28</td><td>ORD1801</td><td>85.97</td></tr><tr><td>905</td><td>CUST189</td><td>2024-02-07</td><td>ORD1904</td><td>41.84</td></tr><tr><td>519</td><td>CUST190</td><td>2024-06-20</td><td>ORD1518</td><td>121.4</td></tr><tr><td>520</td><td>CUST190</td><td>2024-07-27</td><td>ORD1519</td><td>131.58</td></tr><tr><td>726</td><td>CUST190</td><td>2024-02-06</td><td>ORD1725</td><td>168.54</td></tr><tr><td>748</td><td>CUST190</td><td>2024-08-19</td><td>ORD1747</td><td>198.59</td></tr><tr><td>521</td><td>CUST191</td><td>2024-05-07</td><td>ORD1520</td><td>132.97</td></tr><tr><td>522</td><td>CUST191</td><td>2024-06-12</td><td>ORD1521</td><td>83.34</td></tr><tr><td>523</td><td>CUST191</td><td>2024-08-16</td><td>ORD1522</td><td>295.3</td></tr><tr><td>782</td><td>CUST191</td><td>2024-04-03</td><td>ORD1781</td><td>88.67</td></tr><tr><td>966</td><td>CUST191</td><td>2024-04-27</td><td>ORD1965</td><td>55.19</td></tr><tr><td>524</td><td>CUST192</td><td>2024-01-02</td><td>ORD1523</td><td>101.94</td></tr><tr><td>525</td><td>CUST192</td><td>2024-01-24</td><td>ORD1524</td><td>225.34</td></tr><tr><td>526</td><td>CUST192</td><td>2024-03-13</td><td>ORD1525</td><td>145.96</td></tr><tr><td>716</td><td>CUST192</td><td>2024-11-25</td><td>ORD1715</td><td>57.95</td></tr><tr><td>955</td><td>CUST192</td><td>2024-12-01</td><td>ORD1954</td><td>275.32</td></tr><tr><td>527</td><td>CUST193</td><td>2024-05-11</td><td>ORD1526</td><td>225.6</td></tr><tr><td>528</td><td>CUST193</td><td>2024-06-22</td><td>ORD1527</td><td>19.89</td></tr><tr><td>529</td><td>CUST193</td><td>2024-08-08</td><td>ORD1528</td><td>205.87</td></tr><tr><td>530</td><td>CUST193</td><td>2024-11-17</td><td>ORD1529</td><td>141.22</td></tr><tr><td>555</td><td>CUST193</td><td>2024-08-20</td><td>ORD1554</td><td>105.61</td></tr><tr><td>674</td><td>CUST193</td><td>2024-07-03</td><td>ORD1673</td><td>204.31</td></tr><tr><td>531</td><td>CUST194</td><td>2024-04-21</td><td>ORD1530</td><td>261.47</td></tr><tr><td>532</td><td>CUST194</td><td>2024-06-13</td><td>ORD1531</td><td>239.84</td></tr><tr><td>533</td><td>CUST194</td><td>2024-08-12</td><td>ORD1532</td><td>230.38</td></tr><tr><td>534</td><td>CUST194</td><td>2024-11-03</td><td>ORD1533</td><td>145.61</td></tr><tr><td>736</td><td>CUST194</td><td>2024-09-26</td><td>ORD1735</td><td>79.95</td></tr><tr><td>878</td><td>CUST194</td><td>2024-04-10</td><td>ORD1877</td><td>44.18</td></tr><tr><td>535</td><td>CUST195</td><td>2024-04-08</td><td>ORD1534</td><td>10.52</td></tr><tr><td>536</td><td>CUST195</td><td>2024-04-23</td><td>ORD1535</td><td>102.71</td></tr><tr><td>537</td><td>CUST195</td><td>2024-05-18</td><td>ORD1536</td><td>24.01</td></tr><tr><td>538</td><td>CUST195</td><td>2024-06-18</td><td>ORD1537</td><td>265.21</td></tr><tr><td>575</td><td>CUST195</td><td>2024-05-21</td><td>ORD1574</td><td>64.67</td></tr><tr><td>539</td><td>CUST196</td><td>2024-06-24</td><td>ORD1538</td><td>75.81</td></tr><tr><td>540</td><td>CUST196</td><td>2024-07-16</td><td>ORD1539</td><td>107.84</td></tr><tr><td>541</td><td>CUST196</td><td>2024-10-04</td><td>ORD1540</td><td>43.07</td></tr><tr><td>679</td><td>CUST196</td><td>2024-12-06</td><td>ORD1678</td><td>277.6</td></tr><tr><td>720</td><td>CUST196</td><td>2024-08-07</td><td>ORD1719</td><td>181.34</td></tr><tr><td>776</td><td>CUST196</td><td>2024-08-21</td><td>ORD1775</td><td>294.68</td></tr><tr><td>784</td><td>CUST196</td><td>2024-03-02</td><td>ORD1783</td><td>79.44</td></tr><tr><td>542</td><td>CUST197</td><td>2024-03-15</td><td>ORD1541</td><td>138.03</td></tr><tr><td>543</td><td>CUST197</td><td>2024-05-12</td><td>ORD1542</td><td>89.6</td></tr><tr><td>826</td><td>CUST197</td><td>2024-09-23</td><td>ORD1825</td><td>133.08</td></tr><tr><td>941</td><td>CUST197</td><td>2024-06-13</td><td>ORD1940</td><td>35.8</td></tr><tr><td>544</td><td>CUST198</td><td>2024-03-30</td><td>ORD1543</td><td>152.38</td></tr><tr><td>545</td><td>CUST198</td><td>2024-05-20</td><td>ORD1544</td><td>114.36</td></tr><tr><td>761</td><td>CUST198</td><td>2024-01-21</td><td>ORD1760</td><td>218.22</td></tr><tr><td>914</td><td>CUST198</td><td>2024-10-27</td><td>ORD1913</td><td>206.48</td></tr><tr><td>963</td><td>CUST198</td><td>2024-02-29</td><td>ORD1962</td><td>136.51</td></tr><tr><td>546</td><td>CUST199</td><td>2024-03-19</td><td>ORD1545</td><td>189.82</td></tr><tr><td>547</td><td>CUST199</td><td>2024-04-22</td><td>ORD1546</td><td>140.59</td></tr><tr><td>548</td><td>CUST199</td><td>2024-07-17</td><td>ORD1547</td><td>237.19</td></tr><tr><td>549</td><td>CUST199</td><td>2024-09-05</td><td>ORD1548</td><td>25.27</td></tr><tr><td>624</td><td>CUST199</td><td>2024-06-15</td><td>ORD1623</td><td>274.44</td></tr><tr><td>815</td><td>CUST199</td><td>2024-09-30</td><td>ORD1814</td><td>283.5</td></tr><tr><td>550</td><td>CUST200</td><td>2024-02-14</td><td>ORD1549</td><td>41.99</td></tr><tr><td>551</td><td>CUST200</td><td>2024-03-02</td><td>ORD1550</td><td>126.87</td></tr><tr><td>552</td><td>CUST200</td><td>2024-04-27</td><td>ORD1551</td><td>159.89</td></tr><tr><td>613</td><td>CUST200</td><td>2024-01-29</td><td>ORD1612</td><td>261.34</td></tr></tbody></table></div>"
      ]
     },
     "metadata": {
      "application/vnd.databricks.v1+output": {
       "addedWidgets": {},
       "aggData": [],
       "aggError": "",
       "aggOverflow": false,
       "aggSchema": [],
       "aggSeriesLimitReached": false,
       "aggType": "",
       "arguments": {},
       "columnCustomDisplayInfos": {},
       "data": [
        [
         1,
         "CUST001",
         "2024-06-02",
         "ORD1000",
         76.93
        ],
        [
         2,
         "CUST001",
         "2024-07-26",
         "ORD1001",
         251.35
        ],
        [
         3,
         "CUST001",
         "2024-10-12",
         "ORD1002",
         135.91
        ],
        [
         797,
         "CUST001",
         "2024-11-15",
         "ORD1796",
         15.89
        ],
        [
         973,
         "CUST001",
         "2024-04-12",
         "ORD1972",
         295.76
        ],
        [
         4,
         "CUST002",
         "2024-04-11",
         "ORD1003",
         217.41
        ],
        [
         5,
         "CUST002",
         "2024-05-24",
         "ORD1004",
         291.87
        ],
        [
         887,
         "CUST002",
         "2024-07-22",
         "ORD1886",
         272.75
        ],
        [
         6,
         "CUST003",
         "2024-05-28",
         "ORD1005",
         23.09
        ],
        [
         7,
         "CUST003",
         "2024-07-18",
         "ORD1006",
         134.71
        ],
        [
         665,
         "CUST003",
         "2024-01-14",
         "ORD1664",
         108.68
        ],
        [
         8,
         "CUST004",
         "2024-01-31",
         "ORD1007",
         175.42
        ],
        [
         9,
         "CUST004",
         "2024-02-24",
         "ORD1008",
         240.12
        ],
        [
         785,
         "CUST004",
         "2024-03-31",
         "ORD1784",
         237.31
        ],
        [
         998,
         "CUST004",
         "2024-09-30",
         "ORD1997",
         138.52
        ],
        [
         10,
         "CUST005",
         "2024-03-25",
         "ORD1009",
         254.59
        ],
        [
         11,
         "CUST005",
         "2024-05-19",
         "ORD1010",
         175.63
        ],
        [
         12,
         "CUST005",
         "2024-08-11",
         "ORD1011",
         183.5
        ],
        [
         619,
         "CUST005",
         "2024-03-16",
         "ORD1618",
         220.56
        ],
        [
         732,
         "CUST005",
         "2024-04-04",
         "ORD1731",
         187.63
        ],
        [
         13,
         "CUST006",
         "2024-04-24",
         "ORD1012",
         20.74
        ],
        [
         591,
         "CUST006",
         "2024-01-18",
         "ORD1590",
         60.25
        ],
        [
         754,
         "CUST006",
         "2024-03-31",
         "ORD1753",
         96.06
        ],
        [
         872,
         "CUST006",
         "2024-09-23",
         "ORD1871",
         42.63
        ],
        [
         877,
         "CUST006",
         "2024-06-02",
         "ORD1876",
         186.64
        ],
        [
         14,
         "CUST007",
         "2024-03-04",
         "ORD1013",
         246.06
        ],
        [
         15,
         "CUST007",
         "2024-04-18",
         "ORD1014",
         82.0
        ],
        [
         16,
         "CUST007",
         "2024-05-07",
         "ORD1015",
         28.65
        ],
        [
         947,
         "CUST007",
         "2024-02-02",
         "ORD1946",
         24.14
        ],
        [
         17,
         "CUST008",
         "2024-05-31",
         "ORD1016",
         143.88
        ],
        [
         18,
         "CUST008",
         "2024-07-15",
         "ORD1017",
         133.69
        ],
        [
         19,
         "CUST008",
         "2024-09-08",
         "ORD1018",
         170.68
        ],
        [
         791,
         "CUST008",
         "2024-01-24",
         "ORD1790",
         124.36
        ],
        [
         948,
         "CUST008",
         "2024-07-17",
         "ORD1947",
         113.4
        ],
        [
         20,
         "CUST009",
         "2024-06-01",
         "ORD1019",
         130.27
        ],
        [
         21,
         "CUST009",
         "2024-07-16",
         "ORD1020",
         29.57
        ],
        [
         22,
         "CUST010",
         "2024-03-16",
         "ORD1021",
         274.07
        ],
        [
         23,
         "CUST010",
         "2024-04-20",
         "ORD1022",
         249.51
        ],
        [
         556,
         "CUST010",
         "2024-07-07",
         "ORD1555",
         68.25
        ],
        [
         24,
         "CUST011",
         "2024-02-03",
         "ORD1023",
         99.78
        ],
        [
         25,
         "CUST011",
         "2024-04-03",
         "ORD1024",
         34.27
        ],
        [
         592,
         "CUST011",
         "2024-07-19",
         "ORD1591",
         212.35
        ],
        [
         876,
         "CUST011",
         "2024-06-25",
         "ORD1875",
         118.04
        ],
        [
         899,
         "CUST011",
         "2024-01-07",
         "ORD1898",
         184.31
        ],
        [
         932,
         "CUST011",
         "2024-07-03",
         "ORD1931",
         252.73
        ],
        [
         26,
         "CUST012",
         "2024-02-15",
         "ORD1025",
         190.1
        ],
        [
         27,
         "CUST012",
         "2024-03-04",
         "ORD1026",
         32.55
        ],
        [
         28,
         "CUST012",
         "2024-04-14",
         "ORD1027",
         260.82
        ],
        [
         29,
         "CUST012",
         "2024-05-03",
         "ORD1028",
         71.89
        ],
        [
         792,
         "CUST012",
         "2024-12-13",
         "ORD1791",
         183.23
        ],
        [
         30,
         "CUST013",
         "2024-04-30",
         "ORD1029",
         249.75
        ],
        [
         653,
         "CUST013",
         "2024-10-25",
         "ORD1652",
         18.33
        ],
        [
         655,
         "CUST013",
         "2024-06-23",
         "ORD1654",
         19.1
        ],
        [
         31,
         "CUST014",
         "2024-05-20",
         "ORD1030",
         114.99
        ],
        [
         601,
         "CUST014",
         "2024-08-13",
         "ORD1600",
         155.27
        ],
        [
         635,
         "CUST014",
         "2024-10-24",
         "ORD1634",
         150.89
        ],
        [
         32,
         "CUST015",
         "2024-04-15",
         "ORD1031",
         114.87
        ],
        [
         33,
         "CUST015",
         "2024-06-05",
         "ORD1032",
         207.77
        ],
        [
         34,
         "CUST015",
         "2024-07-03",
         "ORD1033",
         168.28
        ],
        [
         751,
         "CUST015",
         "2024-12-02",
         "ORD1750",
         252.72
        ],
        [
         35,
         "CUST016",
         "2024-01-22",
         "ORD1034",
         152.75
        ],
        [
         36,
         "CUST016",
         "2024-03-11",
         "ORD1035",
         187.96
        ],
        [
         37,
         "CUST016",
         "2024-06-16",
         "ORD1036",
         24.55
        ],
        [
         813,
         "CUST016",
         "2024-09-13",
         "ORD1812",
         171.09
        ],
        [
         925,
         "CUST016",
         "2024-12-30",
         "ORD1924",
         206.41
        ],
        [
         38,
         "CUST017",
         "2024-01-11",
         "ORD1037",
         103.17
        ],
        [
         39,
         "CUST017",
         "2024-02-28",
         "ORD1038",
         54.39
        ],
        [
         668,
         "CUST017",
         "2024-05-03",
         "ORD1667",
         192.11
        ],
        [
         40,
         "CUST018",
         "2024-05-02",
         "ORD1039",
         105.17
        ],
        [
         41,
         "CUST018",
         "2024-06-15",
         "ORD1040",
         86.75
        ],
        [
         42,
         "CUST018",
         "2024-08-06",
         "ORD1041",
         11.85
        ],
        [
         667,
         "CUST018",
         "2024-04-30",
         "ORD1666",
         138.85
        ],
        [
         689,
         "CUST018",
         "2024-11-23",
         "ORD1688",
         145.37
        ],
        [
         805,
         "CUST018",
         "2024-04-01",
         "ORD1804",
         44.82
        ],
        [
         859,
         "CUST018",
         "2024-08-07",
         "ORD1858",
         281.17
        ],
        [
         43,
         "CUST019",
         "2024-01-20",
         "ORD1042",
         92.93
        ],
        [
         44,
         "CUST019",
         "2024-04-05",
         "ORD1043",
         38.57
        ],
        [
         45,
         "CUST019",
         "2024-05-12",
         "ORD1044",
         80.89
        ],
        [
         568,
         "CUST019",
         "2024-08-24",
         "ORD1567",
         83.77
        ],
        [
         569,
         "CUST019",
         "2024-07-29",
         "ORD1568",
         59.75
        ],
        [
         574,
         "CUST019",
         "2024-08-02",
         "ORD1573",
         266.13
        ],
        [
         636,
         "CUST019",
         "2024-02-06",
         "ORD1635",
         205.4
        ],
        [
         646,
         "CUST019",
         "2024-06-20",
         "ORD1645",
         19.39
        ],
        [
         683,
         "CUST019",
         "2024-02-04",
         "ORD1682",
         57.7
        ],
        [
         746,
         "CUST019",
         "2024-09-11",
         "ORD1745",
         209.42
        ],
        [
         810,
         "CUST019",
         "2024-03-09",
         "ORD1809",
         59.54
        ],
        [
         902,
         "CUST019",
         "2024-10-08",
         "ORD1901",
         118.21
        ],
        [
         903,
         "CUST019",
         "2024-07-08",
         "ORD1902",
         59.7
        ],
        [
         46,
         "CUST020",
         "2024-05-06",
         "ORD1045",
         113.76
        ],
        [
         47,
         "CUST020",
         "2024-07-01",
         "ORD1046",
         55.3
        ],
        [
         48,
         "CUST020",
         "2024-07-10",
         "ORD1047",
         251.42
        ],
        [
         740,
         "CUST020",
         "2024-05-04",
         "ORD1739",
         38.66
        ],
        [
         873,
         "CUST020",
         "2024-01-13",
         "ORD1872",
         27.79
        ],
        [
         889,
         "CUST020",
         "2024-08-02",
         "ORD1888",
         296.43
        ],
        [
         49,
         "CUST021",
         "2024-03-11",
         "ORD1048",
         59.85
        ],
        [
         699,
         "CUST021",
         "2024-07-10",
         "ORD1698",
         237.89
        ],
        [
         725,
         "CUST021",
         "2024-03-16",
         "ORD1724",
         191.85
        ],
        [
         50,
         "CUST022",
         "2024-06-05",
         "ORD1049",
         215.68
        ],
        [
         51,
         "CUST022",
         "2024-08-01",
         "ORD1050",
         114.35
        ],
        [
         52,
         "CUST022",
         "2024-10-11",
         "ORD1051",
         100.65
        ],
        [
         717,
         "CUST022",
         "2024-11-17",
         "ORD1716",
         213.08
        ],
        [
         53,
         "CUST023",
         "2024-02-15",
         "ORD1052",
         261.6
        ],
        [
         638,
         "CUST023",
         "2024-12-14",
         "ORD1637",
         29.42
        ],
        [
         647,
         "CUST023",
         "2024-11-01",
         "ORD1646",
         165.73
        ],
        [
         943,
         "CUST023",
         "2024-09-15",
         "ORD1942",
         287.86
        ],
        [
         54,
         "CUST024",
         "2024-05-18",
         "ORD1053",
         184.59
        ],
        [
         55,
         "CUST024",
         "2024-06-29",
         "ORD1054",
         164.36
        ],
        [
         852,
         "CUST024",
         "2024-10-30",
         "ORD1851",
         294.95
        ],
        [
         942,
         "CUST024",
         "2024-03-07",
         "ORD1941",
         64.81
        ],
        [
         56,
         "CUST025",
         "2024-06-22",
         "ORD1055",
         178.71
        ],
        [
         57,
         "CUST025",
         "2024-08-14",
         "ORD1056",
         248.72
        ],
        [
         58,
         "CUST025",
         "2024-11-20",
         "ORD1057",
         84.8
        ],
        [
         742,
         "CUST025",
         "2024-02-29",
         "ORD1741",
         60.79
        ],
        [
         962,
         "CUST025",
         "2024-05-07",
         "ORD1961",
         179.11
        ],
        [
         970,
         "CUST025",
         "2024-02-28",
         "ORD1969",
         147.39
        ],
        [
         59,
         "CUST026",
         "2024-02-14",
         "ORD1058",
         150.74
        ],
        [
         60,
         "CUST027",
         "2024-03-21",
         "ORD1059",
         73.74
        ],
        [
         61,
         "CUST027",
         "2024-04-27",
         "ORD1060",
         127.29
        ],
        [
         62,
         "CUST027",
         "2024-07-18",
         "ORD1061",
         289.54
        ],
        [
         770,
         "CUST027",
         "2024-06-23",
         "ORD1769",
         24.51
        ],
        [
         63,
         "CUST028",
         "2024-06-20",
         "ORD1062",
         224.37
        ],
        [
         64,
         "CUST028",
         "2024-07-28",
         "ORD1063",
         196.03
        ],
        [
         65,
         "CUST028",
         "2024-08-21",
         "ORD1064",
         155.96
        ],
        [
         704,
         "CUST028",
         "2024-11-08",
         "ORD1703",
         285.79
        ],
        [
         839,
         "CUST028",
         "2024-11-08",
         "ORD1838",
         274.68
        ],
        [
         961,
         "CUST028",
         "2024-11-29",
         "ORD1960",
         185.44
        ],
        [
         66,
         "CUST029",
         "2024-02-07",
         "ORD1065",
         186.26
        ],
        [
         67,
         "CUST029",
         "2024-03-28",
         "ORD1066",
         262.35
        ],
        [
         68,
         "CUST029",
         "2024-06-01",
         "ORD1067",
         196.19
        ],
        [
         904,
         "CUST029",
         "2024-11-18",
         "ORD1903",
         163.42
        ],
        [
         994,
         "CUST029",
         "2024-03-06",
         "ORD1993",
         288.93
        ],
        [
         69,
         "CUST030",
         "2024-01-01",
         "ORD1068",
         198.83
        ],
        [
         70,
         "CUST030",
         "2024-01-27",
         "ORD1069",
         93.1
        ],
        [
         71,
         "CUST030",
         "2024-03-21",
         "ORD1070",
         89.58
        ],
        [
         690,
         "CUST030",
         "2024-08-16",
         "ORD1689",
         244.95
        ],
        [
         72,
         "CUST031",
         "2024-06-26",
         "ORD1071",
         91.59
        ],
        [
         73,
         "CUST031",
         "2024-08-12",
         "ORD1072",
         182.29
        ],
        [
         937,
         "CUST031",
         "2024-03-14",
         "ORD1936",
         191.72
        ],
        [
         986,
         "CUST031",
         "2024-12-19",
         "ORD1985",
         270.49
        ],
        [
         74,
         "CUST032",
         "2024-06-26",
         "ORD1073",
         94.89
        ],
        [
         75,
         "CUST032",
         "2024-07-16",
         "ORD1074",
         245.47
        ],
        [
         660,
         "CUST032",
         "2024-11-20",
         "ORD1659",
         141.42
        ],
        [
         671,
         "CUST032",
         "2024-05-13",
         "ORD1670",
         44.98
        ],
        [
         856,
         "CUST032",
         "2024-02-02",
         "ORD1855",
         279.39
        ],
        [
         957,
         "CUST032",
         "2024-10-14",
         "ORD1956",
         184.83
        ],
        [
         981,
         "CUST032",
         "2024-06-21",
         "ORD1980",
         118.35
        ],
        [
         76,
         "CUST033",
         "2024-02-13",
         "ORD1075",
         49.92
        ],
        [
         77,
         "CUST033",
         "2024-04-13",
         "ORD1076",
         272.6
        ],
        [
         78,
         "CUST033",
         "2024-07-13",
         "ORD1077",
         55.3
        ],
        [
         641,
         "CUST033",
         "2024-11-09",
         "ORD1640",
         54.42
        ],
        [
         879,
         "CUST033",
         "2024-12-08",
         "ORD1878",
         208.43
        ],
        [
         79,
         "CUST034",
         "2024-03-13",
         "ORD1078",
         212.59
        ],
        [
         80,
         "CUST034",
         "2024-04-18",
         "ORD1079",
         293.15
        ],
        [
         81,
         "CUST034",
         "2024-05-15",
         "ORD1080",
         143.74
        ],
        [
         82,
         "CUST034",
         "2024-06-10",
         "ORD1081",
         245.76
        ],
        [
         83,
         "CUST034",
         "2024-07-03",
         "ORD1082",
         116.0
        ],
        [
         554,
         "CUST034",
         "2024-01-14",
         "ORD1553",
         35.53
        ],
        [
         918,
         "CUST034",
         "2024-08-18",
         "ORD1917",
         240.76
        ],
        [
         84,
         "CUST035",
         "2024-06-20",
         "ORD1083",
         131.91
        ],
        [
         85,
         "CUST035",
         "2024-08-08",
         "ORD1084",
         220.15
        ],
        [
         86,
         "CUST035",
         "2024-09-21",
         "ORD1085",
         48.43
        ],
        [
         676,
         "CUST035",
         "2024-05-31",
         "ORD1675",
         162.18
        ],
        [
         678,
         "CUST035",
         "2024-09-02",
         "ORD1677",
         284.87
        ],
        [
         959,
         "CUST035",
         "2024-12-19",
         "ORD1958",
         150.92
        ],
        [
         984,
         "CUST035",
         "2024-09-11",
         "ORD1983",
         166.27
        ],
        [
         87,
         "CUST036",
         "2024-05-02",
         "ORD1086",
         15.53
        ],
        [
         88,
         "CUST036",
         "2024-06-20",
         "ORD1087",
         252.59
        ],
        [
         999,
         "CUST036",
         "2024-07-31",
         "ORD1998",
         63.14
        ],
        [
         89,
         "CUST037",
         "2024-05-14",
         "ORD1088",
         162.14
        ],
        [
         90,
         "CUST037",
         "2024-06-24",
         "ORD1089",
         100.94
        ],
        [
         91,
         "CUST037",
         "2024-09-04",
         "ORD1090",
         26.47
        ],
        [
         92,
         "CUST037",
         "2024-12-05",
         "ORD1091",
         199.85
        ],
        [
         562,
         "CUST037",
         "2024-06-14",
         "ORD1561",
         44.11
        ],
        [
         654,
         "CUST037",
         "2024-10-11",
         "ORD1653",
         72.65
        ],
        [
         93,
         "CUST038",
         "2024-03-27",
         "ORD1092",
         232.39
        ],
        [
         94,
         "CUST038",
         "2024-05-07",
         "ORD1093",
         45.88
        ],
        [
         95,
         "CUST038",
         "2024-05-29",
         "ORD1094",
         109.18
        ],
        [
         863,
         "CUST038",
         "2024-01-01",
         "ORD1862",
         183.15
        ],
        [
         96,
         "CUST039",
         "2024-01-16",
         "ORD1095",
         230.15
        ],
        [
         677,
         "CUST039",
         "2024-07-11",
         "ORD1676",
         75.49
        ],
        [
         867,
         "CUST039",
         "2024-02-17",
         "ORD1866",
         46.08
        ],
        [
         874,
         "CUST039",
         "2024-07-16",
         "ORD1873",
         271.96
        ],
        [
         996,
         "CUST039",
         "2024-08-14",
         "ORD1995",
         229.34
        ],
        [
         97,
         "CUST040",
         "2024-02-06",
         "ORD1096",
         221.66
        ],
        [
         98,
         "CUST040",
         "2024-03-01",
         "ORD1097",
         205.13
        ],
        [
         99,
         "CUST040",
         "2024-04-21",
         "ORD1098",
         152.16
        ],
        [
         100,
         "CUST041",
         "2024-06-16",
         "ORD1099",
         13.27
        ],
        [
         101,
         "CUST041",
         "2024-07-17",
         "ORD1100",
         295.35
        ],
        [
         553,
         "CUST041",
         "2024-01-25",
         "ORD1552",
         75.4
        ],
        [
         649,
         "CUST041",
         "2024-06-26",
         "ORD1648",
         81.45
        ],
        [
         685,
         "CUST041",
         "2024-11-15",
         "ORD1684",
         274.45
        ],
        [
         724,
         "CUST041",
         "2024-07-13",
         "ORD1723",
         218.79
        ],
        [
         102,
         "CUST042",
         "2024-05-27",
         "ORD1101",
         299.21
        ],
        [
         103,
         "CUST042",
         "2024-06-17",
         "ORD1102",
         84.29
        ],
        [
         104,
         "CUST042",
         "2024-07-24",
         "ORD1103",
         12.6
        ],
        [
         997,
         "CUST042",
         "2024-04-07",
         "ORD1996",
         202.12
        ],
        [
         105,
         "CUST043",
         "2024-04-27",
         "ORD1104",
         106.85
        ],
        [
         106,
         "CUST043",
         "2024-05-08",
         "ORD1105",
         285.88
        ],
        [
         107,
         "CUST043",
         "2024-07-27",
         "ORD1106",
         123.87
        ],
        [
         841,
         "CUST043",
         "2024-06-17",
         "ORD1840",
         291.68
        ],
        [
         900,
         "CUST043",
         "2024-06-08",
         "ORD1899",
         64.11
        ],
        [
         1000,
         "CUST043",
         "2024-02-06",
         "ORD1999",
         152.45
        ],
        [
         108,
         "CUST044",
         "2024-06-02",
         "ORD1107",
         249.66
        ],
        [
         673,
         "CUST044",
         "2024-07-17",
         "ORD1672",
         244.35
        ],
        [
         783,
         "CUST044",
         "2024-08-30",
         "ORD1782",
         292.28
        ],
        [
         940,
         "CUST044",
         "2024-09-07",
         "ORD1939",
         218.56
        ],
        [
         109,
         "CUST045",
         "2024-01-29",
         "ORD1108",
         156.8
        ],
        [
         110,
         "CUST045",
         "2024-02-11",
         "ORD1109",
         157.58
        ],
        [
         111,
         "CUST045",
         "2024-04-12",
         "ORD1110",
         204.21
        ],
        [
         112,
         "CUST045",
         "2024-04-21",
         "ORD1111",
         165.22
        ],
        [
         113,
         "CUST045",
         "2024-06-19",
         "ORD1112",
         256.37
        ],
        [
         643,
         "CUST045",
         "2024-12-18",
         "ORD1642",
         234.34
        ],
        [
         644,
         "CUST045",
         "2024-11-19",
         "ORD1643",
         209.25
        ],
        [
         884,
         "CUST045",
         "2024-04-30",
         "ORD1883",
         138.53
        ],
        [
         114,
         "CUST046",
         "2024-01-28",
         "ORD1113",
         170.98
        ],
        [
         115,
         "CUST046",
         "2024-02-18",
         "ORD1114",
         235.4
        ],
        [
         116,
         "CUST046",
         "2024-03-30",
         "ORD1115",
         245.42
        ],
        [
         117,
         "CUST047",
         "2024-05-08",
         "ORD1116",
         242.78
        ],
        [
         118,
         "CUST047",
         "2024-05-24",
         "ORD1117",
         194.63
        ],
        [
         119,
         "CUST047",
         "2024-06-05",
         "ORD1118",
         226.69
        ],
        [
         120,
         "CUST048",
         "2024-06-28",
         "ORD1119",
         121.12
        ],
        [
         121,
         "CUST048",
         "2024-07-15",
         "ORD1120",
         187.71
        ],
        [
         587,
         "CUST048",
         "2024-10-20",
         "ORD1586",
         127.13
        ],
        [
         700,
         "CUST048",
         "2024-08-30",
         "ORD1699",
         58.78
        ],
        [
         965,
         "CUST048",
         "2024-04-20",
         "ORD1964",
         97.96
        ],
        [
         122,
         "CUST049",
         "2024-04-30",
         "ORD1121",
         205.67
        ],
        [
         123,
         "CUST049",
         "2024-06-06",
         "ORD1122",
         10.83
        ],
        [
         124,
         "CUST049",
         "2024-07-22",
         "ORD1123",
         263.41
        ],
        [
         125,
         "CUST049",
         "2024-08-22",
         "ORD1124",
         134.16
        ],
        [
         836,
         "CUST049",
         "2024-03-12",
         "ORD1835",
         234.99
        ],
        [
         985,
         "CUST049",
         "2024-05-24",
         "ORD1984",
         228.71
        ],
        [
         126,
         "CUST050",
         "2024-02-06",
         "ORD1125",
         160.82
        ],
        [
         127,
         "CUST050",
         "2024-02-27",
         "ORD1126",
         163.78
        ],
        [
         128,
         "CUST050",
         "2024-06-05",
         "ORD1127",
         188.31
        ],
        [
         738,
         "CUST050",
         "2024-12-08",
         "ORD1737",
         224.51
        ],
        [
         964,
         "CUST050",
         "2024-09-03",
         "ORD1963",
         217.99
        ],
        [
         129,
         "CUST051",
         "2024-02-15",
         "ORD1128",
         44.49
        ],
        [
         130,
         "CUST051",
         "2024-04-08",
         "ORD1129",
         291.21
        ],
        [
         131,
         "CUST051",
         "2024-04-24",
         "ORD1130",
         274.03
        ],
        [
         557,
         "CUST051",
         "2024-09-12",
         "ORD1556",
         167.7
        ],
        [
         581,
         "CUST051",
         "2024-11-22",
         "ORD1580",
         200.46
        ],
        [
         773,
         "CUST051",
         "2024-12-12",
         "ORD1772",
         70.8
        ],
        [
         833,
         "CUST051",
         "2024-12-09",
         "ORD1832",
         220.77
        ],
        [
         132,
         "CUST052",
         "2024-06-25",
         "ORD1131",
         154.24
        ],
        [
         133,
         "CUST052",
         "2024-09-16",
         "ORD1132",
         88.62
        ],
        [
         572,
         "CUST052",
         "2024-04-02",
         "ORD1571",
         131.13
        ],
        [
         713,
         "CUST052",
         "2024-07-01",
         "ORD1712",
         63.92
        ],
        [
         894,
         "CUST052",
         "2024-05-19",
         "ORD1893",
         152.46
        ],
        [
         913,
         "CUST052",
         "2024-12-14",
         "ORD1912",
         61.15
        ],
        [
         134,
         "CUST053",
         "2024-02-13",
         "ORD1133",
         95.05
        ],
        [
         135,
         "CUST053",
         "2024-03-29",
         "ORD1134",
         296.32
        ],
        [
         136,
         "CUST053",
         "2024-06-26",
         "ORD1135",
         16.79
        ],
        [
         634,
         "CUST053",
         "2024-03-07",
         "ORD1633",
         60.75
        ],
        [
         137,
         "CUST054",
         "2024-05-15",
         "ORD1136",
         155.75
        ],
        [
         138,
         "CUST054",
         "2024-05-26",
         "ORD1137",
         136.15
        ],
        [
         811,
         "CUST054",
         "2024-01-09",
         "ORD1810",
         52.64
        ],
        [
         139,
         "CUST055",
         "2024-02-03",
         "ORD1138",
         79.51
        ],
        [
         140,
         "CUST055",
         "2024-02-27",
         "ORD1139",
         185.71
        ],
        [
         141,
         "CUST055",
         "2024-05-15",
         "ORD1140",
         32.14
        ],
        [
         774,
         "CUST055",
         "2024-03-24",
         "ORD1773",
         190.85
        ],
        [
         908,
         "CUST055",
         "2024-04-27",
         "ORD1907",
         11.31
        ],
        [
         987,
         "CUST055",
         "2024-03-09",
         "ORD1986",
         273.78
        ],
        [
         142,
         "CUST056",
         "2024-04-29",
         "ORD1141",
         162.57
        ],
        [
         143,
         "CUST056",
         "2024-05-16",
         "ORD1142",
         78.77
        ],
        [
         144,
         "CUST056",
         "2024-06-30",
         "ORD1143",
         121.11
        ],
        [
         145,
         "CUST056",
         "2024-07-24",
         "ORD1144",
         208.93
        ],
        [
         670,
         "CUST056",
         "2024-05-01",
         "ORD1669",
         88.89
        ],
        [
         845,
         "CUST056",
         "2024-10-26",
         "ORD1844",
         284.45
        ],
        [
         860,
         "CUST056",
         "2024-06-29",
         "ORD1859",
         154.28
        ],
        [
         880,
         "CUST056",
         "2024-05-21",
         "ORD1879",
         153.16
        ],
        [
         146,
         "CUST057",
         "2024-05-26",
         "ORD1145",
         149.05
        ],
        [
         147,
         "CUST057",
         "2024-07-05",
         "ORD1146",
         154.07
        ],
        [
         148,
         "CUST057",
         "2024-08-27",
         "ORD1147",
         234.24
        ],
        [
         659,
         "CUST057",
         "2024-01-16",
         "ORD1658",
         253.23
        ],
        [
         718,
         "CUST057",
         "2024-12-20",
         "ORD1717",
         87.54
        ],
        [
         796,
         "CUST057",
         "2024-05-01",
         "ORD1795",
         165.6
        ],
        [
         835,
         "CUST057",
         "2024-07-20",
         "ORD1834",
         290.98
        ],
        [
         890,
         "CUST057",
         "2024-06-06",
         "ORD1889",
         271.88
        ],
        [
         149,
         "CUST058",
         "2024-06-20",
         "ORD1148",
         96.76
        ],
        [
         150,
         "CUST058",
         "2024-07-23",
         "ORD1149",
         159.2
        ],
        [
         151,
         "CUST058",
         "2024-08-12",
         "ORD1150",
         121.28
        ],
        [
         806,
         "CUST058",
         "2024-09-20",
         "ORD1805",
         262.15
        ],
        [
         929,
         "CUST058",
         "2024-11-12",
         "ORD1928",
         199.59
        ],
        [
         152,
         "CUST059",
         "2024-03-27",
         "ORD1151",
         236.88
        ],
        [
         153,
         "CUST059",
         "2024-04-26",
         "ORD1152",
         201.22
        ],
        [
         154,
         "CUST059",
         "2024-05-08",
         "ORD1153",
         152.34
        ],
        [
         155,
         "CUST059",
         "2024-06-08",
         "ORD1154",
         171.73
        ],
        [
         586,
         "CUST059",
         "2024-02-21",
         "ORD1585",
         258.18
        ],
        [
         731,
         "CUST059",
         "2024-07-01",
         "ORD1730",
         273.79
        ],
        [
         882,
         "CUST059",
         "2024-03-12",
         "ORD1881",
         72.49
        ],
        [
         156,
         "CUST060",
         "2024-03-24",
         "ORD1155",
         191.04
        ],
        [
         157,
         "CUST060",
         "2024-04-13",
         "ORD1156",
         31.27
        ],
        [
         631,
         "CUST060",
         "2024-01-10",
         "ORD1630",
         74.3
        ],
        [
         824,
         "CUST060",
         "2024-11-01",
         "ORD1823",
         196.7
        ],
        [
         158,
         "CUST061",
         "2024-05-20",
         "ORD1157",
         72.77
        ],
        [
         159,
         "CUST061",
         "2024-08-06",
         "ORD1158",
         253.33
        ],
        [
         729,
         "CUST061",
         "2024-03-25",
         "ORD1728",
         159.33
        ],
        [
         749,
         "CUST061",
         "2024-01-27",
         "ORD1748",
         181.47
        ],
        [
         781,
         "CUST061",
         "2024-09-09",
         "ORD1780",
         230.68
        ],
        [
         160,
         "CUST062",
         "2024-04-01",
         "ORD1159",
         84.38
        ],
        [
         161,
         "CUST062",
         "2024-05-03",
         "ORD1160",
         73.11
        ],
        [
         558,
         "CUST062",
         "2024-06-21",
         "ORD1557",
         196.55
        ],
        [
         767,
         "CUST062",
         "2024-02-18",
         "ORD1766",
         197.47
        ],
        [
         838,
         "CUST062",
         "2024-06-21",
         "ORD1837",
         187.96
        ],
        [
         862,
         "CUST062",
         "2024-10-19",
         "ORD1861",
         156.49
        ],
        [
         865,
         "CUST062",
         "2024-01-22",
         "ORD1864",
         234.73
        ],
        [
         162,
         "CUST063",
         "2024-06-15",
         "ORD1161",
         159.49
        ],
        [
         163,
         "CUST063",
         "2024-07-17",
         "ORD1162",
         30.76
        ],
        [
         164,
         "CUST063",
         "2024-09-27",
         "ORD1163",
         221.0
        ],
        [
         165,
         "CUST063",
         "2024-10-28",
         "ORD1164",
         93.35
        ],
        [
         977,
         "CUST063",
         "2024-04-19",
         "ORD1976",
         206.52
        ],
        [
         992,
         "CUST063",
         "2024-01-15",
         "ORD1991",
         183.17
        ],
        [
         166,
         "CUST064",
         "2024-06-08",
         "ORD1165",
         277.85
        ],
        [
         167,
         "CUST064",
         "2024-07-17",
         "ORD1166",
         282.28
        ],
        [
         168,
         "CUST065",
         "2024-05-30",
         "ORD1167",
         239.4
        ],
        [
         169,
         "CUST065",
         "2024-07-07",
         "ORD1168",
         177.33
        ],
        [
         170,
         "CUST065",
         "2024-07-24",
         "ORD1169",
         193.65
        ],
        [
         171,
         "CUST065",
         "2024-09-10",
         "ORD1170",
         291.73
        ],
        [
         617,
         "CUST065",
         "2024-10-21",
         "ORD1616",
         19.52
        ],
        [
         858,
         "CUST065",
         "2024-06-30",
         "ORD1857",
         280.66
        ],
        [
         891,
         "CUST065",
         "2024-06-29",
         "ORD1890",
         132.79
        ],
        [
         974,
         "CUST065",
         "2024-01-03",
         "ORD1973",
         294.96
        ],
        [
         172,
         "CUST066",
         "2024-06-26",
         "ORD1171",
         252.2
        ],
        [
         173,
         "CUST066",
         "2024-07-21",
         "ORD1172",
         160.21
        ],
        [
         174,
         "CUST066",
         "2024-08-04",
         "ORD1173",
         187.37
        ],
        [
         175,
         "CUST066",
         "2024-11-16",
         "ORD1174",
         70.98
        ],
        [
         795,
         "CUST066",
         "2024-02-18",
         "ORD1794",
         132.83
        ],
        [
         176,
         "CUST067",
         "2024-02-09",
         "ORD1175",
         149.59
        ],
        [
         177,
         "CUST067",
         "2024-03-25",
         "ORD1176",
         76.04
        ],
        [
         178,
         "CUST067",
         "2024-05-24",
         "ORD1177",
         162.6
        ],
        [
         179,
         "CUST068",
         "2024-02-02",
         "ORD1178",
         204.97
        ],
        [
         180,
         "CUST068",
         "2024-04-12",
         "ORD1179",
         218.42
        ],
        [
         181,
         "CUST068",
         "2024-04-24",
         "ORD1180",
         266.81
        ],
        [
         584,
         "CUST068",
         "2024-08-15",
         "ORD1583",
         111.69
        ],
        [
         719,
         "CUST068",
         "2024-05-31",
         "ORD1718",
         176.64
        ],
        [
         182,
         "CUST069",
         "2024-06-03",
         "ORD1181",
         226.29
        ],
        [
         183,
         "CUST069",
         "2024-06-23",
         "ORD1182",
         57.54
        ],
        [
         657,
         "CUST069",
         "2024-01-23",
         "ORD1656",
         118.2
        ],
        [
         756,
         "CUST069",
         "2024-03-02",
         "ORD1755",
         137.86
        ],
        [
         775,
         "CUST069",
         "2024-01-21",
         "ORD1774",
         39.09
        ],
        [
         812,
         "CUST069",
         "2024-10-02",
         "ORD1811",
         275.5
        ],
        [
         936,
         "CUST069",
         "2024-11-29",
         "ORD1935",
         59.84
        ],
        [
         184,
         "CUST070",
         "2024-04-04",
         "ORD1183",
         50.81
        ],
        [
         185,
         "CUST070",
         "2024-04-15",
         "ORD1184",
         34.28
        ],
        [
         186,
         "CUST070",
         "2024-07-03",
         "ORD1185",
         136.58
        ],
        [
         831,
         "CUST070",
         "2024-09-05",
         "ORD1830",
         92.91
        ],
        [
         187,
         "CUST071",
         "2024-04-09",
         "ORD1186",
         160.0
        ],
        [
         188,
         "CUST071",
         "2024-05-04",
         "ORD1187",
         289.2
        ],
        [
         566,
         "CUST071",
         "2024-06-28",
         "ORD1565",
         265.94
        ],
        [
         956,
         "CUST071",
         "2024-02-21",
         "ORD1955",
         244.3
        ],
        [
         995,
         "CUST071",
         "2024-10-28",
         "ORD1994",
         255.34
        ],
        [
         189,
         "CUST072",
         "2024-02-07",
         "ORD1188",
         73.98
        ],
        [
         190,
         "CUST072",
         "2024-02-19",
         "ORD1189",
         268.43
        ],
        [
         191,
         "CUST072",
         "2024-05-02",
         "ORD1190",
         144.95
        ],
        [
         582,
         "CUST072",
         "2024-09-11",
         "ORD1581",
         89.37
        ],
        [
         769,
         "CUST072",
         "2024-06-01",
         "ORD1768",
         126.02
        ],
        [
         844,
         "CUST072",
         "2024-01-02",
         "ORD1843",
         205.79
        ],
        [
         896,
         "CUST072",
         "2024-03-24",
         "ORD1895",
         295.53
        ],
        [
         192,
         "CUST073",
         "2024-05-02",
         "ORD1191",
         61.58
        ],
        [
         193,
         "CUST073",
         "2024-06-27",
         "ORD1192",
         229.41
        ],
        [
         194,
         "CUST073",
         "2024-07-06",
         "ORD1193",
         193.43
        ],
        [
         195,
         "CUST073",
         "2024-10-16",
         "ORD1194",
         133.41
        ],
        [
         868,
         "CUST073",
         "2024-03-26",
         "ORD1867",
         264.24
        ],
        [
         196,
         "CUST074",
         "2024-02-01",
         "ORD1195",
         158.22
        ],
        [
         861,
         "CUST074",
         "2024-10-22",
         "ORD1860",
         154.92
        ],
        [
         197,
         "CUST075",
         "2024-06-22",
         "ORD1196",
         220.03
        ],
        [
         198,
         "CUST075",
         "2024-08-15",
         "ORD1197",
         205.4
        ],
        [
         199,
         "CUST075",
         "2024-10-10",
         "ORD1198",
         181.49
        ],
        [
         200,
         "CUST075",
         "2024-10-18",
         "ORD1199",
         151.61
        ],
        [
         917,
         "CUST075",
         "2024-12-05",
         "ORD1916",
         80.55
        ],
        [
         951,
         "CUST075",
         "2024-04-30",
         "ORD1950",
         102.44
        ],
        [
         201,
         "CUST076",
         "2024-01-14",
         "ORD1200",
         140.0
        ],
        [
         202,
         "CUST076",
         "2024-02-04",
         "ORD1201",
         69.09
        ],
        [
         203,
         "CUST076",
         "2024-02-29",
         "ORD1202",
         61.21
        ],
        [
         675,
         "CUST076",
         "2024-07-10",
         "ORD1674",
         236.43
        ],
        [
         990,
         "CUST076",
         "2024-04-11",
         "ORD1989",
         293.54
        ],
        [
         204,
         "CUST077",
         "2024-06-05",
         "ORD1203",
         153.12
        ],
        [
         205,
         "CUST077",
         "2024-06-25",
         "ORD1204",
         129.36
        ],
        [
         560,
         "CUST077",
         "2024-05-31",
         "ORD1559",
         41.72
        ],
        [
         850,
         "CUST077",
         "2024-12-06",
         "ORD1849",
         150.57
        ],
        [
         926,
         "CUST077",
         "2024-01-26",
         "ORD1925",
         238.28
        ],
        [
         930,
         "CUST077",
         "2024-07-12",
         "ORD1929",
         83.76
        ],
        [
         206,
         "CUST078",
         "2024-04-08",
         "ORD1205",
         130.66
        ],
        [
         207,
         "CUST078",
         "2024-05-03",
         "ORD1206",
         243.03
        ],
        [
         208,
         "CUST078",
         "2024-06-05",
         "ORD1207",
         92.52
        ],
        [
         209,
         "CUST078",
         "2024-08-31",
         "ORD1208",
         122.12
        ],
        [
         714,
         "CUST078",
         "2024-08-25",
         "ORD1713",
         62.89
        ],
        [
         832,
         "CUST078",
         "2024-05-24",
         "ORD1831",
         229.96
        ],
        [
         210,
         "CUST079",
         "2024-04-29",
         "ORD1209",
         127.06
        ],
        [
         211,
         "CUST079",
         "2024-05-26",
         "ORD1210",
         162.7
        ],
        [
         212,
         "CUST079",
         "2024-06-20",
         "ORD1211",
         294.61
        ],
        [
         954,
         "CUST079",
         "2024-12-28",
         "ORD1953",
         167.75
        ],
        [
         213,
         "CUST080",
         "2024-04-13",
         "ORD1212",
         113.88
        ],
        [
         214,
         "CUST080",
         "2024-05-12",
         "ORD1213",
         270.76
        ],
        [
         215,
         "CUST080",
         "2024-05-23",
         "ORD1214",
         75.65
        ],
        [
         216,
         "CUST080",
         "2024-07-17",
         "ORD1215",
         141.22
        ],
        [
         684,
         "CUST080",
         "2024-10-18",
         "ORD1683",
         195.46
        ],
        [
         217,
         "CUST081",
         "2024-03-15",
         "ORD1216",
         19.43
        ],
        [
         218,
         "CUST081",
         "2024-04-28",
         "ORD1217",
         56.03
        ],
        [
         565,
         "CUST081",
         "2024-11-22",
         "ORD1564",
         142.86
        ],
        [
         219,
         "CUST082",
         "2024-04-20",
         "ORD1218",
         68.21
        ],
        [
         220,
         "CUST082",
         "2024-06-04",
         "ORD1219",
         193.35
        ],
        [
         827,
         "CUST082",
         "2024-05-20",
         "ORD1826",
         22.25
        ],
        [
         864,
         "CUST082",
         "2024-09-09",
         "ORD1863",
         28.26
        ],
        [
         221,
         "CUST083",
         "2024-01-23",
         "ORD1220",
         256.07
        ],
        [
         222,
         "CUST083",
         "2024-03-24",
         "ORD1221",
         111.01
        ],
        [
         561,
         "CUST083",
         "2024-12-07",
         "ORD1560",
         188.39
        ],
        [
         790,
         "CUST083",
         "2024-04-07",
         "ORD1789",
         243.53
        ],
        [
         834,
         "CUST083",
         "2024-02-17",
         "ORD1833",
         111.04
        ],
        [
         223,
         "CUST084",
         "2024-04-24",
         "ORD1222",
         13.56
        ],
        [
         224,
         "CUST084",
         "2024-05-18",
         "ORD1223",
         31.07
        ],
        [
         225,
         "CUST084",
         "2024-07-05",
         "ORD1224",
         239.84
        ],
        [
         226,
         "CUST084",
         "2024-07-22",
         "ORD1225",
         164.06
        ],
        [
         567,
         "CUST084",
         "2024-08-08",
         "ORD1566",
         126.15
        ],
        [
         227,
         "CUST085",
         "2024-05-02",
         "ORD1226",
         165.89
        ],
        [
         228,
         "CUST085",
         "2024-06-17",
         "ORD1227",
         299.68
        ],
        [
         229,
         "CUST085",
         "2024-07-03",
         "ORD1228",
         255.17
        ],
        [
         745,
         "CUST085",
         "2024-03-16",
         "ORD1744",
         143.68
        ],
        [
         771,
         "CUST085",
         "2024-06-25",
         "ORD1770",
         292.05
        ],
        [
         230,
         "CUST086",
         "2024-02-08",
         "ORD1229",
         194.87
        ],
        [
         231,
         "CUST086",
         "2024-03-16",
         "ORD1230",
         115.67
        ],
        [
         594,
         "CUST086",
         "2024-09-13",
         "ORD1593",
         292.75
        ],
        [
         232,
         "CUST087",
         "2024-06-18",
         "ORD1231",
         259.98
        ],
        [
         233,
         "CUST087",
         "2024-07-07",
         "ORD1232",
         270.82
        ],
        [
         695,
         "CUST087",
         "2024-01-25",
         "ORD1694",
         286.14
        ],
        [
         234,
         "CUST088",
         "2024-03-05",
         "ORD1233",
         123.62
        ],
        [
         235,
         "CUST088",
         "2024-04-17",
         "ORD1234",
         152.53
        ],
        [
         236,
         "CUST089",
         "2024-01-03",
         "ORD1235",
         223.47
        ],
        [
         237,
         "CUST089",
         "2024-02-28",
         "ORD1236",
         227.51
        ],
        [
         238,
         "CUST089",
         "2024-03-07",
         "ORD1237",
         100.81
        ],
        [
         239,
         "CUST089",
         "2024-04-29",
         "ORD1238",
         39.0
        ],
        [
         588,
         "CUST089",
         "2024-05-29",
         "ORD1587",
         225.77
        ],
        [
         715,
         "CUST089",
         "2024-07-31",
         "ORD1714",
         292.08
        ],
        [
         240,
         "CUST090",
         "2024-03-31",
         "ORD1239",
         151.41
        ],
        [
         241,
         "CUST090",
         "2024-04-17",
         "ORD1240",
         42.51
        ],
        [
         628,
         "CUST090",
         "2024-01-15",
         "ORD1627",
         142.91
        ],
        [
         750,
         "CUST090",
         "2024-12-05",
         "ORD1749",
         257.36
        ],
        [
         242,
         "CUST091",
         "2024-01-31",
         "ORD1241",
         55.92
        ],
        [
         243,
         "CUST091",
         "2024-03-24",
         "ORD1242",
         168.75
        ],
        [
         244,
         "CUST091",
         "2024-06-06",
         "ORD1243",
         23.91
        ],
        [
         598,
         "CUST091",
         "2024-02-14",
         "ORD1597",
         144.59
        ],
        [
         744,
         "CUST091",
         "2024-01-19",
         "ORD1743",
         90.31
        ],
        [
         245,
         "CUST092",
         "2024-01-09",
         "ORD1244",
         256.77
        ],
        [
         669,
         "CUST092",
         "2024-08-04",
         "ORD1668",
         137.08
        ],
        [
         885,
         "CUST092",
         "2024-05-03",
         "ORD1884",
         143.94
        ],
        [
         246,
         "CUST093",
         "2024-05-01",
         "ORD1245",
         99.27
        ],
        [
         247,
         "CUST093",
         "2024-07-10",
         "ORD1246",
         213.72
        ],
        [
         614,
         "CUST093",
         "2024-02-18",
         "ORD1613",
         145.58
        ],
        [
         666,
         "CUST093",
         "2024-08-05",
         "ORD1665",
         39.56
        ],
        [
         846,
         "CUST093",
         "2024-12-18",
         "ORD1845",
         140.97
        ],
        [
         881,
         "CUST093",
         "2024-04-27",
         "ORD1880",
         78.0
        ],
        [
         945,
         "CUST093",
         "2024-09-07",
         "ORD1944",
         239.33
        ],
        [
         248,
         "CUST094",
         "2024-04-03",
         "ORD1247",
         211.67
        ],
        [
         249,
         "CUST095",
         "2024-01-07",
         "ORD1248",
         60.01
        ],
        [
         250,
         "CUST095",
         "2024-01-19",
         "ORD1249",
         157.52
        ],
        [
         251,
         "CUST095",
         "2024-02-09",
         "ORD1250",
         66.09
        ],
        [
         252,
         "CUST096",
         "2024-02-29",
         "ORD1251",
         281.14
        ],
        [
         253,
         "CUST096",
         "2024-03-14",
         "ORD1252",
         37.92
        ],
        [
         254,
         "CUST096",
         "2024-04-01",
         "ORD1253",
         136.25
        ],
        [
         640,
         "CUST096",
         "2024-07-28",
         "ORD1639",
         274.12
        ],
        [
         255,
         "CUST097",
         "2024-04-11",
         "ORD1254",
         277.27
        ],
        [
         256,
         "CUST097",
         "2024-04-20",
         "ORD1255",
         33.01
        ],
        [
         257,
         "CUST097",
         "2024-06-23",
         "ORD1256",
         299.55
        ],
        [
         693,
         "CUST097",
         "2024-07-31",
         "ORD1692",
         95.31
        ],
        [
         821,
         "CUST097",
         "2024-05-27",
         "ORD1820",
         185.94
        ],
        [
         857,
         "CUST097",
         "2024-03-04",
         "ORD1856",
         225.1
        ],
        [
         919,
         "CUST097",
         "2024-08-24",
         "ORD1918",
         79.48
        ],
        [
         258,
         "CUST098",
         "2024-04-17",
         "ORD1257",
         61.11
        ],
        [
         259,
         "CUST098",
         "2024-05-14",
         "ORD1258",
         18.5
        ],
        [
         662,
         "CUST098",
         "2024-03-09",
         "ORD1661",
         257.82
        ],
        [
         722,
         "CUST098",
         "2024-12-04",
         "ORD1721",
         291.24
        ],
        [
         757,
         "CUST098",
         "2024-02-05",
         "ORD1756",
         22.79
        ],
        [
         819,
         "CUST098",
         "2024-03-21",
         "ORD1818",
         241.55
        ],
        [
         822,
         "CUST098",
         "2024-01-30",
         "ORD1821",
         255.71
        ],
        [
         893,
         "CUST098",
         "2024-01-20",
         "ORD1892",
         247.43
        ],
        [
         260,
         "CUST099",
         "2024-06-20",
         "ORD1259",
         171.4
        ],
        [
         261,
         "CUST099",
         "2024-07-24",
         "ORD1260",
         221.17
        ],
        [
         262,
         "CUST099",
         "2024-09-11",
         "ORD1261",
         133.46
        ],
        [
         645,
         "CUST099",
         "2024-12-27",
         "ORD1644",
         83.24
        ],
        [
         664,
         "CUST099",
         "2024-01-30",
         "ORD1663",
         147.8
        ],
        [
         737,
         "CUST099",
         "2024-12-18",
         "ORD1736",
         286.9
        ],
        [
         263,
         "CUST100",
         "2024-03-20",
         "ORD1262",
         23.93
        ],
        [
         264,
         "CUST100",
         "2024-05-05",
         "ORD1263",
         228.97
        ],
        [
         265,
         "CUST100",
         "2024-07-13",
         "ORD1264",
         35.35
        ],
        [
         607,
         "CUST100",
         "2024-10-03",
         "ORD1606",
         184.36
        ],
        [
         680,
         "CUST100",
         "2024-05-06",
         "ORD1679",
         229.55
        ],
        [
         266,
         "CUST101",
         "2024-01-13",
         "ORD1265",
         219.58
        ],
        [
         730,
         "CUST101",
         "2024-10-07",
         "ORD1729",
         18.99
        ],
        [
         779,
         "CUST101",
         "2024-03-10",
         "ORD1778",
         225.92
        ],
        [
         935,
         "CUST101",
         "2024-01-10",
         "ORD1934",
         118.6
        ],
        [
         267,
         "CUST102",
         "2024-06-08",
         "ORD1266",
         162.31
        ],
        [
         268,
         "CUST102",
         "2024-06-23",
         "ORD1267",
         147.91
        ],
        [
         596,
         "CUST102",
         "2024-11-04",
         "ORD1595",
         85.92
        ],
        [
         735,
         "CUST102",
         "2024-07-31",
         "ORD1734",
         202.53
        ],
        [
         837,
         "CUST102",
         "2024-01-14",
         "ORD1836",
         25.53
        ],
        [
         269,
         "CUST103",
         "2024-02-16",
         "ORD1268",
         232.58
        ],
        [
         270,
         "CUST103",
         "2024-02-24",
         "ORD1269",
         102.83
        ],
        [
         271,
         "CUST103",
         "2024-05-08",
         "ORD1270",
         65.95
        ],
        [
         753,
         "CUST103",
         "2024-08-27",
         "ORD1752",
         49.49
        ],
        [
         780,
         "CUST103",
         "2024-11-23",
         "ORD1779",
         172.05
        ],
        [
         848,
         "CUST103",
         "2024-05-28",
         "ORD1847",
         80.06
        ],
        [
         971,
         "CUST103",
         "2024-10-01",
         "ORD1970",
         133.31
        ],
        [
         272,
         "CUST104",
         "2024-01-04",
         "ORD1271",
         143.51
        ],
        [
         273,
         "CUST104",
         "2024-02-21",
         "ORD1272",
         174.27
        ],
        [
         274,
         "CUST104",
         "2024-04-29",
         "ORD1273",
         60.15
        ],
        [
         275,
         "CUST104",
         "2024-06-01",
         "ORD1274",
         245.6
        ],
        [
         276,
         "CUST104",
         "2024-06-21",
         "ORD1275",
         134.89
        ],
        [
         923,
         "CUST104",
         "2024-01-23",
         "ORD1922",
         224.92
        ],
        [
         927,
         "CUST104",
         "2024-12-31",
         "ORD1926",
         89.13
        ],
        [
         277,
         "CUST105",
         "2024-03-13",
         "ORD1276",
         206.44
        ],
        [
         278,
         "CUST105",
         "2024-04-13",
         "ORD1277",
         161.46
        ],
        [
         279,
         "CUST105",
         "2024-06-06",
         "ORD1278",
         298.76
        ],
        [
         651,
         "CUST105",
         "2024-02-23",
         "ORD1650",
         131.33
        ],
        [
         747,
         "CUST105",
         "2024-08-09",
         "ORD1746",
         197.74
        ],
        [
         280,
         "CUST106",
         "2024-06-23",
         "ORD1279",
         182.52
        ],
        [
         281,
         "CUST106",
         "2024-08-04",
         "ORD1280",
         25.64
        ],
        [
         694,
         "CUST106",
         "2024-03-27",
         "ORD1693",
         123.25
        ],
        [
         869,
         "CUST106",
         "2024-04-05",
         "ORD1868",
         136.12
        ],
        [
         282,
         "CUST107",
         "2024-04-22",
         "ORD1281",
         179.43
        ],
        [
         888,
         "CUST107",
         "2024-10-11",
         "ORD1887",
         200.46
        ],
        [
         283,
         "CUST108",
         "2024-06-16",
         "ORD1282",
         259.66
        ],
        [
         284,
         "CUST108",
         "2024-07-17",
         "ORD1283",
         20.1
        ],
        [
         285,
         "CUST108",
         "2024-10-06",
         "ORD1284",
         228.82
        ],
        [
         599,
         "CUST108",
         "2024-12-21",
         "ORD1598",
         241.23
        ],
        [
         711,
         "CUST108",
         "2024-10-07",
         "ORD1710",
         171.87
        ],
        [
         764,
         "CUST108",
         "2024-01-10",
         "ORD1763",
         152.11
        ],
        [
         778,
         "CUST108",
         "2024-05-19",
         "ORD1777",
         274.27
        ],
        [
         286,
         "CUST109",
         "2024-04-26",
         "ORD1285",
         242.6
        ],
        [
         287,
         "CUST109",
         "2024-05-24",
         "ORD1286",
         264.52
        ],
        [
         288,
         "CUST109",
         "2024-07-10",
         "ORD1287",
         256.21
        ],
        [
         702,
         "CUST109",
         "2024-12-31",
         "ORD1701",
         29.71
        ],
        [
         952,
         "CUST109",
         "2024-03-12",
         "ORD1951",
         182.92
        ],
        [
         988,
         "CUST109",
         "2024-01-13",
         "ORD1987",
         162.25
        ],
        [
         289,
         "CUST110",
         "2024-04-23",
         "ORD1288",
         274.01
        ],
        [
         290,
         "CUST110",
         "2024-05-08",
         "ORD1289",
         245.67
        ],
        [
         616,
         "CUST110",
         "2024-05-22",
         "ORD1615",
         255.12
        ],
        [
         658,
         "CUST110",
         "2024-09-05",
         "ORD1657",
         79.3
        ],
        [
         703,
         "CUST110",
         "2024-02-08",
         "ORD1702",
         272.2
        ],
        [
         760,
         "CUST110",
         "2024-02-09",
         "ORD1759",
         257.25
        ],
        [
         291,
         "CUST111",
         "2024-03-21",
         "ORD1290",
         52.87
        ],
        [
         292,
         "CUST111",
         "2024-04-21",
         "ORD1291",
         55.56
        ],
        [
         293,
         "CUST111",
         "2024-08-13",
         "ORD1292",
         93.45
        ],
        [
         577,
         "CUST111",
         "2024-12-11",
         "ORD1576",
         276.26
        ],
        [
         804,
         "CUST111",
         "2024-08-04",
         "ORD1803",
         172.49
        ],
        [
         818,
         "CUST111",
         "2024-02-22",
         "ORD1817",
         45.49
        ],
        [
         294,
         "CUST112",
         "2024-03-19",
         "ORD1293",
         124.26
        ],
        [
         295,
         "CUST112",
         "2024-04-10",
         "ORD1294",
         167.9
        ],
        [
         296,
         "CUST112",
         "2024-08-02",
         "ORD1295",
         63.78
        ],
        [
         727,
         "CUST112",
         "2024-04-13",
         "ORD1726",
         118.11
        ],
        [
         976,
         "CUST112",
         "2024-03-03",
         "ORD1975",
         186.85
        ],
        [
         297,
         "CUST113",
         "2024-02-04",
         "ORD1296",
         89.21
        ],
        [
         298,
         "CUST113",
         "2024-03-23",
         "ORD1297",
         255.61
        ],
        [
         299,
         "CUST113",
         "2024-05-04",
         "ORD1298",
         63.69
        ],
        [
         300,
         "CUST113",
         "2024-06-25",
         "ORD1299",
         129.43
        ],
        [
         593,
         "CUST113",
         "2024-08-31",
         "ORD1592",
         97.27
        ],
        [
         688,
         "CUST113",
         "2024-06-04",
         "ORD1687",
         34.76
        ],
        [
         892,
         "CUST113",
         "2024-06-22",
         "ORD1891",
         248.5
        ],
        [
         301,
         "CUST114",
         "2024-02-21",
         "ORD1300",
         35.69
        ],
        [
         302,
         "CUST114",
         "2024-03-30",
         "ORD1301",
         92.32
        ],
        [
         600,
         "CUST114",
         "2024-11-03",
         "ORD1599",
         49.11
        ],
        [
         630,
         "CUST114",
         "2024-11-14",
         "ORD1629",
         200.52
        ],
        [
         817,
         "CUST114",
         "2024-09-27",
         "ORD1816",
         81.95
        ],
        [
         883,
         "CUST114",
         "2024-07-25",
         "ORD1882",
         92.71
        ],
        [
         303,
         "CUST115",
         "2024-01-06",
         "ORD1302",
         176.61
        ],
        [
         304,
         "CUST115",
         "2024-02-14",
         "ORD1303",
         210.2
        ],
        [
         305,
         "CUST115",
         "2024-02-27",
         "ORD1304",
         64.72
        ],
        [
         608,
         "CUST115",
         "2024-02-01",
         "ORD1607",
         205.78
        ],
        [
         623,
         "CUST115",
         "2024-04-18",
         "ORD1622",
         97.27
        ],
        [
         639,
         "CUST115",
         "2024-09-03",
         "ORD1638",
         247.38
        ],
        [
         960,
         "CUST115",
         "2024-09-14",
         "ORD1959",
         252.35
        ],
        [
         306,
         "CUST116",
         "2024-04-22",
         "ORD1305",
         128.43
        ],
        [
         307,
         "CUST116",
         "2024-05-04",
         "ORD1306",
         154.04
        ],
        [
         772,
         "CUST116",
         "2024-03-20",
         "ORD1771",
         117.6
        ],
        [
         777,
         "CUST116",
         "2024-01-09",
         "ORD1776",
         254.15
        ],
        [
         798,
         "CUST116",
         "2024-05-05",
         "ORD1797",
         23.52
        ],
        [
         308,
         "CUST117",
         "2024-06-13",
         "ORD1307",
         37.18
        ],
        [
         705,
         "CUST117",
         "2024-07-12",
         "ORD1704",
         290.51
        ],
        [
         309,
         "CUST118",
         "2024-05-01",
         "ORD1308",
         12.47
        ],
        [
         958,
         "CUST118",
         "2024-05-13",
         "ORD1957",
         216.65
        ],
        [
         310,
         "CUST119",
         "2024-01-31",
         "ORD1309",
         67.23
        ],
        [
         311,
         "CUST119",
         "2024-03-20",
         "ORD1310",
         272.57
        ],
        [
         312,
         "CUST119",
         "2024-05-27",
         "ORD1311",
         12.17
        ],
        [
         313,
         "CUST119",
         "2024-07-09",
         "ORD1312",
         55.91
        ],
        [
         585,
         "CUST119",
         "2024-07-13",
         "ORD1584",
         297.22
        ],
        [
         652,
         "CUST119",
         "2024-05-23",
         "ORD1651",
         11.21
        ],
        [
         314,
         "CUST120",
         "2024-06-21",
         "ORD1313",
         232.12
        ],
        [
         315,
         "CUST120",
         "2024-08-17",
         "ORD1314",
         264.96
        ],
        [
         316,
         "CUST120",
         "2024-11-03",
         "ORD1315",
         172.5
        ],
        [
         907,
         "CUST120",
         "2024-10-28",
         "ORD1906",
         116.28
        ],
        [
         317,
         "CUST121",
         "2024-01-18",
         "ORD1316",
         206.55
        ],
        [
         318,
         "CUST121",
         "2024-02-08",
         "ORD1317",
         241.42
        ],
        [
         319,
         "CUST121",
         "2024-05-18",
         "ORD1318",
         213.53
        ],
        [
         606,
         "CUST121",
         "2024-12-15",
         "ORD1605",
         161.0
        ],
        [
         632,
         "CUST121",
         "2024-09-23",
         "ORD1631",
         229.86
        ],
        [
         743,
         "CUST121",
         "2024-12-09",
         "ORD1742",
         109.67
        ],
        [
         928,
         "CUST121",
         "2024-08-23",
         "ORD1927",
         232.63
        ],
        [
         982,
         "CUST121",
         "2024-01-19",
         "ORD1981",
         213.86
        ],
        [
         320,
         "CUST122",
         "2024-02-15",
         "ORD1319",
         291.02
        ],
        [
         321,
         "CUST122",
         "2024-03-08",
         "ORD1320",
         248.37
        ],
        [
         322,
         "CUST122",
         "2024-06-02",
         "ORD1321",
         109.31
        ],
        [
         578,
         "CUST122",
         "2024-10-25",
         "ORD1577",
         108.91
        ],
        [
         897,
         "CUST122",
         "2024-04-26",
         "ORD1896",
         156.09
        ],
        [
         323,
         "CUST123",
         "2024-03-13",
         "ORD1322",
         296.94
        ],
        [
         324,
         "CUST123",
         "2024-05-20",
         "ORD1323",
         11.87
        ],
        [
         590,
         "CUST123",
         "2024-10-13",
         "ORD1589",
         23.48
        ],
        [
         933,
         "CUST123",
         "2024-06-07",
         "ORD1932",
         89.06
        ],
        [
         325,
         "CUST124",
         "2024-03-04",
         "ORD1324",
         187.22
        ],
        [
         326,
         "CUST124",
         "2024-04-29",
         "ORD1325",
         131.84
        ],
        [
         327,
         "CUST124",
         "2024-06-03",
         "ORD1326",
         254.52
        ],
        [
         328,
         "CUST124",
         "2024-08-20",
         "ORD1327",
         85.74
        ],
        [
         570,
         "CUST124",
         "2024-06-27",
         "ORD1569",
         105.2
        ],
        [
         603,
         "CUST124",
         "2024-12-24",
         "ORD1602",
         230.92
        ],
        [
         788,
         "CUST124",
         "2024-07-06",
         "ORD1787",
         294.78
        ],
        [
         922,
         "CUST124",
         "2024-12-29",
         "ORD1921",
         79.65
        ],
        [
         329,
         "CUST125",
         "2024-06-19",
         "ORD1328",
         282.7
        ],
        [
         330,
         "CUST125",
         "2024-07-01",
         "ORD1329",
         42.21
        ],
        [
         331,
         "CUST125",
         "2024-08-08",
         "ORD1330",
         235.84
        ],
        [
         332,
         "CUST125",
         "2024-08-16",
         "ORD1331",
         15.87
        ],
        [
         333,
         "CUST125",
         "2024-10-19",
         "ORD1332",
         198.78
        ],
        [
         589,
         "CUST125",
         "2024-11-23",
         "ORD1588",
         49.65
        ],
        [
         681,
         "CUST125",
         "2024-07-12",
         "ORD1680",
         269.52
        ],
        [
         934,
         "CUST125",
         "2024-05-21",
         "ORD1933",
         57.28
        ],
        [
         334,
         "CUST126",
         "2024-05-14",
         "ORD1333",
         210.78
        ],
        [
         335,
         "CUST126",
         "2024-06-05",
         "ORD1334",
         255.17
        ],
        [
         336,
         "CUST126",
         "2024-08-29",
         "ORD1335",
         146.92
        ],
        [
         337,
         "CUST126",
         "2024-12-19",
         "ORD1336",
         145.83
        ],
        [
         823,
         "CUST126",
         "2024-04-16",
         "ORD1822",
         87.47
        ],
        [
         853,
         "CUST126",
         "2024-01-31",
         "ORD1852",
         14.8
        ],
        [
         931,
         "CUST126",
         "2024-05-26",
         "ORD1930",
         74.15
        ],
        [
         338,
         "CUST127",
         "2024-03-07",
         "ORD1337",
         76.54
        ],
        [
         339,
         "CUST127",
         "2024-03-26",
         "ORD1338",
         247.96
        ],
        [
         340,
         "CUST127",
         "2024-06-02",
         "ORD1339",
         13.69
        ],
        [
         341,
         "CUST127",
         "2024-07-10",
         "ORD1340",
         235.43
        ],
        [
         342,
         "CUST128",
         "2024-06-22",
         "ORD1341",
         262.11
        ],
        [
         343,
         "CUST128",
         "2024-07-07",
         "ORD1342",
         271.29
        ],
        [
         344,
         "CUST128",
         "2024-07-30",
         "ORD1343",
         162.81
        ],
        [
         345,
         "CUST129",
         "2024-05-10",
         "ORD1344",
         202.06
        ],
        [
         346,
         "CUST129",
         "2024-05-26",
         "ORD1345",
         58.44
        ],
        [
         347,
         "CUST129",
         "2024-06-26",
         "ORD1346",
         149.58
        ],
        [
         348,
         "CUST129",
         "2024-10-23",
         "ORD1347",
         150.53
        ],
        [
         349,
         "CUST130",
         "2024-06-24",
         "ORD1348",
         86.09
        ],
        [
         350,
         "CUST130",
         "2024-07-06",
         "ORD1349",
         281.18
        ],
        [
         351,
         "CUST130",
         "2024-09-10",
         "ORD1350",
         178.93
        ],
        [
         809,
         "CUST130",
         "2024-02-16",
         "ORD1808",
         299.11
        ],
        [
         352,
         "CUST131",
         "2024-05-15",
         "ORD1351",
         93.45
        ],
        [
         353,
         "CUST131",
         "2024-05-22",
         "ORD1352",
         175.49
        ],
        [
         354,
         "CUST131",
         "2024-06-29",
         "ORD1353",
         184.3
        ],
        [
         355,
         "CUST131",
         "2024-08-03",
         "ORD1354",
         79.57
        ],
        [
         661,
         "CUST131",
         "2024-11-23",
         "ORD1660",
         128.21
        ],
        [
         803,
         "CUST131",
         "2024-01-20",
         "ORD1802",
         189.31
        ],
        [
         875,
         "CUST131",
         "2024-03-21",
         "ORD1874",
         30.11
        ],
        [
         356,
         "CUST132",
         "2024-06-15",
         "ORD1355",
         291.08
        ],
        [
         357,
         "CUST132",
         "2024-07-10",
         "ORD1356",
         255.99
        ],
        [
         358,
         "CUST132",
         "2024-07-23",
         "ORD1357",
         18.76
        ],
        [
         696,
         "CUST132",
         "2024-05-03",
         "ORD1695",
         287.19
        ],
        [
         359,
         "CUST133",
         "2024-03-12",
         "ORD1358",
         68.89
        ],
        [
         360,
         "CUST133",
         "2024-04-18",
         "ORD1359",
         72.28
        ],
        [
         361,
         "CUST133",
         "2024-04-29",
         "ORD1360",
         81.46
        ],
        [
         728,
         "CUST133",
         "2024-07-08",
         "ORD1727",
         195.34
        ],
        [
         989,
         "CUST133",
         "2024-03-11",
         "ORD1988",
         220.21
        ],
        [
         362,
         "CUST134",
         "2024-04-15",
         "ORD1361",
         237.36
        ],
        [
         363,
         "CUST134",
         "2024-04-24",
         "ORD1362",
         48.08
        ],
        [
         364,
         "CUST135",
         "2024-05-22",
         "ORD1363",
         196.45
        ],
        [
         365,
         "CUST135",
         "2024-06-01",
         "ORD1364",
         258.36
        ],
        [
         366,
         "CUST135",
         "2024-08-23",
         "ORD1365",
         288.96
        ],
        [
         367,
         "CUST135",
         "2024-12-01",
         "ORD1366",
         54.05
        ],
        [
         707,
         "CUST135",
         "2024-10-17",
         "ORD1706",
         206.42
        ],
        [
         814,
         "CUST135",
         "2024-11-24",
         "ORD1813",
         275.33
        ],
        [
         854,
         "CUST135",
         "2024-03-25",
         "ORD1853",
         106.84
        ],
        [
         938,
         "CUST135",
         "2024-03-27",
         "ORD1937",
         148.52
        ],
        [
         368,
         "CUST136",
         "2024-05-18",
         "ORD1367",
         152.19
        ],
        [
         369,
         "CUST136",
         "2024-06-30",
         "ORD1368",
         74.53
        ],
        [
         370,
         "CUST136",
         "2024-08-04",
         "ORD1369",
         202.47
        ],
        [
         855,
         "CUST136",
         "2024-05-21",
         "ORD1854",
         74.03
        ],
        [
         371,
         "CUST137",
         "2024-01-02",
         "ORD1370",
         217.68
        ],
        [
         372,
         "CUST137",
         "2024-02-18",
         "ORD1371",
         39.5
        ],
        [
         373,
         "CUST137",
         "2024-02-26",
         "ORD1372",
         68.35
        ],
        [
         374,
         "CUST138",
         "2024-03-29",
         "ORD1373",
         16.13
        ],
        [
         375,
         "CUST138",
         "2024-06-05",
         "ORD1374",
         292.35
        ],
        [
         376,
         "CUST138",
         "2024-08-30",
         "ORD1375",
         244.37
        ],
        [
         621,
         "CUST138",
         "2024-04-25",
         "ORD1620",
         208.42
        ],
        [
         793,
         "CUST138",
         "2024-09-25",
         "ORD1792",
         294.59
        ],
        [
         377,
         "CUST139",
         "2024-04-25",
         "ORD1376",
         243.62
        ],
        [
         378,
         "CUST139",
         "2024-08-12",
         "ORD1377",
         32.8
        ],
        [
         618,
         "CUST139",
         "2024-08-03",
         "ORD1617",
         82.74
        ],
        [
         712,
         "CUST139",
         "2024-10-03",
         "ORD1711",
         255.15
        ],
        [
         766,
         "CUST139",
         "2024-05-28",
         "ORD1765",
         34.42
        ],
        [
         912,
         "CUST139",
         "2024-04-18",
         "ORD1911",
         227.0
        ],
        [
         379,
         "CUST140",
         "2024-02-25",
         "ORD1378",
         79.09
        ],
        [
         380,
         "CUST140",
         "2024-04-14",
         "ORD1379",
         44.13
        ],
        [
         381,
         "CUST140",
         "2024-05-02",
         "ORD1380",
         169.31
        ],
        [
         762,
         "CUST140",
         "2024-06-23",
         "ORD1761",
         215.25
        ],
        [
         382,
         "CUST141",
         "2024-02-17",
         "ORD1381",
         118.02
        ],
        [
         383,
         "CUST141",
         "2024-04-02",
         "ORD1382",
         203.18
        ],
        [
         384,
         "CUST141",
         "2024-06-29",
         "ORD1383",
         244.03
        ],
        [
         385,
         "CUST141",
         "2024-08-26",
         "ORD1384",
         105.29
        ],
        [
         759,
         "CUST141",
         "2024-09-13",
         "ORD1758",
         43.83
        ],
        [
         386,
         "CUST142",
         "2024-03-28",
         "ORD1385",
         94.9
        ],
        [
         387,
         "CUST142",
         "2024-05-30",
         "ORD1386",
         135.81
        ],
        [
         388,
         "CUST142",
         "2024-07-15",
         "ORD1387",
         248.83
        ],
        [
         898,
         "CUST142",
         "2024-07-16",
         "ORD1897",
         74.22
        ],
        [
         389,
         "CUST143",
         "2024-04-21",
         "ORD1388",
         267.19
        ],
        [
         390,
         "CUST143",
         "2024-05-17",
         "ORD1389",
         155.04
        ],
        [
         391,
         "CUST143",
         "2024-06-12",
         "ORD1390",
         193.29
        ],
        [
         629,
         "CUST143",
         "2024-01-26",
         "ORD1628",
         89.23
        ],
        [
         691,
         "CUST143",
         "2024-07-30",
         "ORD1690",
         184.55
        ],
        [
         692,
         "CUST143",
         "2024-12-31",
         "ORD1691",
         76.52
        ],
        [
         924,
         "CUST143",
         "2024-05-23",
         "ORD1923",
         280.32
        ],
        [
         392,
         "CUST144",
         "2024-03-27",
         "ORD1391",
         77.49
        ],
        [
         393,
         "CUST144",
         "2024-04-17",
         "ORD1392",
         139.29
        ],
        [
         583,
         "CUST144",
         "2024-03-25",
         "ORD1582",
         89.6
        ],
        [
         672,
         "CUST144",
         "2024-08-14",
         "ORD1671",
         133.2
        ],
        [
         394,
         "CUST145",
         "2024-04-27",
         "ORD1393",
         68.12
        ],
        [
         395,
         "CUST145",
         "2024-05-08",
         "ORD1394",
         182.86
        ],
        [
         396,
         "CUST145",
         "2024-06-05",
         "ORD1395",
         223.46
        ],
        [
         397,
         "CUST145",
         "2024-08-19",
         "ORD1396",
         266.22
        ],
        [
         626,
         "CUST145",
         "2024-02-25",
         "ORD1625",
         86.73
        ],
        [
         682,
         "CUST145",
         "2024-08-22",
         "ORD1681",
         160.58
        ],
        [
         895,
         "CUST145",
         "2024-08-15",
         "ORD1894",
         193.43
        ],
        [
         398,
         "CUST146",
         "2024-01-21",
         "ORD1397",
         107.44
        ],
        [
         399,
         "CUST146",
         "2024-02-14",
         "ORD1398",
         260.81
        ],
        [
         721,
         "CUST146",
         "2024-01-25",
         "ORD1720",
         172.45
        ],
        [
         849,
         "CUST146",
         "2024-07-06",
         "ORD1848",
         287.07
        ],
        [
         901,
         "CUST146",
         "2024-10-06",
         "ORD1900",
         206.88
        ],
        [
         400,
         "CUST147",
         "2024-03-28",
         "ORD1399",
         27.47
        ],
        [
         401,
         "CUST147",
         "2024-06-07",
         "ORD1400",
         246.94
        ],
        [
         402,
         "CUST147",
         "2024-07-18",
         "ORD1401",
         19.91
        ],
        [
         708,
         "CUST147",
         "2024-11-06",
         "ORD1707",
         256.61
        ],
        [
         710,
         "CUST147",
         "2024-07-30",
         "ORD1709",
         241.74
        ],
        [
         886,
         "CUST147",
         "2024-09-08",
         "ORD1885",
         47.85
        ],
        [
         944,
         "CUST147",
         "2024-03-23",
         "ORD1943",
         204.94
        ],
        [
         949,
         "CUST147",
         "2024-02-10",
         "ORD1948",
         230.02
        ],
        [
         403,
         "CUST148",
         "2024-03-23",
         "ORD1402",
         167.9
        ],
        [
         404,
         "CUST148",
         "2024-07-21",
         "ORD1403",
         83.87
        ],
        [
         405,
         "CUST149",
         "2024-01-31",
         "ORD1404",
         212.17
        ],
        [
         406,
         "CUST149",
         "2024-04-07",
         "ORD1405",
         40.56
        ],
        [
         407,
         "CUST149",
         "2024-05-28",
         "ORD1406",
         17.36
        ],
        [
         579,
         "CUST149",
         "2024-05-06",
         "ORD1578",
         226.59
        ],
        [
         595,
         "CUST149",
         "2024-09-17",
         "ORD1594",
         240.83
        ],
        [
         763,
         "CUST149",
         "2024-01-31",
         "ORD1762",
         239.42
        ],
        [
         801,
         "CUST149",
         "2024-06-13",
         "ORD1800",
         25.73
        ],
        [
         825,
         "CUST149",
         "2024-11-05",
         "ORD1824",
         158.9
        ],
        [
         408,
         "CUST150",
         "2024-06-26",
         "ORD1407",
         162.05
        ],
        [
         409,
         "CUST150",
         "2024-07-03",
         "ORD1408",
         98.58
        ],
        [
         609,
         "CUST150",
         "2024-02-01",
         "ORD1608",
         207.91
        ],
        [
         993,
         "CUST150",
         "2024-01-24",
         "ORD1992",
         189.39
        ],
        [
         410,
         "CUST151",
         "2024-04-14",
         "ORD1409",
         197.33
        ],
        [
         411,
         "CUST151",
         "2024-05-25",
         "ORD1410",
         80.48
        ],
        [
         620,
         "CUST151",
         "2024-10-27",
         "ORD1619",
         105.98
        ],
        [
         808,
         "CUST151",
         "2024-04-08",
         "ORD1807",
         132.18
        ],
        [
         915,
         "CUST151",
         "2024-03-03",
         "ORD1914",
         244.62
        ],
        [
         412,
         "CUST152",
         "2024-06-07",
         "ORD1411",
         156.85
        ],
        [
         413,
         "CUST152",
         "2024-06-28",
         "ORD1412",
         249.18
        ],
        [
         414,
         "CUST152",
         "2024-07-24",
         "ORD1413",
         69.32
        ],
        [
         686,
         "CUST152",
         "2024-02-14",
         "ORD1685",
         228.05
        ],
        [
         706,
         "CUST152",
         "2024-12-29",
         "ORD1705",
         201.25
        ],
        [
         415,
         "CUST153",
         "2024-06-08",
         "ORD1414",
         141.3
        ],
        [
         416,
         "CUST153",
         "2024-07-03",
         "ORD1415",
         287.3
        ],
        [
         642,
         "CUST153",
         "2024-09-29",
         "ORD1641",
         239.59
        ],
        [
         648,
         "CUST153",
         "2024-06-29",
         "ORD1647",
         123.84
        ],
        [
         755,
         "CUST153",
         "2024-02-06",
         "ORD1754",
         113.42
        ],
        [
         975,
         "CUST153",
         "2024-07-31",
         "ORD1974",
         15.95
        ],
        [
         417,
         "CUST154",
         "2024-04-21",
         "ORD1416",
         66.56
        ],
        [
         418,
         "CUST154",
         "2024-06-22",
         "ORD1417",
         87.64
        ],
        [
         650,
         "CUST154",
         "2024-12-04",
         "ORD1649",
         178.74
        ],
        [
         758,
         "CUST154",
         "2024-05-10",
         "ORD1757",
         159.53
        ],
        [
         419,
         "CUST155",
         "2024-05-06",
         "ORD1418",
         175.6
        ],
        [
         420,
         "CUST155",
         "2024-06-15",
         "ORD1419",
         285.24
        ],
        [
         421,
         "CUST155",
         "2024-07-29",
         "ORD1420",
         117.26
        ],
        [
         422,
         "CUST156",
         "2024-04-23",
         "ORD1421",
         248.56
        ],
        [
         423,
         "CUST156",
         "2024-06-20",
         "ORD1422",
         128.25
        ],
        [
         424,
         "CUST157",
         "2024-02-04",
         "ORD1423",
         126.63
        ],
        [
         425,
         "CUST157",
         "2024-02-12",
         "ORD1424",
         151.71
        ],
        [
         426,
         "CUST157",
         "2024-04-29",
         "ORD1425",
         124.6
        ],
        [
         427,
         "CUST157",
         "2024-06-17",
         "ORD1426",
         170.55
        ],
        [
         633,
         "CUST157",
         "2024-10-12",
         "ORD1632",
         87.83
        ],
        [
         739,
         "CUST157",
         "2024-01-03",
         "ORD1738",
         247.17
        ],
        [
         765,
         "CUST157",
         "2024-07-15",
         "ORD1764",
         221.68
        ],
        [
         968,
         "CUST157",
         "2024-05-07",
         "ORD1967",
         215.55
        ],
        [
         991,
         "CUST157",
         "2024-05-14",
         "ORD1990",
         49.66
        ],
        [
         428,
         "CUST158",
         "2024-03-20",
         "ORD1427",
         103.35
        ],
        [
         429,
         "CUST158",
         "2024-06-29",
         "ORD1428",
         240.51
        ],
        [
         701,
         "CUST158",
         "2024-11-13",
         "ORD1700",
         132.79
        ],
        [
         430,
         "CUST159",
         "2024-03-08",
         "ORD1429",
         88.73
        ],
        [
         431,
         "CUST159",
         "2024-04-17",
         "ORD1430",
         249.5
        ],
        [
         432,
         "CUST159",
         "2024-08-12",
         "ORD1431",
         170.0
        ],
        [
         829,
         "CUST159",
         "2024-04-08",
         "ORD1828",
         77.52
        ],
        [
         433,
         "CUST160",
         "2024-02-25",
         "ORD1432",
         58.57
        ],
        [
         434,
         "CUST160",
         "2024-03-12",
         "ORD1433",
         173.1
        ],
        [
         734,
         "CUST160",
         "2024-07-11",
         "ORD1733",
         25.57
        ],
        [
         435,
         "CUST161",
         "2024-05-09",
         "ORD1434",
         151.28
        ],
        [
         436,
         "CUST161",
         "2024-08-23",
         "ORD1435",
         137.77
        ],
        [
         437,
         "CUST161",
         "2024-12-18",
         "ORD1436",
         132.53
        ],
        [
         627,
         "CUST161",
         "2024-02-13",
         "ORD1626",
         10.49
        ],
        [
         786,
         "CUST161",
         "2024-04-21",
         "ORD1785",
         95.88
        ],
        [
         916,
         "CUST161",
         "2024-08-11",
         "ORD1915",
         28.05
        ],
        [
         979,
         "CUST161",
         "2024-05-26",
         "ORD1978",
         222.63
        ],
        [
         438,
         "CUST162",
         "2024-01-07",
         "ORD1437",
         123.25
        ],
        [
         576,
         "CUST162",
         "2024-03-09",
         "ORD1575",
         204.11
        ],
        [
         439,
         "CUST163",
         "2024-02-04",
         "ORD1438",
         148.01
        ],
        [
         440,
         "CUST163",
         "2024-04-30",
         "ORD1439",
         47.28
        ],
        [
         441,
         "CUST163",
         "2024-07-22",
         "ORD1440",
         231.81
        ],
        [
         625,
         "CUST163",
         "2024-05-28",
         "ORD1624",
         271.15
        ],
        [
         442,
         "CUST164",
         "2024-06-21",
         "ORD1441",
         221.05
        ],
        [
         443,
         "CUST164",
         "2024-07-01",
         "ORD1442",
         192.94
        ],
        [
         444,
         "CUST164",
         "2024-07-23",
         "ORD1443",
         36.55
        ],
        [
         602,
         "CUST164",
         "2024-11-22",
         "ORD1601",
         89.59
        ],
        [
         921,
         "CUST164",
         "2024-05-15",
         "ORD1920",
         134.85
        ],
        [
         445,
         "CUST165",
         "2024-02-03",
         "ORD1444",
         254.36
        ],
        [
         446,
         "CUST165",
         "2024-03-22",
         "ORD1445",
         160.12
        ],
        [
         447,
         "CUST165",
         "2024-04-24",
         "ORD1446",
         109.37
        ],
        [
         448,
         "CUST165",
         "2024-07-20",
         "ORD1447",
         252.21
        ],
        [
         449,
         "CUST165",
         "2024-09-11",
         "ORD1448",
         288.81
        ],
        [
         612,
         "CUST165",
         "2024-08-13",
         "ORD1611",
         157.37
        ],
        [
         450,
         "CUST166",
         "2024-05-14",
         "ORD1449",
         248.11
        ],
        [
         451,
         "CUST166",
         "2024-06-18",
         "ORD1450",
         167.3
        ],
        [
         452,
         "CUST166",
         "2024-07-25",
         "ORD1451",
         62.55
        ],
        [
         453,
         "CUST166",
         "2024-08-09",
         "ORD1452",
         260.93
        ],
        [
         637,
         "CUST166",
         "2024-08-14",
         "ORD1636",
         177.56
        ],
        [
         752,
         "CUST166",
         "2024-09-15",
         "ORD1751",
         174.23
        ],
        [
         840,
         "CUST166",
         "2024-02-03",
         "ORD1839",
         226.29
        ],
        [
         847,
         "CUST166",
         "2024-08-16",
         "ORD1846",
         36.24
        ],
        [
         454,
         "CUST167",
         "2024-01-06",
         "ORD1453",
         264.08
        ],
        [
         455,
         "CUST167",
         "2024-02-20",
         "ORD1454",
         236.12
        ],
        [
         687,
         "CUST167",
         "2024-08-20",
         "ORD1686",
         87.4
        ],
        [
         456,
         "CUST168",
         "2024-05-02",
         "ORD1455",
         104.81
        ],
        [
         457,
         "CUST168",
         "2024-06-03",
         "ORD1456",
         147.85
        ],
        [
         458,
         "CUST168",
         "2024-09-29",
         "ORD1457",
         261.48
        ],
        [
         622,
         "CUST168",
         "2024-06-23",
         "ORD1621",
         267.46
        ],
        [
         663,
         "CUST168",
         "2024-05-15",
         "ORD1662",
         266.76
        ],
        [
         459,
         "CUST169",
         "2024-02-05",
         "ORD1458",
         249.52
        ],
        [
         460,
         "CUST169",
         "2024-03-14",
         "ORD1459",
         84.93
        ],
        [
         461,
         "CUST169",
         "2024-04-30",
         "ORD1460",
         52.12
        ],
        [
         462,
         "CUST170",
         "2024-01-21",
         "ORD1461",
         53.07
        ],
        [
         463,
         "CUST170",
         "2024-02-23",
         "ORD1462",
         180.52
        ],
        [
         787,
         "CUST170",
         "2024-06-24",
         "ORD1786",
         69.32
        ],
        [
         799,
         "CUST170",
         "2024-12-05",
         "ORD1798",
         66.06
        ],
        [
         807,
         "CUST170",
         "2024-03-04",
         "ORD1806",
         190.24
        ],
        [
         871,
         "CUST170",
         "2024-05-02",
         "ORD1870",
         170.76
        ],
        [
         946,
         "CUST170",
         "2024-02-05",
         "ORD1945",
         207.68
        ],
        [
         972,
         "CUST170",
         "2024-06-22",
         "ORD1971",
         76.56
        ],
        [
         464,
         "CUST171",
         "2024-05-05",
         "ORD1463",
         243.56
        ],
        [
         465,
         "CUST171",
         "2024-06-28",
         "ORD1464",
         189.97
        ],
        [
         466,
         "CUST171",
         "2024-08-05",
         "ORD1465",
         252.53
        ],
        [
         571,
         "CUST171",
         "2024-12-19",
         "ORD1570",
         250.99
        ],
        [
         733,
         "CUST171",
         "2024-07-19",
         "ORD1732",
         29.53
        ],
        [
         741,
         "CUST171",
         "2024-08-08",
         "ORD1740",
         128.97
        ],
        [
         467,
         "CUST172",
         "2024-01-25",
         "ORD1466",
         15.67
        ],
        [
         468,
         "CUST172",
         "2024-03-25",
         "ORD1467",
         295.47
        ],
        [
         469,
         "CUST172",
         "2024-06-15",
         "ORD1468",
         21.1
        ],
        [
         470,
         "CUST172",
         "2024-08-04",
         "ORD1469",
         216.52
        ],
        [
         605,
         "CUST172",
         "2024-09-07",
         "ORD1604",
         160.6
        ],
        [
         816,
         "CUST172",
         "2024-09-19",
         "ORD1815",
         165.93
        ],
        [
         471,
         "CUST173",
         "2024-02-19",
         "ORD1470",
         289.28
        ],
        [
         472,
         "CUST173",
         "2024-03-23",
         "ORD1471",
         72.23
        ],
        [
         768,
         "CUST173",
         "2024-05-02",
         "ORD1767",
         116.84
        ],
        [
         473,
         "CUST174",
         "2024-02-05",
         "ORD1472",
         66.87
        ],
        [
         474,
         "CUST174",
         "2024-04-03",
         "ORD1473",
         255.53
        ],
        [
         906,
         "CUST174",
         "2024-01-25",
         "ORD1905",
         172.91
        ],
        [
         475,
         "CUST175",
         "2024-05-05",
         "ORD1474",
         51.26
        ],
        [
         476,
         "CUST175",
         "2024-05-30",
         "ORD1475",
         130.35
        ],
        [
         800,
         "CUST175",
         "2024-08-28",
         "ORD1799",
         166.57
        ],
        [
         851,
         "CUST175",
         "2024-06-10",
         "ORD1850",
         95.64
        ],
        [
         477,
         "CUST176",
         "2024-04-05",
         "ORD1476",
         46.55
        ],
        [
         478,
         "CUST176",
         "2024-05-23",
         "ORD1477",
         247.06
        ],
        [
         479,
         "CUST176",
         "2024-08-14",
         "ORD1478",
         15.25
        ],
        [
         828,
         "CUST176",
         "2024-06-29",
         "ORD1827",
         74.24
        ],
        [
         480,
         "CUST177",
         "2024-02-20",
         "ORD1479",
         84.06
        ],
        [
         481,
         "CUST177",
         "2024-03-18",
         "ORD1480",
         294.44
        ],
        [
         482,
         "CUST177",
         "2024-04-19",
         "ORD1481",
         116.12
        ],
        [
         789,
         "CUST177",
         "2024-10-24",
         "ORD1788",
         273.89
        ],
        [
         911,
         "CUST177",
         "2024-11-01",
         "ORD1910",
         50.52
        ],
        [
         483,
         "CUST178",
         "2024-06-18",
         "ORD1482",
         255.94
        ],
        [
         484,
         "CUST178",
         "2024-07-14",
         "ORD1483",
         189.34
        ],
        [
         485,
         "CUST178",
         "2024-10-30",
         "ORD1484",
         238.34
        ],
        [
         611,
         "CUST178",
         "2024-07-24",
         "ORD1610",
         123.67
        ],
        [
         939,
         "CUST178",
         "2024-09-23",
         "ORD1938",
         280.57
        ],
        [
         486,
         "CUST179",
         "2024-02-04",
         "ORD1485",
         110.39
        ],
        [
         487,
         "CUST179",
         "2024-03-27",
         "ORD1486",
         197.65
        ],
        [
         564,
         "CUST179",
         "2024-11-09",
         "ORD1563",
         216.81
        ],
        [
         580,
         "CUST179",
         "2024-05-23",
         "ORD1579",
         105.98
        ],
        [
         794,
         "CUST179",
         "2024-12-13",
         "ORD1793",
         238.37
        ],
        [
         969,
         "CUST179",
         "2024-07-03",
         "ORD1968",
         161.65
        ],
        [
         980,
         "CUST179",
         "2024-01-18",
         "ORD1979",
         38.5
        ],
        [
         488,
         "CUST180",
         "2024-05-24",
         "ORD1487",
         43.98
        ],
        [
         489,
         "CUST180",
         "2024-06-19",
         "ORD1488",
         45.76
        ],
        [
         723,
         "CUST180",
         "2024-05-12",
         "ORD1722",
         151.78
        ],
        [
         920,
         "CUST180",
         "2024-03-06",
         "ORD1919",
         283.9
        ],
        [
         953,
         "CUST180",
         "2024-06-23",
         "ORD1952",
         82.74
        ],
        [
         490,
         "CUST181",
         "2024-01-03",
         "ORD1489",
         234.6
        ],
        [
         491,
         "CUST181",
         "2024-02-11",
         "ORD1490",
         61.95
        ],
        [
         492,
         "CUST181",
         "2024-03-07",
         "ORD1491",
         30.56
        ],
        [
         493,
         "CUST181",
         "2024-04-10",
         "ORD1492",
         149.91
        ],
        [
         843,
         "CUST181",
         "2024-04-07",
         "ORD1842",
         281.56
        ],
        [
         909,
         "CUST181",
         "2024-08-30",
         "ORD1908",
         248.26
        ],
        [
         967,
         "CUST181",
         "2024-08-06",
         "ORD1966",
         249.55
        ],
        [
         978,
         "CUST181",
         "2024-10-13",
         "ORD1977",
         177.87
        ],
        [
         494,
         "CUST182",
         "2024-04-24",
         "ORD1493",
         160.06
        ],
        [
         495,
         "CUST182",
         "2024-05-18",
         "ORD1494",
         52.42
        ],
        [
         563,
         "CUST182",
         "2024-05-26",
         "ORD1562",
         48.23
        ],
        [
         604,
         "CUST182",
         "2024-01-25",
         "ORD1603",
         275.26
        ],
        [
         615,
         "CUST182",
         "2024-10-17",
         "ORD1614",
         133.93
        ],
        [
         820,
         "CUST182",
         "2024-04-01",
         "ORD1819",
         231.73
        ],
        [
         496,
         "CUST183",
         "2024-04-23",
         "ORD1495",
         27.49
        ],
        [
         497,
         "CUST183",
         "2024-06-08",
         "ORD1496",
         237.47
        ],
        [
         498,
         "CUST183",
         "2024-07-13",
         "ORD1497",
         120.93
        ],
        [
         499,
         "CUST183",
         "2024-09-28",
         "ORD1498",
         64.16
        ],
        [
         573,
         "CUST183",
         "2024-11-17",
         "ORD1572",
         241.42
        ],
        [
         610,
         "CUST183",
         "2024-12-05",
         "ORD1609",
         284.14
        ],
        [
         500,
         "CUST184",
         "2024-02-25",
         "ORD1499",
         213.92
        ],
        [
         501,
         "CUST184",
         "2024-04-02",
         "ORD1500",
         187.73
        ],
        [
         698,
         "CUST184",
         "2024-10-13",
         "ORD1697",
         45.76
        ],
        [
         502,
         "CUST185",
         "2024-03-26",
         "ORD1501",
         71.1
        ],
        [
         503,
         "CUST185",
         "2024-04-04",
         "ORD1502",
         99.9
        ],
        [
         504,
         "CUST185",
         "2024-06-11",
         "ORD1503",
         103.44
        ],
        [
         656,
         "CUST185",
         "2024-03-04",
         "ORD1655",
         237.37
        ],
        [
         709,
         "CUST185",
         "2024-08-27",
         "ORD1708",
         51.61
        ],
        [
         950,
         "CUST185",
         "2024-05-12",
         "ORD1949",
         30.1
        ],
        [
         505,
         "CUST186",
         "2024-03-25",
         "ORD1504",
         160.23
        ],
        [
         506,
         "CUST186",
         "2024-04-14",
         "ORD1505",
         92.91
        ],
        [
         507,
         "CUST186",
         "2024-07-19",
         "ORD1506",
         271.96
        ],
        [
         559,
         "CUST186",
         "2024-02-21",
         "ORD1558",
         16.83
        ],
        [
         866,
         "CUST186",
         "2024-07-26",
         "ORD1865",
         233.84
        ],
        [
         870,
         "CUST186",
         "2024-02-03",
         "ORD1869",
         258.96
        ],
        [
         983,
         "CUST186",
         "2024-06-18",
         "ORD1982",
         214.67
        ],
        [
         508,
         "CUST187",
         "2024-05-28",
         "ORD1507",
         11.75
        ],
        [
         509,
         "CUST187",
         "2024-06-29",
         "ORD1508",
         64.94
        ],
        [
         510,
         "CUST187",
         "2024-09-17",
         "ORD1509",
         174.36
        ],
        [
         697,
         "CUST187",
         "2024-08-18",
         "ORD1696",
         16.99
        ],
        [
         842,
         "CUST187",
         "2024-03-13",
         "ORD1841",
         249.52
        ],
        [
         511,
         "CUST188",
         "2024-06-14",
         "ORD1510",
         167.96
        ],
        [
         512,
         "CUST188",
         "2024-08-25",
         "ORD1511",
         254.53
        ],
        [
         513,
         "CUST188",
         "2024-10-19",
         "ORD1512",
         86.24
        ],
        [
         514,
         "CUST188",
         "2024-11-07",
         "ORD1513",
         31.87
        ],
        [
         597,
         "CUST188",
         "2024-05-11",
         "ORD1596",
         75.59
        ],
        [
         830,
         "CUST188",
         "2024-01-06",
         "ORD1829",
         267.01
        ],
        [
         910,
         "CUST188",
         "2024-11-25",
         "ORD1909",
         227.61
        ],
        [
         515,
         "CUST189",
         "2024-01-20",
         "ORD1514",
         199.96
        ],
        [
         516,
         "CUST189",
         "2024-03-06",
         "ORD1515",
         90.63
        ],
        [
         517,
         "CUST189",
         "2024-06-02",
         "ORD1516",
         249.83
        ],
        [
         518,
         "CUST189",
         "2024-08-31",
         "ORD1517",
         126.97
        ],
        [
         802,
         "CUST189",
         "2024-06-28",
         "ORD1801",
         85.97
        ],
        [
         905,
         "CUST189",
         "2024-02-07",
         "ORD1904",
         41.84
        ],
        [
         519,
         "CUST190",
         "2024-06-20",
         "ORD1518",
         121.4
        ],
        [
         520,
         "CUST190",
         "2024-07-27",
         "ORD1519",
         131.58
        ],
        [
         726,
         "CUST190",
         "2024-02-06",
         "ORD1725",
         168.54
        ],
        [
         748,
         "CUST190",
         "2024-08-19",
         "ORD1747",
         198.59
        ],
        [
         521,
         "CUST191",
         "2024-05-07",
         "ORD1520",
         132.97
        ],
        [
         522,
         "CUST191",
         "2024-06-12",
         "ORD1521",
         83.34
        ],
        [
         523,
         "CUST191",
         "2024-08-16",
         "ORD1522",
         295.3
        ],
        [
         782,
         "CUST191",
         "2024-04-03",
         "ORD1781",
         88.67
        ],
        [
         966,
         "CUST191",
         "2024-04-27",
         "ORD1965",
         55.19
        ],
        [
         524,
         "CUST192",
         "2024-01-02",
         "ORD1523",
         101.94
        ],
        [
         525,
         "CUST192",
         "2024-01-24",
         "ORD1524",
         225.34
        ],
        [
         526,
         "CUST192",
         "2024-03-13",
         "ORD1525",
         145.96
        ],
        [
         716,
         "CUST192",
         "2024-11-25",
         "ORD1715",
         57.95
        ],
        [
         955,
         "CUST192",
         "2024-12-01",
         "ORD1954",
         275.32
        ],
        [
         527,
         "CUST193",
         "2024-05-11",
         "ORD1526",
         225.6
        ],
        [
         528,
         "CUST193",
         "2024-06-22",
         "ORD1527",
         19.89
        ],
        [
         529,
         "CUST193",
         "2024-08-08",
         "ORD1528",
         205.87
        ],
        [
         530,
         "CUST193",
         "2024-11-17",
         "ORD1529",
         141.22
        ],
        [
         555,
         "CUST193",
         "2024-08-20",
         "ORD1554",
         105.61
        ],
        [
         674,
         "CUST193",
         "2024-07-03",
         "ORD1673",
         204.31
        ],
        [
         531,
         "CUST194",
         "2024-04-21",
         "ORD1530",
         261.47
        ],
        [
         532,
         "CUST194",
         "2024-06-13",
         "ORD1531",
         239.84
        ],
        [
         533,
         "CUST194",
         "2024-08-12",
         "ORD1532",
         230.38
        ],
        [
         534,
         "CUST194",
         "2024-11-03",
         "ORD1533",
         145.61
        ],
        [
         736,
         "CUST194",
         "2024-09-26",
         "ORD1735",
         79.95
        ],
        [
         878,
         "CUST194",
         "2024-04-10",
         "ORD1877",
         44.18
        ],
        [
         535,
         "CUST195",
         "2024-04-08",
         "ORD1534",
         10.52
        ],
        [
         536,
         "CUST195",
         "2024-04-23",
         "ORD1535",
         102.71
        ],
        [
         537,
         "CUST195",
         "2024-05-18",
         "ORD1536",
         24.01
        ],
        [
         538,
         "CUST195",
         "2024-06-18",
         "ORD1537",
         265.21
        ],
        [
         575,
         "CUST195",
         "2024-05-21",
         "ORD1574",
         64.67
        ],
        [
         539,
         "CUST196",
         "2024-06-24",
         "ORD1538",
         75.81
        ],
        [
         540,
         "CUST196",
         "2024-07-16",
         "ORD1539",
         107.84
        ],
        [
         541,
         "CUST196",
         "2024-10-04",
         "ORD1540",
         43.07
        ],
        [
         679,
         "CUST196",
         "2024-12-06",
         "ORD1678",
         277.6
        ],
        [
         720,
         "CUST196",
         "2024-08-07",
         "ORD1719",
         181.34
        ],
        [
         776,
         "CUST196",
         "2024-08-21",
         "ORD1775",
         294.68
        ],
        [
         784,
         "CUST196",
         "2024-03-02",
         "ORD1783",
         79.44
        ],
        [
         542,
         "CUST197",
         "2024-03-15",
         "ORD1541",
         138.03
        ],
        [
         543,
         "CUST197",
         "2024-05-12",
         "ORD1542",
         89.6
        ],
        [
         826,
         "CUST197",
         "2024-09-23",
         "ORD1825",
         133.08
        ],
        [
         941,
         "CUST197",
         "2024-06-13",
         "ORD1940",
         35.8
        ],
        [
         544,
         "CUST198",
         "2024-03-30",
         "ORD1543",
         152.38
        ],
        [
         545,
         "CUST198",
         "2024-05-20",
         "ORD1544",
         114.36
        ],
        [
         761,
         "CUST198",
         "2024-01-21",
         "ORD1760",
         218.22
        ],
        [
         914,
         "CUST198",
         "2024-10-27",
         "ORD1913",
         206.48
        ],
        [
         963,
         "CUST198",
         "2024-02-29",
         "ORD1962",
         136.51
        ],
        [
         546,
         "CUST199",
         "2024-03-19",
         "ORD1545",
         189.82
        ],
        [
         547,
         "CUST199",
         "2024-04-22",
         "ORD1546",
         140.59
        ],
        [
         548,
         "CUST199",
         "2024-07-17",
         "ORD1547",
         237.19
        ],
        [
         549,
         "CUST199",
         "2024-09-05",
         "ORD1548",
         25.27
        ],
        [
         624,
         "CUST199",
         "2024-06-15",
         "ORD1623",
         274.44
        ],
        [
         815,
         "CUST199",
         "2024-09-30",
         "ORD1814",
         283.5
        ],
        [
         550,
         "CUST200",
         "2024-02-14",
         "ORD1549",
         41.99
        ],
        [
         551,
         "CUST200",
         "2024-03-02",
         "ORD1550",
         126.87
        ],
        [
         552,
         "CUST200",
         "2024-04-27",
         "ORD1551",
         159.89
        ],
        [
         613,
         "CUST200",
         "2024-01-29",
         "ORD1612",
         261.34
        ]
       ],
       "datasetInfos": [
        {
         "name": "_sqldf",
         "schema": {
          "fields": [
           {
            "metadata": {
             "isTimestampNTZ": false,
             "scale": 0,
             "signed": true
            },
            "name": "row_id",
            "nullable": true,
            "type": "long"
           },
           {
            "metadata": {
             "__CHAR_VARCHAR_TYPE_STRING": "varchar(65535)",
             "isTimestampNTZ": false,
             "scale": 0,
             "signed": false
            },
            "name": "customer_id",
            "nullable": true,
            "type": "string"
           },
           {
            "metadata": {
             "isTimestampNTZ": false,
             "scale": 0,
             "signed": false
            },
            "name": "order_date",
            "nullable": true,
            "type": "date"
           },
           {
            "metadata": {
             "__CHAR_VARCHAR_TYPE_STRING": "varchar(65535)",
             "isTimestampNTZ": false,
             "scale": 0,
             "signed": false
            },
            "name": "order_id",
            "nullable": true,
            "type": "string"
           },
           {
            "metadata": {
             "isTimestampNTZ": false,
             "scale": 0,
             "signed": true
            },
            "name": "sales",
            "nullable": true,
            "type": "double"
           }
          ],
          "type": "struct"
         },
         "tableIdentifier": null,
         "typeStr": "pyspark.sql.connect.dataframe.DataFrame"
        }
       ],
       "dbfsResultPath": null,
       "isJsonSchema": true,
       "metadata": {
        "createTempViewForImplicitDf": true,
        "dataframeName": "_sqldf",
        "executionCount": 1
       },
       "overflow": false,
       "plotOptions": {
        "customPlotOptions": {},
        "displayType": "table",
        "pivotAggregation": null,
        "pivotColumns": null,
        "xColumns": null,
        "yColumns": null
       },
       "removedWidgets": [],
       "schema": [
        {
         "metadata": "{\"isTimestampNTZ\": false, \"signed\": true, \"scale\": 0}",
         "name": "row_id",
         "type": "\"long\""
        },
        {
         "metadata": "{\"isTimestampNTZ\": false, \"__CHAR_VARCHAR_TYPE_STRING\": \"varchar(65535)\", \"signed\": false, \"scale\": 0}",
         "name": "customer_id",
         "type": "\"string\""
        },
        {
         "metadata": "{\"isTimestampNTZ\": false, \"signed\": false, \"scale\": 0}",
         "name": "order_date",
         "type": "\"date\""
        },
        {
         "metadata": "{\"isTimestampNTZ\": false, \"__CHAR_VARCHAR_TYPE_STRING\": \"varchar(65535)\", \"signed\": false, \"scale\": 0}",
         "name": "order_id",
         "type": "\"string\""
        },
        {
         "metadata": "{\"isTimestampNTZ\": false, \"signed\": true, \"scale\": 0}",
         "name": "sales",
         "type": "\"double\""
        }
       ],
       "type": "table"
      }
     },
     "output_type": "display_data"
    }
   ],
   "source": [
    "%sql\n",
    "SELECT * FROM `cohort_analysis_biqquery_catalog`.`cohort_db`.`ecom_orders`;"
   ]
  },
  {
   "cell_type": "markdown",
   "metadata": {
    "application/vnd.databricks.v1+cell": {
     "cellMetadata": {},
     "inputWidgets": {},
     "nuid": "51f54c16-71c9-4f04-af42-62c675a62f06",
     "showTitle": false,
     "tableResultSettingsMap": {},
     "title": ""
    }
   },
   "source": [
    "# Step 1: First purchase date"
   ]
  },
  {
   "cell_type": "code",
   "execution_count": 0,
   "metadata": {
    "application/vnd.databricks.v1+cell": {
     "cellMetadata": {
      "byteLimit": 2048000,
      "rowLimit": 10000
     },
     "inputWidgets": {},
     "nuid": "91913258-86e8-4463-abd9-8de98b0a3a12",
     "showTitle": false,
     "tableResultSettingsMap": {},
     "title": ""
    }
   },
   "outputs": [],
   "source": [
    "CREATE OR REPLACE TEMP VIEW first_purchase AS\n",
    "SELECT\n",
    "  customer_id,\n",
    "  MIN(order_date) AS first_purchase_date\n",
    "FROM `cohort_analysis_biqquery_catalog`.`cohort_db`.`ecom_orders`\n",
    "GROUP BY customer_id;\n"
   ]
  },
  {
   "cell_type": "markdown",
   "metadata": {
    "application/vnd.databricks.v1+cell": {
     "cellMetadata": {},
     "inputWidgets": {},
     "nuid": "f1dab9db-991b-428d-8469-c0c004bd185d",
     "showTitle": false,
     "tableResultSettingsMap": {},
     "title": ""
    }
   },
   "source": [
    "#  Step 2: Second purchase **date**"
   ]
  },
  {
   "cell_type": "code",
   "execution_count": 0,
   "metadata": {
    "application/vnd.databricks.v1+cell": {
     "cellMetadata": {
      "byteLimit": 2048000,
      "rowLimit": 10000
     },
     "inputWidgets": {},
     "nuid": "2a19dd40-d7ca-42ac-8924-b4c414939eda",
     "showTitle": false,
     "tableResultSettingsMap": {},
     "title": ""
    }
   },
   "outputs": [],
   "source": [
    "CREATE OR REPLACE TEMP VIEW second_purchase AS\n",
    "SELECT\n",
    "  o.customer_id,\n",
    "  MIN(o.order_date) AS second_purchase_date\n",
    "FROM `cohort_analysis_biqquery_catalog`.`cohort_db`.`ecom_orders` o\n",
    "JOIN first_purchase f ON o.customer_id = f.customer_id\n",
    "WHERE o.order_date > f.first_purchase_date\n",
    "GROUP BY o.customer_id;"
   ]
  },
  {
   "cell_type": "markdown",
   "metadata": {
    "application/vnd.databricks.v1+cell": {
     "cellMetadata": {},
     "inputWidgets": {},
     "nuid": "3ef827b7-2a35-435d-af23-49bc9ea6696a",
     "showTitle": false,
     "tableResultSettingsMap": {},
     "title": ""
    }
   },
   "source": [
    "# Step 3: Third purchase date"
   ]
  },
  {
   "cell_type": "code",
   "execution_count": 0,
   "metadata": {
    "application/vnd.databricks.v1+cell": {
     "cellMetadata": {
      "byteLimit": 2048000,
      "rowLimit": 10000
     },
     "inputWidgets": {},
     "nuid": "047fb1a4-c88d-4a63-847d-07c6724ff9cc",
     "showTitle": false,
     "tableResultSettingsMap": {},
     "title": ""
    }
   },
   "outputs": [],
   "source": [
    "CREATE OR REPLACE TEMP VIEW third_purchase AS\n",
    "SELECT\n",
    "  o.customer_id,\n",
    "  MIN(o.order_date) AS third_purchase_date\n",
    "FROM `cohort_analysis_biqquery_catalog`.`cohort_db`.`ecom_orders` o\n",
    "JOIN second_purchase s ON o.customer_id = s.customer_id\n",
    "WHERE o.order_date > s.second_purchase_date\n",
    "GROUP BY o.customer_id;\n"
   ]
  },
  {
   "cell_type": "markdown",
   "metadata": {
    "application/vnd.databricks.v1+cell": {
     "cellMetadata": {},
     "inputWidgets": {},
     "nuid": "7b63f722-4482-40cd-af4e-92731dc9bb10",
     "showTitle": false,
     "tableResultSettingsMap": {},
     "title": ""
    }
   },
   "source": [
    "# Step 4: Fourth purchase date"
   ]
  },
  {
   "cell_type": "code",
   "execution_count": 0,
   "metadata": {
    "application/vnd.databricks.v1+cell": {
     "cellMetadata": {
      "byteLimit": 2048000,
      "rowLimit": 10000
     },
     "inputWidgets": {},
     "nuid": "abdb8ead-7c90-45ee-9dcd-199aad5e2b0e",
     "showTitle": false,
     "tableResultSettingsMap": {},
     "title": ""
    }
   },
   "outputs": [],
   "source": [
    "CREATE OR REPLACE TEMP VIEW fourth_purchase AS\n",
    "SELECT\n",
    "  o.customer_id,\n",
    "  MIN(o.order_date) AS fourth_purchase_date\n",
    "FROM `cohort_analysis_biqquery_catalog`.`cohort_db`.`ecom_orders` o\n",
    "JOIN third_purchase s ON o.customer_id = s.customer_id\n",
    "WHERE o.order_date > s.third_purchase_date\n",
    "GROUP BY o.customer_id;"
   ]
  },
  {
   "cell_type": "markdown",
   "metadata": {
    "application/vnd.databricks.v1+cell": {
     "cellMetadata": {},
     "inputWidgets": {},
     "nuid": "aae410f5-8720-4f5d-b4b7-2c07eb9f8333",
     "showTitle": false,
     "tableResultSettingsMap": {},
     "title": ""
    }
   },
   "source": [
    "# Step 5: Show Schemas in Workspace"
   ]
  },
  {
   "cell_type": "code",
   "execution_count": 0,
   "metadata": {
    "application/vnd.databricks.v1+cell": {
     "cellMetadata": {
      "byteLimit": 2048000,
      "rowLimit": 10000
     },
     "inputWidgets": {},
     "nuid": "83dffa4f-b8dc-4660-97f5-42beae1810ec",
     "showTitle": false,
     "tableResultSettingsMap": {},
     "title": ""
    }
   },
   "outputs": [
    {
     "output_type": "display_data",
     "data": {
      "text/html": [
       "<style scoped>\n",
       "  .table-result-container {\n",
       "    max-height: 300px;\n",
       "    overflow: auto;\n",
       "  }\n",
       "  table, th, td {\n",
       "    border: 1px solid black;\n",
       "    border-collapse: collapse;\n",
       "  }\n",
       "  th, td {\n",
       "    padding: 5px;\n",
       "  }\n",
       "  th {\n",
       "    text-align: left;\n",
       "  }\n",
       "</style><div class='table-result-container'><table class='table-result'><thead style='background-color: white'><tr><th>databaseName</th></tr></thead><tbody><tr><td>default</td></tr><tr><td>information_schema</td></tr></tbody></table></div>"
      ]
     },
     "metadata": {
      "application/vnd.databricks.v1+output": {
       "addedWidgets": {},
       "aggData": [],
       "aggError": "",
       "aggOverflow": false,
       "aggSchema": [],
       "aggSeriesLimitReached": false,
       "aggType": "",
       "arguments": {},
       "columnCustomDisplayInfos": {},
       "data": [
        [
         "default"
        ],
        [
         "information_schema"
        ]
       ],
       "datasetInfos": [
        {
         "name": "_sqldf",
         "schema": {
          "fields": [
           {
            "metadata": {},
            "name": "databaseName",
            "nullable": false,
            "type": "string"
           }
          ],
          "type": "struct"
         },
         "tableIdentifier": null,
         "typeStr": "pyspark.sql.connect.dataframe.DataFrame"
        }
       ],
       "dbfsResultPath": null,
       "isJsonSchema": true,
       "metadata": {
        "createTempViewForImplicitDf": true,
        "dataframeName": "_sqldf",
        "executionCount": 41
       },
       "overflow": false,
       "plotOptions": {
        "customPlotOptions": {},
        "displayType": "table",
        "pivotAggregation": null,
        "pivotColumns": null,
        "xColumns": null,
        "yColumns": null
       },
       "removedWidgets": [],
       "schema": [
        {
         "metadata": "{}",
         "name": "databaseName",
         "type": "\"string\""
        }
       ],
       "type": "table"
      }
     },
     "output_type": "display_data"
    }
   ],
   "source": [
    "SHOW SCHEMAS IN workspace;"
   ]
  },
  {
   "cell_type": "markdown",
   "metadata": {
    "application/vnd.databricks.v1+cell": {
     "cellMetadata": {},
     "inputWidgets": {},
     "nuid": "e300ba67-d401-4453-a23c-8bc75da474b4",
     "showTitle": false,
     "tableResultSettingsMap": {},
     "title": ""
    }
   },
   "source": [
    "# Step 6: Save as Final Table"
   ]
  },
  {
   "cell_type": "code",
   "execution_count": 0,
   "metadata": {
    "application/vnd.databricks.v1+cell": {
     "cellMetadata": {
      "byteLimit": 2048000,
      "rowLimit": 10000
     },
     "inputWidgets": {},
     "nuid": "0a2543ad-afaf-4b5d-a0e8-84c704c6bf13",
     "showTitle": false,
     "tableResultSettingsMap": {},
     "title": ""
    }
   },
   "outputs": [],
   "source": [
    "CREATE OR REPLACE TEMP VIEW customer_cohorts AS\n",
    "SELECT\n",
    "  f.customer_id,\n",
    "  f.first_purchase_date,\n",
    "  s.second_purchase_date,\n",
    "  t.third_purchase_date,\n",
    "  fp.fourth_purchase_date,\n",
    "  DATEDIFF(s.second_purchase_date, f.first_purchase_date) AS days_between_1_and_2,\n",
    "  DATEDIFF(t.third_purchase_date, s.second_purchase_date) AS days_between_2_and_3,\n",
    "  DATEDIFF(fp.fourth_purchase_date, t.third_purchase_date) AS days_between_3_and_4,\n",
    "  DATE_TRUNC('month', f.first_purchase_date) AS cohort_month\n",
    "FROM first_purchase f\n",
    "LEFT JOIN second_purchase s ON f.customer_id = s.customer_id\n",
    "LEFT JOIN third_purchase t ON f.customer_id = t.customer_id\n",
    "LEFT JOIN fourth_purchase fp ON f.customer_id = fp.customer_id;\n"
   ]
  },
  {
   "cell_type": "markdown",
   "metadata": {
    "application/vnd.databricks.v1+cell": {
     "cellMetadata": {},
     "inputWidgets": {},
     "nuid": "04bb4e34-324f-43f2-9dd1-ac5cbdc01b3c",
     "showTitle": false,
     "tableResultSettingsMap": {},
     "title": ""
    }
   },
   "source": [
    "# CHECK"
   ]
  },
  {
   "cell_type": "code",
   "execution_count": 0,
   "metadata": {
    "application/vnd.databricks.v1+cell": {
     "cellMetadata": {
      "byteLimit": 2048000,
      "rowLimit": 10000
     },
     "inputWidgets": {},
     "nuid": "5665ab83-1a6b-44fe-b855-838e93273497",
     "showTitle": false,
     "tableResultSettingsMap": {},
     "title": ""
    }
   },
   "outputs": [
    {
     "output_type": "display_data",
     "data": {
      "text/html": [
       "<style scoped>\n",
       "  .table-result-container {\n",
       "    max-height: 300px;\n",
       "    overflow: auto;\n",
       "  }\n",
       "  table, th, td {\n",
       "    border: 1px solid black;\n",
       "    border-collapse: collapse;\n",
       "  }\n",
       "  th, td {\n",
       "    padding: 5px;\n",
       "  }\n",
       "  th {\n",
       "    text-align: left;\n",
       "  }\n",
       "</style><div class='table-result-container'><table class='table-result'><thead style='background-color: white'><tr><th>num_affected_rows</th><th>num_inserted_rows</th></tr></thead><tbody></tbody></table></div>"
      ]
     },
     "metadata": {
      "application/vnd.databricks.v1+output": {
       "addedWidgets": {},
       "aggData": [],
       "aggError": "",
       "aggOverflow": false,
       "aggSchema": [],
       "aggSeriesLimitReached": false,
       "aggType": "",
       "arguments": {},
       "columnCustomDisplayInfos": {},
       "data": [],
       "datasetInfos": [
        {
         "name": "_sqldf",
         "schema": {
          "fields": [
           {
            "metadata": {},
            "name": "num_affected_rows",
            "nullable": true,
            "type": "long"
           },
           {
            "metadata": {},
            "name": "num_inserted_rows",
            "nullable": true,
            "type": "long"
           }
          ],
          "type": "struct"
         },
         "tableIdentifier": null,
         "typeStr": "pyspark.sql.connect.dataframe.DataFrame"
        }
       ],
       "dbfsResultPath": null,
       "isJsonSchema": true,
       "metadata": {
        "createTempViewForImplicitDf": true,
        "dataframeName": "_sqldf",
        "executionCount": 57
       },
       "overflow": false,
       "plotOptions": {
        "customPlotOptions": {},
        "displayType": "table",
        "pivotAggregation": null,
        "pivotColumns": null,
        "xColumns": null,
        "yColumns": null
       },
       "removedWidgets": [],
       "schema": [
        {
         "metadata": "{}",
         "name": "num_affected_rows",
         "type": "\"long\""
        },
        {
         "metadata": "{}",
         "name": "num_inserted_rows",
         "type": "\"long\""
        }
       ],
       "type": "table"
      }
     },
     "output_type": "display_data"
    }
   ],
   "source": [
    "CREATE OR REPLACE TABLE cohort_analysis AS\n",
    "SELECT * FROM customer_cohorts;"
   ]
  },
  {
   "cell_type": "code",
   "execution_count": 0,
   "metadata": {
    "application/vnd.databricks.v1+cell": {
     "cellMetadata": {
      "byteLimit": 2048000,
      "rowLimit": 10000
     },
     "inputWidgets": {},
     "nuid": "7248d958-0574-4a5a-bddc-99c671f2c6b0",
     "showTitle": false,
     "tableResultSettingsMap": {},
     "title": ""
    }
   },
   "outputs": [
    {
     "output_type": "display_data",
     "data": {
      "text/html": [
       "<style scoped>\n",
       "  .table-result-container {\n",
       "    max-height: 300px;\n",
       "    overflow: auto;\n",
       "  }\n",
       "  table, th, td {\n",
       "    border: 1px solid black;\n",
       "    border-collapse: collapse;\n",
       "  }\n",
       "  th, td {\n",
       "    padding: 5px;\n",
       "  }\n",
       "  th {\n",
       "    text-align: left;\n",
       "  }\n",
       "</style><div class='table-result-container'><table class='table-result'><thead style='background-color: white'><tr><th>customer_id</th><th>first_purchase_date</th><th>second_purchase_date</th><th>third_purchase_date</th><th>fourth_purchase_date</th><th>days_between_1_and_2</th><th>days_between_2_and_3</th><th>days_between_3_and_4</th><th>cohort_month</th></tr></thead><tbody><tr><td>CUST038</td><td>2024-01-01</td><td>2024-03-27</td><td>2024-05-07</td><td>2024-05-29</td><td>86</td><td>41</td><td>22</td><td>2024-01-01T00:00:00.000Z</td></tr><tr><td>CUST030</td><td>2024-01-01</td><td>2024-01-27</td><td>2024-03-21</td><td>2024-08-16</td><td>26</td><td>54</td><td>148</td><td>2024-01-01T00:00:00.000Z</td></tr><tr><td>CUST137</td><td>2024-01-02</td><td>2024-02-18</td><td>2024-02-26</td><td>null</td><td>47</td><td>8</td><td>null</td><td>2024-01-01T00:00:00.000Z</td></tr><tr><td>CUST072</td><td>2024-01-02</td><td>2024-02-07</td><td>2024-02-19</td><td>2024-03-24</td><td>36</td><td>12</td><td>34</td><td>2024-01-01T00:00:00.000Z</td></tr><tr><td>CUST192</td><td>2024-01-02</td><td>2024-01-24</td><td>2024-03-13</td><td>2024-11-25</td><td>22</td><td>49</td><td>257</td><td>2024-01-01T00:00:00.000Z</td></tr><tr><td>CUST181</td><td>2024-01-03</td><td>2024-02-11</td><td>2024-03-07</td><td>2024-04-07</td><td>39</td><td>25</td><td>31</td><td>2024-01-01T00:00:00.000Z</td></tr><tr><td>CUST089</td><td>2024-01-03</td><td>2024-02-28</td><td>2024-03-07</td><td>2024-04-29</td><td>56</td><td>8</td><td>53</td><td>2024-01-01T00:00:00.000Z</td></tr><tr><td>CUST065</td><td>2024-01-03</td><td>2024-05-30</td><td>2024-06-29</td><td>2024-06-30</td><td>148</td><td>30</td><td>1</td><td>2024-01-01T00:00:00.000Z</td></tr><tr><td>CUST157</td><td>2024-01-03</td><td>2024-02-04</td><td>2024-02-12</td><td>2024-04-29</td><td>32</td><td>8</td><td>77</td><td>2024-01-01T00:00:00.000Z</td></tr><tr><td>CUST104</td><td>2024-01-04</td><td>2024-01-23</td><td>2024-02-21</td><td>2024-04-29</td><td>19</td><td>29</td><td>68</td><td>2024-01-01T00:00:00.000Z</td></tr><tr><td>CUST188</td><td>2024-01-06</td><td>2024-05-11</td><td>2024-06-14</td><td>2024-08-25</td><td>126</td><td>34</td><td>72</td><td>2024-01-01T00:00:00.000Z</td></tr><tr><td>CUST115</td><td>2024-01-06</td><td>2024-02-01</td><td>2024-02-14</td><td>2024-02-27</td><td>26</td><td>13</td><td>13</td><td>2024-01-01T00:00:00.000Z</td></tr><tr><td>CUST167</td><td>2024-01-06</td><td>2024-02-20</td><td>2024-08-20</td><td>null</td><td>45</td><td>182</td><td>null</td><td>2024-01-01T00:00:00.000Z</td></tr><tr><td>CUST011</td><td>2024-01-07</td><td>2024-02-03</td><td>2024-04-03</td><td>2024-06-25</td><td>27</td><td>60</td><td>83</td><td>2024-01-01T00:00:00.000Z</td></tr><tr><td>CUST162</td><td>2024-01-07</td><td>2024-03-09</td><td>null</td><td>null</td><td>62</td><td>null</td><td>null</td><td>2024-01-01T00:00:00.000Z</td></tr><tr><td>CUST095</td><td>2024-01-07</td><td>2024-01-19</td><td>2024-02-09</td><td>null</td><td>12</td><td>21</td><td>null</td><td>2024-01-01T00:00:00.000Z</td></tr><tr><td>CUST116</td><td>2024-01-09</td><td>2024-03-20</td><td>2024-04-22</td><td>2024-05-04</td><td>71</td><td>33</td><td>12</td><td>2024-01-01T00:00:00.000Z</td></tr><tr><td>CUST092</td><td>2024-01-09</td><td>2024-05-03</td><td>2024-08-04</td><td>null</td><td>115</td><td>93</td><td>null</td><td>2024-01-01T00:00:00.000Z</td></tr><tr><td>CUST054</td><td>2024-01-09</td><td>2024-05-15</td><td>2024-05-26</td><td>null</td><td>127</td><td>11</td><td>null</td><td>2024-01-01T00:00:00.000Z</td></tr><tr><td>CUST108</td><td>2024-01-10</td><td>2024-05-19</td><td>2024-06-16</td><td>2024-07-17</td><td>130</td><td>28</td><td>31</td><td>2024-01-01T00:00:00.000Z</td></tr><tr><td>CUST060</td><td>2024-01-10</td><td>2024-03-24</td><td>2024-04-13</td><td>2024-11-01</td><td>74</td><td>20</td><td>202</td><td>2024-01-01T00:00:00.000Z</td></tr><tr><td>CUST101</td><td>2024-01-10</td><td>2024-01-13</td><td>2024-03-10</td><td>2024-10-07</td><td>3</td><td>57</td><td>211</td><td>2024-01-01T00:00:00.000Z</td></tr><tr><td>CUST017</td><td>2024-01-11</td><td>2024-02-28</td><td>2024-05-03</td><td>null</td><td>48</td><td>65</td><td>null</td><td>2024-01-01T00:00:00.000Z</td></tr><tr><td>CUST109</td><td>2024-01-13</td><td>2024-03-12</td><td>2024-04-26</td><td>2024-05-24</td><td>59</td><td>45</td><td>28</td><td>2024-01-01T00:00:00.000Z</td></tr><tr><td>CUST020</td><td>2024-01-13</td><td>2024-05-04</td><td>2024-05-06</td><td>2024-07-01</td><td>112</td><td>2</td><td>56</td><td>2024-01-01T00:00:00.000Z</td></tr><tr><td>CUST076</td><td>2024-01-14</td><td>2024-02-04</td><td>2024-02-29</td><td>2024-04-11</td><td>21</td><td>25</td><td>42</td><td>2024-01-01T00:00:00.000Z</td></tr><tr><td>CUST003</td><td>2024-01-14</td><td>2024-05-28</td><td>2024-07-18</td><td>null</td><td>135</td><td>51</td><td>null</td><td>2024-01-01T00:00:00.000Z</td></tr><tr><td>CUST102</td><td>2024-01-14</td><td>2024-06-08</td><td>2024-06-23</td><td>2024-07-31</td><td>146</td><td>15</td><td>38</td><td>2024-01-01T00:00:00.000Z</td></tr><tr><td>CUST034</td><td>2024-01-14</td><td>2024-03-13</td><td>2024-04-18</td><td>2024-05-15</td><td>59</td><td>36</td><td>27</td><td>2024-01-01T00:00:00.000Z</td></tr><tr><td>CUST090</td><td>2024-01-15</td><td>2024-03-31</td><td>2024-04-17</td><td>2024-12-05</td><td>76</td><td>17</td><td>232</td><td>2024-01-01T00:00:00.000Z</td></tr><tr><td>CUST063</td><td>2024-01-15</td><td>2024-04-19</td><td>2024-06-15</td><td>2024-07-17</td><td>95</td><td>57</td><td>32</td><td>2024-01-01T00:00:00.000Z</td></tr><tr><td>CUST039</td><td>2024-01-16</td><td>2024-02-17</td><td>2024-07-11</td><td>2024-07-16</td><td>32</td><td>145</td><td>5</td><td>2024-01-01T00:00:00.000Z</td></tr><tr><td>CUST057</td><td>2024-01-16</td><td>2024-05-01</td><td>2024-05-26</td><td>2024-06-06</td><td>106</td><td>25</td><td>11</td><td>2024-01-01T00:00:00.000Z</td></tr><tr><td>CUST006</td><td>2024-01-18</td><td>2024-03-31</td><td>2024-04-24</td><td>2024-06-02</td><td>73</td><td>24</td><td>39</td><td>2024-01-01T00:00:00.000Z</td></tr><tr><td>CUST179</td><td>2024-01-18</td><td>2024-02-04</td><td>2024-03-27</td><td>2024-05-23</td><td>17</td><td>52</td><td>57</td><td>2024-01-01T00:00:00.000Z</td></tr><tr><td>CUST121</td><td>2024-01-18</td><td>2024-01-19</td><td>2024-02-08</td><td>2024-05-18</td><td>1</td><td>20</td><td>100</td><td>2024-01-01T00:00:00.000Z</td></tr><tr><td>CUST091</td><td>2024-01-19</td><td>2024-01-31</td><td>2024-02-14</td><td>2024-03-24</td><td>12</td><td>14</td><td>39</td><td>2024-01-01T00:00:00.000Z</td></tr><tr><td>CUST019</td><td>2024-01-20</td><td>2024-02-04</td><td>2024-02-06</td><td>2024-03-09</td><td>15</td><td>2</td><td>32</td><td>2024-01-01T00:00:00.000Z</td></tr><tr><td>CUST189</td><td>2024-01-20</td><td>2024-02-07</td><td>2024-03-06</td><td>2024-06-02</td><td>18</td><td>28</td><td>88</td><td>2024-01-01T00:00:00.000Z</td></tr><tr><td>CUST131</td><td>2024-01-20</td><td>2024-03-21</td><td>2024-05-15</td><td>2024-05-22</td><td>61</td><td>55</td><td>7</td><td>2024-01-01T00:00:00.000Z</td></tr><tr><td>CUST098</td><td>2024-01-20</td><td>2024-01-30</td><td>2024-02-05</td><td>2024-03-09</td><td>10</td><td>6</td><td>33</td><td>2024-01-01T00:00:00.000Z</td></tr><tr><td>CUST170</td><td>2024-01-21</td><td>2024-02-05</td><td>2024-02-23</td><td>2024-03-04</td><td>15</td><td>18</td><td>10</td><td>2024-01-01T00:00:00.000Z</td></tr><tr><td>CUST198</td><td>2024-01-21</td><td>2024-02-29</td><td>2024-03-30</td><td>2024-05-20</td><td>39</td><td>30</td><td>51</td><td>2024-01-01T00:00:00.000Z</td></tr><tr><td>CUST069</td><td>2024-01-21</td><td>2024-01-23</td><td>2024-03-02</td><td>2024-06-03</td><td>2</td><td>39</td><td>93</td><td>2024-01-01T00:00:00.000Z</td></tr><tr><td>CUST146</td><td>2024-01-21</td><td>2024-01-25</td><td>2024-02-14</td><td>2024-07-06</td><td>4</td><td>20</td><td>143</td><td>2024-01-01T00:00:00.000Z</td></tr><tr><td>CUST016</td><td>2024-01-22</td><td>2024-03-11</td><td>2024-06-16</td><td>2024-09-13</td><td>49</td><td>97</td><td>89</td><td>2024-01-01T00:00:00.000Z</td></tr><tr><td>CUST062</td><td>2024-01-22</td><td>2024-02-18</td><td>2024-04-01</td><td>2024-05-03</td><td>27</td><td>43</td><td>32</td><td>2024-01-01T00:00:00.000Z</td></tr><tr><td>CUST083</td><td>2024-01-23</td><td>2024-02-17</td><td>2024-03-24</td><td>2024-04-07</td><td>25</td><td>36</td><td>14</td><td>2024-01-01T00:00:00.000Z</td></tr><tr><td>CUST150</td><td>2024-01-24</td><td>2024-02-01</td><td>2024-06-26</td><td>2024-07-03</td><td>8</td><td>146</td><td>7</td><td>2024-01-01T00:00:00.000Z</td></tr><tr><td>CUST008</td><td>2024-01-24</td><td>2024-05-31</td><td>2024-07-15</td><td>2024-07-17</td><td>128</td><td>45</td><td>2</td><td>2024-01-01T00:00:00.000Z</td></tr><tr><td>CUST182</td><td>2024-01-25</td><td>2024-04-01</td><td>2024-04-24</td><td>2024-05-18</td><td>67</td><td>23</td><td>24</td><td>2024-01-01T00:00:00.000Z</td></tr><tr><td>CUST172</td><td>2024-01-25</td><td>2024-03-25</td><td>2024-06-15</td><td>2024-08-04</td><td>60</td><td>82</td><td>50</td><td>2024-01-01T00:00:00.000Z</td></tr><tr><td>CUST174</td><td>2024-01-25</td><td>2024-02-05</td><td>2024-04-03</td><td>null</td><td>11</td><td>58</td><td>null</td><td>2024-01-01T00:00:00.000Z</td></tr><tr><td>CUST041</td><td>2024-01-25</td><td>2024-06-16</td><td>2024-06-26</td><td>2024-07-13</td><td>143</td><td>10</td><td>17</td><td>2024-01-01T00:00:00.000Z</td></tr><tr><td>CUST087</td><td>2024-01-25</td><td>2024-06-18</td><td>2024-07-07</td><td>null</td><td>145</td><td>19</td><td>null</td><td>2024-01-01T00:00:00.000Z</td></tr><tr><td>CUST077</td><td>2024-01-26</td><td>2024-05-31</td><td>2024-06-05</td><td>2024-06-25</td><td>126</td><td>5</td><td>20</td><td>2024-01-01T00:00:00.000Z</td></tr><tr><td>CUST143</td><td>2024-01-26</td><td>2024-04-21</td><td>2024-05-17</td><td>2024-05-23</td><td>86</td><td>26</td><td>6</td><td>2024-01-01T00:00:00.000Z</td></tr><tr><td>CUST061</td><td>2024-01-27</td><td>2024-03-25</td><td>2024-05-20</td><td>2024-08-06</td><td>58</td><td>56</td><td>78</td><td>2024-01-01T00:00:00.000Z</td></tr><tr><td>CUST046</td><td>2024-01-28</td><td>2024-02-18</td><td>2024-03-30</td><td>null</td><td>21</td><td>41</td><td>null</td><td>2024-01-01T00:00:00.000Z</td></tr><tr><td>CUST045</td><td>2024-01-29</td><td>2024-02-11</td><td>2024-04-12</td><td>2024-04-21</td><td>13</td><td>61</td><td>9</td><td>2024-01-01T00:00:00.000Z</td></tr><tr><td>CUST200</td><td>2024-01-29</td><td>2024-02-14</td><td>2024-03-02</td><td>2024-04-27</td><td>16</td><td>17</td><td>56</td><td>2024-01-01T00:00:00.000Z</td></tr><tr><td>CUST099</td><td>2024-01-30</td><td>2024-06-20</td><td>2024-07-24</td><td>2024-09-11</td><td>142</td><td>34</td><td>49</td><td>2024-01-01T00:00:00.000Z</td></tr><tr><td>CUST119</td><td>2024-01-31</td><td>2024-03-20</td><td>2024-05-23</td><td>2024-05-27</td><td>49</td><td>64</td><td>4</td><td>2024-01-01T00:00:00.000Z</td></tr><tr><td>CUST004</td><td>2024-01-31</td><td>2024-02-24</td><td>2024-03-31</td><td>2024-09-30</td><td>24</td><td>36</td><td>183</td><td>2024-01-01T00:00:00.000Z</td></tr><tr><td>CUST149</td><td>2024-01-31</td><td>2024-04-07</td><td>2024-05-06</td><td>2024-05-28</td><td>67</td><td>29</td><td>22</td><td>2024-01-01T00:00:00.000Z</td></tr><tr><td>CUST126</td><td>2024-01-31</td><td>2024-04-16</td><td>2024-05-14</td><td>2024-05-26</td><td>76</td><td>28</td><td>12</td><td>2024-01-01T00:00:00.000Z</td></tr><tr><td>CUST074</td><td>2024-02-01</td><td>2024-10-22</td><td>null</td><td>null</td><td>264</td><td>null</td><td>null</td><td>2024-02-01T00:00:00.000Z</td></tr><tr><td>CUST007</td><td>2024-02-02</td><td>2024-03-04</td><td>2024-04-18</td><td>2024-05-07</td><td>31</td><td>45</td><td>19</td><td>2024-02-01T00:00:00.000Z</td></tr><tr><td>CUST032</td><td>2024-02-02</td><td>2024-05-13</td><td>2024-06-21</td><td>2024-06-26</td><td>101</td><td>39</td><td>5</td><td>2024-02-01T00:00:00.000Z</td></tr><tr><td>CUST068</td><td>2024-02-02</td><td>2024-04-12</td><td>2024-04-24</td><td>2024-05-31</td><td>70</td><td>12</td><td>37</td><td>2024-02-01T00:00:00.000Z</td></tr><tr><td>CUST186</td><td>2024-02-03</td><td>2024-02-21</td><td>2024-03-25</td><td>2024-04-14</td><td>18</td><td>33</td><td>20</td><td>2024-02-01T00:00:00.000Z</td></tr><tr><td>CUST165</td><td>2024-02-03</td><td>2024-03-22</td><td>2024-04-24</td><td>2024-07-20</td><td>48</td><td>33</td><td>87</td><td>2024-02-01T00:00:00.000Z</td></tr><tr><td>CUST166</td><td>2024-02-03</td><td>2024-05-14</td><td>2024-06-18</td><td>2024-07-25</td><td>101</td><td>35</td><td>37</td><td>2024-02-01T00:00:00.000Z</td></tr><tr><td>CUST055</td><td>2024-02-03</td><td>2024-02-27</td><td>2024-03-09</td><td>2024-03-24</td><td>24</td><td>11</td><td>15</td><td>2024-02-01T00:00:00.000Z</td></tr><tr><td>CUST163</td><td>2024-02-04</td><td>2024-04-30</td><td>2024-05-28</td><td>2024-07-22</td><td>86</td><td>28</td><td>55</td><td>2024-02-01T00:00:00.000Z</td></tr><tr><td>CUST113</td><td>2024-02-04</td><td>2024-03-23</td><td>2024-05-04</td><td>2024-06-04</td><td>48</td><td>42</td><td>31</td><td>2024-02-01T00:00:00.000Z</td></tr><tr><td>CUST169</td><td>2024-02-05</td><td>2024-03-14</td><td>2024-04-30</td><td>null</td><td>38</td><td>47</td><td>null</td><td>2024-02-01T00:00:00.000Z</td></tr><tr><td>CUST153</td><td>2024-02-06</td><td>2024-06-08</td><td>2024-06-29</td><td>2024-07-03</td><td>123</td><td>21</td><td>4</td><td>2024-02-01T00:00:00.000Z</td></tr><tr><td>CUST043</td><td>2024-02-06</td><td>2024-04-27</td><td>2024-05-08</td><td>2024-06-08</td><td>81</td><td>11</td><td>31</td><td>2024-02-01T00:00:00.000Z</td></tr><tr><td>CUST050</td><td>2024-02-06</td><td>2024-02-27</td><td>2024-06-05</td><td>2024-09-03</td><td>21</td><td>99</td><td>90</td><td>2024-02-01T00:00:00.000Z</td></tr><tr><td>CUST040</td><td>2024-02-06</td><td>2024-03-01</td><td>2024-04-21</td><td>null</td><td>24</td><td>51</td><td>null</td><td>2024-02-01T00:00:00.000Z</td></tr><tr><td>CUST190</td><td>2024-02-06</td><td>2024-06-20</td><td>2024-07-27</td><td>2024-08-19</td><td>135</td><td>37</td><td>23</td><td>2024-02-01T00:00:00.000Z</td></tr><tr><td>CUST029</td><td>2024-02-07</td><td>2024-03-06</td><td>2024-03-28</td><td>2024-06-01</td><td>28</td><td>22</td><td>65</td><td>2024-02-01T00:00:00.000Z</td></tr><tr><td>CUST110</td><td>2024-02-08</td><td>2024-02-09</td><td>2024-04-23</td><td>2024-05-08</td><td>1</td><td>74</td><td>15</td><td>2024-02-01T00:00:00.000Z</td></tr><tr><td>CUST086</td><td>2024-02-08</td><td>2024-03-16</td><td>2024-09-13</td><td>null</td><td>37</td><td>181</td><td>null</td><td>2024-02-01T00:00:00.000Z</td></tr><tr><td>CUST067</td><td>2024-02-09</td><td>2024-03-25</td><td>2024-05-24</td><td>null</td><td>45</td><td>60</td><td>null</td><td>2024-02-01T00:00:00.000Z</td></tr><tr><td>CUST147</td><td>2024-02-10</td><td>2024-03-23</td><td>2024-03-28</td><td>2024-06-07</td><td>42</td><td>5</td><td>71</td><td>2024-02-01T00:00:00.000Z</td></tr><tr><td>CUST161</td><td>2024-02-13</td><td>2024-04-21</td><td>2024-05-09</td><td>2024-05-26</td><td>68</td><td>18</td><td>17</td><td>2024-02-01T00:00:00.000Z</td></tr><tr><td>CUST033</td><td>2024-02-13</td><td>2024-04-13</td><td>2024-07-13</td><td>2024-11-09</td><td>60</td><td>91</td><td>119</td><td>2024-02-01T00:00:00.000Z</td></tr><tr><td>CUST053</td><td>2024-02-13</td><td>2024-03-07</td><td>2024-03-29</td><td>2024-06-26</td><td>23</td><td>22</td><td>89</td><td>2024-02-01T00:00:00.000Z</td></tr><tr><td>CUST026</td><td>2024-02-14</td><td>null</td><td>null</td><td>null</td><td>null</td><td>null</td><td>null</td><td>2024-02-01T00:00:00.000Z</td></tr><tr><td>CUST152</td><td>2024-02-14</td><td>2024-06-07</td><td>2024-06-28</td><td>2024-07-24</td><td>114</td><td>21</td><td>26</td><td>2024-02-01T00:00:00.000Z</td></tr><tr><td>CUST023</td><td>2024-02-15</td><td>2024-09-15</td><td>2024-11-01</td><td>2024-12-14</td><td>213</td><td>47</td><td>43</td><td>2024-02-01T00:00:00.000Z</td></tr><tr><td>CUST012</td><td>2024-02-15</td><td>2024-03-04</td><td>2024-04-14</td><td>2024-05-03</td><td>18</td><td>41</td><td>19</td><td>2024-02-01T00:00:00.000Z</td></tr><tr><td>CUST122</td><td>2024-02-15</td><td>2024-03-08</td><td>2024-04-26</td><td>2024-06-02</td><td>22</td><td>49</td><td>37</td><td>2024-02-01T00:00:00.000Z</td></tr><tr><td>CUST051</td><td>2024-02-15</td><td>2024-04-08</td><td>2024-04-24</td><td>2024-09-12</td><td>53</td><td>16</td><td>141</td><td>2024-02-01T00:00:00.000Z</td></tr><tr><td>CUST130</td><td>2024-02-16</td><td>2024-06-24</td><td>2024-07-06</td><td>2024-09-10</td><td>129</td><td>12</td><td>66</td><td>2024-02-01T00:00:00.000Z</td></tr><tr><td>CUST103</td><td>2024-02-16</td><td>2024-02-24</td><td>2024-05-08</td><td>2024-05-28</td><td>8</td><td>74</td><td>20</td><td>2024-02-01T00:00:00.000Z</td></tr><tr><td>CUST141</td><td>2024-02-17</td><td>2024-04-02</td><td>2024-06-29</td><td>2024-08-26</td><td>45</td><td>88</td><td>58</td><td>2024-02-01T00:00:00.000Z</td></tr><tr><td>CUST066</td><td>2024-02-18</td><td>2024-06-26</td><td>2024-07-21</td><td>2024-08-04</td><td>129</td><td>25</td><td>14</td><td>2024-02-01T00:00:00.000Z</td></tr><tr><td>CUST093</td><td>2024-02-18</td><td>2024-04-27</td><td>2024-05-01</td><td>2024-07-10</td><td>69</td><td>4</td><td>70</td><td>2024-02-01T00:00:00.000Z</td></tr><tr><td>CUST173</td><td>2024-02-19</td><td>2024-03-23</td><td>2024-05-02</td><td>null</td><td>33</td><td>40</td><td>null</td><td>2024-02-01T00:00:00.000Z</td></tr><tr><td>CUST177</td><td>2024-02-20</td><td>2024-03-18</td><td>2024-04-19</td><td>2024-10-24</td><td>27</td><td>32</td><td>188</td><td>2024-02-01T00:00:00.000Z</td></tr><tr><td>CUST114</td><td>2024-02-21</td><td>2024-03-30</td><td>2024-07-25</td><td>2024-09-27</td><td>38</td><td>117</td><td>64</td><td>2024-02-01T00:00:00.000Z</td></tr><tr><td>CUST071</td><td>2024-02-21</td><td>2024-04-09</td><td>2024-05-04</td><td>2024-06-28</td><td>48</td><td>25</td><td>55</td><td>2024-02-01T00:00:00.000Z</td></tr><tr><td>CUST059</td><td>2024-02-21</td><td>2024-03-12</td><td>2024-03-27</td><td>2024-04-26</td><td>20</td><td>15</td><td>30</td><td>2024-02-01T00:00:00.000Z</td></tr><tr><td>CUST111</td><td>2024-02-22</td><td>2024-03-21</td><td>2024-04-21</td><td>2024-08-04</td><td>28</td><td>31</td><td>105</td><td>2024-02-01T00:00:00.000Z</td></tr><tr><td>CUST105</td><td>2024-02-23</td><td>2024-03-13</td><td>2024-04-13</td><td>2024-06-06</td><td>19</td><td>31</td><td>54</td><td>2024-02-01T00:00:00.000Z</td></tr><tr><td>CUST145</td><td>2024-02-25</td><td>2024-04-27</td><td>2024-05-08</td><td>2024-06-05</td><td>62</td><td>11</td><td>28</td><td>2024-02-01T00:00:00.000Z</td></tr><tr><td>CUST140</td><td>2024-02-25</td><td>2024-04-14</td><td>2024-05-02</td><td>2024-06-23</td><td>49</td><td>18</td><td>52</td><td>2024-02-01T00:00:00.000Z</td></tr><tr><td>CUST184</td><td>2024-02-25</td><td>2024-04-02</td><td>2024-10-13</td><td>null</td><td>37</td><td>194</td><td>null</td><td>2024-02-01T00:00:00.000Z</td></tr><tr><td>CUST160</td><td>2024-02-25</td><td>2024-03-12</td><td>2024-07-11</td><td>null</td><td>16</td><td>121</td><td>null</td><td>2024-02-01T00:00:00.000Z</td></tr><tr><td>CUST025</td><td>2024-02-28</td><td>2024-02-29</td><td>2024-05-07</td><td>2024-06-22</td><td>1</td><td>68</td><td>46</td><td>2024-02-01T00:00:00.000Z</td></tr><tr><td>CUST096</td><td>2024-02-29</td><td>2024-03-14</td><td>2024-04-01</td><td>2024-07-28</td><td>14</td><td>18</td><td>118</td><td>2024-02-01T00:00:00.000Z</td></tr><tr><td>CUST196</td><td>2024-03-02</td><td>2024-06-24</td><td>2024-07-16</td><td>2024-08-07</td><td>114</td><td>22</td><td>22</td><td>2024-03-01T00:00:00.000Z</td></tr><tr><td>CUST151</td><td>2024-03-03</td><td>2024-04-08</td><td>2024-04-14</td><td>2024-05-25</td><td>36</td><td>6</td><td>41</td><td>2024-03-01T00:00:00.000Z</td></tr><tr><td>CUST112</td><td>2024-03-03</td><td>2024-03-19</td><td>2024-04-10</td><td>2024-04-13</td><td>16</td><td>22</td><td>3</td><td>2024-03-01T00:00:00.000Z</td></tr><tr><td>CUST124</td><td>2024-03-04</td><td>2024-04-29</td><td>2024-06-03</td><td>2024-06-27</td><td>56</td><td>35</td><td>24</td><td>2024-03-01T00:00:00.000Z</td></tr><tr><td>CUST185</td><td>2024-03-04</td><td>2024-03-26</td><td>2024-04-04</td><td>2024-05-12</td><td>22</td><td>9</td><td>38</td><td>2024-03-01T00:00:00.000Z</td></tr><tr><td>CUST097</td><td>2024-03-04</td><td>2024-04-11</td><td>2024-04-20</td><td>2024-05-27</td><td>38</td><td>9</td><td>37</td><td>2024-03-01T00:00:00.000Z</td></tr><tr><td>CUST088</td><td>2024-03-05</td><td>2024-04-17</td><td>null</td><td>null</td><td>43</td><td>null</td><td>null</td><td>2024-03-01T00:00:00.000Z</td></tr><tr><td>CUST180</td><td>2024-03-06</td><td>2024-05-12</td><td>2024-05-24</td><td>2024-06-19</td><td>67</td><td>12</td><td>26</td><td>2024-03-01T00:00:00.000Z</td></tr><tr><td>CUST127</td><td>2024-03-07</td><td>2024-03-26</td><td>2024-06-02</td><td>2024-07-10</td><td>19</td><td>68</td><td>38</td><td>2024-03-01T00:00:00.000Z</td></tr><tr><td>CUST024</td><td>2024-03-07</td><td>2024-05-18</td><td>2024-06-29</td><td>2024-10-30</td><td>72</td><td>42</td><td>123</td><td>2024-03-01T00:00:00.000Z</td></tr><tr><td>CUST159</td><td>2024-03-08</td><td>2024-04-08</td><td>2024-04-17</td><td>2024-08-12</td><td>31</td><td>9</td><td>117</td><td>2024-03-01T00:00:00.000Z</td></tr><tr><td>CUST133</td><td>2024-03-11</td><td>2024-03-12</td><td>2024-04-18</td><td>2024-04-29</td><td>1</td><td>37</td><td>11</td><td>2024-03-01T00:00:00.000Z</td></tr><tr><td>CUST021</td><td>2024-03-11</td><td>2024-03-16</td><td>2024-07-10</td><td>null</td><td>5</td><td>116</td><td>null</td><td>2024-03-01T00:00:00.000Z</td></tr><tr><td>CUST049</td><td>2024-03-12</td><td>2024-04-30</td><td>2024-05-24</td><td>2024-06-06</td><td>49</td><td>24</td><td>13</td><td>2024-03-01T00:00:00.000Z</td></tr><tr><td>CUST187</td><td>2024-03-13</td><td>2024-05-28</td><td>2024-06-29</td><td>2024-08-18</td><td>76</td><td>32</td><td>50</td><td>2024-03-01T00:00:00.000Z</td></tr><tr><td>CUST123</td><td>2024-03-13</td><td>2024-05-20</td><td>2024-06-07</td><td>2024-10-13</td><td>68</td><td>18</td><td>128</td><td>2024-03-01T00:00:00.000Z</td></tr><tr><td>CUST031</td><td>2024-03-14</td><td>2024-06-26</td><td>2024-08-12</td><td>2024-12-19</td><td>104</td><td>47</td><td>129</td><td>2024-03-01T00:00:00.000Z</td></tr><tr><td>CUST197</td><td>2024-03-15</td><td>2024-05-12</td><td>2024-06-13</td><td>2024-09-23</td><td>58</td><td>32</td><td>102</td><td>2024-03-01T00:00:00.000Z</td></tr><tr><td>CUST081</td><td>2024-03-15</td><td>2024-04-28</td><td>2024-11-22</td><td>null</td><td>44</td><td>208</td><td>null</td><td>2024-03-01T00:00:00.000Z</td></tr><tr><td>CUST005</td><td>2024-03-16</td><td>2024-03-25</td><td>2024-04-04</td><td>2024-05-19</td><td>9</td><td>10</td><td>45</td><td>2024-03-01T00:00:00.000Z</td></tr><tr><td>CUST085</td><td>2024-03-16</td><td>2024-05-02</td><td>2024-06-17</td><td>2024-06-25</td><td>47</td><td>46</td><td>8</td><td>2024-03-01T00:00:00.000Z</td></tr><tr><td>CUST010</td><td>2024-03-16</td><td>2024-04-20</td><td>2024-07-07</td><td>null</td><td>35</td><td>78</td><td>null</td><td>2024-03-01T00:00:00.000Z</td></tr><tr><td>CUST199</td><td>2024-03-19</td><td>2024-04-22</td><td>2024-06-15</td><td>2024-07-17</td><td>34</td><td>54</td><td>32</td><td>2024-03-01T00:00:00.000Z</td></tr><tr><td>CUST158</td><td>2024-03-20</td><td>2024-06-29</td><td>2024-11-13</td><td>null</td><td>101</td><td>137</td><td>null</td><td>2024-03-01T00:00:00.000Z</td></tr><tr><td>CUST100</td><td>2024-03-20</td><td>2024-05-05</td><td>2024-05-06</td><td>2024-07-13</td><td>46</td><td>1</td><td>68</td><td>2024-03-01T00:00:00.000Z</td></tr><tr><td>CUST027</td><td>2024-03-21</td><td>2024-04-27</td><td>2024-06-23</td><td>2024-07-18</td><td>37</td><td>57</td><td>25</td><td>2024-03-01T00:00:00.000Z</td></tr><tr><td>CUST148</td><td>2024-03-23</td><td>2024-07-21</td><td>null</td><td>null</td><td>120</td><td>null</td><td>null</td><td>2024-03-01T00:00:00.000Z</td></tr><tr><td>CUST135</td><td>2024-03-25</td><td>2024-03-27</td><td>2024-05-22</td><td>2024-06-01</td><td>2</td><td>56</td><td>10</td><td>2024-03-01T00:00:00.000Z</td></tr><tr><td>CUST144</td><td>2024-03-25</td><td>2024-03-27</td><td>2024-04-17</td><td>2024-08-14</td><td>2</td><td>21</td><td>119</td><td>2024-03-01T00:00:00.000Z</td></tr><tr><td>CUST073</td><td>2024-03-26</td><td>2024-05-02</td><td>2024-06-27</td><td>2024-07-06</td><td>37</td><td>56</td><td>9</td><td>2024-03-01T00:00:00.000Z</td></tr><tr><td>CUST106</td><td>2024-03-27</td><td>2024-04-05</td><td>2024-06-23</td><td>2024-08-04</td><td>9</td><td>79</td><td>42</td><td>2024-03-01T00:00:00.000Z</td></tr><tr><td>CUST142</td><td>2024-03-28</td><td>2024-05-30</td><td>2024-07-15</td><td>2024-07-16</td><td>63</td><td>46</td><td>1</td><td>2024-03-01T00:00:00.000Z</td></tr><tr><td>CUST138</td><td>2024-03-29</td><td>2024-04-25</td><td>2024-06-05</td><td>2024-08-30</td><td>27</td><td>41</td><td>86</td><td>2024-03-01T00:00:00.000Z</td></tr><tr><td>CUST018</td><td>2024-04-01</td><td>2024-04-30</td><td>2024-05-02</td><td>2024-06-15</td><td>29</td><td>2</td><td>44</td><td>2024-04-01T00:00:00.000Z</td></tr><tr><td>CUST052</td><td>2024-04-02</td><td>2024-05-19</td><td>2024-06-25</td><td>2024-07-01</td><td>47</td><td>37</td><td>6</td><td>2024-04-01T00:00:00.000Z</td></tr><tr><td>CUST191</td><td>2024-04-03</td><td>2024-04-27</td><td>2024-05-07</td><td>2024-06-12</td><td>24</td><td>10</td><td>36</td><td>2024-04-01T00:00:00.000Z</td></tr><tr><td>CUST094</td><td>2024-04-03</td><td>null</td><td>null</td><td>null</td><td>null</td><td>null</td><td>null</td><td>2024-04-01T00:00:00.000Z</td></tr><tr><td>CUST070</td><td>2024-04-04</td><td>2024-04-15</td><td>2024-07-03</td><td>2024-09-05</td><td>11</td><td>79</td><td>64</td><td>2024-04-01T00:00:00.000Z</td></tr><tr><td>CUST176</td><td>2024-04-05</td><td>2024-05-23</td><td>2024-06-29</td><td>2024-08-14</td><td>48</td><td>37</td><td>46</td><td>2024-04-01T00:00:00.000Z</td></tr><tr><td>CUST042</td><td>2024-04-07</td><td>2024-05-27</td><td>2024-06-17</td><td>2024-07-24</td><td>50</td><td>21</td><td>37</td><td>2024-04-01T00:00:00.000Z</td></tr><tr><td>CUST078</td><td>2024-04-08</td><td>2024-05-03</td><td>2024-05-24</td><td>2024-06-05</td><td>25</td><td>21</td><td>12</td><td>2024-04-01T00:00:00.000Z</td></tr><tr><td>CUST195</td><td>2024-04-08</td><td>2024-04-23</td><td>2024-05-18</td><td>2024-05-21</td><td>15</td><td>25</td><td>3</td><td>2024-04-01T00:00:00.000Z</td></tr><tr><td>CUST194</td><td>2024-04-10</td><td>2024-04-21</td><td>2024-06-13</td><td>2024-08-12</td><td>11</td><td>53</td><td>60</td><td>2024-04-01T00:00:00.000Z</td></tr><tr><td>CUST002</td><td>2024-04-11</td><td>2024-05-24</td><td>2024-07-22</td><td>null</td><td>43</td><td>59</td><td>null</td><td>2024-04-01T00:00:00.000Z</td></tr><tr><td>CUST001</td><td>2024-04-12</td><td>2024-06-02</td><td>2024-07-26</td><td>2024-10-12</td><td>51</td><td>54</td><td>78</td><td>2024-04-01T00:00:00.000Z</td></tr><tr><td>CUST080</td><td>2024-04-13</td><td>2024-05-12</td><td>2024-05-23</td><td>2024-07-17</td><td>29</td><td>11</td><td>55</td><td>2024-04-01T00:00:00.000Z</td></tr><tr><td>CUST134</td><td>2024-04-15</td><td>2024-04-24</td><td>null</td><td>null</td><td>9</td><td>null</td><td>null</td><td>2024-04-01T00:00:00.000Z</td></tr><tr><td>CUST015</td><td>2024-04-15</td><td>2024-06-05</td><td>2024-07-03</td><td>2024-12-02</td><td>51</td><td>28</td><td>152</td><td>2024-04-01T00:00:00.000Z</td></tr><tr><td>CUST139</td><td>2024-04-18</td><td>2024-04-25</td><td>2024-05-28</td><td>2024-08-03</td><td>7</td><td>33</td><td>67</td><td>2024-04-01T00:00:00.000Z</td></tr><tr><td>CUST082</td><td>2024-04-20</td><td>2024-05-20</td><td>2024-06-04</td><td>2024-09-09</td><td>30</td><td>15</td><td>97</td><td>2024-04-01T00:00:00.000Z</td></tr><tr><td>CUST048</td><td>2024-04-20</td><td>2024-06-28</td><td>2024-07-15</td><td>2024-08-30</td><td>69</td><td>17</td><td>46</td><td>2024-04-01T00:00:00.000Z</td></tr><tr><td>CUST154</td><td>2024-04-21</td><td>2024-05-10</td><td>2024-06-22</td><td>2024-12-04</td><td>19</td><td>43</td><td>165</td><td>2024-04-01T00:00:00.000Z</td></tr><tr><td>CUST107</td><td>2024-04-22</td><td>2024-10-11</td><td>null</td><td>null</td><td>172</td><td>null</td><td>null</td><td>2024-04-01T00:00:00.000Z</td></tr><tr><td>CUST183</td><td>2024-04-23</td><td>2024-06-08</td><td>2024-07-13</td><td>2024-09-28</td><td>46</td><td>35</td><td>77</td><td>2024-04-01T00:00:00.000Z</td></tr><tr><td>CUST156</td><td>2024-04-23</td><td>2024-06-20</td><td>null</td><td>null</td><td>58</td><td>null</td><td>null</td><td>2024-04-01T00:00:00.000Z</td></tr><tr><td>CUST084</td><td>2024-04-24</td><td>2024-05-18</td><td>2024-07-05</td><td>2024-07-22</td><td>24</td><td>48</td><td>17</td><td>2024-04-01T00:00:00.000Z</td></tr><tr><td>CUST079</td><td>2024-04-29</td><td>2024-05-26</td><td>2024-06-20</td><td>2024-12-28</td><td>27</td><td>25</td><td>191</td><td>2024-04-01T00:00:00.000Z</td></tr><tr><td>CUST056</td><td>2024-04-29</td><td>2024-05-01</td><td>2024-05-16</td><td>2024-05-21</td><td>2</td><td>15</td><td>5</td><td>2024-04-01T00:00:00.000Z</td></tr><tr><td>CUST013</td><td>2024-04-30</td><td>2024-06-23</td><td>2024-10-25</td><td>null</td><td>54</td><td>124</td><td>null</td><td>2024-04-01T00:00:00.000Z</td></tr><tr><td>CUST075</td><td>2024-04-30</td><td>2024-06-22</td><td>2024-08-15</td><td>2024-10-10</td><td>53</td><td>54</td><td>56</td><td>2024-04-01T00:00:00.000Z</td></tr><tr><td>CUST118</td><td>2024-05-01</td><td>2024-05-13</td><td>null</td><td>null</td><td>12</td><td>null</td><td>null</td><td>2024-05-01T00:00:00.000Z</td></tr><tr><td>CUST036</td><td>2024-05-02</td><td>2024-06-20</td><td>2024-07-31</td><td>null</td><td>49</td><td>41</td><td>null</td><td>2024-05-01T00:00:00.000Z</td></tr><tr><td>CUST168</td><td>2024-05-02</td><td>2024-05-15</td><td>2024-06-03</td><td>2024-06-23</td><td>13</td><td>19</td><td>20</td><td>2024-05-01T00:00:00.000Z</td></tr><tr><td>CUST132</td><td>2024-05-03</td><td>2024-06-15</td><td>2024-07-10</td><td>2024-07-23</td><td>43</td><td>25</td><td>13</td><td>2024-05-01T00:00:00.000Z</td></tr><tr><td>CUST175</td><td>2024-05-05</td><td>2024-05-30</td><td>2024-06-10</td><td>2024-08-28</td><td>25</td><td>11</td><td>79</td><td>2024-05-01T00:00:00.000Z</td></tr><tr><td>CUST171</td><td>2024-05-05</td><td>2024-06-28</td><td>2024-07-19</td><td>2024-08-05</td><td>54</td><td>21</td><td>17</td><td>2024-05-01T00:00:00.000Z</td></tr><tr><td>CUST155</td><td>2024-05-06</td><td>2024-06-15</td><td>2024-07-29</td><td>null</td><td>40</td><td>44</td><td>null</td><td>2024-05-01T00:00:00.000Z</td></tr><tr><td>CUST047</td><td>2024-05-08</td><td>2024-05-24</td><td>2024-06-05</td><td>null</td><td>16</td><td>12</td><td>null</td><td>2024-05-01T00:00:00.000Z</td></tr><tr><td>CUST129</td><td>2024-05-10</td><td>2024-05-26</td><td>2024-06-26</td><td>2024-10-23</td><td>16</td><td>31</td><td>119</td><td>2024-05-01T00:00:00.000Z</td></tr><tr><td>CUST193</td><td>2024-05-11</td><td>2024-06-22</td><td>2024-07-03</td><td>2024-08-08</td><td>42</td><td>11</td><td>36</td><td>2024-05-01T00:00:00.000Z</td></tr><tr><td>CUST037</td><td>2024-05-14</td><td>2024-06-14</td><td>2024-06-24</td><td>2024-09-04</td><td>31</td><td>10</td><td>72</td><td>2024-05-01T00:00:00.000Z</td></tr><tr><td>CUST164</td><td>2024-05-15</td><td>2024-06-21</td><td>2024-07-01</td><td>2024-07-23</td><td>37</td><td>10</td><td>22</td><td>2024-05-01T00:00:00.000Z</td></tr><tr><td>CUST136</td><td>2024-05-18</td><td>2024-05-21</td><td>2024-06-30</td><td>2024-08-04</td><td>3</td><td>40</td><td>35</td><td>2024-05-01T00:00:00.000Z</td></tr><tr><td>CUST014</td><td>2024-05-20</td><td>2024-08-13</td><td>2024-10-24</td><td>null</td><td>85</td><td>72</td><td>null</td><td>2024-05-01T00:00:00.000Z</td></tr><tr><td>CUST125</td><td>2024-05-21</td><td>2024-06-19</td><td>2024-07-01</td><td>2024-07-12</td><td>29</td><td>12</td><td>11</td><td>2024-05-01T00:00:00.000Z</td></tr><tr><td>CUST035</td><td>2024-05-31</td><td>2024-06-20</td><td>2024-08-08</td><td>2024-09-02</td><td>20</td><td>49</td><td>25</td><td>2024-05-01T00:00:00.000Z</td></tr><tr><td>CUST009</td><td>2024-06-01</td><td>2024-07-16</td><td>null</td><td>null</td><td>45</td><td>null</td><td>null</td><td>2024-06-01T00:00:00.000Z</td></tr><tr><td>CUST044</td><td>2024-06-02</td><td>2024-07-17</td><td>2024-08-30</td><td>2024-09-07</td><td>45</td><td>44</td><td>8</td><td>2024-06-01T00:00:00.000Z</td></tr><tr><td>CUST022</td><td>2024-06-05</td><td>2024-08-01</td><td>2024-10-11</td><td>2024-11-17</td><td>57</td><td>71</td><td>37</td><td>2024-06-01T00:00:00.000Z</td></tr><tr><td>CUST064</td><td>2024-06-08</td><td>2024-07-17</td><td>null</td><td>null</td><td>39</td><td>null</td><td>null</td><td>2024-06-01T00:00:00.000Z</td></tr><tr><td>CUST117</td><td>2024-06-13</td><td>2024-07-12</td><td>null</td><td>null</td><td>29</td><td>null</td><td>null</td><td>2024-06-01T00:00:00.000Z</td></tr><tr><td>CUST178</td><td>2024-06-18</td><td>2024-07-14</td><td>2024-07-24</td><td>2024-09-23</td><td>26</td><td>10</td><td>61</td><td>2024-06-01T00:00:00.000Z</td></tr><tr><td>CUST058</td><td>2024-06-20</td><td>2024-07-23</td><td>2024-08-12</td><td>2024-09-20</td><td>33</td><td>20</td><td>39</td><td>2024-06-01T00:00:00.000Z</td></tr><tr><td>CUST028</td><td>2024-06-20</td><td>2024-07-28</td><td>2024-08-21</td><td>2024-11-08</td><td>38</td><td>24</td><td>79</td><td>2024-06-01T00:00:00.000Z</td></tr><tr><td>CUST120</td><td>2024-06-21</td><td>2024-08-17</td><td>2024-10-28</td><td>2024-11-03</td><td>57</td><td>72</td><td>6</td><td>2024-06-01T00:00:00.000Z</td></tr><tr><td>CUST128</td><td>2024-06-22</td><td>2024-07-07</td><td>2024-07-30</td><td>null</td><td>15</td><td>23</td><td>null</td><td>2024-06-01T00:00:00.000Z</td></tr></tbody></table></div>"
      ]
     },
     "metadata": {
      "application/vnd.databricks.v1+output": {
       "addedWidgets": {},
       "aggData": [],
       "aggError": "",
       "aggOverflow": false,
       "aggSchema": [],
       "aggSeriesLimitReached": false,
       "aggType": "",
       "arguments": {},
       "columnCustomDisplayInfos": {},
       "data": [
        [
         "CUST038",
         "2024-01-01",
         "2024-03-27",
         "2024-05-07",
         "2024-05-29",
         86,
         41,
         22,
         "2024-01-01T00:00:00.000Z"
        ],
        [
         "CUST030",
         "2024-01-01",
         "2024-01-27",
         "2024-03-21",
         "2024-08-16",
         26,
         54,
         148,
         "2024-01-01T00:00:00.000Z"
        ],
        [
         "CUST137",
         "2024-01-02",
         "2024-02-18",
         "2024-02-26",
         null,
         47,
         8,
         null,
         "2024-01-01T00:00:00.000Z"
        ],
        [
         "CUST072",
         "2024-01-02",
         "2024-02-07",
         "2024-02-19",
         "2024-03-24",
         36,
         12,
         34,
         "2024-01-01T00:00:00.000Z"
        ],
        [
         "CUST192",
         "2024-01-02",
         "2024-01-24",
         "2024-03-13",
         "2024-11-25",
         22,
         49,
         257,
         "2024-01-01T00:00:00.000Z"
        ],
        [
         "CUST181",
         "2024-01-03",
         "2024-02-11",
         "2024-03-07",
         "2024-04-07",
         39,
         25,
         31,
         "2024-01-01T00:00:00.000Z"
        ],
        [
         "CUST089",
         "2024-01-03",
         "2024-02-28",
         "2024-03-07",
         "2024-04-29",
         56,
         8,
         53,
         "2024-01-01T00:00:00.000Z"
        ],
        [
         "CUST065",
         "2024-01-03",
         "2024-05-30",
         "2024-06-29",
         "2024-06-30",
         148,
         30,
         1,
         "2024-01-01T00:00:00.000Z"
        ],
        [
         "CUST157",
         "2024-01-03",
         "2024-02-04",
         "2024-02-12",
         "2024-04-29",
         32,
         8,
         77,
         "2024-01-01T00:00:00.000Z"
        ],
        [
         "CUST104",
         "2024-01-04",
         "2024-01-23",
         "2024-02-21",
         "2024-04-29",
         19,
         29,
         68,
         "2024-01-01T00:00:00.000Z"
        ],
        [
         "CUST188",
         "2024-01-06",
         "2024-05-11",
         "2024-06-14",
         "2024-08-25",
         126,
         34,
         72,
         "2024-01-01T00:00:00.000Z"
        ],
        [
         "CUST115",
         "2024-01-06",
         "2024-02-01",
         "2024-02-14",
         "2024-02-27",
         26,
         13,
         13,
         "2024-01-01T00:00:00.000Z"
        ],
        [
         "CUST167",
         "2024-01-06",
         "2024-02-20",
         "2024-08-20",
         null,
         45,
         182,
         null,
         "2024-01-01T00:00:00.000Z"
        ],
        [
         "CUST011",
         "2024-01-07",
         "2024-02-03",
         "2024-04-03",
         "2024-06-25",
         27,
         60,
         83,
         "2024-01-01T00:00:00.000Z"
        ],
        [
         "CUST162",
         "2024-01-07",
         "2024-03-09",
         null,
         null,
         62,
         null,
         null,
         "2024-01-01T00:00:00.000Z"
        ],
        [
         "CUST095",
         "2024-01-07",
         "2024-01-19",
         "2024-02-09",
         null,
         12,
         21,
         null,
         "2024-01-01T00:00:00.000Z"
        ],
        [
         "CUST116",
         "2024-01-09",
         "2024-03-20",
         "2024-04-22",
         "2024-05-04",
         71,
         33,
         12,
         "2024-01-01T00:00:00.000Z"
        ],
        [
         "CUST092",
         "2024-01-09",
         "2024-05-03",
         "2024-08-04",
         null,
         115,
         93,
         null,
         "2024-01-01T00:00:00.000Z"
        ],
        [
         "CUST054",
         "2024-01-09",
         "2024-05-15",
         "2024-05-26",
         null,
         127,
         11,
         null,
         "2024-01-01T00:00:00.000Z"
        ],
        [
         "CUST108",
         "2024-01-10",
         "2024-05-19",
         "2024-06-16",
         "2024-07-17",
         130,
         28,
         31,
         "2024-01-01T00:00:00.000Z"
        ],
        [
         "CUST060",
         "2024-01-10",
         "2024-03-24",
         "2024-04-13",
         "2024-11-01",
         74,
         20,
         202,
         "2024-01-01T00:00:00.000Z"
        ],
        [
         "CUST101",
         "2024-01-10",
         "2024-01-13",
         "2024-03-10",
         "2024-10-07",
         3,
         57,
         211,
         "2024-01-01T00:00:00.000Z"
        ],
        [
         "CUST017",
         "2024-01-11",
         "2024-02-28",
         "2024-05-03",
         null,
         48,
         65,
         null,
         "2024-01-01T00:00:00.000Z"
        ],
        [
         "CUST109",
         "2024-01-13",
         "2024-03-12",
         "2024-04-26",
         "2024-05-24",
         59,
         45,
         28,
         "2024-01-01T00:00:00.000Z"
        ],
        [
         "CUST020",
         "2024-01-13",
         "2024-05-04",
         "2024-05-06",
         "2024-07-01",
         112,
         2,
         56,
         "2024-01-01T00:00:00.000Z"
        ],
        [
         "CUST076",
         "2024-01-14",
         "2024-02-04",
         "2024-02-29",
         "2024-04-11",
         21,
         25,
         42,
         "2024-01-01T00:00:00.000Z"
        ],
        [
         "CUST003",
         "2024-01-14",
         "2024-05-28",
         "2024-07-18",
         null,
         135,
         51,
         null,
         "2024-01-01T00:00:00.000Z"
        ],
        [
         "CUST102",
         "2024-01-14",
         "2024-06-08",
         "2024-06-23",
         "2024-07-31",
         146,
         15,
         38,
         "2024-01-01T00:00:00.000Z"
        ],
        [
         "CUST034",
         "2024-01-14",
         "2024-03-13",
         "2024-04-18",
         "2024-05-15",
         59,
         36,
         27,
         "2024-01-01T00:00:00.000Z"
        ],
        [
         "CUST090",
         "2024-01-15",
         "2024-03-31",
         "2024-04-17",
         "2024-12-05",
         76,
         17,
         232,
         "2024-01-01T00:00:00.000Z"
        ],
        [
         "CUST063",
         "2024-01-15",
         "2024-04-19",
         "2024-06-15",
         "2024-07-17",
         95,
         57,
         32,
         "2024-01-01T00:00:00.000Z"
        ],
        [
         "CUST039",
         "2024-01-16",
         "2024-02-17",
         "2024-07-11",
         "2024-07-16",
         32,
         145,
         5,
         "2024-01-01T00:00:00.000Z"
        ],
        [
         "CUST057",
         "2024-01-16",
         "2024-05-01",
         "2024-05-26",
         "2024-06-06",
         106,
         25,
         11,
         "2024-01-01T00:00:00.000Z"
        ],
        [
         "CUST006",
         "2024-01-18",
         "2024-03-31",
         "2024-04-24",
         "2024-06-02",
         73,
         24,
         39,
         "2024-01-01T00:00:00.000Z"
        ],
        [
         "CUST179",
         "2024-01-18",
         "2024-02-04",
         "2024-03-27",
         "2024-05-23",
         17,
         52,
         57,
         "2024-01-01T00:00:00.000Z"
        ],
        [
         "CUST121",
         "2024-01-18",
         "2024-01-19",
         "2024-02-08",
         "2024-05-18",
         1,
         20,
         100,
         "2024-01-01T00:00:00.000Z"
        ],
        [
         "CUST091",
         "2024-01-19",
         "2024-01-31",
         "2024-02-14",
         "2024-03-24",
         12,
         14,
         39,
         "2024-01-01T00:00:00.000Z"
        ],
        [
         "CUST019",
         "2024-01-20",
         "2024-02-04",
         "2024-02-06",
         "2024-03-09",
         15,
         2,
         32,
         "2024-01-01T00:00:00.000Z"
        ],
        [
         "CUST189",
         "2024-01-20",
         "2024-02-07",
         "2024-03-06",
         "2024-06-02",
         18,
         28,
         88,
         "2024-01-01T00:00:00.000Z"
        ],
        [
         "CUST131",
         "2024-01-20",
         "2024-03-21",
         "2024-05-15",
         "2024-05-22",
         61,
         55,
         7,
         "2024-01-01T00:00:00.000Z"
        ],
        [
         "CUST098",
         "2024-01-20",
         "2024-01-30",
         "2024-02-05",
         "2024-03-09",
         10,
         6,
         33,
         "2024-01-01T00:00:00.000Z"
        ],
        [
         "CUST170",
         "2024-01-21",
         "2024-02-05",
         "2024-02-23",
         "2024-03-04",
         15,
         18,
         10,
         "2024-01-01T00:00:00.000Z"
        ],
        [
         "CUST198",
         "2024-01-21",
         "2024-02-29",
         "2024-03-30",
         "2024-05-20",
         39,
         30,
         51,
         "2024-01-01T00:00:00.000Z"
        ],
        [
         "CUST069",
         "2024-01-21",
         "2024-01-23",
         "2024-03-02",
         "2024-06-03",
         2,
         39,
         93,
         "2024-01-01T00:00:00.000Z"
        ],
        [
         "CUST146",
         "2024-01-21",
         "2024-01-25",
         "2024-02-14",
         "2024-07-06",
         4,
         20,
         143,
         "2024-01-01T00:00:00.000Z"
        ],
        [
         "CUST016",
         "2024-01-22",
         "2024-03-11",
         "2024-06-16",
         "2024-09-13",
         49,
         97,
         89,
         "2024-01-01T00:00:00.000Z"
        ],
        [
         "CUST062",
         "2024-01-22",
         "2024-02-18",
         "2024-04-01",
         "2024-05-03",
         27,
         43,
         32,
         "2024-01-01T00:00:00.000Z"
        ],
        [
         "CUST083",
         "2024-01-23",
         "2024-02-17",
         "2024-03-24",
         "2024-04-07",
         25,
         36,
         14,
         "2024-01-01T00:00:00.000Z"
        ],
        [
         "CUST150",
         "2024-01-24",
         "2024-02-01",
         "2024-06-26",
         "2024-07-03",
         8,
         146,
         7,
         "2024-01-01T00:00:00.000Z"
        ],
        [
         "CUST008",
         "2024-01-24",
         "2024-05-31",
         "2024-07-15",
         "2024-07-17",
         128,
         45,
         2,
         "2024-01-01T00:00:00.000Z"
        ],
        [
         "CUST182",
         "2024-01-25",
         "2024-04-01",
         "2024-04-24",
         "2024-05-18",
         67,
         23,
         24,
         "2024-01-01T00:00:00.000Z"
        ],
        [
         "CUST172",
         "2024-01-25",
         "2024-03-25",
         "2024-06-15",
         "2024-08-04",
         60,
         82,
         50,
         "2024-01-01T00:00:00.000Z"
        ],
        [
         "CUST174",
         "2024-01-25",
         "2024-02-05",
         "2024-04-03",
         null,
         11,
         58,
         null,
         "2024-01-01T00:00:00.000Z"
        ],
        [
         "CUST041",
         "2024-01-25",
         "2024-06-16",
         "2024-06-26",
         "2024-07-13",
         143,
         10,
         17,
         "2024-01-01T00:00:00.000Z"
        ],
        [
         "CUST087",
         "2024-01-25",
         "2024-06-18",
         "2024-07-07",
         null,
         145,
         19,
         null,
         "2024-01-01T00:00:00.000Z"
        ],
        [
         "CUST077",
         "2024-01-26",
         "2024-05-31",
         "2024-06-05",
         "2024-06-25",
         126,
         5,
         20,
         "2024-01-01T00:00:00.000Z"
        ],
        [
         "CUST143",
         "2024-01-26",
         "2024-04-21",
         "2024-05-17",
         "2024-05-23",
         86,
         26,
         6,
         "2024-01-01T00:00:00.000Z"
        ],
        [
         "CUST061",
         "2024-01-27",
         "2024-03-25",
         "2024-05-20",
         "2024-08-06",
         58,
         56,
         78,
         "2024-01-01T00:00:00.000Z"
        ],
        [
         "CUST046",
         "2024-01-28",
         "2024-02-18",
         "2024-03-30",
         null,
         21,
         41,
         null,
         "2024-01-01T00:00:00.000Z"
        ],
        [
         "CUST045",
         "2024-01-29",
         "2024-02-11",
         "2024-04-12",
         "2024-04-21",
         13,
         61,
         9,
         "2024-01-01T00:00:00.000Z"
        ],
        [
         "CUST200",
         "2024-01-29",
         "2024-02-14",
         "2024-03-02",
         "2024-04-27",
         16,
         17,
         56,
         "2024-01-01T00:00:00.000Z"
        ],
        [
         "CUST099",
         "2024-01-30",
         "2024-06-20",
         "2024-07-24",
         "2024-09-11",
         142,
         34,
         49,
         "2024-01-01T00:00:00.000Z"
        ],
        [
         "CUST119",
         "2024-01-31",
         "2024-03-20",
         "2024-05-23",
         "2024-05-27",
         49,
         64,
         4,
         "2024-01-01T00:00:00.000Z"
        ],
        [
         "CUST004",
         "2024-01-31",
         "2024-02-24",
         "2024-03-31",
         "2024-09-30",
         24,
         36,
         183,
         "2024-01-01T00:00:00.000Z"
        ],
        [
         "CUST149",
         "2024-01-31",
         "2024-04-07",
         "2024-05-06",
         "2024-05-28",
         67,
         29,
         22,
         "2024-01-01T00:00:00.000Z"
        ],
        [
         "CUST126",
         "2024-01-31",
         "2024-04-16",
         "2024-05-14",
         "2024-05-26",
         76,
         28,
         12,
         "2024-01-01T00:00:00.000Z"
        ],
        [
         "CUST074",
         "2024-02-01",
         "2024-10-22",
         null,
         null,
         264,
         null,
         null,
         "2024-02-01T00:00:00.000Z"
        ],
        [
         "CUST007",
         "2024-02-02",
         "2024-03-04",
         "2024-04-18",
         "2024-05-07",
         31,
         45,
         19,
         "2024-02-01T00:00:00.000Z"
        ],
        [
         "CUST032",
         "2024-02-02",
         "2024-05-13",
         "2024-06-21",
         "2024-06-26",
         101,
         39,
         5,
         "2024-02-01T00:00:00.000Z"
        ],
        [
         "CUST068",
         "2024-02-02",
         "2024-04-12",
         "2024-04-24",
         "2024-05-31",
         70,
         12,
         37,
         "2024-02-01T00:00:00.000Z"
        ],
        [
         "CUST186",
         "2024-02-03",
         "2024-02-21",
         "2024-03-25",
         "2024-04-14",
         18,
         33,
         20,
         "2024-02-01T00:00:00.000Z"
        ],
        [
         "CUST165",
         "2024-02-03",
         "2024-03-22",
         "2024-04-24",
         "2024-07-20",
         48,
         33,
         87,
         "2024-02-01T00:00:00.000Z"
        ],
        [
         "CUST166",
         "2024-02-03",
         "2024-05-14",
         "2024-06-18",
         "2024-07-25",
         101,
         35,
         37,
         "2024-02-01T00:00:00.000Z"
        ],
        [
         "CUST055",
         "2024-02-03",
         "2024-02-27",
         "2024-03-09",
         "2024-03-24",
         24,
         11,
         15,
         "2024-02-01T00:00:00.000Z"
        ],
        [
         "CUST163",
         "2024-02-04",
         "2024-04-30",
         "2024-05-28",
         "2024-07-22",
         86,
         28,
         55,
         "2024-02-01T00:00:00.000Z"
        ],
        [
         "CUST113",
         "2024-02-04",
         "2024-03-23",
         "2024-05-04",
         "2024-06-04",
         48,
         42,
         31,
         "2024-02-01T00:00:00.000Z"
        ],
        [
         "CUST169",
         "2024-02-05",
         "2024-03-14",
         "2024-04-30",
         null,
         38,
         47,
         null,
         "2024-02-01T00:00:00.000Z"
        ],
        [
         "CUST153",
         "2024-02-06",
         "2024-06-08",
         "2024-06-29",
         "2024-07-03",
         123,
         21,
         4,
         "2024-02-01T00:00:00.000Z"
        ],
        [
         "CUST043",
         "2024-02-06",
         "2024-04-27",
         "2024-05-08",
         "2024-06-08",
         81,
         11,
         31,
         "2024-02-01T00:00:00.000Z"
        ],
        [
         "CUST050",
         "2024-02-06",
         "2024-02-27",
         "2024-06-05",
         "2024-09-03",
         21,
         99,
         90,
         "2024-02-01T00:00:00.000Z"
        ],
        [
         "CUST040",
         "2024-02-06",
         "2024-03-01",
         "2024-04-21",
         null,
         24,
         51,
         null,
         "2024-02-01T00:00:00.000Z"
        ],
        [
         "CUST190",
         "2024-02-06",
         "2024-06-20",
         "2024-07-27",
         "2024-08-19",
         135,
         37,
         23,
         "2024-02-01T00:00:00.000Z"
        ],
        [
         "CUST029",
         "2024-02-07",
         "2024-03-06",
         "2024-03-28",
         "2024-06-01",
         28,
         22,
         65,
         "2024-02-01T00:00:00.000Z"
        ],
        [
         "CUST110",
         "2024-02-08",
         "2024-02-09",
         "2024-04-23",
         "2024-05-08",
         1,
         74,
         15,
         "2024-02-01T00:00:00.000Z"
        ],
        [
         "CUST086",
         "2024-02-08",
         "2024-03-16",
         "2024-09-13",
         null,
         37,
         181,
         null,
         "2024-02-01T00:00:00.000Z"
        ],
        [
         "CUST067",
         "2024-02-09",
         "2024-03-25",
         "2024-05-24",
         null,
         45,
         60,
         null,
         "2024-02-01T00:00:00.000Z"
        ],
        [
         "CUST147",
         "2024-02-10",
         "2024-03-23",
         "2024-03-28",
         "2024-06-07",
         42,
         5,
         71,
         "2024-02-01T00:00:00.000Z"
        ],
        [
         "CUST161",
         "2024-02-13",
         "2024-04-21",
         "2024-05-09",
         "2024-05-26",
         68,
         18,
         17,
         "2024-02-01T00:00:00.000Z"
        ],
        [
         "CUST033",
         "2024-02-13",
         "2024-04-13",
         "2024-07-13",
         "2024-11-09",
         60,
         91,
         119,
         "2024-02-01T00:00:00.000Z"
        ],
        [
         "CUST053",
         "2024-02-13",
         "2024-03-07",
         "2024-03-29",
         "2024-06-26",
         23,
         22,
         89,
         "2024-02-01T00:00:00.000Z"
        ],
        [
         "CUST026",
         "2024-02-14",
         null,
         null,
         null,
         null,
         null,
         null,
         "2024-02-01T00:00:00.000Z"
        ],
        [
         "CUST152",
         "2024-02-14",
         "2024-06-07",
         "2024-06-28",
         "2024-07-24",
         114,
         21,
         26,
         "2024-02-01T00:00:00.000Z"
        ],
        [
         "CUST023",
         "2024-02-15",
         "2024-09-15",
         "2024-11-01",
         "2024-12-14",
         213,
         47,
         43,
         "2024-02-01T00:00:00.000Z"
        ],
        [
         "CUST012",
         "2024-02-15",
         "2024-03-04",
         "2024-04-14",
         "2024-05-03",
         18,
         41,
         19,
         "2024-02-01T00:00:00.000Z"
        ],
        [
         "CUST122",
         "2024-02-15",
         "2024-03-08",
         "2024-04-26",
         "2024-06-02",
         22,
         49,
         37,
         "2024-02-01T00:00:00.000Z"
        ],
        [
         "CUST051",
         "2024-02-15",
         "2024-04-08",
         "2024-04-24",
         "2024-09-12",
         53,
         16,
         141,
         "2024-02-01T00:00:00.000Z"
        ],
        [
         "CUST130",
         "2024-02-16",
         "2024-06-24",
         "2024-07-06",
         "2024-09-10",
         129,
         12,
         66,
         "2024-02-01T00:00:00.000Z"
        ],
        [
         "CUST103",
         "2024-02-16",
         "2024-02-24",
         "2024-05-08",
         "2024-05-28",
         8,
         74,
         20,
         "2024-02-01T00:00:00.000Z"
        ],
        [
         "CUST141",
         "2024-02-17",
         "2024-04-02",
         "2024-06-29",
         "2024-08-26",
         45,
         88,
         58,
         "2024-02-01T00:00:00.000Z"
        ],
        [
         "CUST066",
         "2024-02-18",
         "2024-06-26",
         "2024-07-21",
         "2024-08-04",
         129,
         25,
         14,
         "2024-02-01T00:00:00.000Z"
        ],
        [
         "CUST093",
         "2024-02-18",
         "2024-04-27",
         "2024-05-01",
         "2024-07-10",
         69,
         4,
         70,
         "2024-02-01T00:00:00.000Z"
        ],
        [
         "CUST173",
         "2024-02-19",
         "2024-03-23",
         "2024-05-02",
         null,
         33,
         40,
         null,
         "2024-02-01T00:00:00.000Z"
        ],
        [
         "CUST177",
         "2024-02-20",
         "2024-03-18",
         "2024-04-19",
         "2024-10-24",
         27,
         32,
         188,
         "2024-02-01T00:00:00.000Z"
        ],
        [
         "CUST114",
         "2024-02-21",
         "2024-03-30",
         "2024-07-25",
         "2024-09-27",
         38,
         117,
         64,
         "2024-02-01T00:00:00.000Z"
        ],
        [
         "CUST071",
         "2024-02-21",
         "2024-04-09",
         "2024-05-04",
         "2024-06-28",
         48,
         25,
         55,
         "2024-02-01T00:00:00.000Z"
        ],
        [
         "CUST059",
         "2024-02-21",
         "2024-03-12",
         "2024-03-27",
         "2024-04-26",
         20,
         15,
         30,
         "2024-02-01T00:00:00.000Z"
        ],
        [
         "CUST111",
         "2024-02-22",
         "2024-03-21",
         "2024-04-21",
         "2024-08-04",
         28,
         31,
         105,
         "2024-02-01T00:00:00.000Z"
        ],
        [
         "CUST105",
         "2024-02-23",
         "2024-03-13",
         "2024-04-13",
         "2024-06-06",
         19,
         31,
         54,
         "2024-02-01T00:00:00.000Z"
        ],
        [
         "CUST145",
         "2024-02-25",
         "2024-04-27",
         "2024-05-08",
         "2024-06-05",
         62,
         11,
         28,
         "2024-02-01T00:00:00.000Z"
        ],
        [
         "CUST140",
         "2024-02-25",
         "2024-04-14",
         "2024-05-02",
         "2024-06-23",
         49,
         18,
         52,
         "2024-02-01T00:00:00.000Z"
        ],
        [
         "CUST184",
         "2024-02-25",
         "2024-04-02",
         "2024-10-13",
         null,
         37,
         194,
         null,
         "2024-02-01T00:00:00.000Z"
        ],
        [
         "CUST160",
         "2024-02-25",
         "2024-03-12",
         "2024-07-11",
         null,
         16,
         121,
         null,
         "2024-02-01T00:00:00.000Z"
        ],
        [
         "CUST025",
         "2024-02-28",
         "2024-02-29",
         "2024-05-07",
         "2024-06-22",
         1,
         68,
         46,
         "2024-02-01T00:00:00.000Z"
        ],
        [
         "CUST096",
         "2024-02-29",
         "2024-03-14",
         "2024-04-01",
         "2024-07-28",
         14,
         18,
         118,
         "2024-02-01T00:00:00.000Z"
        ],
        [
         "CUST196",
         "2024-03-02",
         "2024-06-24",
         "2024-07-16",
         "2024-08-07",
         114,
         22,
         22,
         "2024-03-01T00:00:00.000Z"
        ],
        [
         "CUST151",
         "2024-03-03",
         "2024-04-08",
         "2024-04-14",
         "2024-05-25",
         36,
         6,
         41,
         "2024-03-01T00:00:00.000Z"
        ],
        [
         "CUST112",
         "2024-03-03",
         "2024-03-19",
         "2024-04-10",
         "2024-04-13",
         16,
         22,
         3,
         "2024-03-01T00:00:00.000Z"
        ],
        [
         "CUST124",
         "2024-03-04",
         "2024-04-29",
         "2024-06-03",
         "2024-06-27",
         56,
         35,
         24,
         "2024-03-01T00:00:00.000Z"
        ],
        [
         "CUST185",
         "2024-03-04",
         "2024-03-26",
         "2024-04-04",
         "2024-05-12",
         22,
         9,
         38,
         "2024-03-01T00:00:00.000Z"
        ],
        [
         "CUST097",
         "2024-03-04",
         "2024-04-11",
         "2024-04-20",
         "2024-05-27",
         38,
         9,
         37,
         "2024-03-01T00:00:00.000Z"
        ],
        [
         "CUST088",
         "2024-03-05",
         "2024-04-17",
         null,
         null,
         43,
         null,
         null,
         "2024-03-01T00:00:00.000Z"
        ],
        [
         "CUST180",
         "2024-03-06",
         "2024-05-12",
         "2024-05-24",
         "2024-06-19",
         67,
         12,
         26,
         "2024-03-01T00:00:00.000Z"
        ],
        [
         "CUST127",
         "2024-03-07",
         "2024-03-26",
         "2024-06-02",
         "2024-07-10",
         19,
         68,
         38,
         "2024-03-01T00:00:00.000Z"
        ],
        [
         "CUST024",
         "2024-03-07",
         "2024-05-18",
         "2024-06-29",
         "2024-10-30",
         72,
         42,
         123,
         "2024-03-01T00:00:00.000Z"
        ],
        [
         "CUST159",
         "2024-03-08",
         "2024-04-08",
         "2024-04-17",
         "2024-08-12",
         31,
         9,
         117,
         "2024-03-01T00:00:00.000Z"
        ],
        [
         "CUST133",
         "2024-03-11",
         "2024-03-12",
         "2024-04-18",
         "2024-04-29",
         1,
         37,
         11,
         "2024-03-01T00:00:00.000Z"
        ],
        [
         "CUST021",
         "2024-03-11",
         "2024-03-16",
         "2024-07-10",
         null,
         5,
         116,
         null,
         "2024-03-01T00:00:00.000Z"
        ],
        [
         "CUST049",
         "2024-03-12",
         "2024-04-30",
         "2024-05-24",
         "2024-06-06",
         49,
         24,
         13,
         "2024-03-01T00:00:00.000Z"
        ],
        [
         "CUST187",
         "2024-03-13",
         "2024-05-28",
         "2024-06-29",
         "2024-08-18",
         76,
         32,
         50,
         "2024-03-01T00:00:00.000Z"
        ],
        [
         "CUST123",
         "2024-03-13",
         "2024-05-20",
         "2024-06-07",
         "2024-10-13",
         68,
         18,
         128,
         "2024-03-01T00:00:00.000Z"
        ],
        [
         "CUST031",
         "2024-03-14",
         "2024-06-26",
         "2024-08-12",
         "2024-12-19",
         104,
         47,
         129,
         "2024-03-01T00:00:00.000Z"
        ],
        [
         "CUST197",
         "2024-03-15",
         "2024-05-12",
         "2024-06-13",
         "2024-09-23",
         58,
         32,
         102,
         "2024-03-01T00:00:00.000Z"
        ],
        [
         "CUST081",
         "2024-03-15",
         "2024-04-28",
         "2024-11-22",
         null,
         44,
         208,
         null,
         "2024-03-01T00:00:00.000Z"
        ],
        [
         "CUST005",
         "2024-03-16",
         "2024-03-25",
         "2024-04-04",
         "2024-05-19",
         9,
         10,
         45,
         "2024-03-01T00:00:00.000Z"
        ],
        [
         "CUST085",
         "2024-03-16",
         "2024-05-02",
         "2024-06-17",
         "2024-06-25",
         47,
         46,
         8,
         "2024-03-01T00:00:00.000Z"
        ],
        [
         "CUST010",
         "2024-03-16",
         "2024-04-20",
         "2024-07-07",
         null,
         35,
         78,
         null,
         "2024-03-01T00:00:00.000Z"
        ],
        [
         "CUST199",
         "2024-03-19",
         "2024-04-22",
         "2024-06-15",
         "2024-07-17",
         34,
         54,
         32,
         "2024-03-01T00:00:00.000Z"
        ],
        [
         "CUST158",
         "2024-03-20",
         "2024-06-29",
         "2024-11-13",
         null,
         101,
         137,
         null,
         "2024-03-01T00:00:00.000Z"
        ],
        [
         "CUST100",
         "2024-03-20",
         "2024-05-05",
         "2024-05-06",
         "2024-07-13",
         46,
         1,
         68,
         "2024-03-01T00:00:00.000Z"
        ],
        [
         "CUST027",
         "2024-03-21",
         "2024-04-27",
         "2024-06-23",
         "2024-07-18",
         37,
         57,
         25,
         "2024-03-01T00:00:00.000Z"
        ],
        [
         "CUST148",
         "2024-03-23",
         "2024-07-21",
         null,
         null,
         120,
         null,
         null,
         "2024-03-01T00:00:00.000Z"
        ],
        [
         "CUST135",
         "2024-03-25",
         "2024-03-27",
         "2024-05-22",
         "2024-06-01",
         2,
         56,
         10,
         "2024-03-01T00:00:00.000Z"
        ],
        [
         "CUST144",
         "2024-03-25",
         "2024-03-27",
         "2024-04-17",
         "2024-08-14",
         2,
         21,
         119,
         "2024-03-01T00:00:00.000Z"
        ],
        [
         "CUST073",
         "2024-03-26",
         "2024-05-02",
         "2024-06-27",
         "2024-07-06",
         37,
         56,
         9,
         "2024-03-01T00:00:00.000Z"
        ],
        [
         "CUST106",
         "2024-03-27",
         "2024-04-05",
         "2024-06-23",
         "2024-08-04",
         9,
         79,
         42,
         "2024-03-01T00:00:00.000Z"
        ],
        [
         "CUST142",
         "2024-03-28",
         "2024-05-30",
         "2024-07-15",
         "2024-07-16",
         63,
         46,
         1,
         "2024-03-01T00:00:00.000Z"
        ],
        [
         "CUST138",
         "2024-03-29",
         "2024-04-25",
         "2024-06-05",
         "2024-08-30",
         27,
         41,
         86,
         "2024-03-01T00:00:00.000Z"
        ],
        [
         "CUST018",
         "2024-04-01",
         "2024-04-30",
         "2024-05-02",
         "2024-06-15",
         29,
         2,
         44,
         "2024-04-01T00:00:00.000Z"
        ],
        [
         "CUST052",
         "2024-04-02",
         "2024-05-19",
         "2024-06-25",
         "2024-07-01",
         47,
         37,
         6,
         "2024-04-01T00:00:00.000Z"
        ],
        [
         "CUST191",
         "2024-04-03",
         "2024-04-27",
         "2024-05-07",
         "2024-06-12",
         24,
         10,
         36,
         "2024-04-01T00:00:00.000Z"
        ],
        [
         "CUST094",
         "2024-04-03",
         null,
         null,
         null,
         null,
         null,
         null,
         "2024-04-01T00:00:00.000Z"
        ],
        [
         "CUST070",
         "2024-04-04",
         "2024-04-15",
         "2024-07-03",
         "2024-09-05",
         11,
         79,
         64,
         "2024-04-01T00:00:00.000Z"
        ],
        [
         "CUST176",
         "2024-04-05",
         "2024-05-23",
         "2024-06-29",
         "2024-08-14",
         48,
         37,
         46,
         "2024-04-01T00:00:00.000Z"
        ],
        [
         "CUST042",
         "2024-04-07",
         "2024-05-27",
         "2024-06-17",
         "2024-07-24",
         50,
         21,
         37,
         "2024-04-01T00:00:00.000Z"
        ],
        [
         "CUST078",
         "2024-04-08",
         "2024-05-03",
         "2024-05-24",
         "2024-06-05",
         25,
         21,
         12,
         "2024-04-01T00:00:00.000Z"
        ],
        [
         "CUST195",
         "2024-04-08",
         "2024-04-23",
         "2024-05-18",
         "2024-05-21",
         15,
         25,
         3,
         "2024-04-01T00:00:00.000Z"
        ],
        [
         "CUST194",
         "2024-04-10",
         "2024-04-21",
         "2024-06-13",
         "2024-08-12",
         11,
         53,
         60,
         "2024-04-01T00:00:00.000Z"
        ],
        [
         "CUST002",
         "2024-04-11",
         "2024-05-24",
         "2024-07-22",
         null,
         43,
         59,
         null,
         "2024-04-01T00:00:00.000Z"
        ],
        [
         "CUST001",
         "2024-04-12",
         "2024-06-02",
         "2024-07-26",
         "2024-10-12",
         51,
         54,
         78,
         "2024-04-01T00:00:00.000Z"
        ],
        [
         "CUST080",
         "2024-04-13",
         "2024-05-12",
         "2024-05-23",
         "2024-07-17",
         29,
         11,
         55,
         "2024-04-01T00:00:00.000Z"
        ],
        [
         "CUST134",
         "2024-04-15",
         "2024-04-24",
         null,
         null,
         9,
         null,
         null,
         "2024-04-01T00:00:00.000Z"
        ],
        [
         "CUST015",
         "2024-04-15",
         "2024-06-05",
         "2024-07-03",
         "2024-12-02",
         51,
         28,
         152,
         "2024-04-01T00:00:00.000Z"
        ],
        [
         "CUST139",
         "2024-04-18",
         "2024-04-25",
         "2024-05-28",
         "2024-08-03",
         7,
         33,
         67,
         "2024-04-01T00:00:00.000Z"
        ],
        [
         "CUST082",
         "2024-04-20",
         "2024-05-20",
         "2024-06-04",
         "2024-09-09",
         30,
         15,
         97,
         "2024-04-01T00:00:00.000Z"
        ],
        [
         "CUST048",
         "2024-04-20",
         "2024-06-28",
         "2024-07-15",
         "2024-08-30",
         69,
         17,
         46,
         "2024-04-01T00:00:00.000Z"
        ],
        [
         "CUST154",
         "2024-04-21",
         "2024-05-10",
         "2024-06-22",
         "2024-12-04",
         19,
         43,
         165,
         "2024-04-01T00:00:00.000Z"
        ],
        [
         "CUST107",
         "2024-04-22",
         "2024-10-11",
         null,
         null,
         172,
         null,
         null,
         "2024-04-01T00:00:00.000Z"
        ],
        [
         "CUST183",
         "2024-04-23",
         "2024-06-08",
         "2024-07-13",
         "2024-09-28",
         46,
         35,
         77,
         "2024-04-01T00:00:00.000Z"
        ],
        [
         "CUST156",
         "2024-04-23",
         "2024-06-20",
         null,
         null,
         58,
         null,
         null,
         "2024-04-01T00:00:00.000Z"
        ],
        [
         "CUST084",
         "2024-04-24",
         "2024-05-18",
         "2024-07-05",
         "2024-07-22",
         24,
         48,
         17,
         "2024-04-01T00:00:00.000Z"
        ],
        [
         "CUST079",
         "2024-04-29",
         "2024-05-26",
         "2024-06-20",
         "2024-12-28",
         27,
         25,
         191,
         "2024-04-01T00:00:00.000Z"
        ],
        [
         "CUST056",
         "2024-04-29",
         "2024-05-01",
         "2024-05-16",
         "2024-05-21",
         2,
         15,
         5,
         "2024-04-01T00:00:00.000Z"
        ],
        [
         "CUST013",
         "2024-04-30",
         "2024-06-23",
         "2024-10-25",
         null,
         54,
         124,
         null,
         "2024-04-01T00:00:00.000Z"
        ],
        [
         "CUST075",
         "2024-04-30",
         "2024-06-22",
         "2024-08-15",
         "2024-10-10",
         53,
         54,
         56,
         "2024-04-01T00:00:00.000Z"
        ],
        [
         "CUST118",
         "2024-05-01",
         "2024-05-13",
         null,
         null,
         12,
         null,
         null,
         "2024-05-01T00:00:00.000Z"
        ],
        [
         "CUST036",
         "2024-05-02",
         "2024-06-20",
         "2024-07-31",
         null,
         49,
         41,
         null,
         "2024-05-01T00:00:00.000Z"
        ],
        [
         "CUST168",
         "2024-05-02",
         "2024-05-15",
         "2024-06-03",
         "2024-06-23",
         13,
         19,
         20,
         "2024-05-01T00:00:00.000Z"
        ],
        [
         "CUST132",
         "2024-05-03",
         "2024-06-15",
         "2024-07-10",
         "2024-07-23",
         43,
         25,
         13,
         "2024-05-01T00:00:00.000Z"
        ],
        [
         "CUST175",
         "2024-05-05",
         "2024-05-30",
         "2024-06-10",
         "2024-08-28",
         25,
         11,
         79,
         "2024-05-01T00:00:00.000Z"
        ],
        [
         "CUST171",
         "2024-05-05",
         "2024-06-28",
         "2024-07-19",
         "2024-08-05",
         54,
         21,
         17,
         "2024-05-01T00:00:00.000Z"
        ],
        [
         "CUST155",
         "2024-05-06",
         "2024-06-15",
         "2024-07-29",
         null,
         40,
         44,
         null,
         "2024-05-01T00:00:00.000Z"
        ],
        [
         "CUST047",
         "2024-05-08",
         "2024-05-24",
         "2024-06-05",
         null,
         16,
         12,
         null,
         "2024-05-01T00:00:00.000Z"
        ],
        [
         "CUST129",
         "2024-05-10",
         "2024-05-26",
         "2024-06-26",
         "2024-10-23",
         16,
         31,
         119,
         "2024-05-01T00:00:00.000Z"
        ],
        [
         "CUST193",
         "2024-05-11",
         "2024-06-22",
         "2024-07-03",
         "2024-08-08",
         42,
         11,
         36,
         "2024-05-01T00:00:00.000Z"
        ],
        [
         "CUST037",
         "2024-05-14",
         "2024-06-14",
         "2024-06-24",
         "2024-09-04",
         31,
         10,
         72,
         "2024-05-01T00:00:00.000Z"
        ],
        [
         "CUST164",
         "2024-05-15",
         "2024-06-21",
         "2024-07-01",
         "2024-07-23",
         37,
         10,
         22,
         "2024-05-01T00:00:00.000Z"
        ],
        [
         "CUST136",
         "2024-05-18",
         "2024-05-21",
         "2024-06-30",
         "2024-08-04",
         3,
         40,
         35,
         "2024-05-01T00:00:00.000Z"
        ],
        [
         "CUST014",
         "2024-05-20",
         "2024-08-13",
         "2024-10-24",
         null,
         85,
         72,
         null,
         "2024-05-01T00:00:00.000Z"
        ],
        [
         "CUST125",
         "2024-05-21",
         "2024-06-19",
         "2024-07-01",
         "2024-07-12",
         29,
         12,
         11,
         "2024-05-01T00:00:00.000Z"
        ],
        [
         "CUST035",
         "2024-05-31",
         "2024-06-20",
         "2024-08-08",
         "2024-09-02",
         20,
         49,
         25,
         "2024-05-01T00:00:00.000Z"
        ],
        [
         "CUST009",
         "2024-06-01",
         "2024-07-16",
         null,
         null,
         45,
         null,
         null,
         "2024-06-01T00:00:00.000Z"
        ],
        [
         "CUST044",
         "2024-06-02",
         "2024-07-17",
         "2024-08-30",
         "2024-09-07",
         45,
         44,
         8,
         "2024-06-01T00:00:00.000Z"
        ],
        [
         "CUST022",
         "2024-06-05",
         "2024-08-01",
         "2024-10-11",
         "2024-11-17",
         57,
         71,
         37,
         "2024-06-01T00:00:00.000Z"
        ],
        [
         "CUST064",
         "2024-06-08",
         "2024-07-17",
         null,
         null,
         39,
         null,
         null,
         "2024-06-01T00:00:00.000Z"
        ],
        [
         "CUST117",
         "2024-06-13",
         "2024-07-12",
         null,
         null,
         29,
         null,
         null,
         "2024-06-01T00:00:00.000Z"
        ],
        [
         "CUST178",
         "2024-06-18",
         "2024-07-14",
         "2024-07-24",
         "2024-09-23",
         26,
         10,
         61,
         "2024-06-01T00:00:00.000Z"
        ],
        [
         "CUST058",
         "2024-06-20",
         "2024-07-23",
         "2024-08-12",
         "2024-09-20",
         33,
         20,
         39,
         "2024-06-01T00:00:00.000Z"
        ],
        [
         "CUST028",
         "2024-06-20",
         "2024-07-28",
         "2024-08-21",
         "2024-11-08",
         38,
         24,
         79,
         "2024-06-01T00:00:00.000Z"
        ],
        [
         "CUST120",
         "2024-06-21",
         "2024-08-17",
         "2024-10-28",
         "2024-11-03",
         57,
         72,
         6,
         "2024-06-01T00:00:00.000Z"
        ],
        [
         "CUST128",
         "2024-06-22",
         "2024-07-07",
         "2024-07-30",
         null,
         15,
         23,
         null,
         "2024-06-01T00:00:00.000Z"
        ]
       ],
       "datasetInfos": [
        {
         "name": "_sqldf",
         "schema": {
          "fields": [
           {
            "metadata": {
             "__CHAR_VARCHAR_TYPE_STRING": "varchar(65535)",
             "isTimestampNTZ": false,
             "scale": 0,
             "signed": false
            },
            "name": "customer_id",
            "nullable": true,
            "type": "string"
           },
           {
            "metadata": {},
            "name": "first_purchase_date",
            "nullable": true,
            "type": "date"
           },
           {
            "metadata": {},
            "name": "second_purchase_date",
            "nullable": true,
            "type": "date"
           },
           {
            "metadata": {},
            "name": "third_purchase_date",
            "nullable": true,
            "type": "date"
           },
           {
            "metadata": {},
            "name": "fourth_purchase_date",
            "nullable": true,
            "type": "date"
           },
           {
            "metadata": {},
            "name": "days_between_1_and_2",
            "nullable": true,
            "type": "integer"
           },
           {
            "metadata": {},
            "name": "days_between_2_and_3",
            "nullable": true,
            "type": "integer"
           },
           {
            "metadata": {},
            "name": "days_between_3_and_4",
            "nullable": true,
            "type": "integer"
           },
           {
            "metadata": {},
            "name": "cohort_month",
            "nullable": true,
            "type": "timestamp"
           }
          ],
          "type": "struct"
         },
         "tableIdentifier": null,
         "typeStr": "pyspark.sql.connect.dataframe.DataFrame"
        }
       ],
       "dbfsResultPath": null,
       "isJsonSchema": true,
       "metadata": {
        "createTempViewForImplicitDf": true,
        "dataframeName": "_sqldf",
        "executionCount": 222
       },
       "overflow": false,
       "plotOptions": {
        "customPlotOptions": {},
        "displayType": "table",
        "pivotAggregation": null,
        "pivotColumns": null,
        "xColumns": null,
        "yColumns": null
       },
       "removedWidgets": [],
       "schema": [
        {
         "metadata": "{\"isTimestampNTZ\": false, \"__CHAR_VARCHAR_TYPE_STRING\": \"varchar(65535)\", \"signed\": false, \"scale\": 0}",
         "name": "customer_id",
         "type": "\"string\""
        },
        {
         "metadata": "{}",
         "name": "first_purchase_date",
         "type": "\"date\""
        },
        {
         "metadata": "{}",
         "name": "second_purchase_date",
         "type": "\"date\""
        },
        {
         "metadata": "{}",
         "name": "third_purchase_date",
         "type": "\"date\""
        },
        {
         "metadata": "{}",
         "name": "fourth_purchase_date",
         "type": "\"date\""
        },
        {
         "metadata": "{}",
         "name": "days_between_1_and_2",
         "type": "\"integer\""
        },
        {
         "metadata": "{}",
         "name": "days_between_2_and_3",
         "type": "\"integer\""
        },
        {
         "metadata": "{}",
         "name": "days_between_3_and_4",
         "type": "\"integer\""
        },
        {
         "metadata": "{}",
         "name": "cohort_month",
         "type": "\"timestamp\""
        }
       ],
       "type": "table"
      }
     },
     "output_type": "display_data"
    }
   ],
   "source": [
    "SELECT * FROM cohort_analysis ORDER BY first_purchase_date LIMIT 1000;"
   ]
  },
  {
   "cell_type": "markdown",
   "metadata": {
    "application/vnd.databricks.v1+cell": {
     "cellMetadata": {},
     "inputWidgets": {},
     "nuid": "c156772a-846b-4c57-8056-88b54edf20e1",
     "showTitle": false,
     "tableResultSettingsMap": {},
     "title": ""
    }
   },
   "source": [
    "# Four Purchases"
   ]
  },
  {
   "cell_type": "code",
   "execution_count": 0,
   "metadata": {
    "application/vnd.databricks.v1+cell": {
     "cellMetadata": {
      "byteLimit": 2048000,
      "rowLimit": 10000
     },
     "inputWidgets": {},
     "nuid": "b2204af3-461d-4023-aeb0-d5c4f090865c",
     "showTitle": false,
     "tableResultSettingsMap": {},
     "title": ""
    }
   },
   "outputs": [
    {
     "output_type": "display_data",
     "data": {
      "text/html": [
       "<style scoped>\n",
       "  .table-result-container {\n",
       "    max-height: 300px;\n",
       "    overflow: auto;\n",
       "  }\n",
       "  table, th, td {\n",
       "    border: 1px solid black;\n",
       "    border-collapse: collapse;\n",
       "  }\n",
       "  th, td {\n",
       "    padding: 5px;\n",
       "  }\n",
       "  th {\n",
       "    text-align: left;\n",
       "  }\n",
       "</style><div class='table-result-container'><table class='table-result'><thead style='background-color: white'><tr><th>cohort_month</th><th>retention_2nd_m0</th><th>retention_2nd_m1</th><th>retention_3rd_m1</th><th>retention_4th_m2</th></tr></thead><tbody><tr><td>2024-01</td><td>0.38</td><td>0.21</td><td>0.17</td><td>0.09</td></tr><tr><td>2024-02</td><td>0.35</td><td>0.29</td><td>0.23</td><td>0.06</td></tr><tr><td>2024-03</td><td>0.30</td><td>0.42</td><td>0.24</td><td>0.18</td></tr><tr><td>2024-04</td><td>0.48</td><td>0.41</td><td>0.30</td><td>0.15</td></tr><tr><td>2024-05</td><td>0.50</td><td>0.44</td><td>0.50</td><td>0.25</td></tr><tr><td>2024-06</td><td>0.30</td><td>0.70</td><td>0.30</td><td>0.00</td></tr></tbody></table></div>"
      ]
     },
     "metadata": {
      "application/vnd.databricks.v1+output": {
       "addedWidgets": {},
       "aggData": [],
       "aggError": "",
       "aggOverflow": false,
       "aggSchema": [],
       "aggSeriesLimitReached": false,
       "aggType": "",
       "arguments": {},
       "columnCustomDisplayInfos": {},
       "data": [
        [
         "2024-01",
         "0.38",
         "0.21",
         "0.17",
         "0.09"
        ],
        [
         "2024-02",
         "0.35",
         "0.29",
         "0.23",
         "0.06"
        ],
        [
         "2024-03",
         "0.30",
         "0.42",
         "0.24",
         "0.18"
        ],
        [
         "2024-04",
         "0.48",
         "0.41",
         "0.30",
         "0.15"
        ],
        [
         "2024-05",
         "0.50",
         "0.44",
         "0.50",
         "0.25"
        ],
        [
         "2024-06",
         "0.30",
         "0.70",
         "0.30",
         "0.00"
        ]
       ],
       "datasetInfos": [
        {
         "name": "_sqldf",
         "schema": {
          "fields": [
           {
            "metadata": {},
            "name": "cohort_month",
            "nullable": true,
            "type": "string"
           },
           {
            "metadata": {},
            "name": "retention_2nd_m0",
            "nullable": true,
            "type": "decimal(25,2)"
           },
           {
            "metadata": {},
            "name": "retention_2nd_m1",
            "nullable": true,
            "type": "decimal(25,2)"
           },
           {
            "metadata": {},
            "name": "retention_3rd_m1",
            "nullable": true,
            "type": "decimal(25,2)"
           },
           {
            "metadata": {},
            "name": "retention_4th_m2",
            "nullable": true,
            "type": "decimal(25,2)"
           }
          ],
          "type": "struct"
         },
         "tableIdentifier": null,
         "typeStr": "pyspark.sql.connect.dataframe.DataFrame"
        }
       ],
       "dbfsResultPath": null,
       "isJsonSchema": true,
       "metadata": {
        "createTempViewForImplicitDf": true,
        "dataframeName": "_sqldf",
        "executionCount": 73
       },
       "overflow": false,
       "plotOptions": {
        "customPlotOptions": {},
        "displayType": "table",
        "pivotAggregation": null,
        "pivotColumns": null,
        "xColumns": null,
        "yColumns": null
       },
       "removedWidgets": [],
       "schema": [
        {
         "metadata": "{}",
         "name": "cohort_month",
         "type": "\"string\""
        },
        {
         "metadata": "{}",
         "name": "retention_2nd_m0",
         "type": "\"decimal(25,2)\""
        },
        {
         "metadata": "{}",
         "name": "retention_2nd_m1",
         "type": "\"decimal(25,2)\""
        },
        {
         "metadata": "{}",
         "name": "retention_3rd_m1",
         "type": "\"decimal(25,2)\""
        },
        {
         "metadata": "{}",
         "name": "retention_4th_m2",
         "type": "\"decimal(25,2)\""
        }
       ],
       "type": "table"
      }
     },
     "output_type": "display_data"
    }
   ],
   "source": [
    "WITH retention_with_cohort AS (\n",
    "  SELECT\n",
    "    customer_id,\n",
    "    DATE_FORMAT(DATE_TRUNC('month', first_purchase_date), 'yyyy-MM') AS cohort_month,\n",
    "    FLOOR(MONTHS_BETWEEN(second_purchase_date, first_purchase_date)) AS months_diff_2,\n",
    "    FLOOR(MONTHS_BETWEEN(third_purchase_date, first_purchase_date)) AS months_diff_3,\n",
    "    FLOOR(MONTHS_BETWEEN(fourth_purchase_date, first_purchase_date)) AS months_diff_4\n",
    "  FROM workspace.default.cohort_analysis\n",
    "),\n",
    "\n",
    "cohort_sizes AS (\n",
    "  SELECT\n",
    "    DATE_FORMAT(DATE_TRUNC('month', first_purchase_date), 'yyyy-MM') AS cohort_month,\n",
    "    COUNT(DISTINCT customer_id) AS cohort_size\n",
    "  FROM workspace.default.cohort_analysis\n",
    "  GROUP BY 1\n",
    "),\n",
    "\n",
    "retention_rates AS (\n",
    "  SELECT\n",
    "    r.cohort_month,\n",
    "\n",
    "    -- Обернули cohort_size в ANY_VALUE\n",
    "    ROUND(COUNT(CASE WHEN months_diff_2 = 0 THEN 1 END) * 1.0 / ANY_VALUE(c.cohort_size), 2) AS retention_2nd_m0,\n",
    "    ROUND(COUNT(CASE WHEN months_diff_2 = 1 THEN 1 END) * 1.0 / ANY_VALUE(c.cohort_size), 2) AS retention_2nd_m1,\n",
    "    ROUND(COUNT(CASE WHEN months_diff_3 = 1 THEN 1 END) * 1.0 / ANY_VALUE(c.cohort_size), 2) AS retention_3rd_m1,\n",
    "    ROUND(COUNT(CASE WHEN months_diff_4 = 2 THEN 1 END) * 1.0 / ANY_VALUE(c.cohort_size), 2) AS retention_4th_m2\n",
    "\n",
    "  FROM retention_with_cohort r\n",
    "  JOIN cohort_sizes c ON r.cohort_month = c.cohort_month\n",
    "  GROUP BY r.cohort_month\n",
    ")\n",
    "\n",
    "SELECT * FROM retention_rates\n",
    "ORDER BY cohort_month;\n"
   ]
  },
  {
   "cell_type": "markdown",
   "metadata": {
    "application/vnd.databricks.v1+cell": {
     "cellMetadata": {},
     "inputWidgets": {},
     "nuid": "bfe3d27d-c230-4069-8a29-7056fef17b33",
     "showTitle": false,
     "tableResultSettingsMap": {},
     "title": ""
    }
   },
   "source": [
    "# \uD83D\uDCCA Retention Rate by Cohort"
   ]
  },
  {
   "cell_type": "code",
   "execution_count": 0,
   "metadata": {
    "application/vnd.databricks.v1+cell": {
     "cellMetadata": {
      "byteLimit": 2048000,
      "rowLimit": 10000
     },
     "inputWidgets": {},
     "nuid": "583269d7-0be7-45c2-b74e-6d636c74c7e1",
     "showTitle": false,
     "tableResultSettingsMap": {},
     "title": ""
    }
   },
   "outputs": [
    {
     "output_type": "display_data",
     "data": {
      "text/html": [
       "<style scoped>\n",
       "  .table-result-container {\n",
       "    max-height: 300px;\n",
       "    overflow: auto;\n",
       "  }\n",
       "  table, th, td {\n",
       "    border: 1px solid black;\n",
       "    border-collapse: collapse;\n",
       "  }\n",
       "  th, td {\n",
       "    padding: 5px;\n",
       "  }\n",
       "  th {\n",
       "    text-align: left;\n",
       "  }\n",
       "</style><div class='table-result-container'><table class='table-result'><thead style='background-color: white'><tr><th>cohort_month</th><th>retention_rate_1m</th><th>retention_rate_2m</th><th>retention_rate_3m</th></tr></thead><tbody><tr><td>2024-01</td><td>0.21</td><td>0.18</td><td>0.06</td></tr><tr><td>2024-02</td><td>0.29</td><td>0.15</td><td>0.06</td></tr><tr><td>2024-03</td><td>0.42</td><td>0.15</td><td>0.12</td></tr><tr><td>2024-04</td><td>0.41</td><td>0.04</td><td>0.00</td></tr><tr><td>2024-05</td><td>0.44</td><td>0.06</td><td>0.00</td></tr><tr><td>2024-06</td><td>0.70</td><td>0.00</td><td>0.00</td></tr></tbody></table></div>"
      ]
     },
     "metadata": {
      "application/vnd.databricks.v1+output": {
       "addedWidgets": {},
       "aggData": [],
       "aggError": "",
       "aggOverflow": false,
       "aggSchema": [],
       "aggSeriesLimitReached": false,
       "aggType": "",
       "arguments": {},
       "columnCustomDisplayInfos": {},
       "data": [
        [
         "2024-01",
         "0.21",
         "0.18",
         "0.06"
        ],
        [
         "2024-02",
         "0.29",
         "0.15",
         "0.06"
        ],
        [
         "2024-03",
         "0.42",
         "0.15",
         "0.12"
        ],
        [
         "2024-04",
         "0.41",
         "0.04",
         "0.00"
        ],
        [
         "2024-05",
         "0.44",
         "0.06",
         "0.00"
        ],
        [
         "2024-06",
         "0.70",
         "0.00",
         "0.00"
        ]
       ],
       "datasetInfos": [
        {
         "name": "_sqldf",
         "schema": {
          "fields": [
           {
            "metadata": {},
            "name": "cohort_month",
            "nullable": true,
            "type": "string"
           },
           {
            "metadata": {},
            "name": "retention_rate_1m",
            "nullable": true,
            "type": "decimal(25,2)"
           },
           {
            "metadata": {},
            "name": "retention_rate_2m",
            "nullable": true,
            "type": "decimal(25,2)"
           },
           {
            "metadata": {},
            "name": "retention_rate_3m",
            "nullable": true,
            "type": "decimal(25,2)"
           }
          ],
          "type": "struct"
         },
         "tableIdentifier": null,
         "typeStr": "pyspark.sql.connect.dataframe.DataFrame"
        }
       ],
       "dbfsResultPath": null,
       "isJsonSchema": true,
       "metadata": {
        "createTempViewForImplicitDf": true,
        "dataframeName": "_sqldf",
        "executionCount": 87
       },
       "overflow": false,
       "plotOptions": {
        "customPlotOptions": {},
        "displayType": "table",
        "pivotAggregation": null,
        "pivotColumns": null,
        "xColumns": null,
        "yColumns": null
       },
       "removedWidgets": [],
       "schema": [
        {
         "metadata": "{}",
         "name": "cohort_month",
         "type": "\"string\""
        },
        {
         "metadata": "{}",
         "name": "retention_rate_1m",
         "type": "\"decimal(25,2)\""
        },
        {
         "metadata": "{}",
         "name": "retention_rate_2m",
         "type": "\"decimal(25,2)\""
        },
        {
         "metadata": "{}",
         "name": "retention_rate_3m",
         "type": "\"decimal(25,2)\""
        }
       ],
       "type": "table"
      }
     },
     "output_type": "display_data"
    },
    {
     "output_type": "display_data",
     "data": {
      "text/plain": [
       "Databricks visualization. Run in Databricks to view."
      ]
     },
     "metadata": {
      "application/vnd.databricks.v1.subcommand+json": {
       "baseErrorDetails": null,
       "bindings": {},
       "collapsed": false,
       "command": "%sql WITH q AS (WITH retention_data AS (\n  SELECT\n    customer_id,\n    DATE_TRUNC('month', first_purchase_date) AS cohort_month,\n    FLOOR(MONTHS_BETWEEN(second_purchase_date, first_purchase_date)) AS month_diff\n  FROM workspace.default.cohort_analysis\n  WHERE second_purchase_date IS NOT NULL\n),\n\ncohort_sizes AS (\n  SELECT\n    DATE_TRUNC('month', first_purchase_date) AS cohort_month,\n    COUNT(DISTINCT customer_id) AS cohort_size\n  FROM workspace.default.cohort_analysis\n  GROUP BY 1\n),\n\nretention_rates AS (\n  SELECT\n    r.cohort_month,\n    COUNT(DISTINCT CASE WHEN month_diff = 1 THEN customer_id END) * 1.0 / cs.cohort_size AS retention_rate_1m,\n    COUNT(DISTINCT CASE WHEN month_diff = 2 THEN customer_id END) * 1.0 / cs.cohort_size AS retention_rate_2m,\n    COUNT(DISTINCT CASE WHEN month_diff = 3 THEN customer_id END) * 1.0 / cs.cohort_size AS retention_rate_3m\n  FROM retention_data r\n  JOIN cohort_sizes cs ON r.cohort_month = cs.cohort_month\n  GROUP BY r.cohort_month, cs.cohort_size\n)\n\nSELECT\n  DATE_FORMAT(cohort_month, 'yyyy-MM') AS cohort_month,\n  ROUND(retention_rate_1m, 2) AS retention_rate_1m,\n  ROUND(retention_rate_2m, 2) AS retention_rate_2m,\n  ROUND(retention_rate_3m, 2) AS retention_rate_3m\nFROM retention_rates\nORDER BY cohort_month) SELECT `cohort_month`,SUM(`retention_rate_1m`) `column_57580a3d213`,SUM(`retention_rate_2m`) `column_57580a3d216`,SUM(`retention_rate_3m`) `column_57580a3d219` FROM q GROUP BY `cohort_month`",
       "commandTitle": "Retention Rate by Cohort",
       "commandType": "auto",
       "commandVersion": 0,
       "commentThread": [],
       "commentsVisible": false,
       "contentSha256Hex": null,
       "customPlotOptions": {
        "redashChart": [
         {
          "key": "type",
          "value": "CHART"
         },
         {
          "key": "options",
          "value": {
           "alignYAxesAtZero": true,
           "coefficient": 1,
           "columnConfigurationMap": {
            "x": {
             "column": "cohort_month",
             "id": "column_57580a3d211"
            },
            "y": [
             {
              "column": "retention_rate_1m",
              "id": "column_57580a3d213",
              "transform": "SUM"
             },
             {
              "column": "retention_rate_2m",
              "id": "column_57580a3d216",
              "transform": "SUM"
             },
             {
              "column": "retention_rate_3m",
              "id": "column_57580a3d219",
              "transform": "SUM"
             }
            ]
           },
           "dateTimeFormat": "DD/MM/YYYY HH:mm",
           "direction": {
            "type": "counterclockwise"
           },
           "error_y": {
            "type": "data",
            "visible": true
           },
           "globalSeriesType": "column",
           "isAggregationOn": true,
           "legend": {
            "traceorder": "normal"
           },
           "missingValuesAsZero": true,
           "numberFormat": "0,0.[00000]",
           "percentFormat": "0[.]00%",
           "series": {
            "error_y": {
             "type": "data",
             "visible": true
            },
            "stacking": null
           },
           "seriesOptions": {
            "column_57580a3d213": {
             "type": "column",
             "yAxis": 0
            },
            "column_57580a3d216": {
             "color": "#8BCAE7",
             "type": "column",
             "yAxis": 0
            },
            "column_57580a3d219": {
             "color": "#919191",
             "type": "column",
             "yAxis": 0
            }
           },
           "showDataLabels": true,
           "sizemode": "diameter",
           "sortX": true,
           "sortY": true,
           "swappedAxes": false,
           "textFormat": "",
           "useAggregationsUi": true,
           "valuesOptions": {},
           "version": 2,
           "xAxis": {
            "labels": {
             "enabled": true
            },
            "type": "-"
           },
           "yAxis": [
            {
             "type": "-"
            },
            {
             "opposite": true,
             "type": "-"
            }
           ]
          }
         }
        ]
       },
       "datasetPreviewNameToCmdIdMap": {},
       "diffDeletes": [],
       "diffInserts": [],
       "displayType": "redashChart",
       "error": null,
       "errorDetails": null,
       "errorSummary": null,
       "errorTraceType": null,
       "finishTime": 0,
       "globalVars": {},
       "guid": "",
       "height": "auto",
       "hideCommandCode": false,
       "hideCommandResult": false,
       "iPythonMetadata": null,
       "inputWidgets": {},
       "isLockedInExamMode": false,
       "latestUser": "a user",
       "latestUserId": null,
       "listResultMetadata": null,
       "metadata": {},
       "nuid": "c2e5d1ac-ff0a-4e15-b032-a17d04785472",
       "origId": 0,
       "parentHierarchy": [],
       "pivotAggregation": null,
       "pivotColumns": null,
       "position": 9.9375,
       "resultDbfsErrorMessage": null,
       "resultDbfsStatus": "INLINED_IN_TREE",
       "results": null,
       "showCommandTitle": false,
       "startTime": 0,
       "state": "input",
       "streamStates": {},
       "subcommandOptions": {
        "queryPlan": {
         "groups": [
          {
           "column": "cohort_month",
           "type": "column"
          }
         ],
         "selects": [
          {
           "column": "cohort_month",
           "type": "column"
          },
          {
           "alias": "column_57580a3d213",
           "args": [
            {
             "column": "retention_rate_1m",
             "type": "column"
            }
           ],
           "function": "SUM",
           "type": "function"
          },
          {
           "alias": "column_57580a3d216",
           "args": [
            {
             "column": "retention_rate_2m",
             "type": "column"
            }
           ],
           "function": "SUM",
           "type": "function"
          },
          {
           "alias": "column_57580a3d219",
           "args": [
            {
             "column": "retention_rate_3m",
             "type": "column"
            }
           ],
           "function": "SUM",
           "type": "function"
          }
         ]
        }
       },
       "submitTime": 0,
       "subtype": "tableResultSubCmd.visualization",
       "tableResultIndex": 0,
       "tableResultSettingsMap": {},
       "useConsistentColors": false,
       "version": "CommandV1",
       "width": "auto",
       "workflows": [],
       "xColumns": null,
       "yColumns": null
      }
     },
     "output_type": "display_data"
    }
   ],
   "source": [
    "WITH retention_data AS (\n",
    "  SELECT\n",
    "    customer_id,\n",
    "    DATE_TRUNC('month', first_purchase_date) AS cohort_month,\n",
    "    FLOOR(MONTHS_BETWEEN(second_purchase_date, first_purchase_date)) AS month_diff\n",
    "  FROM workspace.default.cohort_analysis\n",
    "  WHERE second_purchase_date IS NOT NULL\n",
    "),\n",
    "\n",
    "cohort_sizes AS (\n",
    "  SELECT\n",
    "    DATE_TRUNC('month', first_purchase_date) AS cohort_month,\n",
    "    COUNT(DISTINCT customer_id) AS cohort_size\n",
    "  FROM workspace.default.cohort_analysis\n",
    "  GROUP BY 1\n",
    "),\n",
    "\n",
    "retention_rates AS (\n",
    "  SELECT\n",
    "    r.cohort_month,\n",
    "    COUNT(DISTINCT CASE WHEN month_diff = 1 THEN customer_id END) * 1.0 / cs.cohort_size AS retention_rate_1m,\n",
    "    COUNT(DISTINCT CASE WHEN month_diff = 2 THEN customer_id END) * 1.0 / cs.cohort_size AS retention_rate_2m,\n",
    "    COUNT(DISTINCT CASE WHEN month_diff = 3 THEN customer_id END) * 1.0 / cs.cohort_size AS retention_rate_3m\n",
    "  FROM retention_data r\n",
    "  JOIN cohort_sizes cs ON r.cohort_month = cs.cohort_month\n",
    "  GROUP BY r.cohort_month, cs.cohort_size\n",
    ")\n",
    "\n",
    "SELECT\n",
    "  DATE_FORMAT(cohort_month, 'yyyy-MM') AS cohort_month,\n",
    "  ROUND(retention_rate_1m, 2) AS retention_rate_1m,\n",
    "  ROUND(retention_rate_2m, 2) AS retention_rate_2m,\n",
    "  ROUND(retention_rate_3m, 2) AS retention_rate_3m\n",
    "FROM retention_rates\n",
    "ORDER BY cohort_month;\n"
   ]
  },
  {
   "cell_type": "markdown",
   "metadata": {
    "application/vnd.databricks.v1+cell": {
     "cellMetadata": {},
     "inputWidgets": {},
     "nuid": "fbeb6682-56ab-4277-b7e8-9004fc206d65",
     "showTitle": false,
     "tableResultSettingsMap": {},
     "title": ""
    }
   },
   "source": [
    "| Cohort Month | Retention 1m | Retention 2m | Retention 3m | Interpretation                                                                                                                      |\n",
    "| ------------ | ------------ | ------------ | ------------ | ----------------------------------------------------------------------------------------------------------------------------------- |\n",
    "| **January**  | 38%          | 21%          | 18%          | Of the users who made their first purchase in January, 38% returned in the next month. Retention dropped to 18% by month 3.         |\n",
    "| **February** | 35%          | 29%          | 15%          | Slightly stronger 2-month retention than January. Indicates better mid-term engagement.                                             |\n",
    "| **March**    | 30%          | 42%          | 15%          | Unusual pattern: higher retention in month 2 than in month 1. May suggest delayed activation or data lag.                           |\n",
    "| **April**    | 48%          | 41%          | 4%           | Strong early retention, but sharp drop-off by month 3. Most users churned after the second month.                                   |\n",
    "| **May**      | 50%          | 44%          | 6%           | Excellent 1–2 month retention, but long-term engagement is weak. Follow-up strategy needed.                                         |\n",
    "| **June**     | 30%          | 70% ⚠️       | 0% ⚠️        | ⚠️ Data for June is still incomplete. 2m and 3m retention values may be artificially inflated or unavailable. Interpret cautiously. |\n"
   ]
  },
  {
   "cell_type": "markdown",
   "metadata": {
    "application/vnd.databricks.v1+cell": {
     "cellMetadata": {},
     "inputWidgets": {},
     "nuid": "6ea3dc13-e89a-4f4c-b2cf-f98aa750a981",
     "showTitle": false,
     "tableResultSettingsMap": {},
     "title": ""
    }
   },
   "source": [
    "Based on the updated chart and data you provided, here are the **Key Insights** in **English**, written clearly and accurately:\n",
    "\n",
    "---\n",
    "\n",
    "### \uD83D\uDD0D **Key Insights: Retention Rate by Cohort**\n",
    "\n",
    "1. **January Cohort (2024-01)**\n",
    "\n",
    "   * **1-month retention:** 21%\n",
    "   * **2-month retention:** 18%\n",
    "   * **3-month retention:** 6%\n",
    "     ➤ Weak retention across all months, with steady drop-off. Indicates poor engagement beyond initial purchase.\n",
    "\n",
    "2. **February Cohort (2024-02)**\n",
    "\n",
    "   * **1-month retention:** 29%\n",
    "   * **2-month retention:** 15%\n",
    "   * **3-month retention:** 6%\n",
    "     ➤ Higher initial engagement than January, but similar long-term drop-off.\n",
    "\n",
    "3. **March Cohort (2024-03)**\n",
    "\n",
    "   * **1-month retention:** 42%\n",
    "   * **2-month retention:** 15%\n",
    "   * **3-month retention:** 12%\n",
    "     ➤ Strong start, but rapid decrease afterward. Slight improvement over previous cohorts at 3 months.\n",
    "\n",
    "4. **April Cohort (2024-04)**\n",
    "\n",
    "   * **1-month retention:** 41%\n",
    "   * **2-month retention:** 4%\n",
    "   * **3-month retention:** 0%\n",
    "     ➤ Very sharp decline after the first month. Possible product or experience-related churn issue.\n",
    "\n",
    "5. **May Cohort (2024-05)**\n",
    "\n",
    "   * **1-month retention:** 44%\n",
    "   * **2-month retention:** 6%\n",
    "   * **3-month retention:** 0%\n",
    "     ➤ High initial retention, followed by strong drop-off. Similar pattern to April.\n",
    "\n",
    "6. **June Cohort (2024-06)**\n",
    "\n",
    "   * **1-month retention:** 70%\n",
    "   * **2-month & 3-month retention:** 0% (data not yet available)\n",
    "     ⚠️ **Caution:** June's long-term data is incomplete — full 2- and 3-month windows haven't elapsed. Still, initial retention looks promising.\n",
    "\n",
    "---\n",
    "\n",
    "### ✅ **Conclusion**\n",
    "\n",
    "* The **March–May cohorts** show good initial engagement (40%+ retention in month 1), but **struggle to retain users long-term**.\n",
    "* **June’s high 1-month rate (70%)** is promising, but early. Monitor closely.\n",
    "* Priority: Improve **month 2+ experience**, identify **churn triggers**, and test **retention campaigns**.\n",
    "\n",
    "If you'd like, I can help you turn this into a **slide or dashboard annotation**.\n"
   ]
  },
  {
   "cell_type": "markdown",
   "metadata": {
    "application/vnd.databricks.v1+cell": {
     "cellMetadata": {},
     "inputWidgets": {},
     "nuid": "6a946eca-2cdc-4a67-a27d-eea5d3cc1895",
     "showTitle": false,
     "tableResultSettingsMap": {},
     "title": ""
    }
   },
   "source": [
    "# Visualization 2: Repeat Purchase Rate by Cohort"
   ]
  },
  {
   "cell_type": "code",
   "execution_count": 0,
   "metadata": {
    "application/vnd.databricks.v1+cell": {
     "cellMetadata": {
      "byteLimit": 2048000,
      "rowLimit": 10000
     },
     "inputWidgets": {},
     "nuid": "b4bd422b-bb0b-4a4a-93d5-0526f4ca519d",
     "showTitle": false,
     "tableResultSettingsMap": {},
     "title": ""
    }
   },
   "outputs": [
    {
     "output_type": "display_data",
     "data": {
      "text/html": [
       "<style scoped>\n",
       "  .table-result-container {\n",
       "    max-height: 300px;\n",
       "    overflow: auto;\n",
       "  }\n",
       "  table, th, td {\n",
       "    border: 1px solid black;\n",
       "    border-collapse: collapse;\n",
       "  }\n",
       "  th, td {\n",
       "    padding: 5px;\n",
       "  }\n",
       "  th {\n",
       "    text-align: left;\n",
       "  }\n",
       "</style><div class='table-result-container'><table class='table-result'><thead style='background-color: white'><tr><th>cohort_month</th><th>repeat_rate_2nd_order</th><th>repeat_rate_3rd_order</th><th>repeat_rate_4th_order</th></tr></thead><tbody><tr><td>2024-01</td><td>1.00</td><td>0.98</td><td>0.83</td></tr><tr><td>2024-02</td><td>0.98</td><td>0.96</td><td>0.81</td></tr><tr><td>2024-03</td><td>1.00</td><td>0.94</td><td>0.82</td></tr><tr><td>2024-04</td><td>0.96</td><td>0.85</td><td>0.78</td></tr><tr><td>2024-05</td><td>1.00</td><td>0.94</td><td>0.69</td></tr><tr><td>2024-06</td><td>1.00</td><td>0.70</td><td>0.60</td></tr></tbody></table></div>"
      ]
     },
     "metadata": {
      "application/vnd.databricks.v1+output": {
       "addedWidgets": {},
       "aggData": [],
       "aggError": "",
       "aggOverflow": false,
       "aggSchema": [],
       "aggSeriesLimitReached": false,
       "aggType": "",
       "arguments": {},
       "columnCustomDisplayInfos": {},
       "data": [
        [
         "2024-01",
         "1.00",
         "0.98",
         "0.83"
        ],
        [
         "2024-02",
         "0.98",
         "0.96",
         "0.81"
        ],
        [
         "2024-03",
         "1.00",
         "0.94",
         "0.82"
        ],
        [
         "2024-04",
         "0.96",
         "0.85",
         "0.78"
        ],
        [
         "2024-05",
         "1.00",
         "0.94",
         "0.69"
        ],
        [
         "2024-06",
         "1.00",
         "0.70",
         "0.60"
        ]
       ],
       "datasetInfos": [
        {
         "name": "_sqldf",
         "schema": {
          "fields": [
           {
            "metadata": {},
            "name": "cohort_month",
            "nullable": true,
            "type": "string"
           },
           {
            "metadata": {},
            "name": "repeat_rate_2nd_order",
            "nullable": true,
            "type": "decimal(25,2)"
           },
           {
            "metadata": {},
            "name": "repeat_rate_3rd_order",
            "nullable": true,
            "type": "decimal(25,2)"
           },
           {
            "metadata": {},
            "name": "repeat_rate_4th_order",
            "nullable": true,
            "type": "decimal(25,2)"
           }
          ],
          "type": "struct"
         },
         "tableIdentifier": null,
         "typeStr": "pyspark.sql.connect.dataframe.DataFrame"
        }
       ],
       "dbfsResultPath": null,
       "isJsonSchema": true,
       "metadata": {
        "createTempViewForImplicitDf": true,
        "dataframeName": "_sqldf",
        "executionCount": 111
       },
       "overflow": false,
       "plotOptions": {
        "customPlotOptions": {},
        "displayType": "table",
        "pivotAggregation": null,
        "pivotColumns": null,
        "xColumns": null,
        "yColumns": null
       },
       "removedWidgets": [],
       "schema": [
        {
         "metadata": "{}",
         "name": "cohort_month",
         "type": "\"string\""
        },
        {
         "metadata": "{}",
         "name": "repeat_rate_2nd_order",
         "type": "\"decimal(25,2)\""
        },
        {
         "metadata": "{}",
         "name": "repeat_rate_3rd_order",
         "type": "\"decimal(25,2)\""
        },
        {
         "metadata": "{}",
         "name": "repeat_rate_4th_order",
         "type": "\"decimal(25,2)\""
        }
       ],
       "type": "table"
      }
     },
     "output_type": "display_data"
    },
    {
     "output_type": "display_data",
     "data": {
      "text/plain": [
       "Databricks visualization. Run in Databricks to view."
      ]
     },
     "metadata": {
      "application/vnd.databricks.v1.subcommand+json": {
       "baseErrorDetails": null,
       "bindings": {},
       "collapsed": false,
       "command": "%sql WITH q AS (WITH customer_orders AS (\n  SELECT\n    customer_id,\n    DATE_FORMAT(DATE_TRUNC('month', first_purchase_date), 'yyyy-MM') AS cohort_month,\n    CASE\n      WHEN fourth_purchase_date IS NOT NULL THEN 4\n      WHEN third_purchase_date IS NOT NULL THEN 3\n      WHEN second_purchase_date IS NOT NULL THEN 2\n      ELSE 1\n    END AS total_orders\n  FROM workspace.default.cohort_analysis\n),\n\ncohort_sizes AS (\n  SELECT\n    cohort_month,\n    COUNT(*) AS cohort_size\n  FROM customer_orders\n  GROUP BY cohort_month\n),\n\nrepeat_rates AS (\n  SELECT\n    c.cohort_month,\n    ROUND(COUNT(CASE WHEN total_orders >= 2 THEN 1 END) * 1.0 / s.cohort_size, 2) AS repeat_rate_2nd_order,\n    ROUND(COUNT(CASE WHEN total_orders >= 3 THEN 1 END) * 1.0 / s.cohort_size, 2) AS repeat_rate_3rd_order,\n    ROUND(COUNT(CASE WHEN total_orders >= 4 THEN 1 END) * 1.0 / s.cohort_size, 2) AS repeat_rate_4th_order\n  FROM customer_orders c\n  JOIN cohort_sizes s ON c.cohort_month = s.cohort_month\n  GROUP BY c.cohort_month, s.cohort_size\n)\n\nSELECT * FROM repeat_rates\nORDER BY cohort_month) SELECT `cohort_month`,SUM(`repeat_rate_2nd_order`) `column_57580a3d268`,SUM(`repeat_rate_3rd_order`) `column_57580a3d271`,SUM(`repeat_rate_4th_order`) `column_57580a3d274` FROM q GROUP BY `cohort_month`",
       "commandTitle": "Repeat Purchase Rates by Cohort",
       "commandType": "auto",
       "commandVersion": 0,
       "commentThread": [],
       "commentsVisible": false,
       "contentSha256Hex": null,
       "customPlotOptions": {
        "redashChart": [
         {
          "key": "type",
          "value": "CHART"
         },
         {
          "key": "options",
          "value": {
           "alignYAxesAtZero": true,
           "coefficient": 1,
           "columnConfigurationMap": {
            "x": {
             "column": "cohort_month",
             "id": "column_57580a3d266"
            },
            "y": [
             {
              "column": "repeat_rate_2nd_order",
              "id": "column_57580a3d268",
              "transform": "SUM"
             },
             {
              "column": "repeat_rate_3rd_order",
              "id": "column_57580a3d271",
              "transform": "SUM"
             },
             {
              "column": "repeat_rate_4th_order",
              "id": "column_57580a3d274",
              "transform": "SUM"
             }
            ]
           },
           "dateTimeFormat": "DD/MM/YYYY HH:mm",
           "direction": {
            "type": "counterclockwise"
           },
           "error_y": {
            "type": "data",
            "visible": true
           },
           "globalSeriesType": "line",
           "isAggregationOn": true,
           "legend": {
            "traceorder": "normal"
           },
           "missingValuesAsZero": true,
           "numberFormat": "0,0.[00000]",
           "percentFormat": "0[.]00%",
           "series": {
            "error_y": {
             "type": "data",
             "visible": true
            },
            "stacking": null
           },
           "seriesOptions": {
            "column_57580a3d268": {
             "color": "#919191",
             "type": "line",
             "yAxis": 0
            },
            "column_57580a3d271": {
             "color": "#8BCAE7",
             "type": "line",
             "yAxis": 0
            },
            "column_57580a3d274": {
             "color": "#077A9D",
             "type": "line",
             "yAxis": 0
            }
           },
           "showDataLabels": true,
           "sizemode": "diameter",
           "sortX": true,
           "sortY": true,
           "swappedAxes": false,
           "textFormat": "",
           "useAggregationsUi": true,
           "valuesOptions": {},
           "version": 2,
           "xAxis": {
            "labels": {
             "enabled": true
            },
            "type": "-"
           },
           "yAxis": [
            {
             "type": "-"
            },
            {
             "opposite": true,
             "type": "-"
            }
           ]
          }
         }
        ]
       },
       "datasetPreviewNameToCmdIdMap": {},
       "diffDeletes": [],
       "diffInserts": [],
       "displayType": "redashChart",
       "error": null,
       "errorDetails": null,
       "errorSummary": null,
       "errorTraceType": null,
       "finishTime": 0,
       "globalVars": {},
       "guid": "",
       "height": "auto",
       "hideCommandCode": false,
       "hideCommandResult": false,
       "iPythonMetadata": null,
       "inputWidgets": {},
       "isLockedInExamMode": false,
       "latestUser": "a user",
       "latestUserId": null,
       "listResultMetadata": null,
       "metadata": {},
       "nuid": "ad78cffd-c869-4dce-82a6-e3f7bb59180d",
       "origId": 0,
       "parentHierarchy": [],
       "pivotAggregation": null,
       "pivotColumns": null,
       "position": 12.3125,
       "resultDbfsErrorMessage": null,
       "resultDbfsStatus": "INLINED_IN_TREE",
       "results": null,
       "showCommandTitle": false,
       "startTime": 0,
       "state": "input",
       "streamStates": {},
       "subcommandOptions": {
        "queryPlan": {
         "groups": [
          {
           "column": "cohort_month",
           "type": "column"
          }
         ],
         "selects": [
          {
           "column": "cohort_month",
           "type": "column"
          },
          {
           "alias": "column_57580a3d268",
           "args": [
            {
             "column": "repeat_rate_2nd_order",
             "type": "column"
            }
           ],
           "function": "SUM",
           "type": "function"
          },
          {
           "alias": "column_57580a3d271",
           "args": [
            {
             "column": "repeat_rate_3rd_order",
             "type": "column"
            }
           ],
           "function": "SUM",
           "type": "function"
          },
          {
           "alias": "column_57580a3d274",
           "args": [
            {
             "column": "repeat_rate_4th_order",
             "type": "column"
            }
           ],
           "function": "SUM",
           "type": "function"
          }
         ]
        }
       },
       "submitTime": 0,
       "subtype": "tableResultSubCmd.visualization",
       "tableResultIndex": 0,
       "tableResultSettingsMap": {},
       "useConsistentColors": false,
       "version": "CommandV1",
       "width": "auto",
       "workflows": [],
       "xColumns": null,
       "yColumns": null
      }
     },
     "output_type": "display_data"
    }
   ],
   "source": [
    "WITH customer_orders AS (\n",
    "  SELECT\n",
    "    customer_id,\n",
    "    DATE_FORMAT(DATE_TRUNC('month', first_purchase_date), 'yyyy-MM') AS cohort_month,\n",
    "    CASE\n",
    "      WHEN fourth_purchase_date IS NOT NULL THEN 4\n",
    "      WHEN third_purchase_date IS NOT NULL THEN 3\n",
    "      WHEN second_purchase_date IS NOT NULL THEN 2\n",
    "      ELSE 1\n",
    "    END AS total_orders\n",
    "  FROM workspace.default.cohort_analysis\n",
    "),\n",
    "\n",
    "cohort_sizes AS (\n",
    "  SELECT\n",
    "    cohort_month,\n",
    "    COUNT(*) AS cohort_size\n",
    "  FROM customer_orders\n",
    "  GROUP BY cohort_month\n",
    "),\n",
    "\n",
    "repeat_rates AS (\n",
    "  SELECT\n",
    "    c.cohort_month,\n",
    "    ROUND(COUNT(CASE WHEN total_orders >= 2 THEN 1 END) * 1.0 / s.cohort_size, 2) AS repeat_rate_2nd_order,\n",
    "    ROUND(COUNT(CASE WHEN total_orders >= 3 THEN 1 END) * 1.0 / s.cohort_size, 2) AS repeat_rate_3rd_order,\n",
    "    ROUND(COUNT(CASE WHEN total_orders >= 4 THEN 1 END) * 1.0 / s.cohort_size, 2) AS repeat_rate_4th_order\n",
    "  FROM customer_orders c\n",
    "  JOIN cohort_sizes s ON c.cohort_month = s.cohort_month\n",
    "  GROUP BY c.cohort_month, s.cohort_size\n",
    ")\n",
    "\n",
    "SELECT * FROM repeat_rates\n",
    "ORDER BY cohort_month;\n"
   ]
  },
  {
   "cell_type": "markdown",
   "metadata": {
    "application/vnd.databricks.v1+cell": {
     "cellMetadata": {},
     "inputWidgets": {},
     "nuid": "9d83680e-0926-4fc8-91f4-b3117e1830b2",
     "showTitle": false,
     "tableResultSettingsMap": {},
     "title": ""
    }
   },
   "source": [
    "### \uD83D\uDD0D **Key Insights – Repeat Purchase Rates by Cohort**\n",
    "\n",
    "1. **Strong Second Purchase Rate**\n",
    "   All cohorts show exceptionally high conversion to the 2nd purchase (between **96% and 100%**), indicating **strong customer engagement after the first order**.\n",
    "\n",
    "2. **Declining Trend with Each Subsequent Purchase**\n",
    "   There's a clear drop-off in repeat rates from 2nd → 3rd → 4th purchase across all cohorts, which is typical in e-commerce retention patterns.\n",
    "\n",
    "3. **June 2024 Cohort Underperforms**\n",
    "   The **June cohort (2024-06)** has the **lowest 4th order repeat rate at 60%**, compared to 83% in January. This may point to:\n",
    "\n",
    "   * Lower quality of acquired users;\n",
    "   * Changes in product, experience, or delivery;\n",
    "   * Seasonality or campaign differences.\n",
    "\n",
    "4. **March 2024 Cohort Performs Best Overall**\n",
    "   With **1.00 (2nd order)**, **0.94 (3rd order)**, and **0.82 (4th order)**, this cohort demonstrates the most **balanced and sustainable repeat behavior**.\n"
   ]
  },
  {
   "cell_type": "markdown",
   "metadata": {
    "application/vnd.databricks.v1+cell": {
     "cellMetadata": {},
     "inputWidgets": {},
     "nuid": "ad65cbf9-dbeb-4a2b-bddb-5610a74d888a",
     "showTitle": false,
     "tableResultSettingsMap": {},
     "title": ""
    }
   },
   "source": [
    "# Visualization 3: Cohort Size by Month\n"
   ]
  },
  {
   "cell_type": "code",
   "execution_count": 0,
   "metadata": {
    "application/vnd.databricks.v1+cell": {
     "cellMetadata": {
      "byteLimit": 2048000,
      "rowLimit": 10000
     },
     "inputWidgets": {},
     "nuid": "5779fbed-47fc-4d04-9fdd-dbb07ec7d527",
     "showTitle": false,
     "tableResultSettingsMap": {},
     "title": ""
    }
   },
   "outputs": [
    {
     "output_type": "display_data",
     "data": {
      "text/html": [
       "<style scoped>\n",
       "  .table-result-container {\n",
       "    max-height: 300px;\n",
       "    overflow: auto;\n",
       "  }\n",
       "  table, th, td {\n",
       "    border: 1px solid black;\n",
       "    border-collapse: collapse;\n",
       "  }\n",
       "  th, td {\n",
       "    padding: 5px;\n",
       "  }\n",
       "  th {\n",
       "    text-align: left;\n",
       "  }\n",
       "</style><div class='table-result-container'><table class='table-result'><thead style='background-color: white'><tr><th>cohort_month</th><th>new_customers</th></tr></thead><tbody><tr><td>2024-01</td><td>66</td></tr><tr><td>2024-02</td><td>48</td></tr><tr><td>2024-03</td><td>33</td></tr><tr><td>2024-04</td><td>27</td></tr><tr><td>2024-05</td><td>16</td></tr><tr><td>2024-06</td><td>10</td></tr></tbody></table></div>"
      ]
     },
     "metadata": {
      "application/vnd.databricks.v1+output": {
       "addedWidgets": {},
       "aggData": [],
       "aggError": "",
       "aggOverflow": false,
       "aggSchema": [],
       "aggSeriesLimitReached": false,
       "aggType": "",
       "arguments": {},
       "columnCustomDisplayInfos": {},
       "data": [
        [
         "2024-01",
         66
        ],
        [
         "2024-02",
         48
        ],
        [
         "2024-03",
         33
        ],
        [
         "2024-04",
         27
        ],
        [
         "2024-05",
         16
        ],
        [
         "2024-06",
         10
        ]
       ],
       "datasetInfos": [
        {
         "name": "_sqldf",
         "schema": {
          "fields": [
           {
            "metadata": {},
            "name": "cohort_month",
            "nullable": true,
            "type": "string"
           },
           {
            "metadata": {},
            "name": "new_customers",
            "nullable": false,
            "type": "long"
           }
          ],
          "type": "struct"
         },
         "tableIdentifier": null,
         "typeStr": "pyspark.sql.connect.dataframe.DataFrame"
        }
       ],
       "dbfsResultPath": null,
       "isJsonSchema": true,
       "metadata": {
        "createTempViewForImplicitDf": true,
        "dataframeName": "_sqldf",
        "executionCount": 128
       },
       "overflow": false,
       "plotOptions": {
        "customPlotOptions": {},
        "displayType": "table",
        "pivotAggregation": null,
        "pivotColumns": null,
        "xColumns": null,
        "yColumns": null
       },
       "removedWidgets": [],
       "schema": [
        {
         "metadata": "{}",
         "name": "cohort_month",
         "type": "\"string\""
        },
        {
         "metadata": "{}",
         "name": "new_customers",
         "type": "\"long\""
        }
       ],
       "type": "table"
      }
     },
     "output_type": "display_data"
    },
    {
     "output_type": "display_data",
     "data": {
      "text/plain": [
       "Databricks visualization. Run in Databricks to view."
      ]
     },
     "metadata": {
      "application/vnd.databricks.v1.subcommand+json": {
       "baseErrorDetails": null,
       "bindings": {},
       "collapsed": false,
       "command": "%sql WITH q AS (WITH first_orders AS (\n  SELECT\n    customer_id,\n    DATE_TRUNC('month', first_purchase_date) AS cohort_month\n  FROM workspace.default.cohort_analysis\n  GROUP BY customer_id, first_purchase_date\n)\n\nSELECT\n  DATE_FORMAT(cohort_month, 'yyyy-MM') AS cohort_month,\n  COUNT(DISTINCT customer_id) AS new_customers\nFROM first_orders\nGROUP BY cohort_month\nORDER BY cohort_month) SELECT `cohort_month`,SUM(`new_customers`) `column_57580a3d311` FROM q GROUP BY `cohort_month`",
       "commandTitle": "Cohort Size by Month",
       "commandType": "auto",
       "commandVersion": 0,
       "commentThread": [],
       "commentsVisible": false,
       "contentSha256Hex": null,
       "customPlotOptions": {
        "redashChart": [
         {
          "key": "type",
          "value": "CHART"
         },
         {
          "key": "options",
          "value": {
           "alignYAxesAtZero": true,
           "coefficient": 1,
           "columnConfigurationMap": {
            "x": {
             "column": "cohort_month",
             "id": "column_57580a3d310"
            },
            "y": [
             {
              "column": "new_customers",
              "id": "column_57580a3d311",
              "transform": "SUM"
             }
            ]
           },
           "dateTimeFormat": "DD/MM/YYYY HH:mm",
           "direction": {
            "type": "counterclockwise"
           },
           "error_y": {
            "type": "data",
            "visible": true
           },
           "globalSeriesType": "column",
           "isAggregationOn": true,
           "legend": {
            "traceorder": "normal"
           },
           "missingValuesAsZero": true,
           "numberFormat": "0,0.[00000]",
           "percentFormat": "0[.]00%",
           "series": {
            "error_y": {
             "type": "data",
             "visible": true
            },
            "stacking": null
           },
           "seriesOptions": {
            "column_57580a3d311": {
             "color": "#8BCAE7",
             "name": "new_customers",
             "yAxis": 0
            }
           },
           "showDataLabels": true,
           "sizemode": "diameter",
           "sortX": true,
           "sortY": true,
           "swappedAxes": true,
           "textFormat": "",
           "useAggregationsUi": true,
           "valuesOptions": {},
           "version": 2,
           "xAxis": {
            "labels": {
             "enabled": true
            },
            "type": "-"
           },
           "yAxis": [
            {
             "type": "-"
            },
            {
             "opposite": true,
             "type": "-"
            }
           ]
          }
         }
        ]
       },
       "datasetPreviewNameToCmdIdMap": {},
       "diffDeletes": [],
       "diffInserts": [],
       "displayType": "redashChart",
       "error": null,
       "errorDetails": null,
       "errorSummary": null,
       "errorTraceType": null,
       "finishTime": 0,
       "globalVars": {},
       "guid": "",
       "height": "auto",
       "hideCommandCode": false,
       "hideCommandResult": false,
       "iPythonMetadata": null,
       "inputWidgets": {},
       "isLockedInExamMode": false,
       "latestUser": "a user",
       "latestUserId": null,
       "listResultMetadata": null,
       "metadata": {},
       "nuid": "72025144-cd40-421b-90cb-be69f9bb5086",
       "origId": 0,
       "parentHierarchy": [],
       "pivotAggregation": null,
       "pivotColumns": null,
       "position": 12.44140625,
       "resultDbfsErrorMessage": null,
       "resultDbfsStatus": "INLINED_IN_TREE",
       "results": null,
       "showCommandTitle": false,
       "startTime": 0,
       "state": "input",
       "streamStates": {},
       "subcommandOptions": {
        "queryPlan": {
         "groups": [
          {
           "column": "cohort_month",
           "type": "column"
          }
         ],
         "selects": [
          {
           "column": "cohort_month",
           "type": "column"
          },
          {
           "alias": "column_57580a3d311",
           "args": [
            {
             "column": "new_customers",
             "type": "column"
            }
           ],
           "function": "SUM",
           "type": "function"
          }
         ]
        }
       },
       "submitTime": 0,
       "subtype": "tableResultSubCmd.visualization",
       "tableResultIndex": 0,
       "tableResultSettingsMap": {},
       "useConsistentColors": false,
       "version": "CommandV1",
       "width": "auto",
       "workflows": [],
       "xColumns": null,
       "yColumns": null
      }
     },
     "output_type": "display_data"
    }
   ],
   "source": [
    "WITH first_orders AS (\n",
    "  SELECT\n",
    "    customer_id,\n",
    "    DATE_TRUNC('month', first_purchase_date) AS cohort_month\n",
    "  FROM workspace.default.cohort_analysis\n",
    "  GROUP BY customer_id, first_purchase_date\n",
    ")\n",
    "\n",
    "SELECT\n",
    "  DATE_FORMAT(cohort_month, 'yyyy-MM') AS cohort_month,\n",
    "  COUNT(DISTINCT customer_id) AS new_customers\n",
    "FROM first_orders\n",
    "GROUP BY cohort_month\n",
    "ORDER BY cohort_month;\n"
   ]
  },
  {
   "cell_type": "markdown",
   "metadata": {
    "application/vnd.databricks.v1+cell": {
     "cellMetadata": {},
     "inputWidgets": {},
     "nuid": "7db8e929-d694-4f1a-ae56-cb24aca11b63",
     "showTitle": false,
     "tableResultSettingsMap": {},
     "title": ""
    }
   },
   "source": [
    "### \uD83D\uDD0D **Key Insights: Cohort Size by Month**"
   ]
  },
  {
   "cell_type": "markdown",
   "metadata": {
    "application/vnd.databricks.v1+cell": {
     "cellMetadata": {},
     "inputWidgets": {},
     "nuid": "369a67c9-e4b1-4a3c-999b-74fcb59eeb00",
     "showTitle": false,
     "tableResultSettingsMap": {},
     "title": ""
    }
   },
   "source": [
    "1. January 2024 was the peak month for acquiring new customers, with a total of 66 new users — the largest cohort during the observed period.\n",
    "\n",
    "2. Consistent decline: Each subsequent month shows a steady drop in cohort size, suggesting a downward trend in customer acquisition:\n",
    "\n",
    "- February: 48\n",
    "- March: 33\n",
    "- April: 27\n",
    "- May: 16\n",
    "- June: 10\n",
    "\n",
    "3. This decline could indicate:\n",
    "\n",
    "- Reduced marketing efforts or lower ad spend\n",
    "- Seasonal drop-off in interest or product relevance\n",
    "- Potential user acquisition funnel issues (e.g., onboarding, outreach)\n",
    "\n",
    "4. Actionable Insight: January’s acquisition strategy might hold valuable lessons — it’s worth analyzing what campaigns, channels, or offers were active then and if they can be replicated or scaled."
   ]
  },
  {
   "cell_type": "markdown",
   "metadata": {
    "application/vnd.databricks.v1+cell": {
     "cellMetadata": {},
     "inputWidgets": {},
     "nuid": "115c3c07-d02c-4018-909c-de1b1f35ae43",
     "showTitle": false,
     "tableResultSettingsMap": {},
     "title": ""
    }
   },
   "source": []
  }
 ],
 "metadata": {
  "application/vnd.databricks.v1+notebook": {
   "computePreferences": null,
   "dashboards": [
    {
     "elements": [],
     "globalVars": {},
     "guid": "",
     "layoutOption": {
      "grid": true,
      "stack": true
     },
     "nuid": "0f5b94a6-5537-4c8d-946a-733c4dbd6ee5",
     "origId": 6842552621122772,
     "title": "Untitled",
     "version": "DashboardViewV1",
     "width": 1024
    }
   ],
   "environmentMetadata": null,
   "inputWidgetPreferences": null,
   "language": "sql",
   "notebookMetadata": {
    "mostRecentlyExecutedCommandWithImplicitDF": {
     "commandId": -1,
     "dataframes": [
      "_sqldf"
     ]
    },
    "pythonIndentUnit": 2
   },
   "notebookName": "Explore cohort_analysis_biqquery_catalog.cohort_db.ecom_orders 2025-07-08 11:52:57",
   "widgets": {}
  },
  "language_info": {
   "name": "sql"
  }
 },
 "nbformat": 4,
 "nbformat_minor": 0
}