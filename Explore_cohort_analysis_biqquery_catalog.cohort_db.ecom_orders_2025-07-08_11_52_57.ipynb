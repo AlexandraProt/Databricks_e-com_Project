{
 "cells": [
  {
   "cell_type": "markdown",
   "metadata": {
    "application/vnd.databricks.v1+cell": {
     "cellMetadata": {},
     "inputWidgets": {},
     "nuid": "4e36bf17-1296-48ef-968e-2cbbf6299b98",
     "showTitle": false,
     "tableResultSettingsMap": {},
     "title": ""
    }
   },
   "source": [
    "# RAW DATA ecom_orders"
   ]
  },
  {
   "cell_type": "code",
   "execution_count": 0,
   "metadata": {
    "application/vnd.databricks.v1+cell": {
     "cellMetadata": {
      "byteLimit": 2048000,
      "implicitDf": true,
      "rowLimit": 10000
     },
     "inputWidgets": {},
     "nuid": "980e471f-41ca-41c0-a7bf-3c9fdcac9104",
     "showTitle": false,
     "tableResultSettingsMap": {},
     "title": ""
    }
   },
   "outputs": [
    {
     "output_type": "display_data",
     "data": {
      "text/html": [
       "<style scoped>\n",
       "  .table-result-container {\n",
       "    max-height: 300px;\n",
       "    overflow: auto;\n",
       "  }\n",
       "  table, th, td {\n",
       "    border: 1px solid black;\n",
       "    border-collapse: collapse;\n",
       "  }\n",
       "  th, td {\n",
       "    padding: 5px;\n",
       "  }\n",
       "  th {\n",
       "    text-align: left;\n",
       "  }\n",
       "</style><div class='table-result-container'><table class='table-result'><thead style='background-color: white'><tr><th>row_id</th><th>customer_id</th><th>order_date</th><th>order_id</th><th>sales</th></tr></thead><tbody><tr><td>1</td><td>CUST001</td><td>2024-06-02</td><td>ORD1000</td><td>76.93</td></tr><tr><td>2</td><td>CUST001</td><td>2024-07-26</td><td>ORD1001</td><td>251.35</td></tr><tr><td>3</td><td>CUST001</td><td>2024-10-12</td><td>ORD1002</td><td>135.91</td></tr><tr><td>797</td><td>CUST001</td><td>2024-11-15</td><td>ORD1796</td><td>15.89</td></tr><tr><td>973</td><td>CUST001</td><td>2024-04-12</td><td>ORD1972</td><td>295.76</td></tr><tr><td>4</td><td>CUST002</td><td>2024-04-11</td><td>ORD1003</td><td>217.41</td></tr><tr><td>5</td><td>CUST002</td><td>2024-05-24</td><td>ORD1004</td><td>291.87</td></tr><tr><td>887</td><td>CUST002</td><td>2024-07-22</td><td>ORD1886</td><td>272.75</td></tr><tr><td>6</td><td>CUST003</td><td>2024-05-28</td><td>ORD1005</td><td>23.09</td></tr><tr><td>7</td><td>CUST003</td><td>2024-07-18</td><td>ORD1006</td><td>134.71</td></tr></tbody></table></div>"
      ]
     },
     "metadata": {
      "application/vnd.databricks.v1+output": {
       "addedWidgets": {},
       "aggData": [],
       "aggError": "",
       "aggOverflow": false,
       "aggSchema": [],
       "aggSeriesLimitReached": false,
       "aggType": "",
       "arguments": {},
       "columnCustomDisplayInfos": {},
       "data": [
        [
         1,
         "CUST001",
         "2024-06-02",
         "ORD1000",
         76.93
        ],
        [
         2,
         "CUST001",
         "2024-07-26",
         "ORD1001",
         251.35
        ],
        [
         3,
         "CUST001",
         "2024-10-12",
         "ORD1002",
         135.91
        ],
        [
         797,
         "CUST001",
         "2024-11-15",
         "ORD1796",
         15.89
        ],
        [
         973,
         "CUST001",
         "2024-04-12",
         "ORD1972",
         295.76
        ],
        [
         4,
         "CUST002",
         "2024-04-11",
         "ORD1003",
         217.41
        ],
        [
         5,
         "CUST002",
         "2024-05-24",
         "ORD1004",
         291.87
        ],
        [
         887,
         "CUST002",
         "2024-07-22",
         "ORD1886",
         272.75
        ],
        [
         6,
         "CUST003",
         "2024-05-28",
         "ORD1005",
         23.09
        ],
        [
         7,
         "CUST003",
         "2024-07-18",
         "ORD1006",
         134.71
        ]
       ],
       "datasetInfos": [
        {
         "name": "_sqldf",
         "schema": {
          "fields": [
           {
            "metadata": {
             "isTimestampNTZ": false,
             "scale": 0,
             "signed": true
            },
            "name": "row_id",
            "nullable": true,
            "type": "long"
           },
           {
            "metadata": {
             "__CHAR_VARCHAR_TYPE_STRING": "varchar(65535)",
             "isTimestampNTZ": false,
             "scale": 0,
             "signed": false
            },
            "name": "customer_id",
            "nullable": true,
            "type": "string"
           },
           {
            "metadata": {
             "isTimestampNTZ": false,
             "scale": 0,
             "signed": false
            },
            "name": "order_date",
            "nullable": true,
            "type": "date"
           },
           {
            "metadata": {
             "__CHAR_VARCHAR_TYPE_STRING": "varchar(65535)",
             "isTimestampNTZ": false,
             "scale": 0,
             "signed": false
            },
            "name": "order_id",
            "nullable": true,
            "type": "string"
           },
           {
            "metadata": {
             "isTimestampNTZ": false,
             "scale": 0,
             "signed": true
            },
            "name": "sales",
            "nullable": true,
            "type": "double"
           }
          ],
          "type": "struct"
         },
         "tableIdentifier": null,
         "typeStr": "pyspark.sql.connect.dataframe.DataFrame"
        }
       ],
       "dbfsResultPath": null,
       "isJsonSchema": true,
       "metadata": {
        "createTempViewForImplicitDf": true,
        "dataframeName": "_sqldf",
        "executionCount": 1
       },
       "overflow": false,
       "plotOptions": {
        "customPlotOptions": {},
        "displayType": "table",
        "pivotAggregation": null,
        "pivotColumns": null,
        "xColumns": null,
        "yColumns": null
       },
       "removedWidgets": [],
       "schema": [
        {
         "metadata": "{\"isTimestampNTZ\": false, \"signed\": true, \"scale\": 0}",
         "name": "row_id",
         "type": "\"long\""
        },
        {
         "metadata": "{\"isTimestampNTZ\": false, \"__CHAR_VARCHAR_TYPE_STRING\": \"varchar(65535)\", \"signed\": false, \"scale\": 0}",
         "name": "customer_id",
         "type": "\"string\""
        },
        {
         "metadata": "{\"isTimestampNTZ\": false, \"signed\": false, \"scale\": 0}",
         "name": "order_date",
         "type": "\"date\""
        },
        {
         "metadata": "{\"isTimestampNTZ\": false, \"__CHAR_VARCHAR_TYPE_STRING\": \"varchar(65535)\", \"signed\": false, \"scale\": 0}",
         "name": "order_id",
         "type": "\"string\""
        },
        {
         "metadata": "{\"isTimestampNTZ\": false, \"signed\": true, \"scale\": 0}",
         "name": "sales",
         "type": "\"double\""
        }
       ],
       "type": "table"
      }
     },
     "output_type": "display_data"
    }
   ],
   "source": [
    "%sql\n",
    "SELECT * FROM `cohort_analysis_biqquery_catalog`.`cohort_db`.`ecom_orders`LIMIT 10;"
   ]
  },
  {
   "cell_type": "markdown",
   "metadata": {
    "application/vnd.databricks.v1+cell": {
     "cellMetadata": {},
     "inputWidgets": {},
     "nuid": "51f54c16-71c9-4f04-af42-62c675a62f06",
     "showTitle": false,
     "tableResultSettingsMap": {},
     "title": ""
    }
   },
   "source": [
    "# Step 1: First purchase date"
   ]
  },
  {
   "cell_type": "code",
   "execution_count": 0,
   "metadata": {
    "application/vnd.databricks.v1+cell": {
     "cellMetadata": {
      "byteLimit": 2048000,
      "rowLimit": 10000
     },
     "inputWidgets": {},
     "nuid": "91913258-86e8-4463-abd9-8de98b0a3a12",
     "showTitle": false,
     "tableResultSettingsMap": {},
     "title": ""
    }
   },
   "outputs": [],
   "source": [
    "CREATE OR REPLACE TEMP VIEW first_purchase AS\n",
    "SELECT\n",
    "  customer_id,\n",
    "  MIN(order_date) AS first_purchase_date\n",
    "FROM `cohort_analysis_biqquery_catalog`.`cohort_db`.`ecom_orders`\n",
    "GROUP BY customer_id;\n"
   ]
  },
  {
   "cell_type": "markdown",
   "metadata": {
    "application/vnd.databricks.v1+cell": {
     "cellMetadata": {},
     "inputWidgets": {},
     "nuid": "f1dab9db-991b-428d-8469-c0c004bd185d",
     "showTitle": false,
     "tableResultSettingsMap": {},
     "title": ""
    }
   },
   "source": [
    "#  Step 2: Second purchase **date**"
   ]
  },
  {
   "cell_type": "code",
   "execution_count": 0,
   "metadata": {
    "application/vnd.databricks.v1+cell": {
     "cellMetadata": {
      "byteLimit": 2048000,
      "rowLimit": 10000
     },
     "inputWidgets": {},
     "nuid": "2a19dd40-d7ca-42ac-8924-b4c414939eda",
     "showTitle": false,
     "tableResultSettingsMap": {},
     "title": ""
    }
   },
   "outputs": [],
   "source": [
    "CREATE OR REPLACE TEMP VIEW second_purchase AS\n",
    "SELECT\n",
    "  o.customer_id,\n",
    "  MIN(o.order_date) AS second_purchase_date\n",
    "FROM `cohort_analysis_biqquery_catalog`.`cohort_db`.`ecom_orders` o\n",
    "JOIN first_purchase f ON o.customer_id = f.customer_id\n",
    "WHERE o.order_date > f.first_purchase_date\n",
    "GROUP BY o.customer_id;"
   ]
  },
  {
   "cell_type": "markdown",
   "metadata": {
    "application/vnd.databricks.v1+cell": {
     "cellMetadata": {},
     "inputWidgets": {},
     "nuid": "3ef827b7-2a35-435d-af23-49bc9ea6696a",
     "showTitle": false,
     "tableResultSettingsMap": {},
     "title": ""
    }
   },
   "source": [
    "# Step 3: Third purchase date"
   ]
  },
  {
   "cell_type": "code",
   "execution_count": 0,
   "metadata": {
    "application/vnd.databricks.v1+cell": {
     "cellMetadata": {
      "byteLimit": 2048000,
      "rowLimit": 10000
     },
     "inputWidgets": {},
     "nuid": "047fb1a4-c88d-4a63-847d-07c6724ff9cc",
     "showTitle": false,
     "tableResultSettingsMap": {},
     "title": ""
    }
   },
   "outputs": [],
   "source": [
    "CREATE OR REPLACE TEMP VIEW third_purchase AS\n",
    "SELECT\n",
    "  o.customer_id,\n",
    "  MIN(o.order_date) AS third_purchase_date\n",
    "FROM `cohort_analysis_biqquery_catalog`.`cohort_db`.`ecom_orders` o\n",
    "JOIN second_purchase s ON o.customer_id = s.customer_id\n",
    "WHERE o.order_date > s.second_purchase_date\n",
    "GROUP BY o.customer_id;\n"
   ]
  },
  {
   "cell_type": "markdown",
   "metadata": {
    "application/vnd.databricks.v1+cell": {
     "cellMetadata": {},
     "inputWidgets": {},
     "nuid": "7b63f722-4482-40cd-af4e-92731dc9bb10",
     "showTitle": false,
     "tableResultSettingsMap": {},
     "title": ""
    }
   },
   "source": [
    "# Step 4: Fourth purchase date"
   ]
  },
  {
   "cell_type": "code",
   "execution_count": 0,
   "metadata": {
    "application/vnd.databricks.v1+cell": {
     "cellMetadata": {
      "byteLimit": 2048000,
      "rowLimit": 10000
     },
     "inputWidgets": {},
     "nuid": "abdb8ead-7c90-45ee-9dcd-199aad5e2b0e",
     "showTitle": false,
     "tableResultSettingsMap": {},
     "title": ""
    }
   },
   "outputs": [],
   "source": [
    "CREATE OR REPLACE TEMP VIEW fourth_purchase AS\n",
    "SELECT\n",
    "  o.customer_id,\n",
    "  MIN(o.order_date) AS fourth_purchase_date\n",
    "FROM `cohort_analysis_biqquery_catalog`.`cohort_db`.`ecom_orders` o\n",
    "JOIN third_purchase s ON o.customer_id = s.customer_id\n",
    "WHERE o.order_date > s.third_purchase_date\n",
    "GROUP BY o.customer_id;"
   ]
  },
  {
   "cell_type": "markdown",
   "metadata": {
    "application/vnd.databricks.v1+cell": {
     "cellMetadata": {},
     "inputWidgets": {},
     "nuid": "aae410f5-8720-4f5d-b4b7-2c07eb9f8333",
     "showTitle": false,
     "tableResultSettingsMap": {},
     "title": ""
    }
   },
   "source": [
    "# Step 5: Show Schemas in Workspace"
   ]
  },
  {
   "cell_type": "code",
   "execution_count": 0,
   "metadata": {
    "application/vnd.databricks.v1+cell": {
     "cellMetadata": {
      "byteLimit": 2048000,
      "rowLimit": 10000
     },
     "inputWidgets": {},
     "nuid": "83dffa4f-b8dc-4660-97f5-42beae1810ec",
     "showTitle": false,
     "tableResultSettingsMap": {},
     "title": ""
    }
   },
   "outputs": [
    {
     "output_type": "display_data",
     "data": {
      "text/html": [
       "<style scoped>\n",
       "  .table-result-container {\n",
       "    max-height: 300px;\n",
       "    overflow: auto;\n",
       "  }\n",
       "  table, th, td {\n",
       "    border: 1px solid black;\n",
       "    border-collapse: collapse;\n",
       "  }\n",
       "  th, td {\n",
       "    padding: 5px;\n",
       "  }\n",
       "  th {\n",
       "    text-align: left;\n",
       "  }\n",
       "</style><div class='table-result-container'><table class='table-result'><thead style='background-color: white'><tr><th>databaseName</th></tr></thead><tbody><tr><td>default</td></tr><tr><td>information_schema</td></tr></tbody></table></div>"
      ]
     },
     "metadata": {
      "application/vnd.databricks.v1+output": {
       "addedWidgets": {},
       "aggData": [],
       "aggError": "",
       "aggOverflow": false,
       "aggSchema": [],
       "aggSeriesLimitReached": false,
       "aggType": "",
       "arguments": {},
       "columnCustomDisplayInfos": {},
       "data": [
        [
         "default"
        ],
        [
         "information_schema"
        ]
       ],
       "datasetInfos": [
        {
         "name": "_sqldf",
         "schema": {
          "fields": [
           {
            "metadata": {},
            "name": "databaseName",
            "nullable": false,
            "type": "string"
           }
          ],
          "type": "struct"
         },
         "tableIdentifier": null,
         "typeStr": "pyspark.sql.connect.dataframe.DataFrame"
        }
       ],
       "dbfsResultPath": null,
       "isJsonSchema": true,
       "metadata": {
        "createTempViewForImplicitDf": true,
        "dataframeName": "_sqldf",
        "executionCount": 41
       },
       "overflow": false,
       "plotOptions": {
        "customPlotOptions": {},
        "displayType": "table",
        "pivotAggregation": null,
        "pivotColumns": null,
        "xColumns": null,
        "yColumns": null
       },
       "removedWidgets": [],
       "schema": [
        {
         "metadata": "{}",
         "name": "databaseName",
         "type": "\"string\""
        }
       ],
       "type": "table"
      }
     },
     "output_type": "display_data"
    }
   ],
   "source": [
    "SHOW SCHEMAS IN workspace;"
   ]
  },
  {
   "cell_type": "markdown",
   "metadata": {
    "application/vnd.databricks.v1+cell": {
     "cellMetadata": {},
     "inputWidgets": {},
     "nuid": "e300ba67-d401-4453-a23c-8bc75da474b4",
     "showTitle": false,
     "tableResultSettingsMap": {},
     "title": ""
    }
   },
   "source": [
    "# Step 6: Save as Final Table"
   ]
  },
  {
   "cell_type": "code",
   "execution_count": 0,
   "metadata": {
    "application/vnd.databricks.v1+cell": {
     "cellMetadata": {
      "byteLimit": 2048000,
      "rowLimit": 10000
     },
     "inputWidgets": {},
     "nuid": "0a2543ad-afaf-4b5d-a0e8-84c704c6bf13",
     "showTitle": false,
     "tableResultSettingsMap": {},
     "title": ""
    }
   },
   "outputs": [],
   "source": [
    "CREATE OR REPLACE TEMP VIEW customer_cohorts AS\n",
    "SELECT\n",
    "  f.customer_id,\n",
    "  f.first_purchase_date,\n",
    "  s.second_purchase_date,\n",
    "  t.third_purchase_date,\n",
    "  fp.fourth_purchase_date,\n",
    "  DATEDIFF(s.second_purchase_date, f.first_purchase_date) AS days_between_1_and_2,\n",
    "  DATEDIFF(t.third_purchase_date, s.second_purchase_date) AS days_between_2_and_3,\n",
    "  DATEDIFF(fp.fourth_purchase_date, t.third_purchase_date) AS days_between_3_and_4,\n",
    "  DATE_TRUNC('month', f.first_purchase_date) AS cohort_month\n",
    "FROM first_purchase f\n",
    "LEFT JOIN second_purchase s ON f.customer_id = s.customer_id\n",
    "LEFT JOIN third_purchase t ON f.customer_id = t.customer_id\n",
    "LEFT JOIN fourth_purchase fp ON f.customer_id = fp.customer_id;\n"
   ]
  },
  {
   "cell_type": "markdown",
   "metadata": {
    "application/vnd.databricks.v1+cell": {
     "cellMetadata": {},
     "inputWidgets": {},
     "nuid": "04bb4e34-324f-43f2-9dd1-ac5cbdc01b3c",
     "showTitle": false,
     "tableResultSettingsMap": {},
     "title": ""
    }
   },
   "source": [
    "# CHECK"
   ]
  },
  {
   "cell_type": "code",
   "execution_count": 0,
   "metadata": {
    "application/vnd.databricks.v1+cell": {
     "cellMetadata": {
      "byteLimit": 2048000,
      "rowLimit": 10000
     },
     "inputWidgets": {},
     "nuid": "5665ab83-1a6b-44fe-b855-838e93273497",
     "showTitle": false,
     "tableResultSettingsMap": {},
     "title": ""
    }
   },
   "outputs": [
    {
     "output_type": "display_data",
     "data": {
      "text/html": [
       "<style scoped>\n",
       "  .table-result-container {\n",
       "    max-height: 300px;\n",
       "    overflow: auto;\n",
       "  }\n",
       "  table, th, td {\n",
       "    border: 1px solid black;\n",
       "    border-collapse: collapse;\n",
       "  }\n",
       "  th, td {\n",
       "    padding: 5px;\n",
       "  }\n",
       "  th {\n",
       "    text-align: left;\n",
       "  }\n",
       "</style><div class='table-result-container'><table class='table-result'><thead style='background-color: white'><tr><th>num_affected_rows</th><th>num_inserted_rows</th></tr></thead><tbody></tbody></table></div>"
      ]
     },
     "metadata": {
      "application/vnd.databricks.v1+output": {
       "addedWidgets": {},
       "aggData": [],
       "aggError": "",
       "aggOverflow": false,
       "aggSchema": [],
       "aggSeriesLimitReached": false,
       "aggType": "",
       "arguments": {},
       "columnCustomDisplayInfos": {},
       "data": [],
       "datasetInfos": [
        {
         "name": "_sqldf",
         "schema": {
          "fields": [
           {
            "metadata": {},
            "name": "num_affected_rows",
            "nullable": true,
            "type": "long"
           },
           {
            "metadata": {},
            "name": "num_inserted_rows",
            "nullable": true,
            "type": "long"
           }
          ],
          "type": "struct"
         },
         "tableIdentifier": null,
         "typeStr": "pyspark.sql.connect.dataframe.DataFrame"
        }
       ],
       "dbfsResultPath": null,
       "isJsonSchema": true,
       "metadata": {
        "createTempViewForImplicitDf": true,
        "dataframeName": "_sqldf",
        "executionCount": 57
       },
       "overflow": false,
       "plotOptions": {
        "customPlotOptions": {},
        "displayType": "table",
        "pivotAggregation": null,
        "pivotColumns": null,
        "xColumns": null,
        "yColumns": null
       },
       "removedWidgets": [],
       "schema": [
        {
         "metadata": "{}",
         "name": "num_affected_rows",
         "type": "\"long\""
        },
        {
         "metadata": "{}",
         "name": "num_inserted_rows",
         "type": "\"long\""
        }
       ],
       "type": "table"
      }
     },
     "output_type": "display_data"
    }
   ],
   "source": [
    "CREATE OR REPLACE TABLE cohort_analysis AS\n",
    "SELECT * FROM customer_cohorts;"
   ]
  },
  {
   "cell_type": "code",
   "execution_count": 0,
   "metadata": {
    "application/vnd.databricks.v1+cell": {
     "cellMetadata": {
      "byteLimit": 2048000,
      "rowLimit": 10000
     },
     "inputWidgets": {},
     "nuid": "7248d958-0574-4a5a-bddc-99c671f2c6b0",
     "showTitle": false,
     "tableResultSettingsMap": {},
     "title": ""
    }
   },
   "outputs": [
    {
     "output_type": "display_data",
     "data": {
      "text/html": [
       "<style scoped>\n",
       "  .table-result-container {\n",
       "    max-height: 300px;\n",
       "    overflow: auto;\n",
       "  }\n",
       "  table, th, td {\n",
       "    border: 1px solid black;\n",
       "    border-collapse: collapse;\n",
       "  }\n",
       "  th, td {\n",
       "    padding: 5px;\n",
       "  }\n",
       "  th {\n",
       "    text-align: left;\n",
       "  }\n",
       "</style><div class='table-result-container'><table class='table-result'><thead style='background-color: white'><tr><th>customer_id</th><th>first_purchase_date</th><th>second_purchase_date</th><th>third_purchase_date</th><th>fourth_purchase_date</th><th>days_between_1_and_2</th><th>days_between_2_and_3</th><th>days_between_3_and_4</th><th>cohort_month</th></tr></thead><tbody><tr><td>CUST038</td><td>2024-01-01</td><td>2024-03-27</td><td>2024-05-07</td><td>2024-05-29</td><td>86</td><td>41</td><td>22</td><td>2024-01-01T00:00:00.000Z</td></tr><tr><td>CUST030</td><td>2024-01-01</td><td>2024-01-27</td><td>2024-03-21</td><td>2024-08-16</td><td>26</td><td>54</td><td>148</td><td>2024-01-01T00:00:00.000Z</td></tr><tr><td>CUST137</td><td>2024-01-02</td><td>2024-02-18</td><td>2024-02-26</td><td>null</td><td>47</td><td>8</td><td>null</td><td>2024-01-01T00:00:00.000Z</td></tr><tr><td>CUST072</td><td>2024-01-02</td><td>2024-02-07</td><td>2024-02-19</td><td>2024-03-24</td><td>36</td><td>12</td><td>34</td><td>2024-01-01T00:00:00.000Z</td></tr><tr><td>CUST192</td><td>2024-01-02</td><td>2024-01-24</td><td>2024-03-13</td><td>2024-11-25</td><td>22</td><td>49</td><td>257</td><td>2024-01-01T00:00:00.000Z</td></tr><tr><td>CUST181</td><td>2024-01-03</td><td>2024-02-11</td><td>2024-03-07</td><td>2024-04-07</td><td>39</td><td>25</td><td>31</td><td>2024-01-01T00:00:00.000Z</td></tr><tr><td>CUST089</td><td>2024-01-03</td><td>2024-02-28</td><td>2024-03-07</td><td>2024-04-29</td><td>56</td><td>8</td><td>53</td><td>2024-01-01T00:00:00.000Z</td></tr><tr><td>CUST065</td><td>2024-01-03</td><td>2024-05-30</td><td>2024-06-29</td><td>2024-06-30</td><td>148</td><td>30</td><td>1</td><td>2024-01-01T00:00:00.000Z</td></tr><tr><td>CUST157</td><td>2024-01-03</td><td>2024-02-04</td><td>2024-02-12</td><td>2024-04-29</td><td>32</td><td>8</td><td>77</td><td>2024-01-01T00:00:00.000Z</td></tr><tr><td>CUST104</td><td>2024-01-04</td><td>2024-01-23</td><td>2024-02-21</td><td>2024-04-29</td><td>19</td><td>29</td><td>68</td><td>2024-01-01T00:00:00.000Z</td></tr><tr><td>CUST188</td><td>2024-01-06</td><td>2024-05-11</td><td>2024-06-14</td><td>2024-08-25</td><td>126</td><td>34</td><td>72</td><td>2024-01-01T00:00:00.000Z</td></tr><tr><td>CUST115</td><td>2024-01-06</td><td>2024-02-01</td><td>2024-02-14</td><td>2024-02-27</td><td>26</td><td>13</td><td>13</td><td>2024-01-01T00:00:00.000Z</td></tr><tr><td>CUST167</td><td>2024-01-06</td><td>2024-02-20</td><td>2024-08-20</td><td>null</td><td>45</td><td>182</td><td>null</td><td>2024-01-01T00:00:00.000Z</td></tr><tr><td>CUST011</td><td>2024-01-07</td><td>2024-02-03</td><td>2024-04-03</td><td>2024-06-25</td><td>27</td><td>60</td><td>83</td><td>2024-01-01T00:00:00.000Z</td></tr><tr><td>CUST162</td><td>2024-01-07</td><td>2024-03-09</td><td>null</td><td>null</td><td>62</td><td>null</td><td>null</td><td>2024-01-01T00:00:00.000Z</td></tr><tr><td>CUST095</td><td>2024-01-07</td><td>2024-01-19</td><td>2024-02-09</td><td>null</td><td>12</td><td>21</td><td>null</td><td>2024-01-01T00:00:00.000Z</td></tr><tr><td>CUST116</td><td>2024-01-09</td><td>2024-03-20</td><td>2024-04-22</td><td>2024-05-04</td><td>71</td><td>33</td><td>12</td><td>2024-01-01T00:00:00.000Z</td></tr><tr><td>CUST092</td><td>2024-01-09</td><td>2024-05-03</td><td>2024-08-04</td><td>null</td><td>115</td><td>93</td><td>null</td><td>2024-01-01T00:00:00.000Z</td></tr><tr><td>CUST054</td><td>2024-01-09</td><td>2024-05-15</td><td>2024-05-26</td><td>null</td><td>127</td><td>11</td><td>null</td><td>2024-01-01T00:00:00.000Z</td></tr><tr><td>CUST108</td><td>2024-01-10</td><td>2024-05-19</td><td>2024-06-16</td><td>2024-07-17</td><td>130</td><td>28</td><td>31</td><td>2024-01-01T00:00:00.000Z</td></tr><tr><td>CUST060</td><td>2024-01-10</td><td>2024-03-24</td><td>2024-04-13</td><td>2024-11-01</td><td>74</td><td>20</td><td>202</td><td>2024-01-01T00:00:00.000Z</td></tr><tr><td>CUST101</td><td>2024-01-10</td><td>2024-01-13</td><td>2024-03-10</td><td>2024-10-07</td><td>3</td><td>57</td><td>211</td><td>2024-01-01T00:00:00.000Z</td></tr><tr><td>CUST017</td><td>2024-01-11</td><td>2024-02-28</td><td>2024-05-03</td><td>null</td><td>48</td><td>65</td><td>null</td><td>2024-01-01T00:00:00.000Z</td></tr><tr><td>CUST109</td><td>2024-01-13</td><td>2024-03-12</td><td>2024-04-26</td><td>2024-05-24</td><td>59</td><td>45</td><td>28</td><td>2024-01-01T00:00:00.000Z</td></tr><tr><td>CUST020</td><td>2024-01-13</td><td>2024-05-04</td><td>2024-05-06</td><td>2024-07-01</td><td>112</td><td>2</td><td>56</td><td>2024-01-01T00:00:00.000Z</td></tr><tr><td>CUST076</td><td>2024-01-14</td><td>2024-02-04</td><td>2024-02-29</td><td>2024-04-11</td><td>21</td><td>25</td><td>42</td><td>2024-01-01T00:00:00.000Z</td></tr><tr><td>CUST003</td><td>2024-01-14</td><td>2024-05-28</td><td>2024-07-18</td><td>null</td><td>135</td><td>51</td><td>null</td><td>2024-01-01T00:00:00.000Z</td></tr><tr><td>CUST102</td><td>2024-01-14</td><td>2024-06-08</td><td>2024-06-23</td><td>2024-07-31</td><td>146</td><td>15</td><td>38</td><td>2024-01-01T00:00:00.000Z</td></tr><tr><td>CUST034</td><td>2024-01-14</td><td>2024-03-13</td><td>2024-04-18</td><td>2024-05-15</td><td>59</td><td>36</td><td>27</td><td>2024-01-01T00:00:00.000Z</td></tr><tr><td>CUST090</td><td>2024-01-15</td><td>2024-03-31</td><td>2024-04-17</td><td>2024-12-05</td><td>76</td><td>17</td><td>232</td><td>2024-01-01T00:00:00.000Z</td></tr><tr><td>CUST063</td><td>2024-01-15</td><td>2024-04-19</td><td>2024-06-15</td><td>2024-07-17</td><td>95</td><td>57</td><td>32</td><td>2024-01-01T00:00:00.000Z</td></tr><tr><td>CUST039</td><td>2024-01-16</td><td>2024-02-17</td><td>2024-07-11</td><td>2024-07-16</td><td>32</td><td>145</td><td>5</td><td>2024-01-01T00:00:00.000Z</td></tr><tr><td>CUST057</td><td>2024-01-16</td><td>2024-05-01</td><td>2024-05-26</td><td>2024-06-06</td><td>106</td><td>25</td><td>11</td><td>2024-01-01T00:00:00.000Z</td></tr><tr><td>CUST006</td><td>2024-01-18</td><td>2024-03-31</td><td>2024-04-24</td><td>2024-06-02</td><td>73</td><td>24</td><td>39</td><td>2024-01-01T00:00:00.000Z</td></tr><tr><td>CUST179</td><td>2024-01-18</td><td>2024-02-04</td><td>2024-03-27</td><td>2024-05-23</td><td>17</td><td>52</td><td>57</td><td>2024-01-01T00:00:00.000Z</td></tr><tr><td>CUST121</td><td>2024-01-18</td><td>2024-01-19</td><td>2024-02-08</td><td>2024-05-18</td><td>1</td><td>20</td><td>100</td><td>2024-01-01T00:00:00.000Z</td></tr><tr><td>CUST091</td><td>2024-01-19</td><td>2024-01-31</td><td>2024-02-14</td><td>2024-03-24</td><td>12</td><td>14</td><td>39</td><td>2024-01-01T00:00:00.000Z</td></tr><tr><td>CUST019</td><td>2024-01-20</td><td>2024-02-04</td><td>2024-02-06</td><td>2024-03-09</td><td>15</td><td>2</td><td>32</td><td>2024-01-01T00:00:00.000Z</td></tr><tr><td>CUST189</td><td>2024-01-20</td><td>2024-02-07</td><td>2024-03-06</td><td>2024-06-02</td><td>18</td><td>28</td><td>88</td><td>2024-01-01T00:00:00.000Z</td></tr><tr><td>CUST131</td><td>2024-01-20</td><td>2024-03-21</td><td>2024-05-15</td><td>2024-05-22</td><td>61</td><td>55</td><td>7</td><td>2024-01-01T00:00:00.000Z</td></tr><tr><td>CUST098</td><td>2024-01-20</td><td>2024-01-30</td><td>2024-02-05</td><td>2024-03-09</td><td>10</td><td>6</td><td>33</td><td>2024-01-01T00:00:00.000Z</td></tr><tr><td>CUST170</td><td>2024-01-21</td><td>2024-02-05</td><td>2024-02-23</td><td>2024-03-04</td><td>15</td><td>18</td><td>10</td><td>2024-01-01T00:00:00.000Z</td></tr><tr><td>CUST198</td><td>2024-01-21</td><td>2024-02-29</td><td>2024-03-30</td><td>2024-05-20</td><td>39</td><td>30</td><td>51</td><td>2024-01-01T00:00:00.000Z</td></tr><tr><td>CUST069</td><td>2024-01-21</td><td>2024-01-23</td><td>2024-03-02</td><td>2024-06-03</td><td>2</td><td>39</td><td>93</td><td>2024-01-01T00:00:00.000Z</td></tr><tr><td>CUST146</td><td>2024-01-21</td><td>2024-01-25</td><td>2024-02-14</td><td>2024-07-06</td><td>4</td><td>20</td><td>143</td><td>2024-01-01T00:00:00.000Z</td></tr><tr><td>CUST016</td><td>2024-01-22</td><td>2024-03-11</td><td>2024-06-16</td><td>2024-09-13</td><td>49</td><td>97</td><td>89</td><td>2024-01-01T00:00:00.000Z</td></tr><tr><td>CUST062</td><td>2024-01-22</td><td>2024-02-18</td><td>2024-04-01</td><td>2024-05-03</td><td>27</td><td>43</td><td>32</td><td>2024-01-01T00:00:00.000Z</td></tr><tr><td>CUST083</td><td>2024-01-23</td><td>2024-02-17</td><td>2024-03-24</td><td>2024-04-07</td><td>25</td><td>36</td><td>14</td><td>2024-01-01T00:00:00.000Z</td></tr><tr><td>CUST150</td><td>2024-01-24</td><td>2024-02-01</td><td>2024-06-26</td><td>2024-07-03</td><td>8</td><td>146</td><td>7</td><td>2024-01-01T00:00:00.000Z</td></tr><tr><td>CUST008</td><td>2024-01-24</td><td>2024-05-31</td><td>2024-07-15</td><td>2024-07-17</td><td>128</td><td>45</td><td>2</td><td>2024-01-01T00:00:00.000Z</td></tr><tr><td>CUST182</td><td>2024-01-25</td><td>2024-04-01</td><td>2024-04-24</td><td>2024-05-18</td><td>67</td><td>23</td><td>24</td><td>2024-01-01T00:00:00.000Z</td></tr><tr><td>CUST172</td><td>2024-01-25</td><td>2024-03-25</td><td>2024-06-15</td><td>2024-08-04</td><td>60</td><td>82</td><td>50</td><td>2024-01-01T00:00:00.000Z</td></tr><tr><td>CUST174</td><td>2024-01-25</td><td>2024-02-05</td><td>2024-04-03</td><td>null</td><td>11</td><td>58</td><td>null</td><td>2024-01-01T00:00:00.000Z</td></tr><tr><td>CUST041</td><td>2024-01-25</td><td>2024-06-16</td><td>2024-06-26</td><td>2024-07-13</td><td>143</td><td>10</td><td>17</td><td>2024-01-01T00:00:00.000Z</td></tr><tr><td>CUST087</td><td>2024-01-25</td><td>2024-06-18</td><td>2024-07-07</td><td>null</td><td>145</td><td>19</td><td>null</td><td>2024-01-01T00:00:00.000Z</td></tr><tr><td>CUST077</td><td>2024-01-26</td><td>2024-05-31</td><td>2024-06-05</td><td>2024-06-25</td><td>126</td><td>5</td><td>20</td><td>2024-01-01T00:00:00.000Z</td></tr><tr><td>CUST143</td><td>2024-01-26</td><td>2024-04-21</td><td>2024-05-17</td><td>2024-05-23</td><td>86</td><td>26</td><td>6</td><td>2024-01-01T00:00:00.000Z</td></tr><tr><td>CUST061</td><td>2024-01-27</td><td>2024-03-25</td><td>2024-05-20</td><td>2024-08-06</td><td>58</td><td>56</td><td>78</td><td>2024-01-01T00:00:00.000Z</td></tr><tr><td>CUST046</td><td>2024-01-28</td><td>2024-02-18</td><td>2024-03-30</td><td>null</td><td>21</td><td>41</td><td>null</td><td>2024-01-01T00:00:00.000Z</td></tr><tr><td>CUST045</td><td>2024-01-29</td><td>2024-02-11</td><td>2024-04-12</td><td>2024-04-21</td><td>13</td><td>61</td><td>9</td><td>2024-01-01T00:00:00.000Z</td></tr><tr><td>CUST200</td><td>2024-01-29</td><td>2024-02-14</td><td>2024-03-02</td><td>2024-04-27</td><td>16</td><td>17</td><td>56</td><td>2024-01-01T00:00:00.000Z</td></tr><tr><td>CUST099</td><td>2024-01-30</td><td>2024-06-20</td><td>2024-07-24</td><td>2024-09-11</td><td>142</td><td>34</td><td>49</td><td>2024-01-01T00:00:00.000Z</td></tr><tr><td>CUST119</td><td>2024-01-31</td><td>2024-03-20</td><td>2024-05-23</td><td>2024-05-27</td><td>49</td><td>64</td><td>4</td><td>2024-01-01T00:00:00.000Z</td></tr><tr><td>CUST004</td><td>2024-01-31</td><td>2024-02-24</td><td>2024-03-31</td><td>2024-09-30</td><td>24</td><td>36</td><td>183</td><td>2024-01-01T00:00:00.000Z</td></tr><tr><td>CUST149</td><td>2024-01-31</td><td>2024-04-07</td><td>2024-05-06</td><td>2024-05-28</td><td>67</td><td>29</td><td>22</td><td>2024-01-01T00:00:00.000Z</td></tr><tr><td>CUST126</td><td>2024-01-31</td><td>2024-04-16</td><td>2024-05-14</td><td>2024-05-26</td><td>76</td><td>28</td><td>12</td><td>2024-01-01T00:00:00.000Z</td></tr><tr><td>CUST074</td><td>2024-02-01</td><td>2024-10-22</td><td>null</td><td>null</td><td>264</td><td>null</td><td>null</td><td>2024-02-01T00:00:00.000Z</td></tr><tr><td>CUST007</td><td>2024-02-02</td><td>2024-03-04</td><td>2024-04-18</td><td>2024-05-07</td><td>31</td><td>45</td><td>19</td><td>2024-02-01T00:00:00.000Z</td></tr><tr><td>CUST032</td><td>2024-02-02</td><td>2024-05-13</td><td>2024-06-21</td><td>2024-06-26</td><td>101</td><td>39</td><td>5</td><td>2024-02-01T00:00:00.000Z</td></tr><tr><td>CUST068</td><td>2024-02-02</td><td>2024-04-12</td><td>2024-04-24</td><td>2024-05-31</td><td>70</td><td>12</td><td>37</td><td>2024-02-01T00:00:00.000Z</td></tr><tr><td>CUST186</td><td>2024-02-03</td><td>2024-02-21</td><td>2024-03-25</td><td>2024-04-14</td><td>18</td><td>33</td><td>20</td><td>2024-02-01T00:00:00.000Z</td></tr><tr><td>CUST165</td><td>2024-02-03</td><td>2024-03-22</td><td>2024-04-24</td><td>2024-07-20</td><td>48</td><td>33</td><td>87</td><td>2024-02-01T00:00:00.000Z</td></tr><tr><td>CUST166</td><td>2024-02-03</td><td>2024-05-14</td><td>2024-06-18</td><td>2024-07-25</td><td>101</td><td>35</td><td>37</td><td>2024-02-01T00:00:00.000Z</td></tr><tr><td>CUST055</td><td>2024-02-03</td><td>2024-02-27</td><td>2024-03-09</td><td>2024-03-24</td><td>24</td><td>11</td><td>15</td><td>2024-02-01T00:00:00.000Z</td></tr><tr><td>CUST163</td><td>2024-02-04</td><td>2024-04-30</td><td>2024-05-28</td><td>2024-07-22</td><td>86</td><td>28</td><td>55</td><td>2024-02-01T00:00:00.000Z</td></tr><tr><td>CUST113</td><td>2024-02-04</td><td>2024-03-23</td><td>2024-05-04</td><td>2024-06-04</td><td>48</td><td>42</td><td>31</td><td>2024-02-01T00:00:00.000Z</td></tr><tr><td>CUST169</td><td>2024-02-05</td><td>2024-03-14</td><td>2024-04-30</td><td>null</td><td>38</td><td>47</td><td>null</td><td>2024-02-01T00:00:00.000Z</td></tr><tr><td>CUST153</td><td>2024-02-06</td><td>2024-06-08</td><td>2024-06-29</td><td>2024-07-03</td><td>123</td><td>21</td><td>4</td><td>2024-02-01T00:00:00.000Z</td></tr><tr><td>CUST043</td><td>2024-02-06</td><td>2024-04-27</td><td>2024-05-08</td><td>2024-06-08</td><td>81</td><td>11</td><td>31</td><td>2024-02-01T00:00:00.000Z</td></tr><tr><td>CUST050</td><td>2024-02-06</td><td>2024-02-27</td><td>2024-06-05</td><td>2024-09-03</td><td>21</td><td>99</td><td>90</td><td>2024-02-01T00:00:00.000Z</td></tr><tr><td>CUST040</td><td>2024-02-06</td><td>2024-03-01</td><td>2024-04-21</td><td>null</td><td>24</td><td>51</td><td>null</td><td>2024-02-01T00:00:00.000Z</td></tr><tr><td>CUST190</td><td>2024-02-06</td><td>2024-06-20</td><td>2024-07-27</td><td>2024-08-19</td><td>135</td><td>37</td><td>23</td><td>2024-02-01T00:00:00.000Z</td></tr><tr><td>CUST029</td><td>2024-02-07</td><td>2024-03-06</td><td>2024-03-28</td><td>2024-06-01</td><td>28</td><td>22</td><td>65</td><td>2024-02-01T00:00:00.000Z</td></tr><tr><td>CUST110</td><td>2024-02-08</td><td>2024-02-09</td><td>2024-04-23</td><td>2024-05-08</td><td>1</td><td>74</td><td>15</td><td>2024-02-01T00:00:00.000Z</td></tr><tr><td>CUST086</td><td>2024-02-08</td><td>2024-03-16</td><td>2024-09-13</td><td>null</td><td>37</td><td>181</td><td>null</td><td>2024-02-01T00:00:00.000Z</td></tr><tr><td>CUST067</td><td>2024-02-09</td><td>2024-03-25</td><td>2024-05-24</td><td>null</td><td>45</td><td>60</td><td>null</td><td>2024-02-01T00:00:00.000Z</td></tr><tr><td>CUST147</td><td>2024-02-10</td><td>2024-03-23</td><td>2024-03-28</td><td>2024-06-07</td><td>42</td><td>5</td><td>71</td><td>2024-02-01T00:00:00.000Z</td></tr><tr><td>CUST161</td><td>2024-02-13</td><td>2024-04-21</td><td>2024-05-09</td><td>2024-05-26</td><td>68</td><td>18</td><td>17</td><td>2024-02-01T00:00:00.000Z</td></tr><tr><td>CUST033</td><td>2024-02-13</td><td>2024-04-13</td><td>2024-07-13</td><td>2024-11-09</td><td>60</td><td>91</td><td>119</td><td>2024-02-01T00:00:00.000Z</td></tr><tr><td>CUST053</td><td>2024-02-13</td><td>2024-03-07</td><td>2024-03-29</td><td>2024-06-26</td><td>23</td><td>22</td><td>89</td><td>2024-02-01T00:00:00.000Z</td></tr><tr><td>CUST026</td><td>2024-02-14</td><td>null</td><td>null</td><td>null</td><td>null</td><td>null</td><td>null</td><td>2024-02-01T00:00:00.000Z</td></tr><tr><td>CUST152</td><td>2024-02-14</td><td>2024-06-07</td><td>2024-06-28</td><td>2024-07-24</td><td>114</td><td>21</td><td>26</td><td>2024-02-01T00:00:00.000Z</td></tr><tr><td>CUST023</td><td>2024-02-15</td><td>2024-09-15</td><td>2024-11-01</td><td>2024-12-14</td><td>213</td><td>47</td><td>43</td><td>2024-02-01T00:00:00.000Z</td></tr><tr><td>CUST012</td><td>2024-02-15</td><td>2024-03-04</td><td>2024-04-14</td><td>2024-05-03</td><td>18</td><td>41</td><td>19</td><td>2024-02-01T00:00:00.000Z</td></tr><tr><td>CUST122</td><td>2024-02-15</td><td>2024-03-08</td><td>2024-04-26</td><td>2024-06-02</td><td>22</td><td>49</td><td>37</td><td>2024-02-01T00:00:00.000Z</td></tr><tr><td>CUST051</td><td>2024-02-15</td><td>2024-04-08</td><td>2024-04-24</td><td>2024-09-12</td><td>53</td><td>16</td><td>141</td><td>2024-02-01T00:00:00.000Z</td></tr><tr><td>CUST130</td><td>2024-02-16</td><td>2024-06-24</td><td>2024-07-06</td><td>2024-09-10</td><td>129</td><td>12</td><td>66</td><td>2024-02-01T00:00:00.000Z</td></tr><tr><td>CUST103</td><td>2024-02-16</td><td>2024-02-24</td><td>2024-05-08</td><td>2024-05-28</td><td>8</td><td>74</td><td>20</td><td>2024-02-01T00:00:00.000Z</td></tr><tr><td>CUST141</td><td>2024-02-17</td><td>2024-04-02</td><td>2024-06-29</td><td>2024-08-26</td><td>45</td><td>88</td><td>58</td><td>2024-02-01T00:00:00.000Z</td></tr><tr><td>CUST066</td><td>2024-02-18</td><td>2024-06-26</td><td>2024-07-21</td><td>2024-08-04</td><td>129</td><td>25</td><td>14</td><td>2024-02-01T00:00:00.000Z</td></tr><tr><td>CUST093</td><td>2024-02-18</td><td>2024-04-27</td><td>2024-05-01</td><td>2024-07-10</td><td>69</td><td>4</td><td>70</td><td>2024-02-01T00:00:00.000Z</td></tr><tr><td>CUST173</td><td>2024-02-19</td><td>2024-03-23</td><td>2024-05-02</td><td>null</td><td>33</td><td>40</td><td>null</td><td>2024-02-01T00:00:00.000Z</td></tr><tr><td>CUST177</td><td>2024-02-20</td><td>2024-03-18</td><td>2024-04-19</td><td>2024-10-24</td><td>27</td><td>32</td><td>188</td><td>2024-02-01T00:00:00.000Z</td></tr><tr><td>CUST114</td><td>2024-02-21</td><td>2024-03-30</td><td>2024-07-25</td><td>2024-09-27</td><td>38</td><td>117</td><td>64</td><td>2024-02-01T00:00:00.000Z</td></tr><tr><td>CUST071</td><td>2024-02-21</td><td>2024-04-09</td><td>2024-05-04</td><td>2024-06-28</td><td>48</td><td>25</td><td>55</td><td>2024-02-01T00:00:00.000Z</td></tr><tr><td>CUST059</td><td>2024-02-21</td><td>2024-03-12</td><td>2024-03-27</td><td>2024-04-26</td><td>20</td><td>15</td><td>30</td><td>2024-02-01T00:00:00.000Z</td></tr><tr><td>CUST111</td><td>2024-02-22</td><td>2024-03-21</td><td>2024-04-21</td><td>2024-08-04</td><td>28</td><td>31</td><td>105</td><td>2024-02-01T00:00:00.000Z</td></tr><tr><td>CUST105</td><td>2024-02-23</td><td>2024-03-13</td><td>2024-04-13</td><td>2024-06-06</td><td>19</td><td>31</td><td>54</td><td>2024-02-01T00:00:00.000Z</td></tr><tr><td>CUST145</td><td>2024-02-25</td><td>2024-04-27</td><td>2024-05-08</td><td>2024-06-05</td><td>62</td><td>11</td><td>28</td><td>2024-02-01T00:00:00.000Z</td></tr><tr><td>CUST140</td><td>2024-02-25</td><td>2024-04-14</td><td>2024-05-02</td><td>2024-06-23</td><td>49</td><td>18</td><td>52</td><td>2024-02-01T00:00:00.000Z</td></tr><tr><td>CUST184</td><td>2024-02-25</td><td>2024-04-02</td><td>2024-10-13</td><td>null</td><td>37</td><td>194</td><td>null</td><td>2024-02-01T00:00:00.000Z</td></tr><tr><td>CUST160</td><td>2024-02-25</td><td>2024-03-12</td><td>2024-07-11</td><td>null</td><td>16</td><td>121</td><td>null</td><td>2024-02-01T00:00:00.000Z</td></tr><tr><td>CUST025</td><td>2024-02-28</td><td>2024-02-29</td><td>2024-05-07</td><td>2024-06-22</td><td>1</td><td>68</td><td>46</td><td>2024-02-01T00:00:00.000Z</td></tr><tr><td>CUST096</td><td>2024-02-29</td><td>2024-03-14</td><td>2024-04-01</td><td>2024-07-28</td><td>14</td><td>18</td><td>118</td><td>2024-02-01T00:00:00.000Z</td></tr><tr><td>CUST196</td><td>2024-03-02</td><td>2024-06-24</td><td>2024-07-16</td><td>2024-08-07</td><td>114</td><td>22</td><td>22</td><td>2024-03-01T00:00:00.000Z</td></tr><tr><td>CUST151</td><td>2024-03-03</td><td>2024-04-08</td><td>2024-04-14</td><td>2024-05-25</td><td>36</td><td>6</td><td>41</td><td>2024-03-01T00:00:00.000Z</td></tr><tr><td>CUST112</td><td>2024-03-03</td><td>2024-03-19</td><td>2024-04-10</td><td>2024-04-13</td><td>16</td><td>22</td><td>3</td><td>2024-03-01T00:00:00.000Z</td></tr><tr><td>CUST124</td><td>2024-03-04</td><td>2024-04-29</td><td>2024-06-03</td><td>2024-06-27</td><td>56</td><td>35</td><td>24</td><td>2024-03-01T00:00:00.000Z</td></tr><tr><td>CUST185</td><td>2024-03-04</td><td>2024-03-26</td><td>2024-04-04</td><td>2024-05-12</td><td>22</td><td>9</td><td>38</td><td>2024-03-01T00:00:00.000Z</td></tr><tr><td>CUST097</td><td>2024-03-04</td><td>2024-04-11</td><td>2024-04-20</td><td>2024-05-27</td><td>38</td><td>9</td><td>37</td><td>2024-03-01T00:00:00.000Z</td></tr><tr><td>CUST088</td><td>2024-03-05</td><td>2024-04-17</td><td>null</td><td>null</td><td>43</td><td>null</td><td>null</td><td>2024-03-01T00:00:00.000Z</td></tr><tr><td>CUST180</td><td>2024-03-06</td><td>2024-05-12</td><td>2024-05-24</td><td>2024-06-19</td><td>67</td><td>12</td><td>26</td><td>2024-03-01T00:00:00.000Z</td></tr><tr><td>CUST127</td><td>2024-03-07</td><td>2024-03-26</td><td>2024-06-02</td><td>2024-07-10</td><td>19</td><td>68</td><td>38</td><td>2024-03-01T00:00:00.000Z</td></tr><tr><td>CUST024</td><td>2024-03-07</td><td>2024-05-18</td><td>2024-06-29</td><td>2024-10-30</td><td>72</td><td>42</td><td>123</td><td>2024-03-01T00:00:00.000Z</td></tr><tr><td>CUST159</td><td>2024-03-08</td><td>2024-04-08</td><td>2024-04-17</td><td>2024-08-12</td><td>31</td><td>9</td><td>117</td><td>2024-03-01T00:00:00.000Z</td></tr><tr><td>CUST133</td><td>2024-03-11</td><td>2024-03-12</td><td>2024-04-18</td><td>2024-04-29</td><td>1</td><td>37</td><td>11</td><td>2024-03-01T00:00:00.000Z</td></tr><tr><td>CUST021</td><td>2024-03-11</td><td>2024-03-16</td><td>2024-07-10</td><td>null</td><td>5</td><td>116</td><td>null</td><td>2024-03-01T00:00:00.000Z</td></tr><tr><td>CUST049</td><td>2024-03-12</td><td>2024-04-30</td><td>2024-05-24</td><td>2024-06-06</td><td>49</td><td>24</td><td>13</td><td>2024-03-01T00:00:00.000Z</td></tr><tr><td>CUST187</td><td>2024-03-13</td><td>2024-05-28</td><td>2024-06-29</td><td>2024-08-18</td><td>76</td><td>32</td><td>50</td><td>2024-03-01T00:00:00.000Z</td></tr><tr><td>CUST123</td><td>2024-03-13</td><td>2024-05-20</td><td>2024-06-07</td><td>2024-10-13</td><td>68</td><td>18</td><td>128</td><td>2024-03-01T00:00:00.000Z</td></tr><tr><td>CUST031</td><td>2024-03-14</td><td>2024-06-26</td><td>2024-08-12</td><td>2024-12-19</td><td>104</td><td>47</td><td>129</td><td>2024-03-01T00:00:00.000Z</td></tr><tr><td>CUST197</td><td>2024-03-15</td><td>2024-05-12</td><td>2024-06-13</td><td>2024-09-23</td><td>58</td><td>32</td><td>102</td><td>2024-03-01T00:00:00.000Z</td></tr><tr><td>CUST081</td><td>2024-03-15</td><td>2024-04-28</td><td>2024-11-22</td><td>null</td><td>44</td><td>208</td><td>null</td><td>2024-03-01T00:00:00.000Z</td></tr><tr><td>CUST005</td><td>2024-03-16</td><td>2024-03-25</td><td>2024-04-04</td><td>2024-05-19</td><td>9</td><td>10</td><td>45</td><td>2024-03-01T00:00:00.000Z</td></tr><tr><td>CUST085</td><td>2024-03-16</td><td>2024-05-02</td><td>2024-06-17</td><td>2024-06-25</td><td>47</td><td>46</td><td>8</td><td>2024-03-01T00:00:00.000Z</td></tr><tr><td>CUST010</td><td>2024-03-16</td><td>2024-04-20</td><td>2024-07-07</td><td>null</td><td>35</td><td>78</td><td>null</td><td>2024-03-01T00:00:00.000Z</td></tr><tr><td>CUST199</td><td>2024-03-19</td><td>2024-04-22</td><td>2024-06-15</td><td>2024-07-17</td><td>34</td><td>54</td><td>32</td><td>2024-03-01T00:00:00.000Z</td></tr><tr><td>CUST158</td><td>2024-03-20</td><td>2024-06-29</td><td>2024-11-13</td><td>null</td><td>101</td><td>137</td><td>null</td><td>2024-03-01T00:00:00.000Z</td></tr><tr><td>CUST100</td><td>2024-03-20</td><td>2024-05-05</td><td>2024-05-06</td><td>2024-07-13</td><td>46</td><td>1</td><td>68</td><td>2024-03-01T00:00:00.000Z</td></tr><tr><td>CUST027</td><td>2024-03-21</td><td>2024-04-27</td><td>2024-06-23</td><td>2024-07-18</td><td>37</td><td>57</td><td>25</td><td>2024-03-01T00:00:00.000Z</td></tr><tr><td>CUST148</td><td>2024-03-23</td><td>2024-07-21</td><td>null</td><td>null</td><td>120</td><td>null</td><td>null</td><td>2024-03-01T00:00:00.000Z</td></tr><tr><td>CUST135</td><td>2024-03-25</td><td>2024-03-27</td><td>2024-05-22</td><td>2024-06-01</td><td>2</td><td>56</td><td>10</td><td>2024-03-01T00:00:00.000Z</td></tr><tr><td>CUST144</td><td>2024-03-25</td><td>2024-03-27</td><td>2024-04-17</td><td>2024-08-14</td><td>2</td><td>21</td><td>119</td><td>2024-03-01T00:00:00.000Z</td></tr><tr><td>CUST073</td><td>2024-03-26</td><td>2024-05-02</td><td>2024-06-27</td><td>2024-07-06</td><td>37</td><td>56</td><td>9</td><td>2024-03-01T00:00:00.000Z</td></tr><tr><td>CUST106</td><td>2024-03-27</td><td>2024-04-05</td><td>2024-06-23</td><td>2024-08-04</td><td>9</td><td>79</td><td>42</td><td>2024-03-01T00:00:00.000Z</td></tr><tr><td>CUST142</td><td>2024-03-28</td><td>2024-05-30</td><td>2024-07-15</td><td>2024-07-16</td><td>63</td><td>46</td><td>1</td><td>2024-03-01T00:00:00.000Z</td></tr><tr><td>CUST138</td><td>2024-03-29</td><td>2024-04-25</td><td>2024-06-05</td><td>2024-08-30</td><td>27</td><td>41</td><td>86</td><td>2024-03-01T00:00:00.000Z</td></tr><tr><td>CUST018</td><td>2024-04-01</td><td>2024-04-30</td><td>2024-05-02</td><td>2024-06-15</td><td>29</td><td>2</td><td>44</td><td>2024-04-01T00:00:00.000Z</td></tr><tr><td>CUST052</td><td>2024-04-02</td><td>2024-05-19</td><td>2024-06-25</td><td>2024-07-01</td><td>47</td><td>37</td><td>6</td><td>2024-04-01T00:00:00.000Z</td></tr><tr><td>CUST191</td><td>2024-04-03</td><td>2024-04-27</td><td>2024-05-07</td><td>2024-06-12</td><td>24</td><td>10</td><td>36</td><td>2024-04-01T00:00:00.000Z</td></tr><tr><td>CUST094</td><td>2024-04-03</td><td>null</td><td>null</td><td>null</td><td>null</td><td>null</td><td>null</td><td>2024-04-01T00:00:00.000Z</td></tr><tr><td>CUST070</td><td>2024-04-04</td><td>2024-04-15</td><td>2024-07-03</td><td>2024-09-05</td><td>11</td><td>79</td><td>64</td><td>2024-04-01T00:00:00.000Z</td></tr><tr><td>CUST176</td><td>2024-04-05</td><td>2024-05-23</td><td>2024-06-29</td><td>2024-08-14</td><td>48</td><td>37</td><td>46</td><td>2024-04-01T00:00:00.000Z</td></tr><tr><td>CUST042</td><td>2024-04-07</td><td>2024-05-27</td><td>2024-06-17</td><td>2024-07-24</td><td>50</td><td>21</td><td>37</td><td>2024-04-01T00:00:00.000Z</td></tr><tr><td>CUST078</td><td>2024-04-08</td><td>2024-05-03</td><td>2024-05-24</td><td>2024-06-05</td><td>25</td><td>21</td><td>12</td><td>2024-04-01T00:00:00.000Z</td></tr><tr><td>CUST195</td><td>2024-04-08</td><td>2024-04-23</td><td>2024-05-18</td><td>2024-05-21</td><td>15</td><td>25</td><td>3</td><td>2024-04-01T00:00:00.000Z</td></tr><tr><td>CUST194</td><td>2024-04-10</td><td>2024-04-21</td><td>2024-06-13</td><td>2024-08-12</td><td>11</td><td>53</td><td>60</td><td>2024-04-01T00:00:00.000Z</td></tr><tr><td>CUST002</td><td>2024-04-11</td><td>2024-05-24</td><td>2024-07-22</td><td>null</td><td>43</td><td>59</td><td>null</td><td>2024-04-01T00:00:00.000Z</td></tr><tr><td>CUST001</td><td>2024-04-12</td><td>2024-06-02</td><td>2024-07-26</td><td>2024-10-12</td><td>51</td><td>54</td><td>78</td><td>2024-04-01T00:00:00.000Z</td></tr><tr><td>CUST080</td><td>2024-04-13</td><td>2024-05-12</td><td>2024-05-23</td><td>2024-07-17</td><td>29</td><td>11</td><td>55</td><td>2024-04-01T00:00:00.000Z</td></tr><tr><td>CUST134</td><td>2024-04-15</td><td>2024-04-24</td><td>null</td><td>null</td><td>9</td><td>null</td><td>null</td><td>2024-04-01T00:00:00.000Z</td></tr><tr><td>CUST015</td><td>2024-04-15</td><td>2024-06-05</td><td>2024-07-03</td><td>2024-12-02</td><td>51</td><td>28</td><td>152</td><td>2024-04-01T00:00:00.000Z</td></tr><tr><td>CUST139</td><td>2024-04-18</td><td>2024-04-25</td><td>2024-05-28</td><td>2024-08-03</td><td>7</td><td>33</td><td>67</td><td>2024-04-01T00:00:00.000Z</td></tr><tr><td>CUST082</td><td>2024-04-20</td><td>2024-05-20</td><td>2024-06-04</td><td>2024-09-09</td><td>30</td><td>15</td><td>97</td><td>2024-04-01T00:00:00.000Z</td></tr><tr><td>CUST048</td><td>2024-04-20</td><td>2024-06-28</td><td>2024-07-15</td><td>2024-08-30</td><td>69</td><td>17</td><td>46</td><td>2024-04-01T00:00:00.000Z</td></tr><tr><td>CUST154</td><td>2024-04-21</td><td>2024-05-10</td><td>2024-06-22</td><td>2024-12-04</td><td>19</td><td>43</td><td>165</td><td>2024-04-01T00:00:00.000Z</td></tr><tr><td>CUST107</td><td>2024-04-22</td><td>2024-10-11</td><td>null</td><td>null</td><td>172</td><td>null</td><td>null</td><td>2024-04-01T00:00:00.000Z</td></tr><tr><td>CUST183</td><td>2024-04-23</td><td>2024-06-08</td><td>2024-07-13</td><td>2024-09-28</td><td>46</td><td>35</td><td>77</td><td>2024-04-01T00:00:00.000Z</td></tr><tr><td>CUST156</td><td>2024-04-23</td><td>2024-06-20</td><td>null</td><td>null</td><td>58</td><td>null</td><td>null</td><td>2024-04-01T00:00:00.000Z</td></tr><tr><td>CUST084</td><td>2024-04-24</td><td>2024-05-18</td><td>2024-07-05</td><td>2024-07-22</td><td>24</td><td>48</td><td>17</td><td>2024-04-01T00:00:00.000Z</td></tr><tr><td>CUST079</td><td>2024-04-29</td><td>2024-05-26</td><td>2024-06-20</td><td>2024-12-28</td><td>27</td><td>25</td><td>191</td><td>2024-04-01T00:00:00.000Z</td></tr><tr><td>CUST056</td><td>2024-04-29</td><td>2024-05-01</td><td>2024-05-16</td><td>2024-05-21</td><td>2</td><td>15</td><td>5</td><td>2024-04-01T00:00:00.000Z</td></tr><tr><td>CUST013</td><td>2024-04-30</td><td>2024-06-23</td><td>2024-10-25</td><td>null</td><td>54</td><td>124</td><td>null</td><td>2024-04-01T00:00:00.000Z</td></tr><tr><td>CUST075</td><td>2024-04-30</td><td>2024-06-22</td><td>2024-08-15</td><td>2024-10-10</td><td>53</td><td>54</td><td>56</td><td>2024-04-01T00:00:00.000Z</td></tr><tr><td>CUST118</td><td>2024-05-01</td><td>2024-05-13</td><td>null</td><td>null</td><td>12</td><td>null</td><td>null</td><td>2024-05-01T00:00:00.000Z</td></tr><tr><td>CUST036</td><td>2024-05-02</td><td>2024-06-20</td><td>2024-07-31</td><td>null</td><td>49</td><td>41</td><td>null</td><td>2024-05-01T00:00:00.000Z</td></tr><tr><td>CUST168</td><td>2024-05-02</td><td>2024-05-15</td><td>2024-06-03</td><td>2024-06-23</td><td>13</td><td>19</td><td>20</td><td>2024-05-01T00:00:00.000Z</td></tr><tr><td>CUST132</td><td>2024-05-03</td><td>2024-06-15</td><td>2024-07-10</td><td>2024-07-23</td><td>43</td><td>25</td><td>13</td><td>2024-05-01T00:00:00.000Z</td></tr><tr><td>CUST175</td><td>2024-05-05</td><td>2024-05-30</td><td>2024-06-10</td><td>2024-08-28</td><td>25</td><td>11</td><td>79</td><td>2024-05-01T00:00:00.000Z</td></tr><tr><td>CUST171</td><td>2024-05-05</td><td>2024-06-28</td><td>2024-07-19</td><td>2024-08-05</td><td>54</td><td>21</td><td>17</td><td>2024-05-01T00:00:00.000Z</td></tr><tr><td>CUST155</td><td>2024-05-06</td><td>2024-06-15</td><td>2024-07-29</td><td>null</td><td>40</td><td>44</td><td>null</td><td>2024-05-01T00:00:00.000Z</td></tr><tr><td>CUST047</td><td>2024-05-08</td><td>2024-05-24</td><td>2024-06-05</td><td>null</td><td>16</td><td>12</td><td>null</td><td>2024-05-01T00:00:00.000Z</td></tr><tr><td>CUST129</td><td>2024-05-10</td><td>2024-05-26</td><td>2024-06-26</td><td>2024-10-23</td><td>16</td><td>31</td><td>119</td><td>2024-05-01T00:00:00.000Z</td></tr><tr><td>CUST193</td><td>2024-05-11</td><td>2024-06-22</td><td>2024-07-03</td><td>2024-08-08</td><td>42</td><td>11</td><td>36</td><td>2024-05-01T00:00:00.000Z</td></tr><tr><td>CUST037</td><td>2024-05-14</td><td>2024-06-14</td><td>2024-06-24</td><td>2024-09-04</td><td>31</td><td>10</td><td>72</td><td>2024-05-01T00:00:00.000Z</td></tr><tr><td>CUST164</td><td>2024-05-15</td><td>2024-06-21</td><td>2024-07-01</td><td>2024-07-23</td><td>37</td><td>10</td><td>22</td><td>2024-05-01T00:00:00.000Z</td></tr><tr><td>CUST136</td><td>2024-05-18</td><td>2024-05-21</td><td>2024-06-30</td><td>2024-08-04</td><td>3</td><td>40</td><td>35</td><td>2024-05-01T00:00:00.000Z</td></tr><tr><td>CUST014</td><td>2024-05-20</td><td>2024-08-13</td><td>2024-10-24</td><td>null</td><td>85</td><td>72</td><td>null</td><td>2024-05-01T00:00:00.000Z</td></tr><tr><td>CUST125</td><td>2024-05-21</td><td>2024-06-19</td><td>2024-07-01</td><td>2024-07-12</td><td>29</td><td>12</td><td>11</td><td>2024-05-01T00:00:00.000Z</td></tr><tr><td>CUST035</td><td>2024-05-31</td><td>2024-06-20</td><td>2024-08-08</td><td>2024-09-02</td><td>20</td><td>49</td><td>25</td><td>2024-05-01T00:00:00.000Z</td></tr><tr><td>CUST009</td><td>2024-06-01</td><td>2024-07-16</td><td>null</td><td>null</td><td>45</td><td>null</td><td>null</td><td>2024-06-01T00:00:00.000Z</td></tr><tr><td>CUST044</td><td>2024-06-02</td><td>2024-07-17</td><td>2024-08-30</td><td>2024-09-07</td><td>45</td><td>44</td><td>8</td><td>2024-06-01T00:00:00.000Z</td></tr><tr><td>CUST022</td><td>2024-06-05</td><td>2024-08-01</td><td>2024-10-11</td><td>2024-11-17</td><td>57</td><td>71</td><td>37</td><td>2024-06-01T00:00:00.000Z</td></tr><tr><td>CUST064</td><td>2024-06-08</td><td>2024-07-17</td><td>null</td><td>null</td><td>39</td><td>null</td><td>null</td><td>2024-06-01T00:00:00.000Z</td></tr><tr><td>CUST117</td><td>2024-06-13</td><td>2024-07-12</td><td>null</td><td>null</td><td>29</td><td>null</td><td>null</td><td>2024-06-01T00:00:00.000Z</td></tr><tr><td>CUST178</td><td>2024-06-18</td><td>2024-07-14</td><td>2024-07-24</td><td>2024-09-23</td><td>26</td><td>10</td><td>61</td><td>2024-06-01T00:00:00.000Z</td></tr><tr><td>CUST058</td><td>2024-06-20</td><td>2024-07-23</td><td>2024-08-12</td><td>2024-09-20</td><td>33</td><td>20</td><td>39</td><td>2024-06-01T00:00:00.000Z</td></tr><tr><td>CUST028</td><td>2024-06-20</td><td>2024-07-28</td><td>2024-08-21</td><td>2024-11-08</td><td>38</td><td>24</td><td>79</td><td>2024-06-01T00:00:00.000Z</td></tr><tr><td>CUST120</td><td>2024-06-21</td><td>2024-08-17</td><td>2024-10-28</td><td>2024-11-03</td><td>57</td><td>72</td><td>6</td><td>2024-06-01T00:00:00.000Z</td></tr><tr><td>CUST128</td><td>2024-06-22</td><td>2024-07-07</td><td>2024-07-30</td><td>null</td><td>15</td><td>23</td><td>null</td><td>2024-06-01T00:00:00.000Z</td></tr></tbody></table></div>"
      ]
     },
     "metadata": {
      "application/vnd.databricks.v1+output": {
       "addedWidgets": {},
       "aggData": [],
       "aggError": "",
       "aggOverflow": false,
       "aggSchema": [],
       "aggSeriesLimitReached": false,
       "aggType": "",
       "arguments": {},
       "columnCustomDisplayInfos": {},
       "data": [
        [
         "CUST038",
         "2024-01-01",
         "2024-03-27",
         "2024-05-07",
         "2024-05-29",
         86,
         41,
         22,
         "2024-01-01T00:00:00.000Z"
        ],
        [
         "CUST030",
         "2024-01-01",
         "2024-01-27",
         "2024-03-21",
         "2024-08-16",
         26,
         54,
         148,
         "2024-01-01T00:00:00.000Z"
        ],
        [
         "CUST137",
         "2024-01-02",
         "2024-02-18",
         "2024-02-26",
         null,
         47,
         8,
         null,
         "2024-01-01T00:00:00.000Z"
        ],
        [
         "CUST072",
         "2024-01-02",
         "2024-02-07",
         "2024-02-19",
         "2024-03-24",
         36,
         12,
         34,
         "2024-01-01T00:00:00.000Z"
        ],
        [
         "CUST192",
         "2024-01-02",
         "2024-01-24",
         "2024-03-13",
         "2024-11-25",
         22,
         49,
         257,
         "2024-01-01T00:00:00.000Z"
        ],
        [
         "CUST181",
         "2024-01-03",
         "2024-02-11",
         "2024-03-07",
         "2024-04-07",
         39,
         25,
         31,
         "2024-01-01T00:00:00.000Z"
        ],
        [
         "CUST089",
         "2024-01-03",
         "2024-02-28",
         "2024-03-07",
         "2024-04-29",
         56,
         8,
         53,
         "2024-01-01T00:00:00.000Z"
        ],
        [
         "CUST065",
         "2024-01-03",
         "2024-05-30",
         "2024-06-29",
         "2024-06-30",
         148,
         30,
         1,
         "2024-01-01T00:00:00.000Z"
        ],
        [
         "CUST157",
         "2024-01-03",
         "2024-02-04",
         "2024-02-12",
         "2024-04-29",
         32,
         8,
         77,
         "2024-01-01T00:00:00.000Z"
        ],
        [
         "CUST104",
         "2024-01-04",
         "2024-01-23",
         "2024-02-21",
         "2024-04-29",
         19,
         29,
         68,
         "2024-01-01T00:00:00.000Z"
        ],
        [
         "CUST188",
         "2024-01-06",
         "2024-05-11",
         "2024-06-14",
         "2024-08-25",
         126,
         34,
         72,
         "2024-01-01T00:00:00.000Z"
        ],
        [
         "CUST115",
         "2024-01-06",
         "2024-02-01",
         "2024-02-14",
         "2024-02-27",
         26,
         13,
         13,
         "2024-01-01T00:00:00.000Z"
        ],
        [
         "CUST167",
         "2024-01-06",
         "2024-02-20",
         "2024-08-20",
         null,
         45,
         182,
         null,
         "2024-01-01T00:00:00.000Z"
        ],
        [
         "CUST011",
         "2024-01-07",
         "2024-02-03",
         "2024-04-03",
         "2024-06-25",
         27,
         60,
         83,
         "2024-01-01T00:00:00.000Z"
        ],
        [
         "CUST162",
         "2024-01-07",
         "2024-03-09",
         null,
         null,
         62,
         null,
         null,
         "2024-01-01T00:00:00.000Z"
        ],
        [
         "CUST095",
         "2024-01-07",
         "2024-01-19",
         "2024-02-09",
         null,
         12,
         21,
         null,
         "2024-01-01T00:00:00.000Z"
        ],
        [
         "CUST116",
         "2024-01-09",
         "2024-03-20",
         "2024-04-22",
         "2024-05-04",
         71,
         33,
         12,
         "2024-01-01T00:00:00.000Z"
        ],
        [
         "CUST092",
         "2024-01-09",
         "2024-05-03",
         "2024-08-04",
         null,
         115,
         93,
         null,
         "2024-01-01T00:00:00.000Z"
        ],
        [
         "CUST054",
         "2024-01-09",
         "2024-05-15",
         "2024-05-26",
         null,
         127,
         11,
         null,
         "2024-01-01T00:00:00.000Z"
        ],
        [
         "CUST108",
         "2024-01-10",
         "2024-05-19",
         "2024-06-16",
         "2024-07-17",
         130,
         28,
         31,
         "2024-01-01T00:00:00.000Z"
        ],
        [
         "CUST060",
         "2024-01-10",
         "2024-03-24",
         "2024-04-13",
         "2024-11-01",
         74,
         20,
         202,
         "2024-01-01T00:00:00.000Z"
        ],
        [
         "CUST101",
         "2024-01-10",
         "2024-01-13",
         "2024-03-10",
         "2024-10-07",
         3,
         57,
         211,
         "2024-01-01T00:00:00.000Z"
        ],
        [
         "CUST017",
         "2024-01-11",
         "2024-02-28",
         "2024-05-03",
         null,
         48,
         65,
         null,
         "2024-01-01T00:00:00.000Z"
        ],
        [
         "CUST109",
         "2024-01-13",
         "2024-03-12",
         "2024-04-26",
         "2024-05-24",
         59,
         45,
         28,
         "2024-01-01T00:00:00.000Z"
        ],
        [
         "CUST020",
         "2024-01-13",
         "2024-05-04",
         "2024-05-06",
         "2024-07-01",
         112,
         2,
         56,
         "2024-01-01T00:00:00.000Z"
        ],
        [
         "CUST076",
         "2024-01-14",
         "2024-02-04",
         "2024-02-29",
         "2024-04-11",
         21,
         25,
         42,
         "2024-01-01T00:00:00.000Z"
        ],
        [
         "CUST003",
         "2024-01-14",
         "2024-05-28",
         "2024-07-18",
         null,
         135,
         51,
         null,
         "2024-01-01T00:00:00.000Z"
        ],
        [
         "CUST102",
         "2024-01-14",
         "2024-06-08",
         "2024-06-23",
         "2024-07-31",
         146,
         15,
         38,
         "2024-01-01T00:00:00.000Z"
        ],
        [
         "CUST034",
         "2024-01-14",
         "2024-03-13",
         "2024-04-18",
         "2024-05-15",
         59,
         36,
         27,
         "2024-01-01T00:00:00.000Z"
        ],
        [
         "CUST090",
         "2024-01-15",
         "2024-03-31",
         "2024-04-17",
         "2024-12-05",
         76,
         17,
         232,
         "2024-01-01T00:00:00.000Z"
        ],
        [
         "CUST063",
         "2024-01-15",
         "2024-04-19",
         "2024-06-15",
         "2024-07-17",
         95,
         57,
         32,
         "2024-01-01T00:00:00.000Z"
        ],
        [
         "CUST039",
         "2024-01-16",
         "2024-02-17",
         "2024-07-11",
         "2024-07-16",
         32,
         145,
         5,
         "2024-01-01T00:00:00.000Z"
        ],
        [
         "CUST057",
         "2024-01-16",
         "2024-05-01",
         "2024-05-26",
         "2024-06-06",
         106,
         25,
         11,
         "2024-01-01T00:00:00.000Z"
        ],
        [
         "CUST006",
         "2024-01-18",
         "2024-03-31",
         "2024-04-24",
         "2024-06-02",
         73,
         24,
         39,
         "2024-01-01T00:00:00.000Z"
        ],
        [
         "CUST179",
         "2024-01-18",
         "2024-02-04",
         "2024-03-27",
         "2024-05-23",
         17,
         52,
         57,
         "2024-01-01T00:00:00.000Z"
        ],
        [
         "CUST121",
         "2024-01-18",
         "2024-01-19",
         "2024-02-08",
         "2024-05-18",
         1,
         20,
         100,
         "2024-01-01T00:00:00.000Z"
        ],
        [
         "CUST091",
         "2024-01-19",
         "2024-01-31",
         "2024-02-14",
         "2024-03-24",
         12,
         14,
         39,
         "2024-01-01T00:00:00.000Z"
        ],
        [
         "CUST019",
         "2024-01-20",
         "2024-02-04",
         "2024-02-06",
         "2024-03-09",
         15,
         2,
         32,
         "2024-01-01T00:00:00.000Z"
        ],
        [
         "CUST189",
         "2024-01-20",
         "2024-02-07",
         "2024-03-06",
         "2024-06-02",
         18,
         28,
         88,
         "2024-01-01T00:00:00.000Z"
        ],
        [
         "CUST131",
         "2024-01-20",
         "2024-03-21",
         "2024-05-15",
         "2024-05-22",
         61,
         55,
         7,
         "2024-01-01T00:00:00.000Z"
        ],
        [
         "CUST098",
         "2024-01-20",
         "2024-01-30",
         "2024-02-05",
         "2024-03-09",
         10,
         6,
         33,
         "2024-01-01T00:00:00.000Z"
        ],
        [
         "CUST170",
         "2024-01-21",
         "2024-02-05",
         "2024-02-23",
         "2024-03-04",
         15,
         18,
         10,
         "2024-01-01T00:00:00.000Z"
        ],
        [
         "CUST198",
         "2024-01-21",
         "2024-02-29",
         "2024-03-30",
         "2024-05-20",
         39,
         30,
         51,
         "2024-01-01T00:00:00.000Z"
        ],
        [
         "CUST069",
         "2024-01-21",
         "2024-01-23",
         "2024-03-02",
         "2024-06-03",
         2,
         39,
         93,
         "2024-01-01T00:00:00.000Z"
        ],
        [
         "CUST146",
         "2024-01-21",
         "2024-01-25",
         "2024-02-14",
         "2024-07-06",
         4,
         20,
         143,
         "2024-01-01T00:00:00.000Z"
        ],
        [
         "CUST016",
         "2024-01-22",
         "2024-03-11",
         "2024-06-16",
         "2024-09-13",
         49,
         97,
         89,
         "2024-01-01T00:00:00.000Z"
        ],
        [
         "CUST062",
         "2024-01-22",
         "2024-02-18",
         "2024-04-01",
         "2024-05-03",
         27,
         43,
         32,
         "2024-01-01T00:00:00.000Z"
        ],
        [
         "CUST083",
         "2024-01-23",
         "2024-02-17",
         "2024-03-24",
         "2024-04-07",
         25,
         36,
         14,
         "2024-01-01T00:00:00.000Z"
        ],
        [
         "CUST150",
         "2024-01-24",
         "2024-02-01",
         "2024-06-26",
         "2024-07-03",
         8,
         146,
         7,
         "2024-01-01T00:00:00.000Z"
        ],
        [
         "CUST008",
         "2024-01-24",
         "2024-05-31",
         "2024-07-15",
         "2024-07-17",
         128,
         45,
         2,
         "2024-01-01T00:00:00.000Z"
        ],
        [
         "CUST182",
         "2024-01-25",
         "2024-04-01",
         "2024-04-24",
         "2024-05-18",
         67,
         23,
         24,
         "2024-01-01T00:00:00.000Z"
        ],
        [
         "CUST172",
         "2024-01-25",
         "2024-03-25",
         "2024-06-15",
         "2024-08-04",
         60,
         82,
         50,
         "2024-01-01T00:00:00.000Z"
        ],
        [
         "CUST174",
         "2024-01-25",
         "2024-02-05",
         "2024-04-03",
         null,
         11,
         58,
         null,
         "2024-01-01T00:00:00.000Z"
        ],
        [
         "CUST041",
         "2024-01-25",
         "2024-06-16",
         "2024-06-26",
         "2024-07-13",
         143,
         10,
         17,
         "2024-01-01T00:00:00.000Z"
        ],
        [
         "CUST087",
         "2024-01-25",
         "2024-06-18",
         "2024-07-07",
         null,
         145,
         19,
         null,
         "2024-01-01T00:00:00.000Z"
        ],
        [
         "CUST077",
         "2024-01-26",
         "2024-05-31",
         "2024-06-05",
         "2024-06-25",
         126,
         5,
         20,
         "2024-01-01T00:00:00.000Z"
        ],
        [
         "CUST143",
         "2024-01-26",
         "2024-04-21",
         "2024-05-17",
         "2024-05-23",
         86,
         26,
         6,
         "2024-01-01T00:00:00.000Z"
        ],
        [
         "CUST061",
         "2024-01-27",
         "2024-03-25",
         "2024-05-20",
         "2024-08-06",
         58,
         56,
         78,
         "2024-01-01T00:00:00.000Z"
        ],
        [
         "CUST046",
         "2024-01-28",
         "2024-02-18",
         "2024-03-30",
         null,
         21,
         41,
         null,
         "2024-01-01T00:00:00.000Z"
        ],
        [
         "CUST045",
         "2024-01-29",
         "2024-02-11",
         "2024-04-12",
         "2024-04-21",
         13,
         61,
         9,
         "2024-01-01T00:00:00.000Z"
        ],
        [
         "CUST200",
         "2024-01-29",
         "2024-02-14",
         "2024-03-02",
         "2024-04-27",
         16,
         17,
         56,
         "2024-01-01T00:00:00.000Z"
        ],
        [
         "CUST099",
         "2024-01-30",
         "2024-06-20",
         "2024-07-24",
         "2024-09-11",
         142,
         34,
         49,
         "2024-01-01T00:00:00.000Z"
        ],
        [
         "CUST119",
         "2024-01-31",
         "2024-03-20",
         "2024-05-23",
         "2024-05-27",
         49,
         64,
         4,
         "2024-01-01T00:00:00.000Z"
        ],
        [
         "CUST004",
         "2024-01-31",
         "2024-02-24",
         "2024-03-31",
         "2024-09-30",
         24,
         36,
         183,
         "2024-01-01T00:00:00.000Z"
        ],
        [
         "CUST149",
         "2024-01-31",
         "2024-04-07",
         "2024-05-06",
         "2024-05-28",
         67,
         29,
         22,
         "2024-01-01T00:00:00.000Z"
        ],
        [
         "CUST126",
         "2024-01-31",
         "2024-04-16",
         "2024-05-14",
         "2024-05-26",
         76,
         28,
         12,
         "2024-01-01T00:00:00.000Z"
        ],
        [
         "CUST074",
         "2024-02-01",
         "2024-10-22",
         null,
         null,
         264,
         null,
         null,
         "2024-02-01T00:00:00.000Z"
        ],
        [
         "CUST007",
         "2024-02-02",
         "2024-03-04",
         "2024-04-18",
         "2024-05-07",
         31,
         45,
         19,
         "2024-02-01T00:00:00.000Z"
        ],
        [
         "CUST032",
         "2024-02-02",
         "2024-05-13",
         "2024-06-21",
         "2024-06-26",
         101,
         39,
         5,
         "2024-02-01T00:00:00.000Z"
        ],
        [
         "CUST068",
         "2024-02-02",
         "2024-04-12",
         "2024-04-24",
         "2024-05-31",
         70,
         12,
         37,
         "2024-02-01T00:00:00.000Z"
        ],
        [
         "CUST186",
         "2024-02-03",
         "2024-02-21",
         "2024-03-25",
         "2024-04-14",
         18,
         33,
         20,
         "2024-02-01T00:00:00.000Z"
        ],
        [
         "CUST165",
         "2024-02-03",
         "2024-03-22",
         "2024-04-24",
         "2024-07-20",
         48,
         33,
         87,
         "2024-02-01T00:00:00.000Z"
        ],
        [
         "CUST166",
         "2024-02-03",
         "2024-05-14",
         "2024-06-18",
         "2024-07-25",
         101,
         35,
         37,
         "2024-02-01T00:00:00.000Z"
        ],
        [
         "CUST055",
         "2024-02-03",
         "2024-02-27",
         "2024-03-09",
         "2024-03-24",
         24,
         11,
         15,
         "2024-02-01T00:00:00.000Z"
        ],
        [
         "CUST163",
         "2024-02-04",
         "2024-04-30",
         "2024-05-28",
         "2024-07-22",
         86,
         28,
         55,
         "2024-02-01T00:00:00.000Z"
        ],
        [
         "CUST113",
         "2024-02-04",
         "2024-03-23",
         "2024-05-04",
         "2024-06-04",
         48,
         42,
         31,
         "2024-02-01T00:00:00.000Z"
        ],
        [
         "CUST169",
         "2024-02-05",
         "2024-03-14",
         "2024-04-30",
         null,
         38,
         47,
         null,
         "2024-02-01T00:00:00.000Z"
        ],
        [
         "CUST153",
         "2024-02-06",
         "2024-06-08",
         "2024-06-29",
         "2024-07-03",
         123,
         21,
         4,
         "2024-02-01T00:00:00.000Z"
        ],
        [
         "CUST043",
         "2024-02-06",
         "2024-04-27",
         "2024-05-08",
         "2024-06-08",
         81,
         11,
         31,
         "2024-02-01T00:00:00.000Z"
        ],
        [
         "CUST050",
         "2024-02-06",
         "2024-02-27",
         "2024-06-05",
         "2024-09-03",
         21,
         99,
         90,
         "2024-02-01T00:00:00.000Z"
        ],
        [
         "CUST040",
         "2024-02-06",
         "2024-03-01",
         "2024-04-21",
         null,
         24,
         51,
         null,
         "2024-02-01T00:00:00.000Z"
        ],
        [
         "CUST190",
         "2024-02-06",
         "2024-06-20",
         "2024-07-27",
         "2024-08-19",
         135,
         37,
         23,
         "2024-02-01T00:00:00.000Z"
        ],
        [
         "CUST029",
         "2024-02-07",
         "2024-03-06",
         "2024-03-28",
         "2024-06-01",
         28,
         22,
         65,
         "2024-02-01T00:00:00.000Z"
        ],
        [
         "CUST110",
         "2024-02-08",
         "2024-02-09",
         "2024-04-23",
         "2024-05-08",
         1,
         74,
         15,
         "2024-02-01T00:00:00.000Z"
        ],
        [
         "CUST086",
         "2024-02-08",
         "2024-03-16",
         "2024-09-13",
         null,
         37,
         181,
         null,
         "2024-02-01T00:00:00.000Z"
        ],
        [
         "CUST067",
         "2024-02-09",
         "2024-03-25",
         "2024-05-24",
         null,
         45,
         60,
         null,
         "2024-02-01T00:00:00.000Z"
        ],
        [
         "CUST147",
         "2024-02-10",
         "2024-03-23",
         "2024-03-28",
         "2024-06-07",
         42,
         5,
         71,
         "2024-02-01T00:00:00.000Z"
        ],
        [
         "CUST161",
         "2024-02-13",
         "2024-04-21",
         "2024-05-09",
         "2024-05-26",
         68,
         18,
         17,
         "2024-02-01T00:00:00.000Z"
        ],
        [
         "CUST033",
         "2024-02-13",
         "2024-04-13",
         "2024-07-13",
         "2024-11-09",
         60,
         91,
         119,
         "2024-02-01T00:00:00.000Z"
        ],
        [
         "CUST053",
         "2024-02-13",
         "2024-03-07",
         "2024-03-29",
         "2024-06-26",
         23,
         22,
         89,
         "2024-02-01T00:00:00.000Z"
        ],
        [
         "CUST026",
         "2024-02-14",
         null,
         null,
         null,
         null,
         null,
         null,
         "2024-02-01T00:00:00.000Z"
        ],
        [
         "CUST152",
         "2024-02-14",
         "2024-06-07",
         "2024-06-28",
         "2024-07-24",
         114,
         21,
         26,
         "2024-02-01T00:00:00.000Z"
        ],
        [
         "CUST023",
         "2024-02-15",
         "2024-09-15",
         "2024-11-01",
         "2024-12-14",
         213,
         47,
         43,
         "2024-02-01T00:00:00.000Z"
        ],
        [
         "CUST012",
         "2024-02-15",
         "2024-03-04",
         "2024-04-14",
         "2024-05-03",
         18,
         41,
         19,
         "2024-02-01T00:00:00.000Z"
        ],
        [
         "CUST122",
         "2024-02-15",
         "2024-03-08",
         "2024-04-26",
         "2024-06-02",
         22,
         49,
         37,
         "2024-02-01T00:00:00.000Z"
        ],
        [
         "CUST051",
         "2024-02-15",
         "2024-04-08",
         "2024-04-24",
         "2024-09-12",
         53,
         16,
         141,
         "2024-02-01T00:00:00.000Z"
        ],
        [
         "CUST130",
         "2024-02-16",
         "2024-06-24",
         "2024-07-06",
         "2024-09-10",
         129,
         12,
         66,
         "2024-02-01T00:00:00.000Z"
        ],
        [
         "CUST103",
         "2024-02-16",
         "2024-02-24",
         "2024-05-08",
         "2024-05-28",
         8,
         74,
         20,
         "2024-02-01T00:00:00.000Z"
        ],
        [
         "CUST141",
         "2024-02-17",
         "2024-04-02",
         "2024-06-29",
         "2024-08-26",
         45,
         88,
         58,
         "2024-02-01T00:00:00.000Z"
        ],
        [
         "CUST066",
         "2024-02-18",
         "2024-06-26",
         "2024-07-21",
         "2024-08-04",
         129,
         25,
         14,
         "2024-02-01T00:00:00.000Z"
        ],
        [
         "CUST093",
         "2024-02-18",
         "2024-04-27",
         "2024-05-01",
         "2024-07-10",
         69,
         4,
         70,
         "2024-02-01T00:00:00.000Z"
        ],
        [
         "CUST173",
         "2024-02-19",
         "2024-03-23",
         "2024-05-02",
         null,
         33,
         40,
         null,
         "2024-02-01T00:00:00.000Z"
        ],
        [
         "CUST177",
         "2024-02-20",
         "2024-03-18",
         "2024-04-19",
         "2024-10-24",
         27,
         32,
         188,
         "2024-02-01T00:00:00.000Z"
        ],
        [
         "CUST114",
         "2024-02-21",
         "2024-03-30",
         "2024-07-25",
         "2024-09-27",
         38,
         117,
         64,
         "2024-02-01T00:00:00.000Z"
        ],
        [
         "CUST071",
         "2024-02-21",
         "2024-04-09",
         "2024-05-04",
         "2024-06-28",
         48,
         25,
         55,
         "2024-02-01T00:00:00.000Z"
        ],
        [
         "CUST059",
         "2024-02-21",
         "2024-03-12",
         "2024-03-27",
         "2024-04-26",
         20,
         15,
         30,
         "2024-02-01T00:00:00.000Z"
        ],
        [
         "CUST111",
         "2024-02-22",
         "2024-03-21",
         "2024-04-21",
         "2024-08-04",
         28,
         31,
         105,
         "2024-02-01T00:00:00.000Z"
        ],
        [
         "CUST105",
         "2024-02-23",
         "2024-03-13",
         "2024-04-13",
         "2024-06-06",
         19,
         31,
         54,
         "2024-02-01T00:00:00.000Z"
        ],
        [
         "CUST145",
         "2024-02-25",
         "2024-04-27",
         "2024-05-08",
         "2024-06-05",
         62,
         11,
         28,
         "2024-02-01T00:00:00.000Z"
        ],
        [
         "CUST140",
         "2024-02-25",
         "2024-04-14",
         "2024-05-02",
         "2024-06-23",
         49,
         18,
         52,
         "2024-02-01T00:00:00.000Z"
        ],
        [
         "CUST184",
         "2024-02-25",
         "2024-04-02",
         "2024-10-13",
         null,
         37,
         194,
         null,
         "2024-02-01T00:00:00.000Z"
        ],
        [
         "CUST160",
         "2024-02-25",
         "2024-03-12",
         "2024-07-11",
         null,
         16,
         121,
         null,
         "2024-02-01T00:00:00.000Z"
        ],
        [
         "CUST025",
         "2024-02-28",
         "2024-02-29",
         "2024-05-07",
         "2024-06-22",
         1,
         68,
         46,
         "2024-02-01T00:00:00.000Z"
        ],
        [
         "CUST096",
         "2024-02-29",
         "2024-03-14",
         "2024-04-01",
         "2024-07-28",
         14,
         18,
         118,
         "2024-02-01T00:00:00.000Z"
        ],
        [
         "CUST196",
         "2024-03-02",
         "2024-06-24",
         "2024-07-16",
         "2024-08-07",
         114,
         22,
         22,
         "2024-03-01T00:00:00.000Z"
        ],
        [
         "CUST151",
         "2024-03-03",
         "2024-04-08",
         "2024-04-14",
         "2024-05-25",
         36,
         6,
         41,
         "2024-03-01T00:00:00.000Z"
        ],
        [
         "CUST112",
         "2024-03-03",
         "2024-03-19",
         "2024-04-10",
         "2024-04-13",
         16,
         22,
         3,
         "2024-03-01T00:00:00.000Z"
        ],
        [
         "CUST124",
         "2024-03-04",
         "2024-04-29",
         "2024-06-03",
         "2024-06-27",
         56,
         35,
         24,
         "2024-03-01T00:00:00.000Z"
        ],
        [
         "CUST185",
         "2024-03-04",
         "2024-03-26",
         "2024-04-04",
         "2024-05-12",
         22,
         9,
         38,
         "2024-03-01T00:00:00.000Z"
        ],
        [
         "CUST097",
         "2024-03-04",
         "2024-04-11",
         "2024-04-20",
         "2024-05-27",
         38,
         9,
         37,
         "2024-03-01T00:00:00.000Z"
        ],
        [
         "CUST088",
         "2024-03-05",
         "2024-04-17",
         null,
         null,
         43,
         null,
         null,
         "2024-03-01T00:00:00.000Z"
        ],
        [
         "CUST180",
         "2024-03-06",
         "2024-05-12",
         "2024-05-24",
         "2024-06-19",
         67,
         12,
         26,
         "2024-03-01T00:00:00.000Z"
        ],
        [
         "CUST127",
         "2024-03-07",
         "2024-03-26",
         "2024-06-02",
         "2024-07-10",
         19,
         68,
         38,
         "2024-03-01T00:00:00.000Z"
        ],
        [
         "CUST024",
         "2024-03-07",
         "2024-05-18",
         "2024-06-29",
         "2024-10-30",
         72,
         42,
         123,
         "2024-03-01T00:00:00.000Z"
        ],
        [
         "CUST159",
         "2024-03-08",
         "2024-04-08",
         "2024-04-17",
         "2024-08-12",
         31,
         9,
         117,
         "2024-03-01T00:00:00.000Z"
        ],
        [
         "CUST133",
         "2024-03-11",
         "2024-03-12",
         "2024-04-18",
         "2024-04-29",
         1,
         37,
         11,
         "2024-03-01T00:00:00.000Z"
        ],
        [
         "CUST021",
         "2024-03-11",
         "2024-03-16",
         "2024-07-10",
         null,
         5,
         116,
         null,
         "2024-03-01T00:00:00.000Z"
        ],
        [
         "CUST049",
         "2024-03-12",
         "2024-04-30",
         "2024-05-24",
         "2024-06-06",
         49,
         24,
         13,
         "2024-03-01T00:00:00.000Z"
        ],
        [
         "CUST187",
         "2024-03-13",
         "2024-05-28",
         "2024-06-29",
         "2024-08-18",
         76,
         32,
         50,
         "2024-03-01T00:00:00.000Z"
        ],
        [
         "CUST123",
         "2024-03-13",
         "2024-05-20",
         "2024-06-07",
         "2024-10-13",
         68,
         18,
         128,
         "2024-03-01T00:00:00.000Z"
        ],
        [
         "CUST031",
         "2024-03-14",
         "2024-06-26",
         "2024-08-12",
         "2024-12-19",
         104,
         47,
         129,
         "2024-03-01T00:00:00.000Z"
        ],
        [
         "CUST197",
         "2024-03-15",
         "2024-05-12",
         "2024-06-13",
         "2024-09-23",
         58,
         32,
         102,
         "2024-03-01T00:00:00.000Z"
        ],
        [
         "CUST081",
         "2024-03-15",
         "2024-04-28",
         "2024-11-22",
         null,
         44,
         208,
         null,
         "2024-03-01T00:00:00.000Z"
        ],
        [
         "CUST005",
         "2024-03-16",
         "2024-03-25",
         "2024-04-04",
         "2024-05-19",
         9,
         10,
         45,
         "2024-03-01T00:00:00.000Z"
        ],
        [
         "CUST085",
         "2024-03-16",
         "2024-05-02",
         "2024-06-17",
         "2024-06-25",
         47,
         46,
         8,
         "2024-03-01T00:00:00.000Z"
        ],
        [
         "CUST010",
         "2024-03-16",
         "2024-04-20",
         "2024-07-07",
         null,
         35,
         78,
         null,
         "2024-03-01T00:00:00.000Z"
        ],
        [
         "CUST199",
         "2024-03-19",
         "2024-04-22",
         "2024-06-15",
         "2024-07-17",
         34,
         54,
         32,
         "2024-03-01T00:00:00.000Z"
        ],
        [
         "CUST158",
         "2024-03-20",
         "2024-06-29",
         "2024-11-13",
         null,
         101,
         137,
         null,
         "2024-03-01T00:00:00.000Z"
        ],
        [
         "CUST100",
         "2024-03-20",
         "2024-05-05",
         "2024-05-06",
         "2024-07-13",
         46,
         1,
         68,
         "2024-03-01T00:00:00.000Z"
        ],
        [
         "CUST027",
         "2024-03-21",
         "2024-04-27",
         "2024-06-23",
         "2024-07-18",
         37,
         57,
         25,
         "2024-03-01T00:00:00.000Z"
        ],
        [
         "CUST148",
         "2024-03-23",
         "2024-07-21",
         null,
         null,
         120,
         null,
         null,
         "2024-03-01T00:00:00.000Z"
        ],
        [
         "CUST135",
         "2024-03-25",
         "2024-03-27",
         "2024-05-22",
         "2024-06-01",
         2,
         56,
         10,
         "2024-03-01T00:00:00.000Z"
        ],
        [
         "CUST144",
         "2024-03-25",
         "2024-03-27",
         "2024-04-17",
         "2024-08-14",
         2,
         21,
         119,
         "2024-03-01T00:00:00.000Z"
        ],
        [
         "CUST073",
         "2024-03-26",
         "2024-05-02",
         "2024-06-27",
         "2024-07-06",
         37,
         56,
         9,
         "2024-03-01T00:00:00.000Z"
        ],
        [
         "CUST106",
         "2024-03-27",
         "2024-04-05",
         "2024-06-23",
         "2024-08-04",
         9,
         79,
         42,
         "2024-03-01T00:00:00.000Z"
        ],
        [
         "CUST142",
         "2024-03-28",
         "2024-05-30",
         "2024-07-15",
         "2024-07-16",
         63,
         46,
         1,
         "2024-03-01T00:00:00.000Z"
        ],
        [
         "CUST138",
         "2024-03-29",
         "2024-04-25",
         "2024-06-05",
         "2024-08-30",
         27,
         41,
         86,
         "2024-03-01T00:00:00.000Z"
        ],
        [
         "CUST018",
         "2024-04-01",
         "2024-04-30",
         "2024-05-02",
         "2024-06-15",
         29,
         2,
         44,
         "2024-04-01T00:00:00.000Z"
        ],
        [
         "CUST052",
         "2024-04-02",
         "2024-05-19",
         "2024-06-25",
         "2024-07-01",
         47,
         37,
         6,
         "2024-04-01T00:00:00.000Z"
        ],
        [
         "CUST191",
         "2024-04-03",
         "2024-04-27",
         "2024-05-07",
         "2024-06-12",
         24,
         10,
         36,
         "2024-04-01T00:00:00.000Z"
        ],
        [
         "CUST094",
         "2024-04-03",
         null,
         null,
         null,
         null,
         null,
         null,
         "2024-04-01T00:00:00.000Z"
        ],
        [
         "CUST070",
         "2024-04-04",
         "2024-04-15",
         "2024-07-03",
         "2024-09-05",
         11,
         79,
         64,
         "2024-04-01T00:00:00.000Z"
        ],
        [
         "CUST176",
         "2024-04-05",
         "2024-05-23",
         "2024-06-29",
         "2024-08-14",
         48,
         37,
         46,
         "2024-04-01T00:00:00.000Z"
        ],
        [
         "CUST042",
         "2024-04-07",
         "2024-05-27",
         "2024-06-17",
         "2024-07-24",
         50,
         21,
         37,
         "2024-04-01T00:00:00.000Z"
        ],
        [
         "CUST078",
         "2024-04-08",
         "2024-05-03",
         "2024-05-24",
         "2024-06-05",
         25,
         21,
         12,
         "2024-04-01T00:00:00.000Z"
        ],
        [
         "CUST195",
         "2024-04-08",
         "2024-04-23",
         "2024-05-18",
         "2024-05-21",
         15,
         25,
         3,
         "2024-04-01T00:00:00.000Z"
        ],
        [
         "CUST194",
         "2024-04-10",
         "2024-04-21",
         "2024-06-13",
         "2024-08-12",
         11,
         53,
         60,
         "2024-04-01T00:00:00.000Z"
        ],
        [
         "CUST002",
         "2024-04-11",
         "2024-05-24",
         "2024-07-22",
         null,
         43,
         59,
         null,
         "2024-04-01T00:00:00.000Z"
        ],
        [
         "CUST001",
         "2024-04-12",
         "2024-06-02",
         "2024-07-26",
         "2024-10-12",
         51,
         54,
         78,
         "2024-04-01T00:00:00.000Z"
        ],
        [
         "CUST080",
         "2024-04-13",
         "2024-05-12",
         "2024-05-23",
         "2024-07-17",
         29,
         11,
         55,
         "2024-04-01T00:00:00.000Z"
        ],
        [
         "CUST134",
         "2024-04-15",
         "2024-04-24",
         null,
         null,
         9,
         null,
         null,
         "2024-04-01T00:00:00.000Z"
        ],
        [
         "CUST015",
         "2024-04-15",
         "2024-06-05",
         "2024-07-03",
         "2024-12-02",
         51,
         28,
         152,
         "2024-04-01T00:00:00.000Z"
        ],
        [
         "CUST139",
         "2024-04-18",
         "2024-04-25",
         "2024-05-28",
         "2024-08-03",
         7,
         33,
         67,
         "2024-04-01T00:00:00.000Z"
        ],
        [
         "CUST082",
         "2024-04-20",
         "2024-05-20",
         "2024-06-04",
         "2024-09-09",
         30,
         15,
         97,
         "2024-04-01T00:00:00.000Z"
        ],
        [
         "CUST048",
         "2024-04-20",
         "2024-06-28",
         "2024-07-15",
         "2024-08-30",
         69,
         17,
         46,
         "2024-04-01T00:00:00.000Z"
        ],
        [
         "CUST154",
         "2024-04-21",
         "2024-05-10",
         "2024-06-22",
         "2024-12-04",
         19,
         43,
         165,
         "2024-04-01T00:00:00.000Z"
        ],
        [
         "CUST107",
         "2024-04-22",
         "2024-10-11",
         null,
         null,
         172,
         null,
         null,
         "2024-04-01T00:00:00.000Z"
        ],
        [
         "CUST183",
         "2024-04-23",
         "2024-06-08",
         "2024-07-13",
         "2024-09-28",
         46,
         35,
         77,
         "2024-04-01T00:00:00.000Z"
        ],
        [
         "CUST156",
         "2024-04-23",
         "2024-06-20",
         null,
         null,
         58,
         null,
         null,
         "2024-04-01T00:00:00.000Z"
        ],
        [
         "CUST084",
         "2024-04-24",
         "2024-05-18",
         "2024-07-05",
         "2024-07-22",
         24,
         48,
         17,
         "2024-04-01T00:00:00.000Z"
        ],
        [
         "CUST079",
         "2024-04-29",
         "2024-05-26",
         "2024-06-20",
         "2024-12-28",
         27,
         25,
         191,
         "2024-04-01T00:00:00.000Z"
        ],
        [
         "CUST056",
         "2024-04-29",
         "2024-05-01",
         "2024-05-16",
         "2024-05-21",
         2,
         15,
         5,
         "2024-04-01T00:00:00.000Z"
        ],
        [
         "CUST013",
         "2024-04-30",
         "2024-06-23",
         "2024-10-25",
         null,
         54,
         124,
         null,
         "2024-04-01T00:00:00.000Z"
        ],
        [
         "CUST075",
         "2024-04-30",
         "2024-06-22",
         "2024-08-15",
         "2024-10-10",
         53,
         54,
         56,
         "2024-04-01T00:00:00.000Z"
        ],
        [
         "CUST118",
         "2024-05-01",
         "2024-05-13",
         null,
         null,
         12,
         null,
         null,
         "2024-05-01T00:00:00.000Z"
        ],
        [
         "CUST036",
         "2024-05-02",
         "2024-06-20",
         "2024-07-31",
         null,
         49,
         41,
         null,
         "2024-05-01T00:00:00.000Z"
        ],
        [
         "CUST168",
         "2024-05-02",
         "2024-05-15",
         "2024-06-03",
         "2024-06-23",
         13,
         19,
         20,
         "2024-05-01T00:00:00.000Z"
        ],
        [
         "CUST132",
         "2024-05-03",
         "2024-06-15",
         "2024-07-10",
         "2024-07-23",
         43,
         25,
         13,
         "2024-05-01T00:00:00.000Z"
        ],
        [
         "CUST175",
         "2024-05-05",
         "2024-05-30",
         "2024-06-10",
         "2024-08-28",
         25,
         11,
         79,
         "2024-05-01T00:00:00.000Z"
        ],
        [
         "CUST171",
         "2024-05-05",
         "2024-06-28",
         "2024-07-19",
         "2024-08-05",
         54,
         21,
         17,
         "2024-05-01T00:00:00.000Z"
        ],
        [
         "CUST155",
         "2024-05-06",
         "2024-06-15",
         "2024-07-29",
         null,
         40,
         44,
         null,
         "2024-05-01T00:00:00.000Z"
        ],
        [
         "CUST047",
         "2024-05-08",
         "2024-05-24",
         "2024-06-05",
         null,
         16,
         12,
         null,
         "2024-05-01T00:00:00.000Z"
        ],
        [
         "CUST129",
         "2024-05-10",
         "2024-05-26",
         "2024-06-26",
         "2024-10-23",
         16,
         31,
         119,
         "2024-05-01T00:00:00.000Z"
        ],
        [
         "CUST193",
         "2024-05-11",
         "2024-06-22",
         "2024-07-03",
         "2024-08-08",
         42,
         11,
         36,
         "2024-05-01T00:00:00.000Z"
        ],
        [
         "CUST037",
         "2024-05-14",
         "2024-06-14",
         "2024-06-24",
         "2024-09-04",
         31,
         10,
         72,
         "2024-05-01T00:00:00.000Z"
        ],
        [
         "CUST164",
         "2024-05-15",
         "2024-06-21",
         "2024-07-01",
         "2024-07-23",
         37,
         10,
         22,
         "2024-05-01T00:00:00.000Z"
        ],
        [
         "CUST136",
         "2024-05-18",
         "2024-05-21",
         "2024-06-30",
         "2024-08-04",
         3,
         40,
         35,
         "2024-05-01T00:00:00.000Z"
        ],
        [
         "CUST014",
         "2024-05-20",
         "2024-08-13",
         "2024-10-24",
         null,
         85,
         72,
         null,
         "2024-05-01T00:00:00.000Z"
        ],
        [
         "CUST125",
         "2024-05-21",
         "2024-06-19",
         "2024-07-01",
         "2024-07-12",
         29,
         12,
         11,
         "2024-05-01T00:00:00.000Z"
        ],
        [
         "CUST035",
         "2024-05-31",
         "2024-06-20",
         "2024-08-08",
         "2024-09-02",
         20,
         49,
         25,
         "2024-05-01T00:00:00.000Z"
        ],
        [
         "CUST009",
         "2024-06-01",
         "2024-07-16",
         null,
         null,
         45,
         null,
         null,
         "2024-06-01T00:00:00.000Z"
        ],
        [
         "CUST044",
         "2024-06-02",
         "2024-07-17",
         "2024-08-30",
         "2024-09-07",
         45,
         44,
         8,
         "2024-06-01T00:00:00.000Z"
        ],
        [
         "CUST022",
         "2024-06-05",
         "2024-08-01",
         "2024-10-11",
         "2024-11-17",
         57,
         71,
         37,
         "2024-06-01T00:00:00.000Z"
        ],
        [
         "CUST064",
         "2024-06-08",
         "2024-07-17",
         null,
         null,
         39,
         null,
         null,
         "2024-06-01T00:00:00.000Z"
        ],
        [
         "CUST117",
         "2024-06-13",
         "2024-07-12",
         null,
         null,
         29,
         null,
         null,
         "2024-06-01T00:00:00.000Z"
        ],
        [
         "CUST178",
         "2024-06-18",
         "2024-07-14",
         "2024-07-24",
         "2024-09-23",
         26,
         10,
         61,
         "2024-06-01T00:00:00.000Z"
        ],
        [
         "CUST058",
         "2024-06-20",
         "2024-07-23",
         "2024-08-12",
         "2024-09-20",
         33,
         20,
         39,
         "2024-06-01T00:00:00.000Z"
        ],
        [
         "CUST028",
         "2024-06-20",
         "2024-07-28",
         "2024-08-21",
         "2024-11-08",
         38,
         24,
         79,
         "2024-06-01T00:00:00.000Z"
        ],
        [
         "CUST120",
         "2024-06-21",
         "2024-08-17",
         "2024-10-28",
         "2024-11-03",
         57,
         72,
         6,
         "2024-06-01T00:00:00.000Z"
        ],
        [
         "CUST128",
         "2024-06-22",
         "2024-07-07",
         "2024-07-30",
         null,
         15,
         23,
         null,
         "2024-06-01T00:00:00.000Z"
        ]
       ],
       "datasetInfos": [
        {
         "name": "_sqldf",
         "schema": {
          "fields": [
           {
            "metadata": {
             "__CHAR_VARCHAR_TYPE_STRING": "varchar(65535)",
             "isTimestampNTZ": false,
             "scale": 0,
             "signed": false
            },
            "name": "customer_id",
            "nullable": true,
            "type": "string"
           },
           {
            "metadata": {},
            "name": "first_purchase_date",
            "nullable": true,
            "type": "date"
           },
           {
            "metadata": {},
            "name": "second_purchase_date",
            "nullable": true,
            "type": "date"
           },
           {
            "metadata": {},
            "name": "third_purchase_date",
            "nullable": true,
            "type": "date"
           },
           {
            "metadata": {},
            "name": "fourth_purchase_date",
            "nullable": true,
            "type": "date"
           },
           {
            "metadata": {},
            "name": "days_between_1_and_2",
            "nullable": true,
            "type": "integer"
           },
           {
            "metadata": {},
            "name": "days_between_2_and_3",
            "nullable": true,
            "type": "integer"
           },
           {
            "metadata": {},
            "name": "days_between_3_and_4",
            "nullable": true,
            "type": "integer"
           },
           {
            "metadata": {},
            "name": "cohort_month",
            "nullable": true,
            "type": "timestamp"
           }
          ],
          "type": "struct"
         },
         "tableIdentifier": null,
         "typeStr": "pyspark.sql.connect.dataframe.DataFrame"
        }
       ],
       "dbfsResultPath": null,
       "isJsonSchema": true,
       "metadata": {
        "createTempViewForImplicitDf": true,
        "dataframeName": "_sqldf",
        "executionCount": 222
       },
       "overflow": false,
       "plotOptions": {
        "customPlotOptions": {},
        "displayType": "table",
        "pivotAggregation": null,
        "pivotColumns": null,
        "xColumns": null,
        "yColumns": null
       },
       "removedWidgets": [],
       "schema": [
        {
         "metadata": "{\"isTimestampNTZ\": false, \"__CHAR_VARCHAR_TYPE_STRING\": \"varchar(65535)\", \"signed\": false, \"scale\": 0}",
         "name": "customer_id",
         "type": "\"string\""
        },
        {
         "metadata": "{}",
         "name": "first_purchase_date",
         "type": "\"date\""
        },
        {
         "metadata": "{}",
         "name": "second_purchase_date",
         "type": "\"date\""
        },
        {
         "metadata": "{}",
         "name": "third_purchase_date",
         "type": "\"date\""
        },
        {
         "metadata": "{}",
         "name": "fourth_purchase_date",
         "type": "\"date\""
        },
        {
         "metadata": "{}",
         "name": "days_between_1_and_2",
         "type": "\"integer\""
        },
        {
         "metadata": "{}",
         "name": "days_between_2_and_3",
         "type": "\"integer\""
        },
        {
         "metadata": "{}",
         "name": "days_between_3_and_4",
         "type": "\"integer\""
        },
        {
         "metadata": "{}",
         "name": "cohort_month",
         "type": "\"timestamp\""
        }
       ],
       "type": "table"
      }
     },
     "output_type": "display_data"
    }
   ],
   "source": [
    "SELECT * FROM cohort_analysis ORDER BY first_purchase_date LIMIT 1000;"
   ]
  },
  {
   "cell_type": "markdown",
   "metadata": {
    "application/vnd.databricks.v1+cell": {
     "cellMetadata": {},
     "inputWidgets": {},
     "nuid": "c156772a-846b-4c57-8056-88b54edf20e1",
     "showTitle": false,
     "tableResultSettingsMap": {},
     "title": ""
    }
   },
   "source": [
    "# Four Purchases"
   ]
  },
  {
   "cell_type": "code",
   "execution_count": 0,
   "metadata": {
    "application/vnd.databricks.v1+cell": {
     "cellMetadata": {
      "byteLimit": 2048000,
      "rowLimit": 10000
     },
     "inputWidgets": {},
     "nuid": "b2204af3-461d-4023-aeb0-d5c4f090865c",
     "showTitle": false,
     "tableResultSettingsMap": {},
     "title": ""
    }
   },
   "outputs": [
    {
     "output_type": "display_data",
     "data": {
      "text/html": [
       "<style scoped>\n",
       "  .table-result-container {\n",
       "    max-height: 300px;\n",
       "    overflow: auto;\n",
       "  }\n",
       "  table, th, td {\n",
       "    border: 1px solid black;\n",
       "    border-collapse: collapse;\n",
       "  }\n",
       "  th, td {\n",
       "    padding: 5px;\n",
       "  }\n",
       "  th {\n",
       "    text-align: left;\n",
       "  }\n",
       "</style><div class='table-result-container'><table class='table-result'><thead style='background-color: white'><tr><th>cohort_month</th><th>retention_2nd_m0</th><th>retention_2nd_m1</th><th>retention_3rd_m1</th><th>retention_4th_m2</th></tr></thead><tbody><tr><td>2024-01</td><td>0.38</td><td>0.21</td><td>0.17</td><td>0.09</td></tr><tr><td>2024-02</td><td>0.35</td><td>0.29</td><td>0.23</td><td>0.06</td></tr><tr><td>2024-03</td><td>0.30</td><td>0.42</td><td>0.24</td><td>0.18</td></tr><tr><td>2024-04</td><td>0.48</td><td>0.41</td><td>0.30</td><td>0.15</td></tr><tr><td>2024-05</td><td>0.50</td><td>0.44</td><td>0.50</td><td>0.25</td></tr><tr><td>2024-06</td><td>0.30</td><td>0.70</td><td>0.30</td><td>0.00</td></tr></tbody></table></div>"
      ]
     },
     "metadata": {
      "application/vnd.databricks.v1+output": {
       "addedWidgets": {},
       "aggData": [],
       "aggError": "",
       "aggOverflow": false,
       "aggSchema": [],
       "aggSeriesLimitReached": false,
       "aggType": "",
       "arguments": {},
       "columnCustomDisplayInfos": {},
       "data": [
        [
         "2024-01",
         "0.38",
         "0.21",
         "0.17",
         "0.09"
        ],
        [
         "2024-02",
         "0.35",
         "0.29",
         "0.23",
         "0.06"
        ],
        [
         "2024-03",
         "0.30",
         "0.42",
         "0.24",
         "0.18"
        ],
        [
         "2024-04",
         "0.48",
         "0.41",
         "0.30",
         "0.15"
        ],
        [
         "2024-05",
         "0.50",
         "0.44",
         "0.50",
         "0.25"
        ],
        [
         "2024-06",
         "0.30",
         "0.70",
         "0.30",
         "0.00"
        ]
       ],
       "datasetInfos": [
        {
         "name": "_sqldf",
         "schema": {
          "fields": [
           {
            "metadata": {},
            "name": "cohort_month",
            "nullable": true,
            "type": "string"
           },
           {
            "metadata": {},
            "name": "retention_2nd_m0",
            "nullable": true,
            "type": "decimal(25,2)"
           },
           {
            "metadata": {},
            "name": "retention_2nd_m1",
            "nullable": true,
            "type": "decimal(25,2)"
           },
           {
            "metadata": {},
            "name": "retention_3rd_m1",
            "nullable": true,
            "type": "decimal(25,2)"
           },
           {
            "metadata": {},
            "name": "retention_4th_m2",
            "nullable": true,
            "type": "decimal(25,2)"
           }
          ],
          "type": "struct"
         },
         "tableIdentifier": null,
         "typeStr": "pyspark.sql.connect.dataframe.DataFrame"
        }
       ],
       "dbfsResultPath": null,
       "isJsonSchema": true,
       "metadata": {
        "createTempViewForImplicitDf": true,
        "dataframeName": "_sqldf",
        "executionCount": 73
       },
       "overflow": false,
       "plotOptions": {
        "customPlotOptions": {},
        "displayType": "table",
        "pivotAggregation": null,
        "pivotColumns": null,
        "xColumns": null,
        "yColumns": null
       },
       "removedWidgets": [],
       "schema": [
        {
         "metadata": "{}",
         "name": "cohort_month",
         "type": "\"string\""
        },
        {
         "metadata": "{}",
         "name": "retention_2nd_m0",
         "type": "\"decimal(25,2)\""
        },
        {
         "metadata": "{}",
         "name": "retention_2nd_m1",
         "type": "\"decimal(25,2)\""
        },
        {
         "metadata": "{}",
         "name": "retention_3rd_m1",
         "type": "\"decimal(25,2)\""
        },
        {
         "metadata": "{}",
         "name": "retention_4th_m2",
         "type": "\"decimal(25,2)\""
        }
       ],
       "type": "table"
      }
     },
     "output_type": "display_data"
    }
   ],
   "source": [
    "WITH retention_with_cohort AS (\n",
    "  SELECT\n",
    "    customer_id,\n",
    "    DATE_FORMAT(DATE_TRUNC('month', first_purchase_date), 'yyyy-MM') AS cohort_month,\n",
    "    FLOOR(MONTHS_BETWEEN(second_purchase_date, first_purchase_date)) AS months_diff_2,\n",
    "    FLOOR(MONTHS_BETWEEN(third_purchase_date, first_purchase_date)) AS months_diff_3,\n",
    "    FLOOR(MONTHS_BETWEEN(fourth_purchase_date, first_purchase_date)) AS months_diff_4\n",
    "  FROM workspace.default.cohort_analysis\n",
    "),\n",
    "\n",
    "cohort_sizes AS (\n",
    "  SELECT\n",
    "    DATE_FORMAT(DATE_TRUNC('month', first_purchase_date), 'yyyy-MM') AS cohort_month,\n",
    "    COUNT(DISTINCT customer_id) AS cohort_size\n",
    "  FROM workspace.default.cohort_analysis\n",
    "  GROUP BY 1\n",
    "),\n",
    "\n",
    "retention_rates AS (\n",
    "  SELECT\n",
    "    r.cohort_month,\n",
    "\n",
    "    -- Обернули cohort_size в ANY_VALUE\n",
    "    ROUND(COUNT(CASE WHEN months_diff_2 = 0 THEN 1 END) * 1.0 / ANY_VALUE(c.cohort_size), 2) AS retention_2nd_m0,\n",
    "    ROUND(COUNT(CASE WHEN months_diff_2 = 1 THEN 1 END) * 1.0 / ANY_VALUE(c.cohort_size), 2) AS retention_2nd_m1,\n",
    "    ROUND(COUNT(CASE WHEN months_diff_3 = 1 THEN 1 END) * 1.0 / ANY_VALUE(c.cohort_size), 2) AS retention_3rd_m1,\n",
    "    ROUND(COUNT(CASE WHEN months_diff_4 = 2 THEN 1 END) * 1.0 / ANY_VALUE(c.cohort_size), 2) AS retention_4th_m2\n",
    "\n",
    "  FROM retention_with_cohort r\n",
    "  JOIN cohort_sizes c ON r.cohort_month = c.cohort_month\n",
    "  GROUP BY r.cohort_month\n",
    ")\n",
    "\n",
    "SELECT * FROM retention_rates\n",
    "ORDER BY cohort_month;\n"
   ]
  },
  {
   "cell_type": "markdown",
   "metadata": {
    "application/vnd.databricks.v1+cell": {
     "cellMetadata": {},
     "inputWidgets": {},
     "nuid": "bfe3d27d-c230-4069-8a29-7056fef17b33",
     "showTitle": false,
     "tableResultSettingsMap": {},
     "title": ""
    }
   },
   "source": [
    "# \uD83D\uDCCA Retention Rate by Cohort"
   ]
  },
  {
   "cell_type": "code",
   "execution_count": 0,
   "metadata": {
    "application/vnd.databricks.v1+cell": {
     "cellMetadata": {
      "byteLimit": 2048000,
      "rowLimit": 10000
     },
     "inputWidgets": {},
     "nuid": "583269d7-0be7-45c2-b74e-6d636c74c7e1",
     "showTitle": false,
     "tableResultSettingsMap": {},
     "title": ""
    }
   },
   "outputs": [
    {
     "output_type": "display_data",
     "data": {
      "text/html": [
       "<style scoped>\n",
       "  .table-result-container {\n",
       "    max-height: 300px;\n",
       "    overflow: auto;\n",
       "  }\n",
       "  table, th, td {\n",
       "    border: 1px solid black;\n",
       "    border-collapse: collapse;\n",
       "  }\n",
       "  th, td {\n",
       "    padding: 5px;\n",
       "  }\n",
       "  th {\n",
       "    text-align: left;\n",
       "  }\n",
       "</style><div class='table-result-container'><table class='table-result'><thead style='background-color: white'><tr><th>cohort_month</th><th>retention_rate_1m</th><th>retention_rate_2m</th><th>retention_rate_3m</th></tr></thead><tbody><tr><td>2024-01</td><td>0.21</td><td>0.18</td><td>0.06</td></tr><tr><td>2024-02</td><td>0.29</td><td>0.15</td><td>0.06</td></tr><tr><td>2024-03</td><td>0.42</td><td>0.15</td><td>0.12</td></tr><tr><td>2024-04</td><td>0.41</td><td>0.04</td><td>0.00</td></tr><tr><td>2024-05</td><td>0.44</td><td>0.06</td><td>0.00</td></tr><tr><td>2024-06</td><td>0.70</td><td>0.00</td><td>0.00</td></tr></tbody></table></div>"
      ]
     },
     "metadata": {
      "application/vnd.databricks.v1+output": {
       "addedWidgets": {},
       "aggData": [],
       "aggError": "",
       "aggOverflow": false,
       "aggSchema": [],
       "aggSeriesLimitReached": false,
       "aggType": "",
       "arguments": {},
       "columnCustomDisplayInfos": {},
       "data": [
        [
         "2024-01",
         "0.21",
         "0.18",
         "0.06"
        ],
        [
         "2024-02",
         "0.29",
         "0.15",
         "0.06"
        ],
        [
         "2024-03",
         "0.42",
         "0.15",
         "0.12"
        ],
        [
         "2024-04",
         "0.41",
         "0.04",
         "0.00"
        ],
        [
         "2024-05",
         "0.44",
         "0.06",
         "0.00"
        ],
        [
         "2024-06",
         "0.70",
         "0.00",
         "0.00"
        ]
       ],
       "datasetInfos": [
        {
         "name": "_sqldf",
         "schema": {
          "fields": [
           {
            "metadata": {},
            "name": "cohort_month",
            "nullable": true,
            "type": "string"
           },
           {
            "metadata": {},
            "name": "retention_rate_1m",
            "nullable": true,
            "type": "decimal(25,2)"
           },
           {
            "metadata": {},
            "name": "retention_rate_2m",
            "nullable": true,
            "type": "decimal(25,2)"
           },
           {
            "metadata": {},
            "name": "retention_rate_3m",
            "nullable": true,
            "type": "decimal(25,2)"
           }
          ],
          "type": "struct"
         },
         "tableIdentifier": null,
         "typeStr": "pyspark.sql.connect.dataframe.DataFrame"
        }
       ],
       "dbfsResultPath": null,
       "isJsonSchema": true,
       "metadata": {
        "createTempViewForImplicitDf": true,
        "dataframeName": "_sqldf",
        "executionCount": 87
       },
       "overflow": false,
       "plotOptions": {
        "customPlotOptions": {},
        "displayType": "table",
        "pivotAggregation": null,
        "pivotColumns": null,
        "xColumns": null,
        "yColumns": null
       },
       "removedWidgets": [],
       "schema": [
        {
         "metadata": "{}",
         "name": "cohort_month",
         "type": "\"string\""
        },
        {
         "metadata": "{}",
         "name": "retention_rate_1m",
         "type": "\"decimal(25,2)\""
        },
        {
         "metadata": "{}",
         "name": "retention_rate_2m",
         "type": "\"decimal(25,2)\""
        },
        {
         "metadata": "{}",
         "name": "retention_rate_3m",
         "type": "\"decimal(25,2)\""
        }
       ],
       "type": "table"
      }
     },
     "output_type": "display_data"
    },
    {
     "output_type": "display_data",
     "data": {
      "text/plain": [
       "Databricks visualization. Run in Databricks to view."
      ]
     },
     "metadata": {
      "application/vnd.databricks.v1.subcommand+json": {
       "baseErrorDetails": null,
       "bindings": {},
       "collapsed": false,
       "command": "%sql WITH q AS (WITH retention_data AS (\n  SELECT\n    customer_id,\n    DATE_TRUNC('month', first_purchase_date) AS cohort_month,\n    FLOOR(MONTHS_BETWEEN(second_purchase_date, first_purchase_date)) AS month_diff\n  FROM workspace.default.cohort_analysis\n  WHERE second_purchase_date IS NOT NULL\n),\n\ncohort_sizes AS (\n  SELECT\n    DATE_TRUNC('month', first_purchase_date) AS cohort_month,\n    COUNT(DISTINCT customer_id) AS cohort_size\n  FROM workspace.default.cohort_analysis\n  GROUP BY 1\n),\n\nretention_rates AS (\n  SELECT\n    r.cohort_month,\n    COUNT(DISTINCT CASE WHEN month_diff = 1 THEN customer_id END) * 1.0 / cs.cohort_size AS retention_rate_1m,\n    COUNT(DISTINCT CASE WHEN month_diff = 2 THEN customer_id END) * 1.0 / cs.cohort_size AS retention_rate_2m,\n    COUNT(DISTINCT CASE WHEN month_diff = 3 THEN customer_id END) * 1.0 / cs.cohort_size AS retention_rate_3m\n  FROM retention_data r\n  JOIN cohort_sizes cs ON r.cohort_month = cs.cohort_month\n  GROUP BY r.cohort_month, cs.cohort_size\n)\n\nSELECT\n  DATE_FORMAT(cohort_month, 'yyyy-MM') AS cohort_month,\n  ROUND(retention_rate_1m, 2) AS retention_rate_1m,\n  ROUND(retention_rate_2m, 2) AS retention_rate_2m,\n  ROUND(retention_rate_3m, 2) AS retention_rate_3m\nFROM retention_rates\nORDER BY cohort_month) SELECT `cohort_month`,SUM(`retention_rate_1m`) `column_57580a3d213`,SUM(`retention_rate_2m`) `column_57580a3d216`,SUM(`retention_rate_3m`) `column_57580a3d219` FROM q GROUP BY `cohort_month`",
       "commandTitle": "Retention Rate by Cohort",
       "commandType": "auto",
       "commandVersion": 0,
       "commentThread": [],
       "commentsVisible": false,
       "contentSha256Hex": null,
       "customPlotOptions": {
        "redashChart": [
         {
          "key": "type",
          "value": "CHART"
         },
         {
          "key": "options",
          "value": {
           "alignYAxesAtZero": true,
           "coefficient": 1,
           "columnConfigurationMap": {
            "x": {
             "column": "cohort_month",
             "id": "column_57580a3d211"
            },
            "y": [
             {
              "column": "retention_rate_1m",
              "id": "column_57580a3d213",
              "transform": "SUM"
             },
             {
              "column": "retention_rate_2m",
              "id": "column_57580a3d216",
              "transform": "SUM"
             },
             {
              "column": "retention_rate_3m",
              "id": "column_57580a3d219",
              "transform": "SUM"
             }
            ]
           },
           "dateTimeFormat": "DD/MM/YYYY HH:mm",
           "direction": {
            "type": "counterclockwise"
           },
           "error_y": {
            "type": "data",
            "visible": true
           },
           "globalSeriesType": "column",
           "isAggregationOn": true,
           "legend": {
            "traceorder": "normal"
           },
           "missingValuesAsZero": true,
           "numberFormat": "0,0.[00000]",
           "percentFormat": "0[.]00%",
           "series": {
            "error_y": {
             "type": "data",
             "visible": true
            },
            "stacking": null
           },
           "seriesOptions": {
            "column_57580a3d213": {
             "type": "column",
             "yAxis": 0
            },
            "column_57580a3d216": {
             "color": "#8BCAE7",
             "type": "column",
             "yAxis": 0
            },
            "column_57580a3d219": {
             "color": "#919191",
             "type": "column",
             "yAxis": 0
            }
           },
           "showDataLabels": true,
           "sizemode": "diameter",
           "sortX": true,
           "sortY": true,
           "swappedAxes": false,
           "textFormat": "",
           "useAggregationsUi": true,
           "valuesOptions": {},
           "version": 2,
           "xAxis": {
            "labels": {
             "enabled": true
            },
            "type": "-"
           },
           "yAxis": [
            {
             "type": "-"
            },
            {
             "opposite": true,
             "type": "-"
            }
           ]
          }
         }
        ]
       },
       "datasetPreviewNameToCmdIdMap": {},
       "diffDeletes": [],
       "diffInserts": [],
       "displayType": "redashChart",
       "error": null,
       "errorDetails": null,
       "errorSummary": null,
       "errorTraceType": null,
       "finishTime": 0,
       "globalVars": {},
       "guid": "",
       "height": "auto",
       "hideCommandCode": false,
       "hideCommandResult": false,
       "iPythonMetadata": null,
       "inputWidgets": {},
       "isLockedInExamMode": false,
       "latestUser": "a user",
       "latestUserId": null,
       "listResultMetadata": null,
       "metadata": {},
       "nuid": "c2e5d1ac-ff0a-4e15-b032-a17d04785472",
       "origId": 0,
       "parentHierarchy": [],
       "pivotAggregation": null,
       "pivotColumns": null,
       "position": 9.9375,
       "resultDbfsErrorMessage": null,
       "resultDbfsStatus": "INLINED_IN_TREE",
       "results": null,
       "showCommandTitle": false,
       "startTime": 0,
       "state": "input",
       "streamStates": {},
       "subcommandOptions": {
        "queryPlan": {
         "groups": [
          {
           "column": "cohort_month",
           "type": "column"
          }
         ],
         "selects": [
          {
           "column": "cohort_month",
           "type": "column"
          },
          {
           "alias": "column_57580a3d213",
           "args": [
            {
             "column": "retention_rate_1m",
             "type": "column"
            }
           ],
           "function": "SUM",
           "type": "function"
          },
          {
           "alias": "column_57580a3d216",
           "args": [
            {
             "column": "retention_rate_2m",
             "type": "column"
            }
           ],
           "function": "SUM",
           "type": "function"
          },
          {
           "alias": "column_57580a3d219",
           "args": [
            {
             "column": "retention_rate_3m",
             "type": "column"
            }
           ],
           "function": "SUM",
           "type": "function"
          }
         ]
        }
       },
       "submitTime": 0,
       "subtype": "tableResultSubCmd.visualization",
       "tableResultIndex": 0,
       "tableResultSettingsMap": {},
       "useConsistentColors": false,
       "version": "CommandV1",
       "width": "auto",
       "workflows": [],
       "xColumns": null,
       "yColumns": null
      }
     },
     "output_type": "display_data"
    }
   ],
   "source": [
    "WITH retention_data AS (\n",
    "  SELECT\n",
    "    customer_id,\n",
    "    DATE_TRUNC('month', first_purchase_date) AS cohort_month,\n",
    "    FLOOR(MONTHS_BETWEEN(second_purchase_date, first_purchase_date)) AS month_diff\n",
    "  FROM workspace.default.cohort_analysis\n",
    "  WHERE second_purchase_date IS NOT NULL\n",
    "),\n",
    "\n",
    "cohort_sizes AS (\n",
    "  SELECT\n",
    "    DATE_TRUNC('month', first_purchase_date) AS cohort_month,\n",
    "    COUNT(DISTINCT customer_id) AS cohort_size\n",
    "  FROM workspace.default.cohort_analysis\n",
    "  GROUP BY 1\n",
    "),\n",
    "\n",
    "retention_rates AS (\n",
    "  SELECT\n",
    "    r.cohort_month,\n",
    "    COUNT(DISTINCT CASE WHEN month_diff = 1 THEN customer_id END) * 1.0 / cs.cohort_size AS retention_rate_1m,\n",
    "    COUNT(DISTINCT CASE WHEN month_diff = 2 THEN customer_id END) * 1.0 / cs.cohort_size AS retention_rate_2m,\n",
    "    COUNT(DISTINCT CASE WHEN month_diff = 3 THEN customer_id END) * 1.0 / cs.cohort_size AS retention_rate_3m\n",
    "  FROM retention_data r\n",
    "  JOIN cohort_sizes cs ON r.cohort_month = cs.cohort_month\n",
    "  GROUP BY r.cohort_month, cs.cohort_size\n",
    ")\n",
    "\n",
    "SELECT\n",
    "  DATE_FORMAT(cohort_month, 'yyyy-MM') AS cohort_month,\n",
    "  ROUND(retention_rate_1m, 2) AS retention_rate_1m,\n",
    "  ROUND(retention_rate_2m, 2) AS retention_rate_2m,\n",
    "  ROUND(retention_rate_3m, 2) AS retention_rate_3m\n",
    "FROM retention_rates\n",
    "ORDER BY cohort_month;\n"
   ]
  },
  {
   "cell_type": "markdown",
   "metadata": {
    "application/vnd.databricks.v1+cell": {
     "cellMetadata": {},
     "inputWidgets": {},
     "nuid": "fbeb6682-56ab-4277-b7e8-9004fc206d65",
     "showTitle": false,
     "tableResultSettingsMap": {},
     "title": ""
    }
   },
   "source": [
    "| Cohort Month | Retention 1m | Retention 2m | Retention 3m | Interpretation                                                                                                                      |\n",
    "| ------------ | ------------ | ------------ | ------------ | ----------------------------------------------------------------------------------------------------------------------------------- |\n",
    "| **January**  | 38%          | 21%          | 18%          | Of the users who made their first purchase in January, 38% returned in the next month. Retention dropped to 18% by month 3.         |\n",
    "| **February** | 35%          | 29%          | 15%          | Slightly stronger 2-month retention than January. Indicates better mid-term engagement.                                             |\n",
    "| **March**    | 30%          | 42%          | 15%          | Unusual pattern: higher retention in month 2 than in month 1. May suggest delayed activation or data lag.                           |\n",
    "| **April**    | 48%          | 41%          | 4%           | Strong early retention, but sharp drop-off by month 3. Most users churned after the second month.                                   |\n",
    "| **May**      | 50%          | 44%          | 6%           | Excellent 1–2 month retention, but long-term engagement is weak. Follow-up strategy needed.                                         |\n",
    "| **June**     | 30%          | 70% ⚠️       | 0% ⚠️        | ⚠️ Data for June is still incomplete. 2m and 3m retention values may be artificially inflated or unavailable. Interpret cautiously. |\n"
   ]
  },
  {
   "cell_type": "markdown",
   "metadata": {
    "application/vnd.databricks.v1+cell": {
     "cellMetadata": {},
     "inputWidgets": {},
     "nuid": "6ea3dc13-e89a-4f4c-b2cf-f98aa750a981",
     "showTitle": false,
     "tableResultSettingsMap": {},
     "title": ""
    }
   },
   "source": [
    "Based on the updated chart and data you provided, here are the **Key Insights** in **English**, written clearly and accurately:\n",
    "\n",
    "---\n",
    "\n",
    "### \uD83D\uDD0D **Key Insights: Retention Rate by Cohort**\n",
    "\n",
    "1. **January Cohort (2024-01)**\n",
    "\n",
    "   * **1-month retention:** 21%\n",
    "   * **2-month retention:** 18%\n",
    "   * **3-month retention:** 6%\n",
    "     ➤ Weak retention across all months, with steady drop-off. Indicates poor engagement beyond initial purchase.\n",
    "\n",
    "2. **February Cohort (2024-02)**\n",
    "\n",
    "   * **1-month retention:** 29%\n",
    "   * **2-month retention:** 15%\n",
    "   * **3-month retention:** 6%\n",
    "     ➤ Higher initial engagement than January, but similar long-term drop-off.\n",
    "\n",
    "3. **March Cohort (2024-03)**\n",
    "\n",
    "   * **1-month retention:** 42%\n",
    "   * **2-month retention:** 15%\n",
    "   * **3-month retention:** 12%\n",
    "     ➤ Strong start, but rapid decrease afterward. Slight improvement over previous cohorts at 3 months.\n",
    "\n",
    "4. **April Cohort (2024-04)**\n",
    "\n",
    "   * **1-month retention:** 41%\n",
    "   * **2-month retention:** 4%\n",
    "   * **3-month retention:** 0%\n",
    "     ➤ Very sharp decline after the first month. Possible product or experience-related churn issue.\n",
    "\n",
    "5. **May Cohort (2024-05)**\n",
    "\n",
    "   * **1-month retention:** 44%\n",
    "   * **2-month retention:** 6%\n",
    "   * **3-month retention:** 0%\n",
    "     ➤ High initial retention, followed by strong drop-off. Similar pattern to April.\n",
    "\n",
    "6. **June Cohort (2024-06)**\n",
    "\n",
    "   * **1-month retention:** 70%\n",
    "   * **2-month & 3-month retention:** 0% (data not yet available)\n",
    "     ⚠️ **Caution:** June's long-term data is incomplete — full 2- and 3-month windows haven't elapsed. Still, initial retention looks promising.\n",
    "\n",
    "---\n",
    "\n",
    "### ✅ **Conclusion**\n",
    "\n",
    "* The **March–May cohorts** show good initial engagement (40%+ retention in month 1), but **struggle to retain users long-term**.\n",
    "* **June’s high 1-month rate (70%)** is promising, but early. Monitor closely.\n",
    "* Priority: Improve **month 2+ experience**, identify **churn triggers**, and test **retention campaigns**.\n",
    "\n",
    "If you'd like, I can help you turn this into a **slide or dashboard annotation**.\n"
   ]
  },
  {
   "cell_type": "markdown",
   "metadata": {
    "application/vnd.databricks.v1+cell": {
     "cellMetadata": {},
     "inputWidgets": {},
     "nuid": "6a946eca-2cdc-4a67-a27d-eea5d3cc1895",
     "showTitle": false,
     "tableResultSettingsMap": {},
     "title": ""
    }
   },
   "source": [
    "# Visualization 2: Repeat Purchase Rate by Cohort"
   ]
  },
  {
   "cell_type": "code",
   "execution_count": 0,
   "metadata": {
    "application/vnd.databricks.v1+cell": {
     "cellMetadata": {
      "byteLimit": 2048000,
      "rowLimit": 10000
     },
     "inputWidgets": {},
     "nuid": "b4bd422b-bb0b-4a4a-93d5-0526f4ca519d",
     "showTitle": false,
     "tableResultSettingsMap": {},
     "title": ""
    }
   },
   "outputs": [
    {
     "output_type": "display_data",
     "data": {
      "text/html": [
       "<style scoped>\n",
       "  .table-result-container {\n",
       "    max-height: 300px;\n",
       "    overflow: auto;\n",
       "  }\n",
       "  table, th, td {\n",
       "    border: 1px solid black;\n",
       "    border-collapse: collapse;\n",
       "  }\n",
       "  th, td {\n",
       "    padding: 5px;\n",
       "  }\n",
       "  th {\n",
       "    text-align: left;\n",
       "  }\n",
       "</style><div class='table-result-container'><table class='table-result'><thead style='background-color: white'><tr><th>cohort_month</th><th>repeat_rate_2nd_order</th><th>repeat_rate_3rd_order</th><th>repeat_rate_4th_order</th></tr></thead><tbody><tr><td>2024-01</td><td>1.00</td><td>0.98</td><td>0.83</td></tr><tr><td>2024-02</td><td>0.98</td><td>0.96</td><td>0.81</td></tr><tr><td>2024-03</td><td>1.00</td><td>0.94</td><td>0.82</td></tr><tr><td>2024-04</td><td>0.96</td><td>0.85</td><td>0.78</td></tr><tr><td>2024-05</td><td>1.00</td><td>0.94</td><td>0.69</td></tr><tr><td>2024-06</td><td>1.00</td><td>0.70</td><td>0.60</td></tr></tbody></table></div>"
      ]
     },
     "metadata": {
      "application/vnd.databricks.v1+output": {
       "addedWidgets": {},
       "aggData": [],
       "aggError": "",
       "aggOverflow": false,
       "aggSchema": [],
       "aggSeriesLimitReached": false,
       "aggType": "",
       "arguments": {},
       "columnCustomDisplayInfos": {},
       "data": [
        [
         "2024-01",
         "1.00",
         "0.98",
         "0.83"
        ],
        [
         "2024-02",
         "0.98",
         "0.96",
         "0.81"
        ],
        [
         "2024-03",
         "1.00",
         "0.94",
         "0.82"
        ],
        [
         "2024-04",
         "0.96",
         "0.85",
         "0.78"
        ],
        [
         "2024-05",
         "1.00",
         "0.94",
         "0.69"
        ],
        [
         "2024-06",
         "1.00",
         "0.70",
         "0.60"
        ]
       ],
       "datasetInfos": [
        {
         "name": "_sqldf",
         "schema": {
          "fields": [
           {
            "metadata": {},
            "name": "cohort_month",
            "nullable": true,
            "type": "string"
           },
           {
            "metadata": {},
            "name": "repeat_rate_2nd_order",
            "nullable": true,
            "type": "decimal(25,2)"
           },
           {
            "metadata": {},
            "name": "repeat_rate_3rd_order",
            "nullable": true,
            "type": "decimal(25,2)"
           },
           {
            "metadata": {},
            "name": "repeat_rate_4th_order",
            "nullable": true,
            "type": "decimal(25,2)"
           }
          ],
          "type": "struct"
         },
         "tableIdentifier": null,
         "typeStr": "pyspark.sql.connect.dataframe.DataFrame"
        }
       ],
       "dbfsResultPath": null,
       "isJsonSchema": true,
       "metadata": {
        "createTempViewForImplicitDf": true,
        "dataframeName": "_sqldf",
        "executionCount": 111
       },
       "overflow": false,
       "plotOptions": {
        "customPlotOptions": {},
        "displayType": "table",
        "pivotAggregation": null,
        "pivotColumns": null,
        "xColumns": null,
        "yColumns": null
       },
       "removedWidgets": [],
       "schema": [
        {
         "metadata": "{}",
         "name": "cohort_month",
         "type": "\"string\""
        },
        {
         "metadata": "{}",
         "name": "repeat_rate_2nd_order",
         "type": "\"decimal(25,2)\""
        },
        {
         "metadata": "{}",
         "name": "repeat_rate_3rd_order",
         "type": "\"decimal(25,2)\""
        },
        {
         "metadata": "{}",
         "name": "repeat_rate_4th_order",
         "type": "\"decimal(25,2)\""
        }
       ],
       "type": "table"
      }
     },
     "output_type": "display_data"
    },
    {
     "output_type": "display_data",
     "data": {
      "text/plain": [
       "Databricks visualization. Run in Databricks to view."
      ]
     },
     "metadata": {
      "application/vnd.databricks.v1.subcommand+json": {
       "baseErrorDetails": null,
       "bindings": {},
       "collapsed": false,
       "command": "%sql WITH q AS (WITH customer_orders AS (\n  SELECT\n    customer_id,\n    DATE_FORMAT(DATE_TRUNC('month', first_purchase_date), 'yyyy-MM') AS cohort_month,\n    CASE\n      WHEN fourth_purchase_date IS NOT NULL THEN 4\n      WHEN third_purchase_date IS NOT NULL THEN 3\n      WHEN second_purchase_date IS NOT NULL THEN 2\n      ELSE 1\n    END AS total_orders\n  FROM workspace.default.cohort_analysis\n),\n\ncohort_sizes AS (\n  SELECT\n    cohort_month,\n    COUNT(*) AS cohort_size\n  FROM customer_orders\n  GROUP BY cohort_month\n),\n\nrepeat_rates AS (\n  SELECT\n    c.cohort_month,\n    ROUND(COUNT(CASE WHEN total_orders >= 2 THEN 1 END) * 1.0 / s.cohort_size, 2) AS repeat_rate_2nd_order,\n    ROUND(COUNT(CASE WHEN total_orders >= 3 THEN 1 END) * 1.0 / s.cohort_size, 2) AS repeat_rate_3rd_order,\n    ROUND(COUNT(CASE WHEN total_orders >= 4 THEN 1 END) * 1.0 / s.cohort_size, 2) AS repeat_rate_4th_order\n  FROM customer_orders c\n  JOIN cohort_sizes s ON c.cohort_month = s.cohort_month\n  GROUP BY c.cohort_month, s.cohort_size\n)\n\nSELECT * FROM repeat_rates\nORDER BY cohort_month) SELECT `cohort_month`,SUM(`repeat_rate_2nd_order`) `column_57580a3d268`,SUM(`repeat_rate_3rd_order`) `column_57580a3d271`,SUM(`repeat_rate_4th_order`) `column_57580a3d274` FROM q GROUP BY `cohort_month`",
       "commandTitle": "Repeat Purchase Rates by Cohort",
       "commandType": "auto",
       "commandVersion": 0,
       "commentThread": [],
       "commentsVisible": false,
       "contentSha256Hex": null,
       "customPlotOptions": {
        "redashChart": [
         {
          "key": "type",
          "value": "CHART"
         },
         {
          "key": "options",
          "value": {
           "alignYAxesAtZero": true,
           "coefficient": 1,
           "columnConfigurationMap": {
            "x": {
             "column": "cohort_month",
             "id": "column_57580a3d266"
            },
            "y": [
             {
              "column": "repeat_rate_2nd_order",
              "id": "column_57580a3d268",
              "transform": "SUM"
             },
             {
              "column": "repeat_rate_3rd_order",
              "id": "column_57580a3d271",
              "transform": "SUM"
             },
             {
              "column": "repeat_rate_4th_order",
              "id": "column_57580a3d274",
              "transform": "SUM"
             }
            ]
           },
           "dateTimeFormat": "DD/MM/YYYY HH:mm",
           "direction": {
            "type": "counterclockwise"
           },
           "error_y": {
            "type": "data",
            "visible": true
           },
           "globalSeriesType": "line",
           "isAggregationOn": true,
           "legend": {
            "traceorder": "normal"
           },
           "missingValuesAsZero": true,
           "numberFormat": "0,0.[00000]",
           "percentFormat": "0[.]00%",
           "series": {
            "error_y": {
             "type": "data",
             "visible": true
            },
            "stacking": null
           },
           "seriesOptions": {
            "column_57580a3d268": {
             "color": "#919191",
             "type": "line",
             "yAxis": 0
            },
            "column_57580a3d271": {
             "color": "#8BCAE7",
             "type": "line",
             "yAxis": 0
            },
            "column_57580a3d274": {
             "color": "#077A9D",
             "type": "line",
             "yAxis": 0
            }
           },
           "showDataLabels": true,
           "sizemode": "diameter",
           "sortX": true,
           "sortY": true,
           "swappedAxes": false,
           "textFormat": "",
           "useAggregationsUi": true,
           "valuesOptions": {},
           "version": 2,
           "xAxis": {
            "labels": {
             "enabled": true
            },
            "type": "-"
           },
           "yAxis": [
            {
             "type": "-"
            },
            {
             "opposite": true,
             "type": "-"
            }
           ]
          }
         }
        ]
       },
       "datasetPreviewNameToCmdIdMap": {},
       "diffDeletes": [],
       "diffInserts": [],
       "displayType": "redashChart",
       "error": null,
       "errorDetails": null,
       "errorSummary": null,
       "errorTraceType": null,
       "finishTime": 0,
       "globalVars": {},
       "guid": "",
       "height": "auto",
       "hideCommandCode": false,
       "hideCommandResult": false,
       "iPythonMetadata": null,
       "inputWidgets": {},
       "isLockedInExamMode": false,
       "latestUser": "a user",
       "latestUserId": null,
       "listResultMetadata": null,
       "metadata": {},
       "nuid": "ad78cffd-c869-4dce-82a6-e3f7bb59180d",
       "origId": 0,
       "parentHierarchy": [],
       "pivotAggregation": null,
       "pivotColumns": null,
       "position": 12.3125,
       "resultDbfsErrorMessage": null,
       "resultDbfsStatus": "INLINED_IN_TREE",
       "results": null,
       "showCommandTitle": false,
       "startTime": 0,
       "state": "input",
       "streamStates": {},
       "subcommandOptions": {
        "queryPlan": {
         "groups": [
          {
           "column": "cohort_month",
           "type": "column"
          }
         ],
         "selects": [
          {
           "column": "cohort_month",
           "type": "column"
          },
          {
           "alias": "column_57580a3d268",
           "args": [
            {
             "column": "repeat_rate_2nd_order",
             "type": "column"
            }
           ],
           "function": "SUM",
           "type": "function"
          },
          {
           "alias": "column_57580a3d271",
           "args": [
            {
             "column": "repeat_rate_3rd_order",
             "type": "column"
            }
           ],
           "function": "SUM",
           "type": "function"
          },
          {
           "alias": "column_57580a3d274",
           "args": [
            {
             "column": "repeat_rate_4th_order",
             "type": "column"
            }
           ],
           "function": "SUM",
           "type": "function"
          }
         ]
        }
       },
       "submitTime": 0,
       "subtype": "tableResultSubCmd.visualization",
       "tableResultIndex": 0,
       "tableResultSettingsMap": {},
       "useConsistentColors": false,
       "version": "CommandV1",
       "width": "auto",
       "workflows": [],
       "xColumns": null,
       "yColumns": null
      }
     },
     "output_type": "display_data"
    }
   ],
   "source": [
    "WITH customer_orders AS (\n",
    "  SELECT\n",
    "    customer_id,\n",
    "    DATE_FORMAT(DATE_TRUNC('month', first_purchase_date), 'yyyy-MM') AS cohort_month,\n",
    "    CASE\n",
    "      WHEN fourth_purchase_date IS NOT NULL THEN 4\n",
    "      WHEN third_purchase_date IS NOT NULL THEN 3\n",
    "      WHEN second_purchase_date IS NOT NULL THEN 2\n",
    "      ELSE 1\n",
    "    END AS total_orders\n",
    "  FROM workspace.default.cohort_analysis\n",
    "),\n",
    "\n",
    "cohort_sizes AS (\n",
    "  SELECT\n",
    "    cohort_month,\n",
    "    COUNT(*) AS cohort_size\n",
    "  FROM customer_orders\n",
    "  GROUP BY cohort_month\n",
    "),\n",
    "\n",
    "repeat_rates AS (\n",
    "  SELECT\n",
    "    c.cohort_month,\n",
    "    ROUND(COUNT(CASE WHEN total_orders >= 2 THEN 1 END) * 1.0 / s.cohort_size, 2) AS repeat_rate_2nd_order,\n",
    "    ROUND(COUNT(CASE WHEN total_orders >= 3 THEN 1 END) * 1.0 / s.cohort_size, 2) AS repeat_rate_3rd_order,\n",
    "    ROUND(COUNT(CASE WHEN total_orders >= 4 THEN 1 END) * 1.0 / s.cohort_size, 2) AS repeat_rate_4th_order\n",
    "  FROM customer_orders c\n",
    "  JOIN cohort_sizes s ON c.cohort_month = s.cohort_month\n",
    "  GROUP BY c.cohort_month, s.cohort_size\n",
    ")\n",
    "\n",
    "SELECT * FROM repeat_rates\n",
    "ORDER BY cohort_month;\n"
   ]
  },
  {
   "cell_type": "markdown",
   "metadata": {
    "application/vnd.databricks.v1+cell": {
     "cellMetadata": {},
     "inputWidgets": {},
     "nuid": "9d83680e-0926-4fc8-91f4-b3117e1830b2",
     "showTitle": false,
     "tableResultSettingsMap": {},
     "title": ""
    }
   },
   "source": [
    "### \uD83D\uDD0D **Key Insights – Repeat Purchase Rates by Cohort**\n",
    "\n",
    "1. **Strong Second Purchase Rate**\n",
    "   All cohorts show exceptionally high conversion to the 2nd purchase (between **96% and 100%**), indicating **strong customer engagement after the first order**.\n",
    "\n",
    "2. **Declining Trend with Each Subsequent Purchase**\n",
    "   There's a clear drop-off in repeat rates from 2nd → 3rd → 4th purchase across all cohorts, which is typical in e-commerce retention patterns.\n",
    "\n",
    "3. **June 2024 Cohort Underperforms**\n",
    "   The **June cohort (2024-06)** has the **lowest 4th order repeat rate at 60%**, compared to 83% in January. This may point to:\n",
    "\n",
    "   * Lower quality of acquired users;\n",
    "   * Changes in product, experience, or delivery;\n",
    "   * Seasonality or campaign differences.\n",
    "\n",
    "4. **March 2024 Cohort Performs Best Overall**\n",
    "   With **1.00 (2nd order)**, **0.94 (3rd order)**, and **0.82 (4th order)**, this cohort demonstrates the most **balanced and sustainable repeat behavior**.\n"
   ]
  },
  {
   "cell_type": "markdown",
   "metadata": {
    "application/vnd.databricks.v1+cell": {
     "cellMetadata": {},
     "inputWidgets": {},
     "nuid": "ad65cbf9-dbeb-4a2b-bddb-5610a74d888a",
     "showTitle": false,
     "tableResultSettingsMap": {},
     "title": ""
    }
   },
   "source": [
    "# Visualization 3: Cohort Size by Month\n"
   ]
  },
  {
   "cell_type": "code",
   "execution_count": 0,
   "metadata": {
    "application/vnd.databricks.v1+cell": {
     "cellMetadata": {
      "byteLimit": 2048000,
      "rowLimit": 10000
     },
     "inputWidgets": {},
     "nuid": "5779fbed-47fc-4d04-9fdd-dbb07ec7d527",
     "showTitle": false,
     "tableResultSettingsMap": {},
     "title": ""
    }
   },
   "outputs": [
    {
     "output_type": "display_data",
     "data": {
      "text/html": [
       "<style scoped>\n",
       "  .table-result-container {\n",
       "    max-height: 300px;\n",
       "    overflow: auto;\n",
       "  }\n",
       "  table, th, td {\n",
       "    border: 1px solid black;\n",
       "    border-collapse: collapse;\n",
       "  }\n",
       "  th, td {\n",
       "    padding: 5px;\n",
       "  }\n",
       "  th {\n",
       "    text-align: left;\n",
       "  }\n",
       "</style><div class='table-result-container'><table class='table-result'><thead style='background-color: white'><tr><th>cohort_month</th><th>new_customers</th></tr></thead><tbody><tr><td>2024-01</td><td>66</td></tr><tr><td>2024-02</td><td>48</td></tr><tr><td>2024-03</td><td>33</td></tr><tr><td>2024-04</td><td>27</td></tr><tr><td>2024-05</td><td>16</td></tr><tr><td>2024-06</td><td>10</td></tr></tbody></table></div>"
      ]
     },
     "metadata": {
      "application/vnd.databricks.v1+output": {
       "addedWidgets": {},
       "aggData": [],
       "aggError": "",
       "aggOverflow": false,
       "aggSchema": [],
       "aggSeriesLimitReached": false,
       "aggType": "",
       "arguments": {},
       "columnCustomDisplayInfos": {},
       "data": [
        [
         "2024-01",
         66
        ],
        [
         "2024-02",
         48
        ],
        [
         "2024-03",
         33
        ],
        [
         "2024-04",
         27
        ],
        [
         "2024-05",
         16
        ],
        [
         "2024-06",
         10
        ]
       ],
       "datasetInfos": [
        {
         "name": "_sqldf",
         "schema": {
          "fields": [
           {
            "metadata": {},
            "name": "cohort_month",
            "nullable": true,
            "type": "string"
           },
           {
            "metadata": {},
            "name": "new_customers",
            "nullable": false,
            "type": "long"
           }
          ],
          "type": "struct"
         },
         "tableIdentifier": null,
         "typeStr": "pyspark.sql.connect.dataframe.DataFrame"
        }
       ],
       "dbfsResultPath": null,
       "isJsonSchema": true,
       "metadata": {
        "createTempViewForImplicitDf": true,
        "dataframeName": "_sqldf",
        "executionCount": 128
       },
       "overflow": false,
       "plotOptions": {
        "customPlotOptions": {},
        "displayType": "table",
        "pivotAggregation": null,
        "pivotColumns": null,
        "xColumns": null,
        "yColumns": null
       },
       "removedWidgets": [],
       "schema": [
        {
         "metadata": "{}",
         "name": "cohort_month",
         "type": "\"string\""
        },
        {
         "metadata": "{}",
         "name": "new_customers",
         "type": "\"long\""
        }
       ],
       "type": "table"
      }
     },
     "output_type": "display_data"
    },
    {
     "output_type": "display_data",
     "data": {
      "text/plain": [
       "Databricks visualization. Run in Databricks to view."
      ]
     },
     "metadata": {
      "application/vnd.databricks.v1.subcommand+json": {
       "baseErrorDetails": null,
       "bindings": {},
       "collapsed": false,
       "command": "%sql WITH q AS (WITH first_orders AS (\n  SELECT\n    customer_id,\n    DATE_TRUNC('month', first_purchase_date) AS cohort_month\n  FROM workspace.default.cohort_analysis\n  GROUP BY customer_id, first_purchase_date\n)\n\nSELECT\n  DATE_FORMAT(cohort_month, 'yyyy-MM') AS cohort_month,\n  COUNT(DISTINCT customer_id) AS new_customers\nFROM first_orders\nGROUP BY cohort_month\nORDER BY cohort_month) SELECT `cohort_month`,SUM(`new_customers`) `column_57580a3d311` FROM q GROUP BY `cohort_month`",
       "commandTitle": "Cohort Size by Month",
       "commandType": "auto",
       "commandVersion": 0,
       "commentThread": [],
       "commentsVisible": false,
       "contentSha256Hex": null,
       "customPlotOptions": {
        "redashChart": [
         {
          "key": "type",
          "value": "CHART"
         },
         {
          "key": "options",
          "value": {
           "alignYAxesAtZero": true,
           "coefficient": 1,
           "columnConfigurationMap": {
            "x": {
             "column": "cohort_month",
             "id": "column_57580a3d310"
            },
            "y": [
             {
              "column": "new_customers",
              "id": "column_57580a3d311",
              "transform": "SUM"
             }
            ]
           },
           "dateTimeFormat": "DD/MM/YYYY HH:mm",
           "direction": {
            "type": "counterclockwise"
           },
           "error_y": {
            "type": "data",
            "visible": true
           },
           "globalSeriesType": "column",
           "isAggregationOn": true,
           "legend": {
            "traceorder": "normal"
           },
           "missingValuesAsZero": true,
           "numberFormat": "0,0.[00000]",
           "percentFormat": "0[.]00%",
           "series": {
            "error_y": {
             "type": "data",
             "visible": true
            },
            "stacking": null
           },
           "seriesOptions": {
            "column_57580a3d311": {
             "color": "#8BCAE7",
             "name": "new_customers",
             "yAxis": 0
            }
           },
           "showDataLabels": true,
           "sizemode": "diameter",
           "sortX": true,
           "sortY": true,
           "swappedAxes": true,
           "textFormat": "",
           "useAggregationsUi": true,
           "valuesOptions": {},
           "version": 2,
           "xAxis": {
            "labels": {
             "enabled": true
            },
            "type": "-"
           },
           "yAxis": [
            {
             "type": "-"
            },
            {
             "opposite": true,
             "type": "-"
            }
           ]
          }
         }
        ]
       },
       "datasetPreviewNameToCmdIdMap": {},
       "diffDeletes": [],
       "diffInserts": [],
       "displayType": "redashChart",
       "error": null,
       "errorDetails": null,
       "errorSummary": null,
       "errorTraceType": null,
       "finishTime": 0,
       "globalVars": {},
       "guid": "",
       "height": "auto",
       "hideCommandCode": false,
       "hideCommandResult": false,
       "iPythonMetadata": null,
       "inputWidgets": {},
       "isLockedInExamMode": false,
       "latestUser": "a user",
       "latestUserId": null,
       "listResultMetadata": null,
       "metadata": {},
       "nuid": "72025144-cd40-421b-90cb-be69f9bb5086",
       "origId": 0,
       "parentHierarchy": [],
       "pivotAggregation": null,
       "pivotColumns": null,
       "position": 12.44140625,
       "resultDbfsErrorMessage": null,
       "resultDbfsStatus": "INLINED_IN_TREE",
       "results": null,
       "showCommandTitle": false,
       "startTime": 0,
       "state": "input",
       "streamStates": {},
       "subcommandOptions": {
        "queryPlan": {
         "groups": [
          {
           "column": "cohort_month",
           "type": "column"
          }
         ],
         "selects": [
          {
           "column": "cohort_month",
           "type": "column"
          },
          {
           "alias": "column_57580a3d311",
           "args": [
            {
             "column": "new_customers",
             "type": "column"
            }
           ],
           "function": "SUM",
           "type": "function"
          }
         ]
        }
       },
       "submitTime": 0,
       "subtype": "tableResultSubCmd.visualization",
       "tableResultIndex": 0,
       "tableResultSettingsMap": {},
       "useConsistentColors": false,
       "version": "CommandV1",
       "width": "auto",
       "workflows": [],
       "xColumns": null,
       "yColumns": null
      }
     },
     "output_type": "display_data"
    }
   ],
   "source": [
    "WITH first_orders AS (\n",
    "  SELECT\n",
    "    customer_id,\n",
    "    DATE_TRUNC('month', first_purchase_date) AS cohort_month\n",
    "  FROM workspace.default.cohort_analysis\n",
    "  GROUP BY customer_id, first_purchase_date\n",
    ")\n",
    "\n",
    "SELECT\n",
    "  DATE_FORMAT(cohort_month, 'yyyy-MM') AS cohort_month,\n",
    "  COUNT(DISTINCT customer_id) AS new_customers\n",
    "FROM first_orders\n",
    "GROUP BY cohort_month\n",
    "ORDER BY cohort_month;\n"
   ]
  },
  {
   "cell_type": "markdown",
   "metadata": {
    "application/vnd.databricks.v1+cell": {
     "cellMetadata": {},
     "inputWidgets": {},
     "nuid": "7db8e929-d694-4f1a-ae56-cb24aca11b63",
     "showTitle": false,
     "tableResultSettingsMap": {},
     "title": ""
    }
   },
   "source": [
    "### \uD83D\uDD0D **Key Insights: Cohort Size by Month**"
   ]
  },
  {
   "cell_type": "markdown",
   "metadata": {
    "application/vnd.databricks.v1+cell": {
     "cellMetadata": {},
     "inputWidgets": {},
     "nuid": "369a67c9-e4b1-4a3c-999b-74fcb59eeb00",
     "showTitle": false,
     "tableResultSettingsMap": {},
     "title": ""
    }
   },
   "source": [
    "1. January 2024 was the peak month for acquiring new customers, with a total of 66 new users — the largest cohort during the observed period.\n",
    "\n",
    "2. Consistent decline: Each subsequent month shows a steady drop in cohort size, suggesting a downward trend in customer acquisition:\n",
    "\n",
    "- February: 48\n",
    "- March: 33\n",
    "- April: 27\n",
    "- May: 16\n",
    "- June: 10\n",
    "\n",
    "3. This decline could indicate:\n",
    "\n",
    "- Reduced marketing efforts or lower ad spend\n",
    "- Seasonal drop-off in interest or product relevance\n",
    "- Potential user acquisition funnel issues (e.g., onboarding, outreach)\n",
    "\n",
    "4. Actionable Insight: January’s acquisition strategy might hold valuable lessons — it’s worth analyzing what campaigns, channels, or offers were active then and if they can be replicated or scaled."
   ]
  },
  {
   "cell_type": "markdown",
   "metadata": {
    "application/vnd.databricks.v1+cell": {
     "cellMetadata": {},
     "inputWidgets": {},
     "nuid": "115c3c07-d02c-4018-909c-de1b1f35ae43",
     "showTitle": false,
     "tableResultSettingsMap": {},
     "title": ""
    }
   },
   "source": []
  }
 ],
 "metadata": {
  "application/vnd.databricks.v1+notebook": {
   "computePreferences": null,
   "dashboards": [
    {
     "elements": [],
     "globalVars": {},
     "guid": "",
     "layoutOption": {
      "grid": true,
      "stack": true
     },
     "nuid": "0f5b94a6-5537-4c8d-946a-733c4dbd6ee5",
     "origId": 6842552621122772,
     "title": "Untitled",
     "version": "DashboardViewV1",
     "width": 1024
    }
   ],
   "environmentMetadata": null,
   "inputWidgetPreferences": null,
   "language": "sql",
   "notebookMetadata": {
    "mostRecentlyExecutedCommandWithImplicitDF": {
     "commandId": -1,
     "dataframes": [
      "_sqldf"
     ]
    },
    "pythonIndentUnit": 2
   },
   "notebookName": "Explore cohort_analysis_biqquery_catalog.cohort_db.ecom_orders 2025-07-08 11:52:57",
   "widgets": {}
  },
  "language_info": {
   "name": "sql"
  }
 },
 "nbformat": 4,
 "nbformat_minor": 0
}